{
 "cells": [
  {
   "cell_type": "markdown",
   "metadata": {},
   "source": [
    "# Imports"
   ]
  },
  {
   "cell_type": "code",
   "execution_count": 1,
   "metadata": {},
   "outputs": [],
   "source": [
    "import matplotlib.pyplot as plt\n",
    "import numpy as np\n",
    "import os\n",
    "import pandas as pd\n",
    "import plotnine as gg\n",
    "gg.theme_set(gg.theme_classic)\n",
    "# import scipy\n",
    "# import seaborn as sns\n",
    "# import statsmodels.formula.api as smf  # https://www.statsmodels.org/stable/mixed_linear.html"
   ]
  },
  {
   "cell_type": "code",
   "execution_count": 2,
   "metadata": {},
   "outputs": [],
   "source": [
    "from Functions import bool_from_index, name_from_index, zscore\n",
    "from Functions import get_ages_cols, get_category_cols, get_param_names"
   ]
  },
  {
   "cell_type": "code",
   "execution_count": 3,
   "metadata": {},
   "outputs": [],
   "source": [
    "# from sklearn.preprocessing import PolynomialFeatures\n",
    "# from sklearn import linear_model\n",
    "# from sklearn.model_selection import GridSearchCV\n",
    "# from sklearn.linear_model import LinearRegression\n",
    "# from sklearn.linear_model import Ridge\n",
    "# from sklearn.metrics import r2_score\n",
    "# from sklearn.cross_decomposition import PLSRegression\n",
    "# from sklearn import preprocessing\n",
    "# from sklearn.cross_decomposition import PLSRegression\n",
    "# from sklearn.decomposition import PCA, KernelPCA\n",
    "# from sklearn.manifold import TSNE, Isomap"
   ]
  },
  {
   "cell_type": "markdown",
   "metadata": {},
   "source": [
    "## Directories etc."
   ]
  },
  {
   "cell_type": "code",
   "execution_count": 4,
   "metadata": {},
   "outputs": [],
   "source": [
    "data_path = \"C:/Users/maria/MEGAsync/SLCNdata/Meta\"\n",
    "# plot_save_path = \"C:/Users/maria/MEGAsync/SLCN/MetaSLCNPlots\"\n",
    "# if not os.path.exists(plot_save_path):\n",
    "#     os.makedirs(plot_save_path)"
   ]
  },
  {
   "cell_type": "code",
   "execution_count": 8,
   "metadata": {},
   "outputs": [],
   "source": [
    "param_names = get_param_names()\n",
    "ages_cols = get_ages_cols()\n",
    "all_data_cols = pd.read_csv(os.path.join(data_path, \"all_data.csv\"), index_col=0).columns"
   ]
  },
  {
   "cell_type": "code",
   "execution_count": 28,
   "metadata": {},
   "outputs": [],
   "source": [
    "wanted_cols = [\n",
    "    \n",
    "    # Participant info\n",
    "    'ID', 'PreciseYrs', 'BMI', 'Gender', 'meanT', 'PDS', 'age_group',\n",
    "    \n",
    "    # Basic performance\n",
    "    'bf_ACC', 'bf_RT', 'bf_RTsd', 'bf_ACC_delta', 'bf_RT_delta', 'bf_miss',\n",
    "    'rl_ACC', 'rl_RT', 'rl_RTsd', 'rl_ACC_delta', 'rl_RT_delta', 'rl_miss',\n",
    "    'ps_ACC', 'ps_RT', 'ps_RTsd', 'ps_ACC_delta', 'ps_RT_delta', 'ps_miss',\n",
    "\n",
    "    # WSLS & stay\n",
    "    'bf_WS', 'bf_LS', 'bf_stay_choice', 'bf_stay_motor',\n",
    "    'rl_WS', 'rl_LS', 'rl_stay_choice', 'rl_stay_motor',\n",
    "    'ps_WS', 'ps_LS', 'ps_stay', \n",
    "\n",
    "    # Parameters\n",
    "    'bf_alpha', 'bf_nalpha', 'bf_1_over_beta', 'bf_forget',\n",
    "    'rl_alpha', 'rl_persev', 'rl_forget', 'rl_wm', 'rl_epsilon', 'rl_K',\n",
    "    'ps_alpha', 'ps_nalpha', 'ps_1_over_beta_RL', 'ps_persev_RL', 'ps_1_over_beta_BF', 'ps_persev_BF', 'ps_p_switch', 'ps_p_reward',\n",
    "    \n",
    "    # Additional measures\n",
    "    'rl_ACC_ns2_minus_ns5', 'rl_ACC_ns2_minus_ns5_delta', 'rl_RT_ns5_minus_ns2', 'rl_nsslope',\n",
    "    'rl_lrn-ns_sig', 'rl_lrn-delay_sig', 'rl_lrn-pcor_sig', 'rl_lrn-pinc_sig',\n",
    "    'ps_n_switches', 'ps_WLS', 'ps_LWS', 'ps_criterion_trial',\n",
    "#     'bf_exponential',\n",
    "]\n",
    "\n",
    "wsls_cols = [col for col in all_data_cols if ('WS' in col) or ('LS' in col)]\n",
    "\n",
    "choice_param_cols = []\n",
    "update_param_cols = []\n",
    "for col in all_data_cols:\n",
    "    if ('beta' in col) or ('epsilon' in col) or ('forget' in col):\n",
    "        choice_param_cols += [col]\n",
    "    if 'alpha' in col:\n",
    "        update_param_cols += [col]"
   ]
  },
  {
   "cell_type": "markdown",
   "metadata": {},
   "source": [
    "# Format all_data"
   ]
  },
  {
   "cell_type": "markdown",
   "metadata": {},
   "source": [
    "## Read in all_data and selected wanted columns"
   ]
  },
  {
   "cell_type": "code",
   "execution_count": 11,
   "metadata": {},
   "outputs": [
    {
     "data": {
      "text/html": [
       "<div>\n",
       "<style scoped>\n",
       "    .dataframe tbody tr th:only-of-type {\n",
       "        vertical-align: middle;\n",
       "    }\n",
       "\n",
       "    .dataframe tbody tr th {\n",
       "        vertical-align: top;\n",
       "    }\n",
       "\n",
       "    .dataframe thead th {\n",
       "        text-align: right;\n",
       "    }\n",
       "</style>\n",
       "<table border=\"1\" class=\"dataframe\">\n",
       "  <thead>\n",
       "    <tr style=\"text-align: right;\">\n",
       "      <th></th>\n",
       "      <th>ID</th>\n",
       "      <th>bf_ACC</th>\n",
       "      <th>bf_ACC_early</th>\n",
       "      <th>bf_ACC_mid</th>\n",
       "      <th>bf_ACC_late</th>\n",
       "      <th>bf_RT</th>\n",
       "      <th>bf_RT_early</th>\n",
       "      <th>bf_RT_mid</th>\n",
       "      <th>bf_RT_late</th>\n",
       "      <th>bf_RTsd</th>\n",
       "      <th>...</th>\n",
       "      <th>age_group</th>\n",
       "      <th>bf_ACC_delta</th>\n",
       "      <th>bf_RT_delta</th>\n",
       "      <th>bf_WS_plus_LS</th>\n",
       "      <th>rl_ACC_delta</th>\n",
       "      <th>rl_RT_delta</th>\n",
       "      <th>rl_WS_plus_LS</th>\n",
       "      <th>ps_ACC_delta</th>\n",
       "      <th>ps_RT_delta</th>\n",
       "      <th>ps_WS_plus_LS</th>\n",
       "    </tr>\n",
       "  </thead>\n",
       "  <tbody>\n",
       "    <tr>\n",
       "      <th>0</th>\n",
       "      <td>17</td>\n",
       "      <td>0.56667</td>\n",
       "      <td>0.650</td>\n",
       "      <td>0.725</td>\n",
       "      <td>0.325</td>\n",
       "      <td>1.33950</td>\n",
       "      <td>1.27260</td>\n",
       "      <td>1.33780</td>\n",
       "      <td>1.47720</td>\n",
       "      <td>0.69630</td>\n",
       "      <td>...</td>\n",
       "      <td>0.25</td>\n",
       "      <td>-0.325</td>\n",
       "      <td>-0.20460</td>\n",
       "      <td>1.18944</td>\n",
       "      <td>0.35000</td>\n",
       "      <td>0.82780</td>\n",
       "      <td>1.73865</td>\n",
       "      <td>-0.07500</td>\n",
       "      <td>0.093537</td>\n",
       "      <td>0.785714</td>\n",
       "    </tr>\n",
       "    <tr>\n",
       "      <th>1</th>\n",
       "      <td>18</td>\n",
       "      <td>0.80000</td>\n",
       "      <td>0.575</td>\n",
       "      <td>0.875</td>\n",
       "      <td>0.950</td>\n",
       "      <td>1.19270</td>\n",
       "      <td>1.13960</td>\n",
       "      <td>1.22100</td>\n",
       "      <td>1.19880</td>\n",
       "      <td>0.53170</td>\n",
       "      <td>...</td>\n",
       "      <td>0.50</td>\n",
       "      <td>0.375</td>\n",
       "      <td>-0.05920</td>\n",
       "      <td>1.16194</td>\n",
       "      <td>0.30000</td>\n",
       "      <td>0.21165</td>\n",
       "      <td>1.81217</td>\n",
       "      <td>0.05000</td>\n",
       "      <td>0.031057</td>\n",
       "      <td>0.729032</td>\n",
       "    </tr>\n",
       "    <tr>\n",
       "      <th>2</th>\n",
       "      <td>19</td>\n",
       "      <td>0.50000</td>\n",
       "      <td>0.500</td>\n",
       "      <td>0.500</td>\n",
       "      <td>0.500</td>\n",
       "      <td>0.83342</td>\n",
       "      <td>0.83970</td>\n",
       "      <td>0.82300</td>\n",
       "      <td>0.83755</td>\n",
       "      <td>0.20657</td>\n",
       "      <td>...</td>\n",
       "      <td>0.50</td>\n",
       "      <td>0.000</td>\n",
       "      <td>0.00215</td>\n",
       "      <td>1.00000</td>\n",
       "      <td>0.46667</td>\n",
       "      <td>0.14508</td>\n",
       "      <td>1.82338</td>\n",
       "      <td>-0.02500</td>\n",
       "      <td>0.077876</td>\n",
       "      <td>0.722581</td>\n",
       "    </tr>\n",
       "    <tr>\n",
       "      <th>3</th>\n",
       "      <td>20</td>\n",
       "      <td>0.85000</td>\n",
       "      <td>0.675</td>\n",
       "      <td>0.900</td>\n",
       "      <td>0.975</td>\n",
       "      <td>0.99265</td>\n",
       "      <td>1.16290</td>\n",
       "      <td>1.02430</td>\n",
       "      <td>0.84556</td>\n",
       "      <td>0.52117</td>\n",
       "      <td>...</td>\n",
       "      <td>0.75</td>\n",
       "      <td>0.300</td>\n",
       "      <td>0.31734</td>\n",
       "      <td>1.30918</td>\n",
       "      <td>0.26667</td>\n",
       "      <td>0.19444</td>\n",
       "      <td>1.85598</td>\n",
       "      <td>-0.02500</td>\n",
       "      <td>-0.029955</td>\n",
       "      <td>0.741935</td>\n",
       "    </tr>\n",
       "    <tr>\n",
       "      <th>4</th>\n",
       "      <td>22</td>\n",
       "      <td>0.73333</td>\n",
       "      <td>0.600</td>\n",
       "      <td>0.825</td>\n",
       "      <td>0.775</td>\n",
       "      <td>1.51800</td>\n",
       "      <td>1.56260</td>\n",
       "      <td>1.42940</td>\n",
       "      <td>1.57780</td>\n",
       "      <td>1.03220</td>\n",
       "      <td>...</td>\n",
       "      <td>1.00</td>\n",
       "      <td>0.175</td>\n",
       "      <td>-0.01520</td>\n",
       "      <td>1.52510</td>\n",
       "      <td>0.31666</td>\n",
       "      <td>0.21055</td>\n",
       "      <td>1.79059</td>\n",
       "      <td>0.12500</td>\n",
       "      <td>-0.062303</td>\n",
       "      <td>0.716129</td>\n",
       "    </tr>\n",
       "    <tr>\n",
       "      <th>...</th>\n",
       "      <td>...</td>\n",
       "      <td>...</td>\n",
       "      <td>...</td>\n",
       "      <td>...</td>\n",
       "      <td>...</td>\n",
       "      <td>...</td>\n",
       "      <td>...</td>\n",
       "      <td>...</td>\n",
       "      <td>...</td>\n",
       "      <td>...</td>\n",
       "      <td>...</td>\n",
       "      <td>...</td>\n",
       "      <td>...</td>\n",
       "      <td>...</td>\n",
       "      <td>...</td>\n",
       "      <td>...</td>\n",
       "      <td>...</td>\n",
       "      <td>...</td>\n",
       "      <td>...</td>\n",
       "      <td>...</td>\n",
       "      <td>...</td>\n",
       "    </tr>\n",
       "    <tr>\n",
       "      <th>251</th>\n",
       "      <td>465</td>\n",
       "      <td>0.74167</td>\n",
       "      <td>0.575</td>\n",
       "      <td>0.800</td>\n",
       "      <td>0.850</td>\n",
       "      <td>1.11640</td>\n",
       "      <td>1.37600</td>\n",
       "      <td>1.06800</td>\n",
       "      <td>0.98635</td>\n",
       "      <td>0.52359</td>\n",
       "      <td>...</td>\n",
       "      <td>2.00</td>\n",
       "      <td>0.275</td>\n",
       "      <td>0.38965</td>\n",
       "      <td>1.44983</td>\n",
       "      <td>0.46667</td>\n",
       "      <td>0.19741</td>\n",
       "      <td>1.88872</td>\n",
       "      <td>0.00000</td>\n",
       "      <td>-0.039679</td>\n",
       "      <td>0.761538</td>\n",
       "    </tr>\n",
       "    <tr>\n",
       "      <th>252</th>\n",
       "      <td>466</td>\n",
       "      <td>0.60833</td>\n",
       "      <td>0.550</td>\n",
       "      <td>0.700</td>\n",
       "      <td>0.575</td>\n",
       "      <td>0.87618</td>\n",
       "      <td>0.88236</td>\n",
       "      <td>0.97296</td>\n",
       "      <td>0.75243</td>\n",
       "      <td>0.32142</td>\n",
       "      <td>...</td>\n",
       "      <td>2.00</td>\n",
       "      <td>0.025</td>\n",
       "      <td>0.12993</td>\n",
       "      <td>1.11373</td>\n",
       "      <td>0.23333</td>\n",
       "      <td>0.16111</td>\n",
       "      <td>1.92859</td>\n",
       "      <td>0.05000</td>\n",
       "      <td>0.020202</td>\n",
       "      <td>0.807692</td>\n",
       "    </tr>\n",
       "    <tr>\n",
       "      <th>253</th>\n",
       "      <td>467</td>\n",
       "      <td>0.80000</td>\n",
       "      <td>0.825</td>\n",
       "      <td>0.800</td>\n",
       "      <td>0.775</td>\n",
       "      <td>1.29200</td>\n",
       "      <td>1.58270</td>\n",
       "      <td>1.08610</td>\n",
       "      <td>1.19510</td>\n",
       "      <td>0.83115</td>\n",
       "      <td>...</td>\n",
       "      <td>2.00</td>\n",
       "      <td>-0.050</td>\n",
       "      <td>0.38760</td>\n",
       "      <td>1.42970</td>\n",
       "      <td>0.28334</td>\n",
       "      <td>0.12390</td>\n",
       "      <td>1.86259</td>\n",
       "      <td>0.00000</td>\n",
       "      <td>0.161714</td>\n",
       "      <td>0.915385</td>\n",
       "    </tr>\n",
       "    <tr>\n",
       "      <th>254</th>\n",
       "      <td>468</td>\n",
       "      <td>0.71667</td>\n",
       "      <td>0.700</td>\n",
       "      <td>0.775</td>\n",
       "      <td>0.675</td>\n",
       "      <td>2.12680</td>\n",
       "      <td>2.32480</td>\n",
       "      <td>2.46370</td>\n",
       "      <td>1.53470</td>\n",
       "      <td>1.53770</td>\n",
       "      <td>...</td>\n",
       "      <td>2.00</td>\n",
       "      <td>-0.025</td>\n",
       "      <td>0.79010</td>\n",
       "      <td>1.58060</td>\n",
       "      <td>0.30000</td>\n",
       "      <td>0.28372</td>\n",
       "      <td>1.91362</td>\n",
       "      <td>-0.08141</td>\n",
       "      <td>0.066859</td>\n",
       "      <td>0.775194</td>\n",
       "    </tr>\n",
       "    <tr>\n",
       "      <th>255</th>\n",
       "      <td>469</td>\n",
       "      <td>0.73333</td>\n",
       "      <td>0.675</td>\n",
       "      <td>0.825</td>\n",
       "      <td>0.700</td>\n",
       "      <td>1.13650</td>\n",
       "      <td>1.18930</td>\n",
       "      <td>1.21770</td>\n",
       "      <td>0.98975</td>\n",
       "      <td>0.58533</td>\n",
       "      <td>...</td>\n",
       "      <td>2.00</td>\n",
       "      <td>0.025</td>\n",
       "      <td>0.19955</td>\n",
       "      <td>1.17918</td>\n",
       "      <td>0.35000</td>\n",
       "      <td>0.58353</td>\n",
       "      <td>1.70000</td>\n",
       "      <td>-0.15000</td>\n",
       "      <td>-0.172593</td>\n",
       "      <td>0.723077</td>\n",
       "    </tr>\n",
       "  </tbody>\n",
       "</table>\n",
       "<p>256 rows × 123 columns</p>\n",
       "</div>"
      ],
      "text/plain": [
       "      ID   bf_ACC  bf_ACC_early  bf_ACC_mid  bf_ACC_late    bf_RT  \\\n",
       "0     17  0.56667         0.650       0.725        0.325  1.33950   \n",
       "1     18  0.80000         0.575       0.875        0.950  1.19270   \n",
       "2     19  0.50000         0.500       0.500        0.500  0.83342   \n",
       "3     20  0.85000         0.675       0.900        0.975  0.99265   \n",
       "4     22  0.73333         0.600       0.825        0.775  1.51800   \n",
       "..   ...      ...           ...         ...          ...      ...   \n",
       "251  465  0.74167         0.575       0.800        0.850  1.11640   \n",
       "252  466  0.60833         0.550       0.700        0.575  0.87618   \n",
       "253  467  0.80000         0.825       0.800        0.775  1.29200   \n",
       "254  468  0.71667         0.700       0.775        0.675  2.12680   \n",
       "255  469  0.73333         0.675       0.825        0.700  1.13650   \n",
       "\n",
       "     bf_RT_early  bf_RT_mid  bf_RT_late  bf_RTsd  ...  age_group  \\\n",
       "0        1.27260    1.33780     1.47720  0.69630  ...       0.25   \n",
       "1        1.13960    1.22100     1.19880  0.53170  ...       0.50   \n",
       "2        0.83970    0.82300     0.83755  0.20657  ...       0.50   \n",
       "3        1.16290    1.02430     0.84556  0.52117  ...       0.75   \n",
       "4        1.56260    1.42940     1.57780  1.03220  ...       1.00   \n",
       "..           ...        ...         ...      ...  ...        ...   \n",
       "251      1.37600    1.06800     0.98635  0.52359  ...       2.00   \n",
       "252      0.88236    0.97296     0.75243  0.32142  ...       2.00   \n",
       "253      1.58270    1.08610     1.19510  0.83115  ...       2.00   \n",
       "254      2.32480    2.46370     1.53470  1.53770  ...       2.00   \n",
       "255      1.18930    1.21770     0.98975  0.58533  ...       2.00   \n",
       "\n",
       "     bf_ACC_delta  bf_RT_delta  bf_WS_plus_LS  rl_ACC_delta  rl_RT_delta  \\\n",
       "0          -0.325     -0.20460        1.18944       0.35000      0.82780   \n",
       "1           0.375     -0.05920        1.16194       0.30000      0.21165   \n",
       "2           0.000      0.00215        1.00000       0.46667      0.14508   \n",
       "3           0.300      0.31734        1.30918       0.26667      0.19444   \n",
       "4           0.175     -0.01520        1.52510       0.31666      0.21055   \n",
       "..            ...          ...            ...           ...          ...   \n",
       "251         0.275      0.38965        1.44983       0.46667      0.19741   \n",
       "252         0.025      0.12993        1.11373       0.23333      0.16111   \n",
       "253        -0.050      0.38760        1.42970       0.28334      0.12390   \n",
       "254        -0.025      0.79010        1.58060       0.30000      0.28372   \n",
       "255         0.025      0.19955        1.17918       0.35000      0.58353   \n",
       "\n",
       "     rl_WS_plus_LS  ps_ACC_delta  ps_RT_delta  ps_WS_plus_LS  \n",
       "0          1.73865      -0.07500     0.093537       0.785714  \n",
       "1          1.81217       0.05000     0.031057       0.729032  \n",
       "2          1.82338      -0.02500     0.077876       0.722581  \n",
       "3          1.85598      -0.02500    -0.029955       0.741935  \n",
       "4          1.79059       0.12500    -0.062303       0.716129  \n",
       "..             ...           ...          ...            ...  \n",
       "251        1.88872       0.00000    -0.039679       0.761538  \n",
       "252        1.92859       0.05000     0.020202       0.807692  \n",
       "253        1.86259       0.00000     0.161714       0.915385  \n",
       "254        1.91362      -0.08141     0.066859       0.775194  \n",
       "255        1.70000      -0.15000    -0.172593       0.723077  \n",
       "\n",
       "[256 rows x 123 columns]"
      ]
     },
     "execution_count": 11,
     "metadata": {},
     "output_type": "execute_result"
    }
   ],
   "source": [
    "all_data = pd.read_csv(os.path.join(data_path, \"all_data.csv\"), index_col=0)\n",
    "all_data = all_data[wanted_cols]\n",
    "all_data"
   ]
  },
  {
   "cell_type": "code",
   "execution_count": 12,
   "metadata": {},
   "outputs": [
    {
     "name": "stderr",
     "output_type": "stream",
     "text": [
      "C:\\Users\\maria\\Anaconda3\\envs\\PYMC3\\lib\\site-packages\\ipykernel_launcher.py:3: SettingWithCopyWarning: \n",
      "A value is trying to be set on a copy of a slice from a DataFrame.\n",
      "Try using .loc[row_indexer,col_indexer] = value instead\n",
      "\n",
      "See the caveats in the documentation: http://pandas.pydata.org/pandas-docs/stable/user_guide/indexing.html#returning-a-view-versus-a-copy\n",
      "  This is separate from the ipykernel package so we can avoid doing imports until\n"
     ]
    },
    {
     "data": {
      "text/html": [
       "<div>\n",
       "<style scoped>\n",
       "    .dataframe tbody tr th:only-of-type {\n",
       "        vertical-align: middle;\n",
       "    }\n",
       "\n",
       "    .dataframe tbody tr th {\n",
       "        vertical-align: top;\n",
       "    }\n",
       "\n",
       "    .dataframe thead th {\n",
       "        text-align: right;\n",
       "    }\n",
       "</style>\n",
       "<table border=\"1\" class=\"dataframe\">\n",
       "  <thead>\n",
       "    <tr style=\"text-align: right;\">\n",
       "      <th></th>\n",
       "      <th>ID</th>\n",
       "      <th>PreciseYrs</th>\n",
       "      <th>BMI</th>\n",
       "      <th>Gender</th>\n",
       "      <th>meanT</th>\n",
       "      <th>PDS</th>\n",
       "      <th>age_group</th>\n",
       "      <th>bf_ACC</th>\n",
       "      <th>bf_ACC_early</th>\n",
       "      <th>bf_ACC_mid</th>\n",
       "      <th>...</th>\n",
       "      <th>ps_1_over_beta_bf</th>\n",
       "      <th>bf_ACC_delta</th>\n",
       "      <th>bf_RT_delta</th>\n",
       "      <th>bf_WS_plus_LS</th>\n",
       "      <th>rl_ACC_delta</th>\n",
       "      <th>rl_RT_delta</th>\n",
       "      <th>rl_WS_plus_LS</th>\n",
       "      <th>ps_ACC_delta</th>\n",
       "      <th>ps_RT_delta</th>\n",
       "      <th>ps_WS_plus_LS</th>\n",
       "    </tr>\n",
       "  </thead>\n",
       "  <tbody>\n",
       "    <tr>\n",
       "      <th>0</th>\n",
       "      <td>17</td>\n",
       "      <td>8.657084</td>\n",
       "      <td>18.200751</td>\n",
       "      <td>2.0</td>\n",
       "      <td>NaN</td>\n",
       "      <td>2.50</td>\n",
       "      <td>0.25</td>\n",
       "      <td>-1.316224</td>\n",
       "      <td>-0.219717</td>\n",
       "      <td>-0.348717</td>\n",
       "      <td>...</td>\n",
       "      <td>1.585357</td>\n",
       "      <td>-2.967827</td>\n",
       "      <td>-1.096424</td>\n",
       "      <td>-0.337602</td>\n",
       "      <td>0.186029</td>\n",
       "      <td>2.724397</td>\n",
       "      <td>-0.427422</td>\n",
       "      <td>-1.156824</td>\n",
       "      <td>0.911645</td>\n",
       "      <td>0.028316</td>\n",
       "    </tr>\n",
       "    <tr>\n",
       "      <th>1</th>\n",
       "      <td>18</td>\n",
       "      <td>12.637919</td>\n",
       "      <td>16.157863</td>\n",
       "      <td>2.0</td>\n",
       "      <td>NaN</td>\n",
       "      <td>2.25</td>\n",
       "      <td>0.50</td>\n",
       "      <td>0.243251</td>\n",
       "      <td>-0.732693</td>\n",
       "      <td>0.485665</td>\n",
       "      <td>...</td>\n",
       "      <td>0.039533</td>\n",
       "      <td>1.500825</td>\n",
       "      <td>-0.672216</td>\n",
       "      <td>-0.553128</td>\n",
       "      <td>-0.315075</td>\n",
       "      <td>0.030096</td>\n",
       "      <td>0.202937</td>\n",
       "      <td>0.403761</td>\n",
       "      <td>0.379935</td>\n",
       "      <td>-0.742279</td>\n",
       "    </tr>\n",
       "    <tr>\n",
       "      <th>2</th>\n",
       "      <td>19</td>\n",
       "      <td>12.637919</td>\n",
       "      <td>14.316358</td>\n",
       "      <td>1.0</td>\n",
       "      <td>NaN</td>\n",
       "      <td>1.25</td>\n",
       "      <td>0.50</td>\n",
       "      <td>-1.761817</td>\n",
       "      <td>-1.245669</td>\n",
       "      <td>-1.600291</td>\n",
       "      <td>...</td>\n",
       "      <td>-0.353003</td>\n",
       "      <td>-0.893096</td>\n",
       "      <td>-0.493225</td>\n",
       "      <td>-1.822303</td>\n",
       "      <td>1.355305</td>\n",
       "      <td>-0.261001</td>\n",
       "      <td>0.299052</td>\n",
       "      <td>-0.532590</td>\n",
       "      <td>0.778374</td>\n",
       "      <td>-0.829989</td>\n",
       "    </tr>\n",
       "    <tr>\n",
       "      <th>3</th>\n",
       "      <td>20</td>\n",
       "      <td>14.543463</td>\n",
       "      <td>17.433768</td>\n",
       "      <td>1.0</td>\n",
       "      <td>120.649667</td>\n",
       "      <td>2.80</td>\n",
       "      <td>0.75</td>\n",
       "      <td>0.577429</td>\n",
       "      <td>-0.048725</td>\n",
       "      <td>0.624729</td>\n",
       "      <td>...</td>\n",
       "      <td>-1.547170</td>\n",
       "      <td>1.022041</td>\n",
       "      <td>0.426350</td>\n",
       "      <td>0.600838</td>\n",
       "      <td>-0.649111</td>\n",
       "      <td>-0.045159</td>\n",
       "      <td>0.578564</td>\n",
       "      <td>-0.532590</td>\n",
       "      <td>-0.139277</td>\n",
       "      <td>-0.566859</td>\n",
       "    </tr>\n",
       "    <tr>\n",
       "      <th>4</th>\n",
       "      <td>22</td>\n",
       "      <td>16.490075</td>\n",
       "      <td>22.709959</td>\n",
       "      <td>1.0</td>\n",
       "      <td>147.334443</td>\n",
       "      <td>3.00</td>\n",
       "      <td>1.00</td>\n",
       "      <td>-0.202342</td>\n",
       "      <td>-0.561701</td>\n",
       "      <td>0.207538</td>\n",
       "      <td>...</td>\n",
       "      <td>1.316137</td>\n",
       "      <td>0.224067</td>\n",
       "      <td>-0.543845</td>\n",
       "      <td>2.293071</td>\n",
       "      <td>-0.148107</td>\n",
       "      <td>0.025286</td>\n",
       "      <td>0.017911</td>\n",
       "      <td>1.340113</td>\n",
       "      <td>-0.414564</td>\n",
       "      <td>-0.917699</td>\n",
       "    </tr>\n",
       "    <tr>\n",
       "      <th>...</th>\n",
       "      <td>...</td>\n",
       "      <td>...</td>\n",
       "      <td>...</td>\n",
       "      <td>...</td>\n",
       "      <td>...</td>\n",
       "      <td>...</td>\n",
       "      <td>...</td>\n",
       "      <td>...</td>\n",
       "      <td>...</td>\n",
       "      <td>...</td>\n",
       "      <td>...</td>\n",
       "      <td>...</td>\n",
       "      <td>...</td>\n",
       "      <td>...</td>\n",
       "      <td>...</td>\n",
       "      <td>...</td>\n",
       "      <td>...</td>\n",
       "      <td>...</td>\n",
       "      <td>...</td>\n",
       "      <td>...</td>\n",
       "      <td>...</td>\n",
       "    </tr>\n",
       "    <tr>\n",
       "      <th>251</th>\n",
       "      <td>465</td>\n",
       "      <td>22.333333</td>\n",
       "      <td>NaN</td>\n",
       "      <td>2.0</td>\n",
       "      <td>NaN</td>\n",
       "      <td>NaN</td>\n",
       "      <td>2.00</td>\n",
       "      <td>-0.146601</td>\n",
       "      <td>-0.732693</td>\n",
       "      <td>0.068474</td>\n",
       "      <td>...</td>\n",
       "      <td>-0.877541</td>\n",
       "      <td>0.862446</td>\n",
       "      <td>0.637317</td>\n",
       "      <td>1.703156</td>\n",
       "      <td>1.355305</td>\n",
       "      <td>-0.032172</td>\n",
       "      <td>0.859276</td>\n",
       "      <td>-0.220473</td>\n",
       "      <td>-0.222028</td>\n",
       "      <td>-0.300356</td>\n",
       "    </tr>\n",
       "    <tr>\n",
       "      <th>252</th>\n",
       "      <td>466</td>\n",
       "      <td>20.083333</td>\n",
       "      <td>NaN</td>\n",
       "      <td>1.0</td>\n",
       "      <td>NaN</td>\n",
       "      <td>NaN</td>\n",
       "      <td>2.00</td>\n",
       "      <td>-1.037787</td>\n",
       "      <td>-0.903685</td>\n",
       "      <td>-0.487781</td>\n",
       "      <td>...</td>\n",
       "      <td>-1.176037</td>\n",
       "      <td>-0.733501</td>\n",
       "      <td>-0.120424</td>\n",
       "      <td>-0.930965</td>\n",
       "      <td>-0.983247</td>\n",
       "      <td>-0.190905</td>\n",
       "      <td>1.201121</td>\n",
       "      <td>0.403761</td>\n",
       "      <td>0.287561</td>\n",
       "      <td>0.327108</td>\n",
       "    </tr>\n",
       "    <tr>\n",
       "      <th>253</th>\n",
       "      <td>467</td>\n",
       "      <td>18.750000</td>\n",
       "      <td>NaN</td>\n",
       "      <td>2.0</td>\n",
       "      <td>NaN</td>\n",
       "      <td>NaN</td>\n",
       "      <td>2.00</td>\n",
       "      <td>0.243251</td>\n",
       "      <td>0.977226</td>\n",
       "      <td>0.068474</td>\n",
       "      <td>...</td>\n",
       "      <td>-0.601950</td>\n",
       "      <td>-1.212285</td>\n",
       "      <td>0.631336</td>\n",
       "      <td>1.545391</td>\n",
       "      <td>-0.482043</td>\n",
       "      <td>-0.353617</td>\n",
       "      <td>0.635238</td>\n",
       "      <td>-0.220473</td>\n",
       "      <td>1.491841</td>\n",
       "      <td>1.791190</td>\n",
       "    </tr>\n",
       "    <tr>\n",
       "      <th>254</th>\n",
       "      <td>468</td>\n",
       "      <td>21.833333</td>\n",
       "      <td>NaN</td>\n",
       "      <td>2.0</td>\n",
       "      <td>NaN</td>\n",
       "      <td>NaN</td>\n",
       "      <td>2.00</td>\n",
       "      <td>-0.313690</td>\n",
       "      <td>0.122267</td>\n",
       "      <td>-0.070590</td>\n",
       "      <td>...</td>\n",
       "      <td>-0.642973</td>\n",
       "      <td>-1.052690</td>\n",
       "      <td>1.805641</td>\n",
       "      <td>2.728042</td>\n",
       "      <td>-0.315075</td>\n",
       "      <td>0.345244</td>\n",
       "      <td>1.072768</td>\n",
       "      <td>-1.236854</td>\n",
       "      <td>0.684614</td>\n",
       "      <td>-0.114711</td>\n",
       "    </tr>\n",
       "    <tr>\n",
       "      <th>255</th>\n",
       "      <td>469</td>\n",
       "      <td>19.000000</td>\n",
       "      <td>NaN</td>\n",
       "      <td>2.0</td>\n",
       "      <td>NaN</td>\n",
       "      <td>NaN</td>\n",
       "      <td>2.00</td>\n",
       "      <td>-0.202342</td>\n",
       "      <td>-0.048725</td>\n",
       "      <td>0.207538</td>\n",
       "      <td>...</td>\n",
       "      <td>0.553505</td>\n",
       "      <td>-0.733501</td>\n",
       "      <td>0.082695</td>\n",
       "      <td>-0.418013</td>\n",
       "      <td>0.186029</td>\n",
       "      <td>1.656253</td>\n",
       "      <td>-0.758807</td>\n",
       "      <td>-2.093176</td>\n",
       "      <td>-1.353137</td>\n",
       "      <td>-0.823243</td>\n",
       "    </tr>\n",
       "  </tbody>\n",
       "</table>\n",
       "<p>256 rows × 123 columns</p>\n",
       "</div>"
      ],
      "text/plain": [
       "      ID  PreciseYrs        BMI  Gender       meanT   PDS  age_group  \\\n",
       "0     17    8.657084  18.200751     2.0         NaN  2.50       0.25   \n",
       "1     18   12.637919  16.157863     2.0         NaN  2.25       0.50   \n",
       "2     19   12.637919  14.316358     1.0         NaN  1.25       0.50   \n",
       "3     20   14.543463  17.433768     1.0  120.649667  2.80       0.75   \n",
       "4     22   16.490075  22.709959     1.0  147.334443  3.00       1.00   \n",
       "..   ...         ...        ...     ...         ...   ...        ...   \n",
       "251  465   22.333333        NaN     2.0         NaN   NaN       2.00   \n",
       "252  466   20.083333        NaN     1.0         NaN   NaN       2.00   \n",
       "253  467   18.750000        NaN     2.0         NaN   NaN       2.00   \n",
       "254  468   21.833333        NaN     2.0         NaN   NaN       2.00   \n",
       "255  469   19.000000        NaN     2.0         NaN   NaN       2.00   \n",
       "\n",
       "       bf_ACC  bf_ACC_early  bf_ACC_mid  ...  ps_1_over_beta_bf  bf_ACC_delta  \\\n",
       "0   -1.316224     -0.219717   -0.348717  ...           1.585357     -2.967827   \n",
       "1    0.243251     -0.732693    0.485665  ...           0.039533      1.500825   \n",
       "2   -1.761817     -1.245669   -1.600291  ...          -0.353003     -0.893096   \n",
       "3    0.577429     -0.048725    0.624729  ...          -1.547170      1.022041   \n",
       "4   -0.202342     -0.561701    0.207538  ...           1.316137      0.224067   \n",
       "..        ...           ...         ...  ...                ...           ...   \n",
       "251 -0.146601     -0.732693    0.068474  ...          -0.877541      0.862446   \n",
       "252 -1.037787     -0.903685   -0.487781  ...          -1.176037     -0.733501   \n",
       "253  0.243251      0.977226    0.068474  ...          -0.601950     -1.212285   \n",
       "254 -0.313690      0.122267   -0.070590  ...          -0.642973     -1.052690   \n",
       "255 -0.202342     -0.048725    0.207538  ...           0.553505     -0.733501   \n",
       "\n",
       "     bf_RT_delta  bf_WS_plus_LS  rl_ACC_delta  rl_RT_delta  rl_WS_plus_LS  \\\n",
       "0      -1.096424      -0.337602      0.186029     2.724397      -0.427422   \n",
       "1      -0.672216      -0.553128     -0.315075     0.030096       0.202937   \n",
       "2      -0.493225      -1.822303      1.355305    -0.261001       0.299052   \n",
       "3       0.426350       0.600838     -0.649111    -0.045159       0.578564   \n",
       "4      -0.543845       2.293071     -0.148107     0.025286       0.017911   \n",
       "..           ...            ...           ...          ...            ...   \n",
       "251     0.637317       1.703156      1.355305    -0.032172       0.859276   \n",
       "252    -0.120424      -0.930965     -0.983247    -0.190905       1.201121   \n",
       "253     0.631336       1.545391     -0.482043    -0.353617       0.635238   \n",
       "254     1.805641       2.728042     -0.315075     0.345244       1.072768   \n",
       "255     0.082695      -0.418013      0.186029     1.656253      -0.758807   \n",
       "\n",
       "     ps_ACC_delta  ps_RT_delta  ps_WS_plus_LS  \n",
       "0       -1.156824     0.911645       0.028316  \n",
       "1        0.403761     0.379935      -0.742279  \n",
       "2       -0.532590     0.778374      -0.829989  \n",
       "3       -0.532590    -0.139277      -0.566859  \n",
       "4        1.340113    -0.414564      -0.917699  \n",
       "..            ...          ...            ...  \n",
       "251     -0.220473    -0.222028      -0.300356  \n",
       "252      0.403761     0.287561       0.327108  \n",
       "253     -0.220473     1.491841       1.791190  \n",
       "254     -1.236854     0.684614      -0.114711  \n",
       "255     -2.093176    -1.353137      -0.823243  \n",
       "\n",
       "[256 rows x 123 columns]"
      ]
     },
     "execution_count": 12,
     "metadata": {},
     "output_type": "execute_result"
    }
   ],
   "source": [
    "all_data_z = all_data[ages_cols + ['age_group']]\n",
    "for col in [col for col in all_data.columns if not col in ages_cols + ['age_group']]:\n",
    "    all_data_z[col] = zscore(all_data[col])\n",
    "    \n",
    "all_data_z"
   ]
  },
  {
   "cell_type": "code",
   "execution_count": 13,
   "metadata": {},
   "outputs": [],
   "source": [
    "def wsls_row_bool(feature):\n",
    "    \n",
    "    if ('WS' in feature) or ('LS' in feature):\n",
    "        return True\n",
    "    else:\n",
    "        return False\n",
    "\n",
    "# # Example use\n",
    "# all_data_long.loc[all_data_long.feature.apply(wsls_row_bool), 'category'] = 'WSLS'\n",
    "# all_data_long"
   ]
  },
  {
   "cell_type": "code",
   "execution_count": 22,
   "metadata": {},
   "outputs": [
    {
     "data": {
      "text/plain": [
       "0         ACC\n",
       "1         ACC\n",
       "2         ACC\n",
       "3         ACC\n",
       "4         ACC\n",
       "         ... \n",
       "29691    WSLS\n",
       "29692    WSLS\n",
       "29693    WSLS\n",
       "29694    WSLS\n",
       "29695    WSLS\n",
       "Name: feature, Length: 29696, dtype: object"
      ]
     },
     "execution_count": 22,
     "metadata": {},
     "output_type": "execute_result"
    }
   ],
   "source": [
    "def get_category_from_feature(data):\n",
    "    \n",
    "    category_cols = get_category_cols()\n",
    "    category = data['feature'].apply(name_from_index, names=param_names + category_cols)\n",
    "    category[category == 'p_switch_emp'] = 'ACC'\n",
    "    category[category == 'p_reward'] = 'alpha'\n",
    "    category[data.feature.apply(wsls_row_bool)] = 'WSLS'\n",
    "#     data['category'] = data['feature'].apply(name_from_index, names=param_names + category_cols)\n",
    "#     data.loc[data.category == 'p_switch_emp', 'category'] = 'ACC'\n",
    "#     data.loc[data.category == 'p_reward', 'category'] = 'alpha'\n",
    "#     data.loc[data.feature.apply(wsls_row_bool), 'category'] = 'WSLS'\n",
    "\n",
    "    return category\n",
    "\n",
    "# Example use\n",
    "get_category_from_feature(all_data_long)"
   ]
  },
  {
   "cell_type": "code",
   "execution_count": 24,
   "metadata": {},
   "outputs": [
    {
     "data": {
      "text/html": [
       "<div>\n",
       "<style scoped>\n",
       "    .dataframe tbody tr th:only-of-type {\n",
       "        vertical-align: middle;\n",
       "    }\n",
       "\n",
       "    .dataframe tbody tr th {\n",
       "        vertical-align: top;\n",
       "    }\n",
       "\n",
       "    .dataframe thead th {\n",
       "        text-align: right;\n",
       "    }\n",
       "</style>\n",
       "<table border=\"1\" class=\"dataframe\">\n",
       "  <thead>\n",
       "    <tr style=\"text-align: right;\">\n",
       "      <th></th>\n",
       "      <th>ID</th>\n",
       "      <th>PreciseYrs</th>\n",
       "      <th>BMI</th>\n",
       "      <th>Gender</th>\n",
       "      <th>meanT</th>\n",
       "      <th>PDS</th>\n",
       "      <th>age_group</th>\n",
       "      <th>feature</th>\n",
       "      <th>value</th>\n",
       "      <th>category</th>\n",
       "      <th>task</th>\n",
       "      <th>param</th>\n",
       "    </tr>\n",
       "  </thead>\n",
       "  <tbody>\n",
       "    <tr>\n",
       "      <th>0</th>\n",
       "      <td>17</td>\n",
       "      <td>8.657084</td>\n",
       "      <td>18.200751</td>\n",
       "      <td>2.0</td>\n",
       "      <td>NaN</td>\n",
       "      <td>2.50</td>\n",
       "      <td>0.25</td>\n",
       "      <td>bf_ACC</td>\n",
       "      <td>0.566670</td>\n",
       "      <td>ACC</td>\n",
       "      <td>bf</td>\n",
       "      <td>ACC</td>\n",
       "    </tr>\n",
       "    <tr>\n",
       "      <th>1</th>\n",
       "      <td>18</td>\n",
       "      <td>12.637919</td>\n",
       "      <td>16.157863</td>\n",
       "      <td>2.0</td>\n",
       "      <td>NaN</td>\n",
       "      <td>2.25</td>\n",
       "      <td>0.50</td>\n",
       "      <td>bf_ACC</td>\n",
       "      <td>0.800000</td>\n",
       "      <td>ACC</td>\n",
       "      <td>bf</td>\n",
       "      <td>ACC</td>\n",
       "    </tr>\n",
       "    <tr>\n",
       "      <th>2</th>\n",
       "      <td>19</td>\n",
       "      <td>12.637919</td>\n",
       "      <td>14.316358</td>\n",
       "      <td>1.0</td>\n",
       "      <td>NaN</td>\n",
       "      <td>1.25</td>\n",
       "      <td>0.50</td>\n",
       "      <td>bf_ACC</td>\n",
       "      <td>0.500000</td>\n",
       "      <td>ACC</td>\n",
       "      <td>bf</td>\n",
       "      <td>ACC</td>\n",
       "    </tr>\n",
       "    <tr>\n",
       "      <th>3</th>\n",
       "      <td>20</td>\n",
       "      <td>14.543463</td>\n",
       "      <td>17.433768</td>\n",
       "      <td>1.0</td>\n",
       "      <td>120.649667</td>\n",
       "      <td>2.80</td>\n",
       "      <td>0.75</td>\n",
       "      <td>bf_ACC</td>\n",
       "      <td>0.850000</td>\n",
       "      <td>ACC</td>\n",
       "      <td>bf</td>\n",
       "      <td>ACC</td>\n",
       "    </tr>\n",
       "    <tr>\n",
       "      <th>4</th>\n",
       "      <td>22</td>\n",
       "      <td>16.490075</td>\n",
       "      <td>22.709959</td>\n",
       "      <td>1.0</td>\n",
       "      <td>147.334443</td>\n",
       "      <td>3.00</td>\n",
       "      <td>1.00</td>\n",
       "      <td>bf_ACC</td>\n",
       "      <td>0.733330</td>\n",
       "      <td>ACC</td>\n",
       "      <td>bf</td>\n",
       "      <td>ACC</td>\n",
       "    </tr>\n",
       "    <tr>\n",
       "      <th>...</th>\n",
       "      <td>...</td>\n",
       "      <td>...</td>\n",
       "      <td>...</td>\n",
       "      <td>...</td>\n",
       "      <td>...</td>\n",
       "      <td>...</td>\n",
       "      <td>...</td>\n",
       "      <td>...</td>\n",
       "      <td>...</td>\n",
       "      <td>...</td>\n",
       "      <td>...</td>\n",
       "      <td>...</td>\n",
       "    </tr>\n",
       "    <tr>\n",
       "      <th>29691</th>\n",
       "      <td>465</td>\n",
       "      <td>22.333333</td>\n",
       "      <td>NaN</td>\n",
       "      <td>2.0</td>\n",
       "      <td>NaN</td>\n",
       "      <td>NaN</td>\n",
       "      <td>2.00</td>\n",
       "      <td>ps_WS_plus_LS</td>\n",
       "      <td>0.761538</td>\n",
       "      <td>WSLS</td>\n",
       "      <td>ps</td>\n",
       "      <td>WS_plus_LS</td>\n",
       "    </tr>\n",
       "    <tr>\n",
       "      <th>29692</th>\n",
       "      <td>466</td>\n",
       "      <td>20.083333</td>\n",
       "      <td>NaN</td>\n",
       "      <td>1.0</td>\n",
       "      <td>NaN</td>\n",
       "      <td>NaN</td>\n",
       "      <td>2.00</td>\n",
       "      <td>ps_WS_plus_LS</td>\n",
       "      <td>0.807692</td>\n",
       "      <td>WSLS</td>\n",
       "      <td>ps</td>\n",
       "      <td>WS_plus_LS</td>\n",
       "    </tr>\n",
       "    <tr>\n",
       "      <th>29693</th>\n",
       "      <td>467</td>\n",
       "      <td>18.750000</td>\n",
       "      <td>NaN</td>\n",
       "      <td>2.0</td>\n",
       "      <td>NaN</td>\n",
       "      <td>NaN</td>\n",
       "      <td>2.00</td>\n",
       "      <td>ps_WS_plus_LS</td>\n",
       "      <td>0.915385</td>\n",
       "      <td>WSLS</td>\n",
       "      <td>ps</td>\n",
       "      <td>WS_plus_LS</td>\n",
       "    </tr>\n",
       "    <tr>\n",
       "      <th>29694</th>\n",
       "      <td>468</td>\n",
       "      <td>21.833333</td>\n",
       "      <td>NaN</td>\n",
       "      <td>2.0</td>\n",
       "      <td>NaN</td>\n",
       "      <td>NaN</td>\n",
       "      <td>2.00</td>\n",
       "      <td>ps_WS_plus_LS</td>\n",
       "      <td>0.775194</td>\n",
       "      <td>WSLS</td>\n",
       "      <td>ps</td>\n",
       "      <td>WS_plus_LS</td>\n",
       "    </tr>\n",
       "    <tr>\n",
       "      <th>29695</th>\n",
       "      <td>469</td>\n",
       "      <td>19.000000</td>\n",
       "      <td>NaN</td>\n",
       "      <td>2.0</td>\n",
       "      <td>NaN</td>\n",
       "      <td>NaN</td>\n",
       "      <td>2.00</td>\n",
       "      <td>ps_WS_plus_LS</td>\n",
       "      <td>0.723077</td>\n",
       "      <td>WSLS</td>\n",
       "      <td>ps</td>\n",
       "      <td>WS_plus_LS</td>\n",
       "    </tr>\n",
       "  </tbody>\n",
       "</table>\n",
       "<p>29696 rows × 12 columns</p>\n",
       "</div>"
      ],
      "text/plain": [
       "        ID  PreciseYrs        BMI  Gender       meanT   PDS  age_group  \\\n",
       "0       17    8.657084  18.200751     2.0         NaN  2.50       0.25   \n",
       "1       18   12.637919  16.157863     2.0         NaN  2.25       0.50   \n",
       "2       19   12.637919  14.316358     1.0         NaN  1.25       0.50   \n",
       "3       20   14.543463  17.433768     1.0  120.649667  2.80       0.75   \n",
       "4       22   16.490075  22.709959     1.0  147.334443  3.00       1.00   \n",
       "...    ...         ...        ...     ...         ...   ...        ...   \n",
       "29691  465   22.333333        NaN     2.0         NaN   NaN       2.00   \n",
       "29692  466   20.083333        NaN     1.0         NaN   NaN       2.00   \n",
       "29693  467   18.750000        NaN     2.0         NaN   NaN       2.00   \n",
       "29694  468   21.833333        NaN     2.0         NaN   NaN       2.00   \n",
       "29695  469   19.000000        NaN     2.0         NaN   NaN       2.00   \n",
       "\n",
       "             feature     value category task       param  \n",
       "0             bf_ACC  0.566670      ACC   bf         ACC  \n",
       "1             bf_ACC  0.800000      ACC   bf         ACC  \n",
       "2             bf_ACC  0.500000      ACC   bf         ACC  \n",
       "3             bf_ACC  0.850000      ACC   bf         ACC  \n",
       "4             bf_ACC  0.733330      ACC   bf         ACC  \n",
       "...              ...       ...      ...  ...         ...  \n",
       "29691  ps_WS_plus_LS  0.761538     WSLS   ps  WS_plus_LS  \n",
       "29692  ps_WS_plus_LS  0.807692     WSLS   ps  WS_plus_LS  \n",
       "29693  ps_WS_plus_LS  0.915385     WSLS   ps  WS_plus_LS  \n",
       "29694  ps_WS_plus_LS  0.775194     WSLS   ps  WS_plus_LS  \n",
       "29695  ps_WS_plus_LS  0.723077     WSLS   ps  WS_plus_LS  \n",
       "\n",
       "[29696 rows x 12 columns]"
      ]
     },
     "execution_count": 24,
     "metadata": {},
     "output_type": "execute_result"
    }
   ],
   "source": [
    "# Melt all_data\n",
    "all_data_long = all_data.melt(id_vars=ages_cols+['age_group'], var_name='feature')\n",
    "\n",
    "# Add columns\n",
    "all_data_long['category'] = get_category_from_feature(all_data_long)\n",
    "all_data_long['task'] = all_data_long.feature.apply(lambda x : x[:2])\n",
    "all_data_long['param'] = all_data_long.feature.apply(lambda x : x[3:])\n",
    "all_data_long"
   ]
  },
  {
   "cell_type": "code",
   "execution_count": 25,
   "metadata": {},
   "outputs": [
    {
     "data": {
      "text/html": [
       "<div>\n",
       "<style scoped>\n",
       "    .dataframe tbody tr th:only-of-type {\n",
       "        vertical-align: middle;\n",
       "    }\n",
       "\n",
       "    .dataframe tbody tr th {\n",
       "        vertical-align: top;\n",
       "    }\n",
       "\n",
       "    .dataframe thead th {\n",
       "        text-align: right;\n",
       "    }\n",
       "</style>\n",
       "<table border=\"1\" class=\"dataframe\">\n",
       "  <thead>\n",
       "    <tr style=\"text-align: right;\">\n",
       "      <th></th>\n",
       "      <th>ID</th>\n",
       "      <th>PreciseYrs</th>\n",
       "      <th>BMI</th>\n",
       "      <th>Gender</th>\n",
       "      <th>meanT</th>\n",
       "      <th>PDS</th>\n",
       "      <th>age_group</th>\n",
       "      <th>feature</th>\n",
       "      <th>value</th>\n",
       "      <th>category</th>\n",
       "      <th>task</th>\n",
       "      <th>param</th>\n",
       "    </tr>\n",
       "  </thead>\n",
       "  <tbody>\n",
       "    <tr>\n",
       "      <th>0</th>\n",
       "      <td>17</td>\n",
       "      <td>8.657084</td>\n",
       "      <td>18.200751</td>\n",
       "      <td>2.0</td>\n",
       "      <td>NaN</td>\n",
       "      <td>2.50</td>\n",
       "      <td>0.25</td>\n",
       "      <td>bf_ACC</td>\n",
       "      <td>-1.316224</td>\n",
       "      <td>ACC</td>\n",
       "      <td>bf</td>\n",
       "      <td>ACC</td>\n",
       "    </tr>\n",
       "    <tr>\n",
       "      <th>1</th>\n",
       "      <td>18</td>\n",
       "      <td>12.637919</td>\n",
       "      <td>16.157863</td>\n",
       "      <td>2.0</td>\n",
       "      <td>NaN</td>\n",
       "      <td>2.25</td>\n",
       "      <td>0.50</td>\n",
       "      <td>bf_ACC</td>\n",
       "      <td>0.243251</td>\n",
       "      <td>ACC</td>\n",
       "      <td>bf</td>\n",
       "      <td>ACC</td>\n",
       "    </tr>\n",
       "    <tr>\n",
       "      <th>2</th>\n",
       "      <td>19</td>\n",
       "      <td>12.637919</td>\n",
       "      <td>14.316358</td>\n",
       "      <td>1.0</td>\n",
       "      <td>NaN</td>\n",
       "      <td>1.25</td>\n",
       "      <td>0.50</td>\n",
       "      <td>bf_ACC</td>\n",
       "      <td>-1.761817</td>\n",
       "      <td>ACC</td>\n",
       "      <td>bf</td>\n",
       "      <td>ACC</td>\n",
       "    </tr>\n",
       "    <tr>\n",
       "      <th>3</th>\n",
       "      <td>20</td>\n",
       "      <td>14.543463</td>\n",
       "      <td>17.433768</td>\n",
       "      <td>1.0</td>\n",
       "      <td>120.649667</td>\n",
       "      <td>2.80</td>\n",
       "      <td>0.75</td>\n",
       "      <td>bf_ACC</td>\n",
       "      <td>0.577429</td>\n",
       "      <td>ACC</td>\n",
       "      <td>bf</td>\n",
       "      <td>ACC</td>\n",
       "    </tr>\n",
       "    <tr>\n",
       "      <th>4</th>\n",
       "      <td>22</td>\n",
       "      <td>16.490075</td>\n",
       "      <td>22.709959</td>\n",
       "      <td>1.0</td>\n",
       "      <td>147.334443</td>\n",
       "      <td>3.00</td>\n",
       "      <td>1.00</td>\n",
       "      <td>bf_ACC</td>\n",
       "      <td>-0.202342</td>\n",
       "      <td>ACC</td>\n",
       "      <td>bf</td>\n",
       "      <td>ACC</td>\n",
       "    </tr>\n",
       "    <tr>\n",
       "      <th>...</th>\n",
       "      <td>...</td>\n",
       "      <td>...</td>\n",
       "      <td>...</td>\n",
       "      <td>...</td>\n",
       "      <td>...</td>\n",
       "      <td>...</td>\n",
       "      <td>...</td>\n",
       "      <td>...</td>\n",
       "      <td>...</td>\n",
       "      <td>...</td>\n",
       "      <td>...</td>\n",
       "      <td>...</td>\n",
       "    </tr>\n",
       "    <tr>\n",
       "      <th>29691</th>\n",
       "      <td>465</td>\n",
       "      <td>22.333333</td>\n",
       "      <td>NaN</td>\n",
       "      <td>2.0</td>\n",
       "      <td>NaN</td>\n",
       "      <td>NaN</td>\n",
       "      <td>2.00</td>\n",
       "      <td>ps_WS_plus_LS</td>\n",
       "      <td>-0.300356</td>\n",
       "      <td>WSLS</td>\n",
       "      <td>ps</td>\n",
       "      <td>WS_plus_LS</td>\n",
       "    </tr>\n",
       "    <tr>\n",
       "      <th>29692</th>\n",
       "      <td>466</td>\n",
       "      <td>20.083333</td>\n",
       "      <td>NaN</td>\n",
       "      <td>1.0</td>\n",
       "      <td>NaN</td>\n",
       "      <td>NaN</td>\n",
       "      <td>2.00</td>\n",
       "      <td>ps_WS_plus_LS</td>\n",
       "      <td>0.327108</td>\n",
       "      <td>WSLS</td>\n",
       "      <td>ps</td>\n",
       "      <td>WS_plus_LS</td>\n",
       "    </tr>\n",
       "    <tr>\n",
       "      <th>29693</th>\n",
       "      <td>467</td>\n",
       "      <td>18.750000</td>\n",
       "      <td>NaN</td>\n",
       "      <td>2.0</td>\n",
       "      <td>NaN</td>\n",
       "      <td>NaN</td>\n",
       "      <td>2.00</td>\n",
       "      <td>ps_WS_plus_LS</td>\n",
       "      <td>1.791190</td>\n",
       "      <td>WSLS</td>\n",
       "      <td>ps</td>\n",
       "      <td>WS_plus_LS</td>\n",
       "    </tr>\n",
       "    <tr>\n",
       "      <th>29694</th>\n",
       "      <td>468</td>\n",
       "      <td>21.833333</td>\n",
       "      <td>NaN</td>\n",
       "      <td>2.0</td>\n",
       "      <td>NaN</td>\n",
       "      <td>NaN</td>\n",
       "      <td>2.00</td>\n",
       "      <td>ps_WS_plus_LS</td>\n",
       "      <td>-0.114711</td>\n",
       "      <td>WSLS</td>\n",
       "      <td>ps</td>\n",
       "      <td>WS_plus_LS</td>\n",
       "    </tr>\n",
       "    <tr>\n",
       "      <th>29695</th>\n",
       "      <td>469</td>\n",
       "      <td>19.000000</td>\n",
       "      <td>NaN</td>\n",
       "      <td>2.0</td>\n",
       "      <td>NaN</td>\n",
       "      <td>NaN</td>\n",
       "      <td>2.00</td>\n",
       "      <td>ps_WS_plus_LS</td>\n",
       "      <td>-0.823243</td>\n",
       "      <td>WSLS</td>\n",
       "      <td>ps</td>\n",
       "      <td>WS_plus_LS</td>\n",
       "    </tr>\n",
       "  </tbody>\n",
       "</table>\n",
       "<p>29696 rows × 12 columns</p>\n",
       "</div>"
      ],
      "text/plain": [
       "        ID  PreciseYrs        BMI  Gender       meanT   PDS  age_group  \\\n",
       "0       17    8.657084  18.200751     2.0         NaN  2.50       0.25   \n",
       "1       18   12.637919  16.157863     2.0         NaN  2.25       0.50   \n",
       "2       19   12.637919  14.316358     1.0         NaN  1.25       0.50   \n",
       "3       20   14.543463  17.433768     1.0  120.649667  2.80       0.75   \n",
       "4       22   16.490075  22.709959     1.0  147.334443  3.00       1.00   \n",
       "...    ...         ...        ...     ...         ...   ...        ...   \n",
       "29691  465   22.333333        NaN     2.0         NaN   NaN       2.00   \n",
       "29692  466   20.083333        NaN     1.0         NaN   NaN       2.00   \n",
       "29693  467   18.750000        NaN     2.0         NaN   NaN       2.00   \n",
       "29694  468   21.833333        NaN     2.0         NaN   NaN       2.00   \n",
       "29695  469   19.000000        NaN     2.0         NaN   NaN       2.00   \n",
       "\n",
       "             feature     value category task       param  \n",
       "0             bf_ACC -1.316224      ACC   bf         ACC  \n",
       "1             bf_ACC  0.243251      ACC   bf         ACC  \n",
       "2             bf_ACC -1.761817      ACC   bf         ACC  \n",
       "3             bf_ACC  0.577429      ACC   bf         ACC  \n",
       "4             bf_ACC -0.202342      ACC   bf         ACC  \n",
       "...              ...       ...      ...  ...         ...  \n",
       "29691  ps_WS_plus_LS -0.300356     WSLS   ps  WS_plus_LS  \n",
       "29692  ps_WS_plus_LS  0.327108     WSLS   ps  WS_plus_LS  \n",
       "29693  ps_WS_plus_LS  1.791190     WSLS   ps  WS_plus_LS  \n",
       "29694  ps_WS_plus_LS -0.114711     WSLS   ps  WS_plus_LS  \n",
       "29695  ps_WS_plus_LS -0.823243     WSLS   ps  WS_plus_LS  \n",
       "\n",
       "[29696 rows x 12 columns]"
      ]
     },
     "execution_count": 25,
     "metadata": {},
     "output_type": "execute_result"
    }
   ],
   "source": [
    "# Melt all_data_z\n",
    "all_data_long_z = all_data_z.melt(id_vars=ages_cols+['age_group'], var_name='feature')\n",
    "\n",
    "# Add columns\n",
    "all_data_long_z['category'] = get_category_from_feature(all_data_long_z)\n",
    "all_data_long_z['task'] = all_data_long_z.feature.apply(lambda x : x[:2])\n",
    "all_data_long_z['param'] = all_data_long_z.feature.apply(lambda x : x[3:])\n",
    "all_data_long_z"
   ]
  },
  {
   "cell_type": "markdown",
   "metadata": {},
   "source": [
    "# Check that everything looks good"
   ]
  },
  {
   "cell_type": "code",
   "execution_count": 27,
   "metadata": {
    "scrolled": false
   },
   "outputs": [
    {
     "name": "stderr",
     "output_type": "stream",
     "text": [
      "C:\\Users\\maria\\Anaconda3\\envs\\PYMC3\\lib\\site-packages\\plotnine\\stats\\smoothers.py:168: PlotnineWarning: Confidence intervals are not yet implementedfor lowess smoothings.\n",
      "  \"for lowess smoothings.\", PlotnineWarning)\n"
     ]
    },
    {
     "data": {
      "image/png": "[encoded data removed]",
      "text/plain": [
       "<Figure size 1000x1000 with 16 Axes>"
      ]
     },
     "metadata": {},
     "output_type": "display_data"
    },
    {
     "name": "stdout",
     "output_type": "stream",
     "text": [
      "<ggplot: (-9223371889658476491)>\n"
     ]
    },
    {
     "name": "stderr",
     "output_type": "stream",
     "text": [
      "C:\\Users\\maria\\Anaconda3\\envs\\PYMC3\\lib\\site-packages\\plotnine\\stats\\smoothers.py:168: PlotnineWarning: Confidence intervals are not yet implementedfor lowess smoothings.\n",
      "  \"for lowess smoothings.\", PlotnineWarning)\n"
     ]
    },
    {
     "data": {
      "image/png": "[encoded data removed]",
      "text/plain": [
       "<Figure size 1000x1000 with 16 Axes>"
      ]
     },
     "metadata": {},
     "output_type": "display_data"
    },
    {
     "name": "stdout",
     "output_type": "stream",
     "text": [
      "<ggplot: (-9223371889658476491)>\n"
     ]
    }
   ],
   "source": [
    "# Group features\n",
    "gg.options.figure_size = (10, 10)\n",
    "g = (gg.ggplot(\n",
    "    all_data_long,#[all_data_long.category == 'lrn'],\n",
    "    gg.aes('PreciseYrs', 'value', color='feature'))\n",
    "#  + gg.geom_point(size=0.5, alpha=0.5)\n",
    " + gg.theme(legend_position='none')\n",
    " + gg.labs(y='', color='')\n",
    " + gg.geom_smooth()\n",
    " + gg.facet_wrap('~ category', scales='free')\n",
    ")\n",
    "print(g)\n",
    "\n",
    "g_z = g\n",
    "g_z.data = all_data_long_z\n",
    "\n",
    "print(g_z)"
   ]
  },
  {
   "cell_type": "markdown",
   "metadata": {},
   "source": [
    "# Descriptives"
   ]
  },
  {
   "cell_type": "markdown",
   "metadata": {},
   "source": [
    "## Sample age distribution"
   ]
  },
  {
   "cell_type": "code",
   "execution_count": null,
   "metadata": {
    "scrolled": false
   },
   "outputs": [],
   "source": [
    "gg.options.figure_size = (5, 3)\n",
    "g = (gg.ggplot(all_data, gg.aes('age_group', fill='factor(age_group)'))\n",
    "#  + gg.geom_histogram(bin=0.25)\n",
    " + gg.stat_bin(binwidth=0.25)\n",
    " + gg.facet_grid('~ Gender')\n",
    " + gg.scale_fill_brewer()\n",
    ")\n",
    "g.save(os.path.join(plot_save_path, '0AgegroupHistogram.png'))\n",
    "g"
   ]
  },
  {
   "cell_type": "markdown",
   "metadata": {},
   "source": [
    "## Distributions of all features"
   ]
  },
  {
   "cell_type": "code",
   "execution_count": null,
   "metadata": {
    "scrolled": true
   },
   "outputs": [],
   "source": [
    "# Histograms and \n",
    "# for feature in all_data.columns:\n",
    "#     g = (gg.ggplot(all_data, gg.aes(feature))\n",
    "#          + gg.geom_histogram()\n",
    "#         )\n",
    "#     g.save(os.path.join(plot_save_path, '0hist_{}.png'.format(feature)))\n",
    "    \n",
    "#     g = (gg.ggplot(all_data, gg.aes('PreciseYrs', feature))\n",
    "#          + gg.geom_point()\n",
    "#          + gg.geom_smooth()\n",
    "#         )\n",
    "#     g.save(os.path.join(plot_save_path, '0age_{}.png'.format(feature)))\n",
    "# g"
   ]
  },
  {
   "cell_type": "code",
   "execution_count": null,
   "metadata": {
    "scrolled": true
   },
   "outputs": [],
   "source": [
    "# gg.options.figure_size = (20, 20)\n",
    "\n",
    "# # Pretty, but too slow to work\n",
    "# g = (gg.ggplot(all_data_long, gg.aes('value'))\n",
    "#      + gg.geom_histogram()\n",
    "#      + gg.facet_wrap('~ feature', scales='free')\n",
    "#     )\n",
    "# g\n",
    "\n",
    "# Ugly, but fast and works\n",
    "# for feature in all_data.columns:\n",
    "#     g = (gg.ggplot(all_data, gg.aes(feature))\n",
    "#          + gg.geom_histogram()\n",
    "#         )\n",
    "#     g.save(os.path.join(plot_save_path, '0hist_{}.png'.format(feature)))"
   ]
  },
  {
   "cell_type": "code",
   "execution_count": null,
   "metadata": {
    "scrolled": false
   },
   "outputs": [],
   "source": [
    "# Mean of each feature\n",
    "gg.options.figure_size = (10, 10)\n",
    "g = (gg.ggplot(all_data_long, gg.aes('param', 'value'))\n",
    "     + gg.stat_summary()\n",
    "#      + gg.geom_violin()\n",
    "     + gg.labs(x='', y='')\n",
    "     + gg.theme(axis_text_x=gg.element_text(rotation=45, hjust=1))\n",
    "     + gg.facet_wrap('~ task', scales='free', ncol=1)\n",
    "    )\n",
    "g.save(os.path.join(plot_save_path, '0feature_means.png'))\n",
    "g"
   ]
  },
  {
   "cell_type": "markdown",
   "metadata": {},
   "source": [
    "## Features over age"
   ]
  },
  {
   "cell_type": "code",
   "execution_count": null,
   "metadata": {
    "scrolled": true
   },
   "outputs": [],
   "source": [
    "# Each feature over age\n",
    "gg.options.figure_size = (20, 20)\n",
    "g = (gg.ggplot(all_data_long, gg.aes('PreciseYrs', 'value', color='factor(Gender)'))\n",
    " + gg.geom_point(size=0.5, alpha=0.5)\n",
    " + gg.geom_smooth()\n",
    " + gg.labs(y='')\n",
    " + gg.facet_wrap('~ feature', scales='free')\n",
    ")\n",
    "g.save(os.path.join(plot_save_path, '2age_feature_separate.png'))\n",
    "\n",
    "g_pds = g + gg.aes('PDS')\n",
    "g_pds.save(os.path.join(plot_save_path, '2PDS_feature_separate.png'))\n",
    "g_t = g + gg.aes('meanT')\n",
    "g_t.save(os.path.join(plot_save_path, '2T_feature_separate.png'))\n",
    "\n",
    "# Each feature over age group\n",
    "g2 = (gg.ggplot(all_data_long, gg.aes('age_group', 'value', fill='factor(age_group)'))\n",
    " + gg.stat_summary(geom='bar')\n",
    " + gg.scale_fill_brewer()\n",
    " + gg.facet_wrap('~ feature', scales='free')\n",
    ")\n",
    "g2.save(os.path.join(plot_save_path, '2agegroup_feature.png'))\n",
    "\n",
    "g, g2"
   ]
  },
  {
   "cell_type": "code",
   "execution_count": 17,
   "metadata": {
    "scrolled": false
   },
   "outputs": [
    {
     "name": "stderr",
     "output_type": "stream",
     "text": [
      "C:\\Users\\maria\\Anaconda3\\envs\\PYMC3\\lib\\site-packages\\plotnine\\ggplot.py:729: PlotnineWarning: Saving 10 x 10 in image.\n",
      "  from_inches(height, units), units), PlotnineWarning)\n",
      "C:\\Users\\maria\\Anaconda3\\envs\\PYMC3\\lib\\site-packages\\plotnine\\ggplot.py:730: PlotnineWarning: Filename: C:/Users/maria/MEGAsync/SLCN/MetaSLCNPlots\\2age_feature.png\n",
      "  warn('Filename: {}'.format(filename), PlotnineWarning)\n"
     ]
    },
    {
     "data": {
      "image/png": "[encoded data removed]",
      "text/plain": [
       "<Figure size 1000x1000 with 256 Axes>"
      ]
     },
     "metadata": {},
     "output_type": "display_data"
    },
    {
     "name": "stdout",
     "output_type": "stream",
     "text": [
      "<ggplot: (147194335734)>\n"
     ]
    },
    {
     "name": "stderr",
     "output_type": "stream",
     "text": [
      "C:\\Users\\maria\\Anaconda3\\envs\\PYMC3\\lib\\site-packages\\plotnine\\ggplot.py:729: PlotnineWarning: Saving 10 x 10 in image.\n",
      "  from_inches(height, units), units), PlotnineWarning)\n",
      "C:\\Users\\maria\\Anaconda3\\envs\\PYMC3\\lib\\site-packages\\plotnine\\ggplot.py:730: PlotnineWarning: Filename: C:/Users/maria/MEGAsync/SLCN/MetaSLCNPlots\\2age_feature_z.png\n",
      "  warn('Filename: {}'.format(filename), PlotnineWarning)\n"
     ]
    },
    {
     "ename": "KeyboardInterrupt",
     "evalue": "",
     "output_type": "error",
     "traceback": [
      "\u001b[1;31m---------------------------------------------------------------------------\u001b[0m",
      "\u001b[1;31mKeyboardInterrupt\u001b[0m                         Traceback (most recent call last)",
      "\u001b[1;32m<ipython-input-17-3de482b11807>\u001b[0m in \u001b[0;36m<module>\u001b[1;34m()\u001b[0m\n\u001b[0;32m     14\u001b[0m \u001b[0mg_z\u001b[0m \u001b[1;33m=\u001b[0m \u001b[0mg\u001b[0m\u001b[1;33m\u001b[0m\u001b[0m\n\u001b[0;32m     15\u001b[0m \u001b[0mg_z\u001b[0m\u001b[1;33m.\u001b[0m\u001b[0mdata\u001b[0m \u001b[1;33m=\u001b[0m \u001b[0mall_data_long_z\u001b[0m\u001b[1;33m\u001b[0m\u001b[0m\n\u001b[1;32m---> 16\u001b[1;33m \u001b[0mg_z\u001b[0m\u001b[1;33m.\u001b[0m\u001b[0msave\u001b[0m\u001b[1;33m(\u001b[0m\u001b[0mos\u001b[0m\u001b[1;33m.\u001b[0m\u001b[0mpath\u001b[0m\u001b[1;33m.\u001b[0m\u001b[0mjoin\u001b[0m\u001b[1;33m(\u001b[0m\u001b[0mplot_save_path\u001b[0m\u001b[1;33m,\u001b[0m \u001b[1;34m'2age_feature_z.png'\u001b[0m\u001b[1;33m)\u001b[0m\u001b[1;33m)\u001b[0m\u001b[1;33m\u001b[0m\u001b[0m\n\u001b[0m\u001b[0;32m     17\u001b[0m \u001b[1;33m\u001b[0m\u001b[0m\n\u001b[0;32m     18\u001b[0m \u001b[0mprint\u001b[0m\u001b[1;33m(\u001b[0m\u001b[0mg_z\u001b[0m\u001b[1;33m)\u001b[0m\u001b[1;33m\u001b[0m\u001b[0m\n",
      "\u001b[1;32m~\\Anaconda3\\envs\\PYMC3\\lib\\site-packages\\plotnine\\ggplot.py\u001b[0m in \u001b[0;36msave\u001b[1;34m(self, filename, format, path, width, height, units, dpi, limitsize, verbose, **kwargs)\u001b[0m\n\u001b[0;32m    745\u001b[0m \u001b[1;33m\u001b[0m\u001b[0m\n\u001b[0;32m    746\u001b[0m         \u001b[1;32mtry\u001b[0m\u001b[1;33m:\u001b[0m\u001b[1;33m\u001b[0m\u001b[0m\n\u001b[1;32m--> 747\u001b[1;33m             \u001b[0m_save\u001b[0m\u001b[1;33m(\u001b[0m\u001b[1;33m)\u001b[0m\u001b[1;33m\u001b[0m\u001b[0m\n\u001b[0m\u001b[0;32m    748\u001b[0m         \u001b[1;32mexcept\u001b[0m \u001b[0mException\u001b[0m \u001b[1;32mas\u001b[0m \u001b[0merr\u001b[0m\u001b[1;33m:\u001b[0m\u001b[1;33m\u001b[0m\u001b[0m\n\u001b[0;32m    749\u001b[0m             \u001b[0mfigure\u001b[0m\u001b[1;33m[\u001b[0m\u001b[1;36m0\u001b[0m\u001b[1;33m]\u001b[0m \u001b[1;32mand\u001b[0m \u001b[0mplt\u001b[0m\u001b[1;33m.\u001b[0m\u001b[0mclose\u001b[0m\u001b[1;33m(\u001b[0m\u001b[0mfigure\u001b[0m\u001b[1;33m[\u001b[0m\u001b[1;36m0\u001b[0m\u001b[1;33m]\u001b[0m\u001b[1;33m)\u001b[0m\u001b[1;33m\u001b[0m\u001b[0m\n",
      "\u001b[1;32m~\\Anaconda3\\envs\\PYMC3\\lib\\site-packages\\plotnine\\ggplot.py\u001b[0m in \u001b[0;36m_save\u001b[1;34m()\u001b[0m\n\u001b[0;32m    732\u001b[0m         \u001b[1;31m# Helper function so that we can clean up when it fails\u001b[0m\u001b[1;33m\u001b[0m\u001b[1;33m\u001b[0m\u001b[0m\n\u001b[0;32m    733\u001b[0m         \u001b[1;32mdef\u001b[0m \u001b[0m_save\u001b[0m\u001b[1;33m(\u001b[0m\u001b[1;33m)\u001b[0m\u001b[1;33m:\u001b[0m\u001b[1;33m\u001b[0m\u001b[0m\n\u001b[1;32m--> 734\u001b[1;33m             \u001b[0mfig\u001b[0m \u001b[1;33m=\u001b[0m \u001b[0mfigure\u001b[0m\u001b[1;33m[\u001b[0m\u001b[1;36m0\u001b[0m\u001b[1;33m]\u001b[0m \u001b[1;33m=\u001b[0m \u001b[0mself\u001b[0m\u001b[1;33m.\u001b[0m\u001b[0mdraw\u001b[0m\u001b[1;33m(\u001b[0m\u001b[1;33m)\u001b[0m\u001b[1;33m\u001b[0m\u001b[0m\n\u001b[0m\u001b[0;32m    735\u001b[0m \u001b[1;33m\u001b[0m\u001b[0m\n\u001b[0;32m    736\u001b[0m             \u001b[1;31m# savefig ignores the figure face & edge colors\u001b[0m\u001b[1;33m\u001b[0m\u001b[1;33m\u001b[0m\u001b[0m\n",
      "\u001b[1;32m~\\Anaconda3\\envs\\PYMC3\\lib\\site-packages\\plotnine\\ggplot.py\u001b[0m in \u001b[0;36mdraw\u001b[1;34m(self, return_ggplot)\u001b[0m\n\u001b[0;32m    179\u001b[0m         \u001b[1;31m# new frames knowing that they are separate from the original.\u001b[0m\u001b[1;33m\u001b[0m\u001b[1;33m\u001b[0m\u001b[0m\n\u001b[0;32m    180\u001b[0m         \u001b[1;32mwith\u001b[0m \u001b[0mpd\u001b[0m\u001b[1;33m.\u001b[0m\u001b[0moption_context\u001b[0m\u001b[1;33m(\u001b[0m\u001b[1;34m'mode.chained_assignment'\u001b[0m\u001b[1;33m,\u001b[0m \u001b[1;32mNone\u001b[0m\u001b[1;33m)\u001b[0m\u001b[1;33m:\u001b[0m\u001b[1;33m\u001b[0m\u001b[0m\n\u001b[1;32m--> 181\u001b[1;33m             \u001b[1;32mreturn\u001b[0m \u001b[0mself\u001b[0m\u001b[1;33m.\u001b[0m\u001b[0m_draw\u001b[0m\u001b[1;33m(\u001b[0m\u001b[0mreturn_ggplot\u001b[0m\u001b[1;33m)\u001b[0m\u001b[1;33m\u001b[0m\u001b[0m\n\u001b[0m\u001b[0;32m    182\u001b[0m \u001b[1;33m\u001b[0m\u001b[0m\n\u001b[0;32m    183\u001b[0m     \u001b[1;32mdef\u001b[0m \u001b[0m_draw\u001b[0m\u001b[1;33m(\u001b[0m\u001b[0mself\u001b[0m\u001b[1;33m,\u001b[0m \u001b[0mreturn_ggplot\u001b[0m\u001b[1;33m=\u001b[0m\u001b[1;32mFalse\u001b[0m\u001b[1;33m)\u001b[0m\u001b[1;33m:\u001b[0m\u001b[1;33m\u001b[0m\u001b[0m\n",
      "\u001b[1;32m~\\Anaconda3\\envs\\PYMC3\\lib\\site-packages\\plotnine\\ggplot.py\u001b[0m in \u001b[0;36m_draw\u001b[1;34m(self, return_ggplot)\u001b[0m\n\u001b[0;32m    186\u001b[0m         \u001b[1;31m# assign a default theme\u001b[0m\u001b[1;33m\u001b[0m\u001b[1;33m\u001b[0m\u001b[0m\n\u001b[0;32m    187\u001b[0m         \u001b[0mself\u001b[0m \u001b[1;33m=\u001b[0m \u001b[0mdeepcopy\u001b[0m\u001b[1;33m(\u001b[0m\u001b[0mself\u001b[0m\u001b[1;33m)\u001b[0m\u001b[1;33m\u001b[0m\u001b[0m\n\u001b[1;32m--> 188\u001b[1;33m         \u001b[0mself\u001b[0m\u001b[1;33m.\u001b[0m\u001b[0m_build\u001b[0m\u001b[1;33m(\u001b[0m\u001b[1;33m)\u001b[0m\u001b[1;33m\u001b[0m\u001b[0m\n\u001b[0m\u001b[0;32m    189\u001b[0m \u001b[1;33m\u001b[0m\u001b[0m\n\u001b[0;32m    190\u001b[0m         \u001b[1;31m# If no theme we use the default\u001b[0m\u001b[1;33m\u001b[0m\u001b[1;33m\u001b[0m\u001b[0m\n",
      "\u001b[1;32m~\\Anaconda3\\envs\\PYMC3\\lib\\site-packages\\plotnine\\ggplot.py\u001b[0m in \u001b[0;36m_build\u001b[1;34m(self)\u001b[0m\n\u001b[0;32m    297\u001b[0m \u001b[1;33m\u001b[0m\u001b[0m\n\u001b[0;32m    298\u001b[0m         \u001b[1;31m# Apply and map statistics\u001b[0m\u001b[1;33m\u001b[0m\u001b[1;33m\u001b[0m\u001b[0m\n\u001b[1;32m--> 299\u001b[1;33m         \u001b[0mlayers\u001b[0m\u001b[1;33m.\u001b[0m\u001b[0mcompute_statistic\u001b[0m\u001b[1;33m(\u001b[0m\u001b[0mlayout\u001b[0m\u001b[1;33m)\u001b[0m\u001b[1;33m\u001b[0m\u001b[0m\n\u001b[0m\u001b[0;32m    300\u001b[0m         \u001b[0mlayers\u001b[0m\u001b[1;33m.\u001b[0m\u001b[0mmap_statistic\u001b[0m\u001b[1;33m(\u001b[0m\u001b[0mself\u001b[0m\u001b[1;33m)\u001b[0m\u001b[1;33m\u001b[0m\u001b[0m\n\u001b[0;32m    301\u001b[0m \u001b[1;33m\u001b[0m\u001b[0m\n",
      "\u001b[1;32m~\\Anaconda3\\envs\\PYMC3\\lib\\site-packages\\plotnine\\layer.py\u001b[0m in \u001b[0;36mcompute_statistic\u001b[1;34m(self, layout)\u001b[0m\n\u001b[0;32m     84\u001b[0m     \u001b[1;32mdef\u001b[0m \u001b[0mcompute_statistic\u001b[0m\u001b[1;33m(\u001b[0m\u001b[0mself\u001b[0m\u001b[1;33m,\u001b[0m \u001b[0mlayout\u001b[0m\u001b[1;33m)\u001b[0m\u001b[1;33m:\u001b[0m\u001b[1;33m\u001b[0m\u001b[0m\n\u001b[0;32m     85\u001b[0m         \u001b[1;32mfor\u001b[0m \u001b[0ml\u001b[0m \u001b[1;32min\u001b[0m \u001b[0mself\u001b[0m\u001b[1;33m:\u001b[0m\u001b[1;33m\u001b[0m\u001b[0m\n\u001b[1;32m---> 86\u001b[1;33m             \u001b[0ml\u001b[0m\u001b[1;33m.\u001b[0m\u001b[0mcompute_statistic\u001b[0m\u001b[1;33m(\u001b[0m\u001b[0mlayout\u001b[0m\u001b[1;33m)\u001b[0m\u001b[1;33m\u001b[0m\u001b[0m\n\u001b[0m\u001b[0;32m     87\u001b[0m \u001b[1;33m\u001b[0m\u001b[0m\n\u001b[0;32m     88\u001b[0m     \u001b[1;32mdef\u001b[0m \u001b[0mmap_statistic\u001b[0m\u001b[1;33m(\u001b[0m\u001b[0mself\u001b[0m\u001b[1;33m,\u001b[0m \u001b[0mplot\u001b[0m\u001b[1;33m)\u001b[0m\u001b[1;33m:\u001b[0m\u001b[1;33m\u001b[0m\u001b[0m\n",
      "\u001b[1;32m~\\Anaconda3\\envs\\PYMC3\\lib\\site-packages\\plotnine\\layer.py\u001b[0m in \u001b[0;36mcompute_statistic\u001b[1;34m(self, layout)\u001b[0m\n\u001b[0;32m    358\u001b[0m         \u001b[0mdata\u001b[0m \u001b[1;33m=\u001b[0m \u001b[0mself\u001b[0m\u001b[1;33m.\u001b[0m\u001b[0mstat\u001b[0m\u001b[1;33m.\u001b[0m\u001b[0muse_defaults\u001b[0m\u001b[1;33m(\u001b[0m\u001b[0mdata\u001b[0m\u001b[1;33m)\u001b[0m\u001b[1;33m\u001b[0m\u001b[0m\n\u001b[0;32m    359\u001b[0m         \u001b[0mdata\u001b[0m \u001b[1;33m=\u001b[0m \u001b[0mself\u001b[0m\u001b[1;33m.\u001b[0m\u001b[0mstat\u001b[0m\u001b[1;33m.\u001b[0m\u001b[0msetup_data\u001b[0m\u001b[1;33m(\u001b[0m\u001b[0mdata\u001b[0m\u001b[1;33m)\u001b[0m\u001b[1;33m\u001b[0m\u001b[0m\n\u001b[1;32m--> 360\u001b[1;33m         \u001b[0mdata\u001b[0m \u001b[1;33m=\u001b[0m \u001b[0mself\u001b[0m\u001b[1;33m.\u001b[0m\u001b[0mstat\u001b[0m\u001b[1;33m.\u001b[0m\u001b[0mcompute_layer\u001b[0m\u001b[1;33m(\u001b[0m\u001b[0mdata\u001b[0m\u001b[1;33m,\u001b[0m \u001b[0mparams\u001b[0m\u001b[1;33m,\u001b[0m \u001b[0mlayout\u001b[0m\u001b[1;33m)\u001b[0m\u001b[1;33m\u001b[0m\u001b[0m\n\u001b[0m\u001b[0;32m    361\u001b[0m         \u001b[0mself\u001b[0m\u001b[1;33m.\u001b[0m\u001b[0mdata\u001b[0m \u001b[1;33m=\u001b[0m \u001b[0mdata\u001b[0m\u001b[1;33m\u001b[0m\u001b[0m\n\u001b[0;32m    362\u001b[0m \u001b[1;33m\u001b[0m\u001b[0m\n",
      "\u001b[1;32m~\\Anaconda3\\envs\\PYMC3\\lib\\site-packages\\plotnine\\stats\\stat.py\u001b[0m in \u001b[0;36mcompute_layer\u001b[1;34m(cls, data, params, layout)\u001b[0m\n\u001b[0;32m    266\u001b[0m             \u001b[1;32mreturn\u001b[0m \u001b[0mcls\u001b[0m\u001b[1;33m.\u001b[0m\u001b[0mcompute_panel\u001b[0m\u001b[1;33m(\u001b[0m\u001b[0mpdata\u001b[0m\u001b[1;33m,\u001b[0m \u001b[0mpscales\u001b[0m\u001b[1;33m,\u001b[0m \u001b[1;33m**\u001b[0m\u001b[0mparams\u001b[0m\u001b[1;33m)\u001b[0m\u001b[1;33m\u001b[0m\u001b[0m\n\u001b[0;32m    267\u001b[0m \u001b[1;33m\u001b[0m\u001b[0m\n\u001b[1;32m--> 268\u001b[1;33m         \u001b[1;32mreturn\u001b[0m \u001b[0mgroupby_apply\u001b[0m\u001b[1;33m(\u001b[0m\u001b[0mdata\u001b[0m\u001b[1;33m,\u001b[0m \u001b[1;34m'PANEL'\u001b[0m\u001b[1;33m,\u001b[0m \u001b[0mfn\u001b[0m\u001b[1;33m)\u001b[0m\u001b[1;33m\u001b[0m\u001b[0m\n\u001b[0m\u001b[0;32m    269\u001b[0m \u001b[1;33m\u001b[0m\u001b[0m\n\u001b[0;32m    270\u001b[0m     \u001b[1;33m@\u001b[0m\u001b[0mclassmethod\u001b[0m\u001b[1;33m\u001b[0m\u001b[0m\n",
      "\u001b[1;32m~\\Anaconda3\\envs\\PYMC3\\lib\\site-packages\\plotnine\\utils.py\u001b[0m in \u001b[0;36mgroupby_apply\u001b[1;34m(df, cols, func, *args, **kwargs)\u001b[0m\n\u001b[0;32m    631\u001b[0m         \u001b[1;31m# function fn should be free to modify dataframe d, therefore\u001b[0m\u001b[1;33m\u001b[0m\u001b[1;33m\u001b[0m\u001b[0m\n\u001b[0;32m    632\u001b[0m         \u001b[1;31m# do not mark d as a slice of df i.e no SettingWithCopyWarning\u001b[0m\u001b[1;33m\u001b[0m\u001b[1;33m\u001b[0m\u001b[0m\n\u001b[1;32m--> 633\u001b[1;33m         \u001b[0mlst\u001b[0m\u001b[1;33m.\u001b[0m\u001b[0mappend\u001b[0m\u001b[1;33m(\u001b[0m\u001b[0mfunc\u001b[0m\u001b[1;33m(\u001b[0m\u001b[0md\u001b[0m\u001b[1;33m,\u001b[0m \u001b[1;33m*\u001b[0m\u001b[0margs\u001b[0m\u001b[1;33m,\u001b[0m \u001b[1;33m**\u001b[0m\u001b[0mkwargs\u001b[0m\u001b[1;33m)\u001b[0m\u001b[1;33m)\u001b[0m\u001b[1;33m\u001b[0m\u001b[0m\n\u001b[0m\u001b[0;32m    634\u001b[0m     \u001b[1;32mreturn\u001b[0m \u001b[0mpd\u001b[0m\u001b[1;33m.\u001b[0m\u001b[0mconcat\u001b[0m\u001b[1;33m(\u001b[0m\u001b[0mlst\u001b[0m\u001b[1;33m,\u001b[0m \u001b[0maxis\u001b[0m\u001b[1;33m=\u001b[0m\u001b[0maxis\u001b[0m\u001b[1;33m,\u001b[0m \u001b[0mignore_index\u001b[0m\u001b[1;33m=\u001b[0m\u001b[1;32mTrue\u001b[0m\u001b[1;33m)\u001b[0m\u001b[1;33m\u001b[0m\u001b[0m\n\u001b[0;32m    635\u001b[0m \u001b[1;33m\u001b[0m\u001b[0m\n",
      "\u001b[1;32m~\\Anaconda3\\envs\\PYMC3\\lib\\site-packages\\plotnine\\stats\\stat.py\u001b[0m in \u001b[0;36mfn\u001b[1;34m(pdata)\u001b[0m\n\u001b[0;32m    264\u001b[0m                 \u001b[1;32mreturn\u001b[0m \u001b[0mpdata\u001b[0m\u001b[1;33m\u001b[0m\u001b[0m\n\u001b[0;32m    265\u001b[0m             \u001b[0mpscales\u001b[0m \u001b[1;33m=\u001b[0m \u001b[0mlayout\u001b[0m\u001b[1;33m.\u001b[0m\u001b[0mget_scales\u001b[0m\u001b[1;33m(\u001b[0m\u001b[0mpdata\u001b[0m\u001b[1;33m[\u001b[0m\u001b[1;34m'PANEL'\u001b[0m\u001b[1;33m]\u001b[0m\u001b[1;33m.\u001b[0m\u001b[0miat\u001b[0m\u001b[1;33m[\u001b[0m\u001b[1;36m0\u001b[0m\u001b[1;33m]\u001b[0m\u001b[1;33m)\u001b[0m\u001b[1;33m\u001b[0m\u001b[0m\n\u001b[1;32m--> 266\u001b[1;33m             \u001b[1;32mreturn\u001b[0m \u001b[0mcls\u001b[0m\u001b[1;33m.\u001b[0m\u001b[0mcompute_panel\u001b[0m\u001b[1;33m(\u001b[0m\u001b[0mpdata\u001b[0m\u001b[1;33m,\u001b[0m \u001b[0mpscales\u001b[0m\u001b[1;33m,\u001b[0m \u001b[1;33m**\u001b[0m\u001b[0mparams\u001b[0m\u001b[1;33m)\u001b[0m\u001b[1;33m\u001b[0m\u001b[0m\n\u001b[0m\u001b[0;32m    267\u001b[0m \u001b[1;33m\u001b[0m\u001b[0m\n\u001b[0;32m    268\u001b[0m         \u001b[1;32mreturn\u001b[0m \u001b[0mgroupby_apply\u001b[0m\u001b[1;33m(\u001b[0m\u001b[0mdata\u001b[0m\u001b[1;33m,\u001b[0m \u001b[1;34m'PANEL'\u001b[0m\u001b[1;33m,\u001b[0m \u001b[0mfn\u001b[0m\u001b[1;33m)\u001b[0m\u001b[1;33m\u001b[0m\u001b[0m\n",
      "\u001b[1;32m~\\Anaconda3\\envs\\PYMC3\\lib\\site-packages\\plotnine\\stats\\stat.py\u001b[0m in \u001b[0;36mcompute_panel\u001b[1;34m(cls, data, scales, **params)\u001b[0m\n\u001b[0;32m    309\u001b[0m             \u001b[0mstats\u001b[0m\u001b[1;33m.\u001b[0m\u001b[0mappend\u001b[0m\u001b[1;33m(\u001b[0m\u001b[0mdf\u001b[0m\u001b[1;33m)\u001b[0m\u001b[1;33m\u001b[0m\u001b[0m\n\u001b[0;32m    310\u001b[0m \u001b[1;33m\u001b[0m\u001b[0m\n\u001b[1;32m--> 311\u001b[1;33m         \u001b[0mstats\u001b[0m \u001b[1;33m=\u001b[0m \u001b[0mpd\u001b[0m\u001b[1;33m.\u001b[0m\u001b[0mconcat\u001b[0m\u001b[1;33m(\u001b[0m\u001b[0mstats\u001b[0m\u001b[1;33m,\u001b[0m \u001b[0maxis\u001b[0m\u001b[1;33m=\u001b[0m\u001b[1;36m0\u001b[0m\u001b[1;33m,\u001b[0m \u001b[0mignore_index\u001b[0m\u001b[1;33m=\u001b[0m\u001b[1;32mTrue\u001b[0m\u001b[1;33m)\u001b[0m\u001b[1;33m\u001b[0m\u001b[0m\n\u001b[0m\u001b[0;32m    312\u001b[0m \u001b[1;33m\u001b[0m\u001b[0m\n\u001b[0;32m    313\u001b[0m         \u001b[1;31m# Note: If the data coming in has columns with non-unique\u001b[0m\u001b[1;33m\u001b[0m\u001b[1;33m\u001b[0m\u001b[0m\n",
      "\u001b[1;32m~\\Anaconda3\\envs\\PYMC3\\lib\\site-packages\\pandas\\core\\reshape\\concat.py\u001b[0m in \u001b[0;36mconcat\u001b[1;34m(objs, axis, join, join_axes, ignore_index, keys, levels, names, verify_integrity, sort, copy)\u001b[0m\n\u001b[0;32m    256\u001b[0m     )\n\u001b[0;32m    257\u001b[0m \u001b[1;33m\u001b[0m\u001b[0m\n\u001b[1;32m--> 258\u001b[1;33m     \u001b[1;32mreturn\u001b[0m \u001b[0mop\u001b[0m\u001b[1;33m.\u001b[0m\u001b[0mget_result\u001b[0m\u001b[1;33m(\u001b[0m\u001b[1;33m)\u001b[0m\u001b[1;33m\u001b[0m\u001b[0m\n\u001b[0m\u001b[0;32m    259\u001b[0m \u001b[1;33m\u001b[0m\u001b[0m\n\u001b[0;32m    260\u001b[0m \u001b[1;33m\u001b[0m\u001b[0m\n",
      "\u001b[1;32m~\\Anaconda3\\envs\\PYMC3\\lib\\site-packages\\pandas\\core\\reshape\\concat.py\u001b[0m in \u001b[0;36mget_result\u001b[1;34m(self)\u001b[0m\n\u001b[0;32m    471\u001b[0m \u001b[1;33m\u001b[0m\u001b[0m\n\u001b[0;32m    472\u001b[0m             new_data = concatenate_block_managers(\n\u001b[1;32m--> 473\u001b[1;33m                 \u001b[0mmgrs_indexers\u001b[0m\u001b[1;33m,\u001b[0m \u001b[0mself\u001b[0m\u001b[1;33m.\u001b[0m\u001b[0mnew_axes\u001b[0m\u001b[1;33m,\u001b[0m \u001b[0mconcat_axis\u001b[0m\u001b[1;33m=\u001b[0m\u001b[0mself\u001b[0m\u001b[1;33m.\u001b[0m\u001b[0maxis\u001b[0m\u001b[1;33m,\u001b[0m \u001b[0mcopy\u001b[0m\u001b[1;33m=\u001b[0m\u001b[0mself\u001b[0m\u001b[1;33m.\u001b[0m\u001b[0mcopy\u001b[0m\u001b[1;33m\u001b[0m\u001b[0m\n\u001b[0m\u001b[0;32m    474\u001b[0m             )\n\u001b[0;32m    475\u001b[0m             \u001b[1;32mif\u001b[0m \u001b[1;32mnot\u001b[0m \u001b[0mself\u001b[0m\u001b[1;33m.\u001b[0m\u001b[0mcopy\u001b[0m\u001b[1;33m:\u001b[0m\u001b[1;33m\u001b[0m\u001b[0m\n",
      "\u001b[1;32m~\\Anaconda3\\envs\\PYMC3\\lib\\site-packages\\pandas\\core\\internals\\managers.py\u001b[0m in \u001b[0;36mconcatenate_block_managers\u001b[1;34m(mgrs_indexers, axes, concat_axis, copy)\u001b[0m\n\u001b[0;32m   2046\u001b[0m                 \u001b[0mvalues\u001b[0m \u001b[1;33m=\u001b[0m \u001b[0mvalues\u001b[0m\u001b[1;33m.\u001b[0m\u001b[0mview\u001b[0m\u001b[1;33m(\u001b[0m\u001b[1;33m)\u001b[0m\u001b[1;33m\u001b[0m\u001b[0m\n\u001b[0;32m   2047\u001b[0m             \u001b[0mb\u001b[0m \u001b[1;33m=\u001b[0m \u001b[0mb\u001b[0m\u001b[1;33m.\u001b[0m\u001b[0mmake_block_same_class\u001b[0m\u001b[1;33m(\u001b[0m\u001b[0mvalues\u001b[0m\u001b[1;33m,\u001b[0m \u001b[0mplacement\u001b[0m\u001b[1;33m=\u001b[0m\u001b[0mplacement\u001b[0m\u001b[1;33m)\u001b[0m\u001b[1;33m\u001b[0m\u001b[0m\n\u001b[1;32m-> 2048\u001b[1;33m         \u001b[1;32melif\u001b[0m \u001b[0mis_uniform_join_units\u001b[0m\u001b[1;33m(\u001b[0m\u001b[0mjoin_units\u001b[0m\u001b[1;33m)\u001b[0m\u001b[1;33m:\u001b[0m\u001b[1;33m\u001b[0m\u001b[0m\n\u001b[0m\u001b[0;32m   2049\u001b[0m             b = join_units[0].block.concat_same_type(\n\u001b[0;32m   2050\u001b[0m                 \u001b[1;33m[\u001b[0m\u001b[0mju\u001b[0m\u001b[1;33m.\u001b[0m\u001b[0mblock\u001b[0m \u001b[1;32mfor\u001b[0m \u001b[0mju\u001b[0m \u001b[1;32min\u001b[0m \u001b[0mjoin_units\u001b[0m\u001b[1;33m]\u001b[0m\u001b[1;33m,\u001b[0m \u001b[0mplacement\u001b[0m\u001b[1;33m=\u001b[0m\u001b[0mplacement\u001b[0m\u001b[1;33m\u001b[0m\u001b[0m\n",
      "\u001b[1;32m~\\Anaconda3\\envs\\PYMC3\\lib\\site-packages\\pandas\\core\\internals\\concat.py\u001b[0m in \u001b[0;36mis_uniform_join_units\u001b[1;34m(join_units)\u001b[0m\n\u001b[0;32m    390\u001b[0m         \u001b[1;31m# no blocks that would get missing values (can lead to type upcasts)\u001b[0m\u001b[1;33m\u001b[0m\u001b[1;33m\u001b[0m\u001b[0m\n\u001b[0;32m    391\u001b[0m         \u001b[1;31m# unless we're an extension dtype.\u001b[0m\u001b[1;33m\u001b[0m\u001b[1;33m\u001b[0m\u001b[0m\n\u001b[1;32m--> 392\u001b[1;33m         \u001b[0mall\u001b[0m\u001b[1;33m(\u001b[0m\u001b[1;32mnot\u001b[0m \u001b[0mju\u001b[0m\u001b[1;33m.\u001b[0m\u001b[0mis_na\u001b[0m \u001b[1;32mor\u001b[0m \u001b[0mju\u001b[0m\u001b[1;33m.\u001b[0m\u001b[0mblock\u001b[0m\u001b[1;33m.\u001b[0m\u001b[0mis_extension\u001b[0m \u001b[1;32mfor\u001b[0m \u001b[0mju\u001b[0m \u001b[1;32min\u001b[0m \u001b[0mjoin_units\u001b[0m\u001b[1;33m)\u001b[0m\u001b[1;33m\u001b[0m\u001b[0m\n\u001b[0m\u001b[0;32m    393\u001b[0m         \u001b[1;32mand\u001b[0m\u001b[1;33m\u001b[0m\u001b[0m\n\u001b[0;32m    394\u001b[0m         \u001b[1;31m# no blocks with indexers (as then the dimensions do not fit)\u001b[0m\u001b[1;33m\u001b[0m\u001b[1;33m\u001b[0m\u001b[0m\n",
      "\u001b[1;32m~\\Anaconda3\\envs\\PYMC3\\lib\\site-packages\\pandas\\core\\internals\\concat.py\u001b[0m in \u001b[0;36m<genexpr>\u001b[1;34m(.0)\u001b[0m\n\u001b[0;32m    390\u001b[0m         \u001b[1;31m# no blocks that would get missing values (can lead to type upcasts)\u001b[0m\u001b[1;33m\u001b[0m\u001b[1;33m\u001b[0m\u001b[0m\n\u001b[0;32m    391\u001b[0m         \u001b[1;31m# unless we're an extension dtype.\u001b[0m\u001b[1;33m\u001b[0m\u001b[1;33m\u001b[0m\u001b[0m\n\u001b[1;32m--> 392\u001b[1;33m         \u001b[0mall\u001b[0m\u001b[1;33m(\u001b[0m\u001b[1;32mnot\u001b[0m \u001b[0mju\u001b[0m\u001b[1;33m.\u001b[0m\u001b[0mis_na\u001b[0m \u001b[1;32mor\u001b[0m \u001b[0mju\u001b[0m\u001b[1;33m.\u001b[0m\u001b[0mblock\u001b[0m\u001b[1;33m.\u001b[0m\u001b[0mis_extension\u001b[0m \u001b[1;32mfor\u001b[0m \u001b[0mju\u001b[0m \u001b[1;32min\u001b[0m \u001b[0mjoin_units\u001b[0m\u001b[1;33m)\u001b[0m\u001b[1;33m\u001b[0m\u001b[0m\n\u001b[0m\u001b[0;32m    393\u001b[0m         \u001b[1;32mand\u001b[0m\u001b[1;33m\u001b[0m\u001b[0m\n\u001b[0;32m    394\u001b[0m         \u001b[1;31m# no blocks with indexers (as then the dimensions do not fit)\u001b[0m\u001b[1;33m\u001b[0m\u001b[1;33m\u001b[0m\u001b[0m\n",
      "\u001b[1;32mpandas/_libs/properties.pyx\u001b[0m in \u001b[0;36mpandas._libs.properties.CachedProperty.__get__\u001b[1;34m()\u001b[0m\n",
      "\u001b[1;32m~\\Anaconda3\\envs\\PYMC3\\lib\\site-packages\\pandas\\core\\internals\\concat.py\u001b[0m in \u001b[0;36mis_na\u001b[1;34m(self)\u001b[0m\n\u001b[0;32m    170\u001b[0m         \u001b[0mchunk_len\u001b[0m \u001b[1;33m=\u001b[0m \u001b[0mmax\u001b[0m\u001b[1;33m(\u001b[0m\u001b[0mtotal_len\u001b[0m \u001b[1;33m//\u001b[0m \u001b[1;36m40\u001b[0m\u001b[1;33m,\u001b[0m \u001b[1;36m1000\u001b[0m\u001b[1;33m)\u001b[0m\u001b[1;33m\u001b[0m\u001b[0m\n\u001b[0;32m    171\u001b[0m         \u001b[1;32mfor\u001b[0m \u001b[0mi\u001b[0m \u001b[1;32min\u001b[0m \u001b[0mrange\u001b[0m\u001b[1;33m(\u001b[0m\u001b[1;36m0\u001b[0m\u001b[1;33m,\u001b[0m \u001b[0mtotal_len\u001b[0m\u001b[1;33m,\u001b[0m \u001b[0mchunk_len\u001b[0m\u001b[1;33m)\u001b[0m\u001b[1;33m:\u001b[0m\u001b[1;33m\u001b[0m\u001b[0m\n\u001b[1;32m--> 172\u001b[1;33m             \u001b[1;32mif\u001b[0m \u001b[1;32mnot\u001b[0m \u001b[0misna\u001b[0m\u001b[1;33m(\u001b[0m\u001b[0mvalues_flat\u001b[0m\u001b[1;33m[\u001b[0m\u001b[0mi\u001b[0m \u001b[1;33m:\u001b[0m \u001b[0mi\u001b[0m \u001b[1;33m+\u001b[0m \u001b[0mchunk_len\u001b[0m\u001b[1;33m]\u001b[0m\u001b[1;33m)\u001b[0m\u001b[1;33m.\u001b[0m\u001b[0mall\u001b[0m\u001b[1;33m(\u001b[0m\u001b[1;33m)\u001b[0m\u001b[1;33m:\u001b[0m\u001b[1;33m\u001b[0m\u001b[0m\n\u001b[0m\u001b[0;32m    173\u001b[0m                 \u001b[1;32mreturn\u001b[0m \u001b[1;32mFalse\u001b[0m\u001b[1;33m\u001b[0m\u001b[0m\n\u001b[0;32m    174\u001b[0m \u001b[1;33m\u001b[0m\u001b[0m\n",
      "\u001b[1;32m~\\Anaconda3\\envs\\PYMC3\\lib\\site-packages\\pandas\\core\\dtypes\\missing.py\u001b[0m in \u001b[0;36misna\u001b[1;34m(obj)\u001b[0m\n\u001b[0;32m    120\u001b[0m     \u001b[0mName\u001b[0m\u001b[1;33m:\u001b[0m \u001b[1;36m1\u001b[0m\u001b[1;33m,\u001b[0m \u001b[0mdtype\u001b[0m\u001b[1;33m:\u001b[0m \u001b[0mbool\u001b[0m\u001b[1;33m\u001b[0m\u001b[0m\n\u001b[0;32m    121\u001b[0m     \"\"\"\n\u001b[1;32m--> 122\u001b[1;33m     \u001b[1;32mreturn\u001b[0m \u001b[0m_isna\u001b[0m\u001b[1;33m(\u001b[0m\u001b[0mobj\u001b[0m\u001b[1;33m)\u001b[0m\u001b[1;33m\u001b[0m\u001b[0m\n\u001b[0m\u001b[0;32m    123\u001b[0m \u001b[1;33m\u001b[0m\u001b[0m\n\u001b[0;32m    124\u001b[0m \u001b[1;33m\u001b[0m\u001b[0m\n",
      "\u001b[1;32m~\\Anaconda3\\envs\\PYMC3\\lib\\site-packages\\pandas\\core\\dtypes\\missing.py\u001b[0m in \u001b[0;36m_isna_new\u001b[1;34m(obj)\u001b[0m\n\u001b[0;32m    145\u001b[0m         ),\n\u001b[0;32m    146\u001b[0m     ):\n\u001b[1;32m--> 147\u001b[1;33m         \u001b[1;32mreturn\u001b[0m \u001b[0m_isna_ndarraylike\u001b[0m\u001b[1;33m(\u001b[0m\u001b[0mobj\u001b[0m\u001b[1;33m)\u001b[0m\u001b[1;33m\u001b[0m\u001b[0m\n\u001b[0m\u001b[0;32m    148\u001b[0m     \u001b[1;32melif\u001b[0m \u001b[0misinstance\u001b[0m\u001b[1;33m(\u001b[0m\u001b[0mobj\u001b[0m\u001b[1;33m,\u001b[0m \u001b[0mABCGeneric\u001b[0m\u001b[1;33m)\u001b[0m\u001b[1;33m:\u001b[0m\u001b[1;33m\u001b[0m\u001b[0m\n\u001b[0;32m    149\u001b[0m         \u001b[1;32mreturn\u001b[0m \u001b[0mobj\u001b[0m\u001b[1;33m.\u001b[0m\u001b[0m_constructor\u001b[0m\u001b[1;33m(\u001b[0m\u001b[0mobj\u001b[0m\u001b[1;33m.\u001b[0m\u001b[0m_data\u001b[0m\u001b[1;33m.\u001b[0m\u001b[0misna\u001b[0m\u001b[1;33m(\u001b[0m\u001b[0mfunc\u001b[0m\u001b[1;33m=\u001b[0m\u001b[0misna\u001b[0m\u001b[1;33m)\u001b[0m\u001b[1;33m)\u001b[0m\u001b[1;33m\u001b[0m\u001b[0m\n",
      "\u001b[1;32m~\\Anaconda3\\envs\\PYMC3\\lib\\site-packages\\pandas\\core\\dtypes\\missing.py\u001b[0m in \u001b[0;36m_isna_ndarraylike\u001b[1;34m(obj)\u001b[0m\n\u001b[0;32m    254\u001b[0m         \u001b[0mresult\u001b[0m \u001b[1;33m=\u001b[0m \u001b[0mvalues\u001b[0m\u001b[1;33m.\u001b[0m\u001b[0mview\u001b[0m\u001b[1;33m(\u001b[0m\u001b[1;34m\"i8\"\u001b[0m\u001b[1;33m)\u001b[0m \u001b[1;33m==\u001b[0m \u001b[0miNaT\u001b[0m\u001b[1;33m\u001b[0m\u001b[0m\n\u001b[0;32m    255\u001b[0m     \u001b[1;32melse\u001b[0m\u001b[1;33m:\u001b[0m\u001b[1;33m\u001b[0m\u001b[0m\n\u001b[1;32m--> 256\u001b[1;33m         \u001b[0mresult\u001b[0m \u001b[1;33m=\u001b[0m \u001b[0mnp\u001b[0m\u001b[1;33m.\u001b[0m\u001b[0misnan\u001b[0m\u001b[1;33m(\u001b[0m\u001b[0mvalues\u001b[0m\u001b[1;33m)\u001b[0m\u001b[1;33m\u001b[0m\u001b[0m\n\u001b[0m\u001b[0;32m    257\u001b[0m \u001b[1;33m\u001b[0m\u001b[0m\n\u001b[0;32m    258\u001b[0m     \u001b[1;31m# box\u001b[0m\u001b[1;33m\u001b[0m\u001b[1;33m\u001b[0m\u001b[0m\n",
      "\u001b[1;31mKeyboardInterrupt\u001b[0m: "
     ]
    }
   ],
   "source": [
    "# Group features\n",
    "gg.options.figure_size = (10, 10)\n",
    "g = (gg.ggplot(\n",
    "    all_data_long,#[all_data_long.category == 'lrn'],\n",
    "    gg.aes('PreciseYrs', 'value', color='feature'))\n",
    "#  + gg.geom_point(size=0.5, alpha=0.5)\n",
    " + gg.labs(y='', color='')\n",
    " + gg.geom_smooth()\n",
    " + gg.facet_wrap('~ category', scales='free')\n",
    ")\n",
    "g.save(os.path.join(plot_save_path, '2age_feature.png'))\n",
    "print(g)\n",
    "\n",
    "g_z = g\n",
    "g_z.data = all_data_long_z\n",
    "g_z.save(os.path.join(plot_save_path, '2age_feature_z.png'))\n",
    "\n",
    "print(g_z)"
   ]
  },
  {
   "cell_type": "markdown",
   "metadata": {},
   "source": [
    "## Correlation between features"
   ]
  },
  {
   "cell_type": "code",
   "execution_count": null,
   "metadata": {
    "scrolled": true
   },
   "outputs": [],
   "source": [
    "# Compute the correlation matrix\n",
    "corr = all_data.corr()\n",
    "\n",
    "# Generate a mask for the upper triangle\n",
    "mask = np.triu(np.ones_like(corr, dtype=np.bool))\n",
    "\n",
    "# Set up the matplotlib figure\n",
    "f, ax = plt.subplots(figsize=(20, 15))\n",
    "\n",
    "# Generate a custom diverging colormap\n",
    "cmap = sns.diverging_palette(220, 10, as_cmap=True)\n",
    "\n",
    "# Draw the heatmap with the mask and correct aspect ratio\n",
    "sns.heatmap(corr, mask=mask, cmap=cmap, center=0,\n",
    "            square=True, linewidths=.5, cbar_kws={\"shrink\": .5})\n",
    "plt.savefig(os.path.join(plot_save_path, '1CorrMatrixAll.png'))"
   ]
  },
  {
   "cell_type": "code",
   "execution_count": null,
   "metadata": {
    "scrolled": true
   },
   "outputs": [],
   "source": [
    "# Correlations between ACCs and RTs in different tasks\n",
    "rt_cols = [col for col in all_data.columns if\n",
    "           ('RT' in col) and ('sd' not in col) and ('delta' not in col) and ('minus' not in col)]\n",
    "rtsd_cols = [col for col in all_data.columns if ('RT' in col) and ('sd' in col)]\n",
    "acc_cols = [col for col in all_data.columns if\n",
    "            ('ACC' in col) and ('sd' not in col) and ('delta' not in col) and ('minus' not in col)]\n",
    "\n",
    "# Compute the correlation matrix\n",
    "dat = all_data[acc_cols + rt_cols + rtsd_cols + ['PreciseYrs']]\n",
    "# corr = dat.corr()\n",
    "corr = scipy.stats.spearmanr(dat, nan_policy='omit').correlation\n",
    "corr = pd.DataFrame(corr, columns=dat.columns, index=dat.columns)\n",
    "\n",
    "# Generate a mask for the upper triangle\n",
    "mask = np.triu(np.ones_like(corr, dtype=np.bool))\n",
    "\n",
    "# Set up the matplotlib figure\n",
    "f, ax = plt.subplots(figsize=(20, 15))\n",
    "\n",
    "# Generate a custom diverging colormap\n",
    "cmap = sns.diverging_palette(220, 10, as_cmap=True)\n",
    "\n",
    "# Draw the heatmap with the mask and correct aspect ratio\n",
    "sns.heatmap(corr, mask=mask, cmap=cmap, center=0, vmax=1, vmin=-1,\n",
    "            square=True, linewidths=.5, cbar_kws={\"shrink\": .5})\n",
    "plt.savefig(os.path.join(plot_save_path, '1CorrMatrixBehavior.png'))"
   ]
  },
  {
   "cell_type": "code",
   "execution_count": null,
   "metadata": {
    "scrolled": true
   },
   "outputs": [],
   "source": [
    "# Correlations between parameters in different tasks\n",
    "param_cols_by_task = [\n",
    "#     'fc_betas_1', 'fc_betas_2', 'fc_betas_3', 'fc_betas_4', 'fc_alpha', 'fc_beta', 'fc_ralpha',\n",
    "    'bf_alpha', 'bf_nalpha', 'bf_beta', 'bf_forget',\n",
    "    'rl_K', 'rl_alpha', 'rl_wm', 'rl_forget', 'rl_epsilon', 'rl_persev',\n",
    "    'ps_beta_BF', 'ps_beta_RL', 'ps_persev_RL', 'ps_persev_BF', 'ps_alpha', 'ps_nalpha', 'ps_p_switch', 'ps_p_reward']\n",
    "\n",
    "param_cols_by_param = [\n",
    "    'bf_beta', 'ps_beta_BF', 'ps_beta_RL', 'ps_p_switch',\n",
    "    'bf_alpha', 'rl_alpha', 'ps_alpha',\n",
    "    'bf_nalpha', 'ps_nalpha', 'ps_p_reward',\n",
    "    'rl_persev', 'ps_persev_RL', 'ps_persev_BF',\n",
    "    'bf_forget', 'rl_forget',\n",
    "    'rl_epsilon',\n",
    "    'rl_K', 'rl_wm']\n",
    "\n",
    "# Compute the correlation matrix\n",
    "dat = all_data[param_cols_by_param + ['PreciseYrs']]\n",
    "# dat = all_data[param_cols_by_task + ['PreciseYrs']]\n",
    "# corr = dat.corr()\n",
    "corr = scipy.stats.spearmanr(dat, nan_policy='omit').correlation\n",
    "corr = pd.DataFrame(corr, columns=dat.columns, index=dat.columns)\n",
    "\n",
    "# Generate a mask for the upper triangle\n",
    "mask = np.triu(np.ones_like(corr, dtype=np.bool))\n",
    "\n",
    "# Set up the matplotlib figure\n",
    "f, ax = plt.subplots(figsize=(20, 15))\n",
    "\n",
    "# Draw the heatmap with the mask and correct aspect ratio\n",
    "sns.heatmap(corr, mask=mask, cmap=cmap, center=0, vmax=1, vmin=-1,\n",
    "            square=True, linewidths=.5, cbar_kws={\"shrink\": .5})\n",
    "plt.savefig(os.path.join(plot_save_path, '1CorrMatrixParams_param.png'))"
   ]
  },
  {
   "cell_type": "markdown",
   "metadata": {},
   "source": [
    "# Dimensionality reduction (PCA)"
   ]
  },
  {
   "cell_type": "code",
   "execution_count": null,
   "metadata": {
    "scrolled": false
   },
   "outputs": [],
   "source": [
    "# Run PCA\n",
    "def run_pca(pca_dat):\n",
    "    \n",
    "    pca = PCA(n_components=pca_dat.shape[1])\n",
    "    # pca = KernelPCA(n_components=z_dat.shape[1])\n",
    "    fit = pca.fit_transform(pca_dat)\n",
    "    \n",
    "    return pca, fit\n",
    "\n",
    "# Run PCA on all data\n",
    "ids_all = all_data_z.drop(columns=ages_cols[1:] + ['age_group']).dropna().ID\n",
    "pca_dat_all = all_data_z.drop(columns=ages_cols + ['age_group']).dropna()\n",
    "pca_all, fit_all = run_pca(pca_dat_all)\n",
    "\n",
    "# Run PCA on behavior only\n",
    "param_cols = []\n",
    "for col in all_data_z.columns:\n",
    "    for param_name in param_names:\n",
    "        if param_name in col:\n",
    "            param_cols += [col]\n",
    "\n",
    "ids_beh = all_data_z.drop(columns=ages_cols[1:] + ['age_group'] + param_cols).dropna().ID\n",
    "pca_dat_beh = all_data_z.drop(columns=ages_cols + ['age_group'] + param_cols).dropna()\n",
    "pca_beh, fit_beh = run_pca(pca_dat_beh)\n",
    "\n",
    "# Run PCA on params only\n",
    "ids_par = all_data_z[param_cols + ['ID']].dropna().ID\n",
    "pca_dat_par = all_data_z[param_cols].dropna()\n",
    "pca_par, fit_par = run_pca(pca_dat_par)"
   ]
  },
  {
   "cell_type": "code",
   "execution_count": null,
   "metadata": {
    "scrolled": true
   },
   "outputs": [],
   "source": [
    "# Plot explained variance\n",
    "def plot_expl_var(pca_dat, pca, name):\n",
    "    \n",
    "    n_comp = 20\n",
    "    expl_var_dat = pd.DataFrame({'PC': range(pca_dat.shape[1]), 'expl_var': np.cumsum(pca.explained_variance_ratio_)})\n",
    "    expl_var_at_n_comp = list(expl_var_dat[expl_var_dat.PC <= n_comp].expl_var)[-1]\n",
    "    print(\"Explained variance at {} components: {}%.\".format(n_comp, round(100 * expl_var_at_n_comp, 1)))\n",
    "\n",
    "    g = (gg.ggplot(expl_var_dat, gg.aes('PC', 'expl_var'))\n",
    "     + gg.geom_point()\n",
    "     + gg.geom_line()\n",
    "#      + gg.geom_hline(yintercept=1, linetype='dashed')\n",
    "#      + gg.geom_hline(yintercept=expl_var_at_n_comp, linetype='dotted')\n",
    "#      + gg.geom_vline(xintercept=n_comp, linetype='dotted')\n",
    "    )\n",
    "    g.save(os.path.join(plot_save_path, '5PCAExplVar_{}.png'.format(name)))\n",
    "    print(g)\n",
    "    \n",
    "# Explained variance all behaviors\n",
    "gg.options.figure_size = (4, 4)\n",
    "plot_expl_var(pca_dat_all, pca_all, 'all')\n",
    "plot_expl_var(pca_dat_beh, pca_beh, 'beh')\n",
    "plot_expl_var(pca_dat_par, pca_par, 'par')"
   ]
  },
  {
   "cell_type": "code",
   "execution_count": null,
   "metadata": {},
   "outputs": [],
   "source": [
    "def create_fit_pd(fit, pca_dat, ids, ages_sub, n_comp=9):\n",
    "    \n",
    "    # fit_pd\n",
    "    fit_pd = pd.DataFrame(fit,\n",
    "                          columns=['pc{}'.format(i) for i in range(pca_dat.shape[1])],\n",
    "                          index=ids)\n",
    "    fit_pd = fit_pd.reset_index()\n",
    "    fit_pd = fit_pd.merge(ages_sub)\n",
    "    \n",
    "    # fit_long\n",
    "    fit_pd_long = fit_pd.melt(\n",
    "        value_vars=['pc{}'.format(i) for i in range(n_comp)],\n",
    "        id_vars=ages_cols)\n",
    "\n",
    "    return fit_pd, fit_pd_long\n",
    "\n",
    "# Create fit_pd's\n",
    "ages_sub = ages[ages_cols]\n",
    "fit_pd_all, fit_pd_long_all = create_fit_pd(fit_all, pca_dat_all, ids_all, ages_sub)\n",
    "fit_pd_beh, fit_pd_long_beh = create_fit_pd(fit_beh, pca_dat_beh, ids_beh, ages_sub)\n",
    "fit_pd_par, fit_pd_long_par = create_fit_pd(fit_par, pca_dat_par, ids_par, ages_sub)"
   ]
  },
  {
   "cell_type": "code",
   "execution_count": null,
   "metadata": {
    "scrolled": true
   },
   "outputs": [],
   "source": [
    "# Age in PC space\n",
    "def plot_age_in_pc_space(fit_pd, name):\n",
    "    \n",
    "    g1 = (gg.ggplot(fit_pd, gg.aes('pc0', 'pc1', color='PreciseYrs'))\n",
    "     + gg.geom_point(size=0.5)\n",
    "    )\n",
    "    g1.save(os.path.join(plot_save_path, '5PC0PC1_Age_{}.png'.format(name)))\n",
    "\n",
    "    g2 = g1 + gg.aes('pc2', 'pc3')\n",
    "    g2.save(os.path.join(plot_save_path, '5PC2PC3_Age_{}.png'.format(name)))\n",
    "    \n",
    "    g3 = g1 + gg.aes(color='PDS')\n",
    "    g3.save(os.path.join(plot_save_path, '5PC0PC1_PDS_{}.png'.format(name)))\n",
    "\n",
    "    g4 = g1 + gg.aes(color='meanT')\n",
    "    g4.save(os.path.join(plot_save_path, '5PC0PC1_T_{}.png'.format(name)))\n",
    "    \n",
    "    print(g1)\n",
    "\n",
    "# Run on all measures\n",
    "plot_age_in_pc_space(fit_pd_all, 'all')\n",
    "plot_age_in_pc_space(fit_pd_beh, 'beh')\n",
    "plot_age_in_pc_space(fit_pd_par, 'par')"
   ]
  },
  {
   "cell_type": "code",
   "execution_count": null,
   "metadata": {
    "scrolled": true
   },
   "outputs": [],
   "source": [
    "# PC changes over age\n",
    "def plot_pcs_over_age(fit_pd_long, name):\n",
    "    \n",
    "    gg.options.figure_size = (10, 8)\n",
    "    g = (gg.ggplot(fit_pd_long, gg.aes('PreciseYrs', 'value', color='factor(Gender)'))\n",
    "     + gg.geom_point(alpha=0.5, size=0.5)\n",
    "     + gg.geom_smooth()\n",
    "     + gg.facet_wrap('~ variable', scales='free')\n",
    "    )\n",
    "    g.save(os.path.join(plot_save_path, '5PCA_Age_{}.png'.format(name)))\n",
    "    print(g)\n",
    "    \n",
    "    g_t = g + gg.aes(x='meanT')\n",
    "    g_t.save(os.path.join(plot_save_path, '5PCA_T_{}.png'.format(name)))\n",
    "    print(g_t)\n",
    "    \n",
    "    g_pds = g + gg.aes(x='PDS')\n",
    "    g_pds.save(os.path.join(plot_save_path, '5PCA_PDS_{}.png'.format(name)))\n",
    "    print(g_pds)\n",
    "    \n",
    "# Plot all\n",
    "plot_pcs_over_age(fit_pd_long_all, 'all')\n",
    "plot_pcs_over_age(fit_pd_long_beh, 'beh')\n",
    "plot_pcs_over_age(fit_pd_long_par, 'par')"
   ]
  },
  {
   "cell_type": "code",
   "execution_count": null,
   "metadata": {},
   "outputs": [],
   "source": [
    "# Factor loadings\n",
    "def create_loadings_long(pca, pca_dat, n_comp=10):\n",
    "    \n",
    "    loadings = pca.components_[:n_comp].T  # (n_components, n_features)  * np.sqrt(pca.explained_variance_)\n",
    "    loadings_pd = pd.DataFrame(loadings, columns=['pc{}'.format(i) for i in range(n_comp)], index=pca_dat.columns)\n",
    "    loadings_pd = loadings_pd.reset_index()\n",
    "    loadings_long = loadings_pd.melt(\n",
    "        value_vars=['pc{}'.format(i) for i in range(n_comp)],\n",
    "        id_vars=['index'])\n",
    "    \n",
    "    loadings_long['task'] = loadings_long['index'].apply(lambda x : x[:2])\n",
    "    loadings_long['ACC_RT'] = loadings_long['index'].apply(name_from_index, names=['ACC', 'RT'])\n",
    "    loadings_long['category'] = loadings_long['index'].apply(name_from_index, names=category_cols)\n",
    "    loadings_long['param_bool'] = loadings_long['index'].apply(bool_from_index, names=param_cols)\n",
    "    loadings_long['PC'] = loadings_long['variable'].apply(lambda x : int(x[2:]))\n",
    "\n",
    "    for param in choice_param_cols:\n",
    "        loadings_long.loc[loadings_long['index'] == param, 'category'] = 'choice'\n",
    "    for param in update_param_cols:\n",
    "        loadings_long.loc[loadings_long['index'] == param, 'category'] = 'update'\n",
    "    \n",
    "    loadings_long.loc[loadings_long['index'].isin(wsls_cols), 'category'] = 'WSLS'\n",
    "    \n",
    "    return loadings_long\n",
    "\n",
    "# All\n",
    "loadings_long_all = create_loadings_long(pca_all, pca_dat_all)\n",
    "loadings_long_beh = create_loadings_long(pca_beh, pca_dat_beh)\n",
    "loadings_long_par = create_loadings_long(pca_par, pca_dat_par)"
   ]
  },
  {
   "cell_type": "code",
   "execution_count": null,
   "metadata": {
    "scrolled": true
   },
   "outputs": [],
   "source": [
    "minus_is = [i for i in list(set(loadings_long_beh['index'])) if 'minus' in i]\n",
    "loadings_long_all.loc[loadings_long_all['category'].isin(['choice', 'update'])]"
   ]
  },
  {
   "cell_type": "code",
   "execution_count": null,
   "metadata": {
    "scrolled": true
   },
   "outputs": [],
   "source": [
    "def plot_loadings(loadings_long, name, n_comp=5):\n",
    "\n",
    "    if name == 'all_beh_only':\n",
    "        sub_dat = loadings_long[(loadings_long['PC'] < n_comp) & np.invert(loadings_long['param_bool'])]\n",
    "    elif name == 'all_par_only':\n",
    "        sub_dat = loadings_long[(loadings_long['PC'] < n_comp) & (loadings_long['param_bool'])]\n",
    "    else:\n",
    "        sub_dat = loadings_long[loadings_long['PC'] < n_comp]\n",
    "\n",
    "    gg.options.figure_size = (10, 8)\n",
    "    g = (gg.ggplot(sub_dat, gg.aes('index', 'value', fill='category'))\n",
    "     + gg.geom_bar(stat='identity')\n",
    "     + gg.theme(axis_text_x=gg.element_text(rotation=90, hjust=1))\n",
    "     + gg.facet_grid('variable ~ task', scales='free_x')\n",
    "     + gg.labs(x='', y='Loading')\n",
    "    )\n",
    "    g.save(os.path.join(plot_save_path, '5PCALoadings_{}.png'.format(name)))\n",
    "    print(g)\n",
    "    \n",
    "# Plot\n",
    "plot_loadings(loadings_long_all, 'all_beh_only')\n",
    "plot_loadings(loadings_long_all, 'all_par_only')\n",
    "plot_loadings(loadings_long_all, 'all')\n",
    "plot_loadings(loadings_long_beh, 'beh')\n",
    "plot_loadings(loadings_long_par, 'par')"
   ]
  },
  {
   "cell_type": "code",
   "execution_count": null,
   "metadata": {},
   "outputs": [],
   "source": [
    "# Plot PC0 (behavior) ~ PC0 (parameters), etc.\n",
    "fit_pd_behpar = pd.merge(fit_pd_long_beh, fit_pd_long_par, on=ages_cols + [\"ID\", \"variable\"], suffixes=(\"_beh\", \"_par\"))\n",
    "g = (gg.ggplot(fit_pd_behpar, gg.aes(\"value_beh\", \"value_par\", color='PreciseYrs'))\n",
    "     + gg.geom_point()\n",
    "     + gg.geom_smooth()\n",
    "     + gg.facet_wrap(\"~ variable\")\n",
    "    )\n",
    "print(g)\n",
    "g.save(os.path.join(plot_save_path, '5_PC0_behavior_versus_params.png'))"
   ]
  },
  {
   "cell_type": "code",
   "execution_count": null,
   "metadata": {},
   "outputs": [],
   "source": [
    "# Predict behavioral PCs by parameter PCs\n"
   ]
  },
  {
   "cell_type": "code",
   "execution_count": null,
   "metadata": {
    "scrolled": true
   },
   "outputs": [],
   "source": [
    "# loadings_pd['param_name'] = loadings_pd['index'].apply(lambda x : x[3:])\n",
    "# loadings_pd['param_bool'] = loadings_pd['index'].apply(lambda x : x[:2])\n",
    "# loadings_pd['category'] = loadings_pd['param_name'].apply(name_from_index, names=param_names + category_cols)\n",
    "# loadings_pd['ACC_RT'] = loadings_pd['param_name'].apply(name_from_index, names=['ACC', 'RT'])\n",
    "# loadings_pd['task'] = loadings_pd['index'].apply(lambda x: x[:2])\n",
    "# loadings_pd"
   ]
  },
  {
   "cell_type": "code",
   "execution_count": null,
   "metadata": {},
   "outputs": [],
   "source": [
    "# loadings_long['index'].sort()\n",
    "# loadings_long = loadings_long.reindex(sorted(loadings_long.columns), axis=1)\n",
    "# loadings_long = loadings_long.reindex(sorted(loadings_long['index']), axis=0)\n",
    "# loadings_long"
   ]
  },
  {
   "cell_type": "code",
   "execution_count": null,
   "metadata": {},
   "outputs": [],
   "source": [
    "# temp = list(set(loadings_long['category'].to_list()))\n",
    "# temp2 = [t for t in temp if t != None]\n",
    "# temp2.sort()\n",
    "# temp2"
   ]
  },
  {
   "cell_type": "markdown",
   "metadata": {},
   "source": [
    "## Predict parameters of one task from the others"
   ]
  },
  {
   "cell_type": "code",
   "execution_count": null,
   "metadata": {
    "scrolled": true
   },
   "outputs": [],
   "source": [
    "gg.options.figure_size = (3, 3)\n",
    "\n",
    "pred_task_coef = pd.DataFrame()\n",
    "pred_task_r2 = pd.DataFrame()\n",
    "\n",
    "# Get predictor and outcome data\n",
    "for predictor_task in ['bf_', 'rl_', 'ps_']:\n",
    "    pred_param_dat = all_data_z[[c for c in param_cols if predictor_task in c]]\n",
    "    out_param_dat = all_data_z[set([c for c in param_cols if predictor_task not in c])]\n",
    "\n",
    "    for outcome_col in out_param_dat.columns:\n",
    "\n",
    "        # Run regression\n",
    "        reg = LinearRegression().fit(pred_param_dat, out_param_dat[outcome_col])\n",
    "\n",
    "        # Get coefficients\n",
    "        lin_reg_result = pd.DataFrame(\n",
    "            reg.coef_, pred_param_dat.columns\n",
    "        ).reset_index().rename(\n",
    "            columns={'index': 'predictor', 0: 'coef'})\n",
    "        lin_reg_result['outcome'] = outcome_col\n",
    "        lin_reg_result['pred_task'] = predictor_task\n",
    "\n",
    "        # Get R^2\n",
    "        pred_outcome = reg.predict(pred_param_dat)\n",
    "        r2 = r2_score(out_param_dat[outcome_col], pred_outcome)\n",
    "        r2_row = pd.DataFrame({'r2': [r2], 'outcome': [outcome_col], 'pred_task': [predictor_task]})\n",
    "\n",
    "    #     # Vizualize\n",
    "    #     pred_true_dat = pd.DataFrame(np.array([pred_outcome, out_param_dat[outcome_col]]).T).rename(columns={0: 'pred', 1: 'true'})\n",
    "    #     print(gg.ggplot(pred_true_dat, gg.aes('true', 'pred'))\n",
    "    #      + gg.geom_point()\n",
    "    #     )\n",
    "\n",
    "        # Save data\n",
    "        pred_task_coef = pd.concat([pred_task_coef, lin_reg_result])\n",
    "        pred_task_r2 = pd.concat([pred_task_r2, r2_row])\n",
    "    \n",
    "pred_task_r2['out_task'] = pred_task_r2['outcome'].apply(lambda x : x[:2])\n",
    "pred_task_r2 = pred_task_r2.reset_index(drop=True)\n",
    "pred_task_r2\n",
    "\n",
    "pred_task_coef['out_task'] = pred_task_coef['outcome'].apply(lambda x : x[:2])\n",
    "pred_task_coef = pred_task_coef.reset_index(drop=True)\n",
    "pred_task_coef"
   ]
  },
  {
   "cell_type": "code",
   "execution_count": null,
   "metadata": {},
   "outputs": [],
   "source": [
    "gg.options.figure_size = (10, 5)\n",
    "g = (gg.ggplot(pred_task_r2, gg.aes('outcome', 'r2', fill='out_task'))\n",
    "     + gg.geom_bar(stat='identity')\n",
    "     + gg.theme(axis_text_x=gg.element_text(rotation=45, hjust=1))\n",
    "     + gg.labs(x='')\n",
    "     + gg.theme(legend_position='none')\n",
    "     + gg.facet_wrap('~ pred_task', scales='free_x')\n",
    "    )\n",
    "print(g)\n",
    "g.save(os.path.join(plot_save_path, '3_predicting_params_by_params_r2.png'))"
   ]
  },
  {
   "cell_type": "code",
   "execution_count": null,
   "metadata": {},
   "outputs": [],
   "source": [
    "gg.options.figure_size = (12, 12)\n",
    "g = (gg.ggplot(pred_task_coef, gg.aes('predictor', 'coef', fill='out_task'))\n",
    "     + gg.geom_bar(stat='identity')\n",
    "     + gg.labs(x='')\n",
    "     + gg.theme(axis_text_x=gg.element_text(rotation=45, hjust=1))\n",
    "     + gg.theme(legend_position='none')\n",
    "     + gg.facet_wrap('~ pred_task + outcome', scales='free_x')\n",
    "    )\n",
    "print(g)\n",
    "g.save(os.path.join(plot_save_path, '3_predicting_params_by_params_coef.png'))"
   ]
  },
  {
   "cell_type": "markdown",
   "metadata": {},
   "source": [
    "## Predict age using regularized regression"
   ]
  },
  {
   "cell_type": "markdown",
   "metadata": {},
   "source": [
    "### Ridge regression\n",
    "* L2-norm (returns small but non-zero coefficients)\n",
    "* It is majorly used to prevent overfitting. Since it includes all the features, it is not very useful in case of exorbitantly high #features, say in millions, as it will pose computational challenges.\n",
    "* It generally works well even in presence of highly correlated features as it will include all of them in the model but the coefficients will be distributed among them depending on the correlation.\n",
    "\n",
    "### Lasso regression\n",
    "* L1-norm (sparse; tries to get many coefficients 0)\n",
    "* It arbitrarily selects any one feature among the highly correlated ones and reduced the coefficients of the rest to zero. Also, the chosen variable changes randomly with change in model parameters. This generally doesn’t work that well as compared to ridge regression.\n",
    "* Since it provides sparse solutions, it is generally the model of choice (or some variant of this concept) for modelling cases where the #features are in millions or more. In such a case, getting a sparse solution is of great computational advantage as the features with zero coefficients can simply be ignored.\n",
    "\n",
    "### Conclusion\n",
    "* Ridge might be better because of how it deals with correlated features"
   ]
  },
  {
   "cell_type": "code",
   "execution_count": null,
   "metadata": {},
   "outputs": [],
   "source": [
    "# Get regression data\n",
    "def get_regr_data(regr_data_name):\n",
    "\n",
    "    if regr_data_name == 'raw':\n",
    "        regr_dat = all_data_z[[c for c in wanted_cols if c not in ages_cols[2:] + ['age_group']]]  # behaviors\n",
    "    elif regr_data_name == 'pc':\n",
    "        regr_dat = pd.merge(fit_pd_all, ages).drop(columns=[c for c in ages.columns if (c != 'ID') and (c != 'PreciseYrs')])  # PCs\n",
    "    else:\n",
    "        raise(ValueError, \"regr_data_name must either be 'pc' or 'raw'.\")\n",
    "\n",
    "    regr_dat = regr_dat.dropna().set_index('ID')\n",
    "    regr_y = regr_dat['PreciseYrs']\n",
    "    regr_X = regr_dat.drop(columns='PreciseYrs')\n",
    "    \n",
    "    return regr_dat, regr_X, regr_y\n",
    "\n",
    "# Use\n",
    "regr_data_name = 'pc'  # can be 'raw' or 'pc'\n",
    "regr_dat, regr_X, regr_y = get_regr_data(regr_data_name)"
   ]
  },
  {
   "cell_type": "code",
   "execution_count": null,
   "metadata": {},
   "outputs": [],
   "source": [
    "regr_y"
   ]
  },
  {
   "cell_type": "code",
   "execution_count": null,
   "metadata": {},
   "outputs": [],
   "source": [
    "regr_X"
   ]
  },
  {
   "cell_type": "code",
   "execution_count": null,
   "metadata": {
    "scrolled": true
   },
   "outputs": [],
   "source": [
    "# Run simple linear regression on all basic features\n",
    "reg = LinearRegression().fit(regr_X, regr_y)\n",
    "reg = Ridge(alpha=0.8).fit(regr_X, regr_y)\n",
    "\n",
    "lin_reg_result = pd.DataFrame(\n",
    "    reg.coef_, [c for c in regr_dat.columns if c != 'PreciseYrs']).reset_index().rename(\n",
    "    columns={'index': 'predictor', 0: 'coef'})\n",
    "lin_reg_result"
   ]
  },
  {
   "cell_type": "code",
   "execution_count": null,
   "metadata": {},
   "outputs": [],
   "source": [
    "if regr_data_name == 'raw':\n",
    "    # Sort predictors by coefficient value (for plotting)\n",
    "    lin_reg_result = lin_reg_result.sort_values(by='coef')\n",
    "    lin_reg_result = lin_reg_result.reset_index(drop=True)\n",
    "    lin_reg_result['predictor_cat'] = pd.Categorical(lin_reg_result['predictor'], categories=lin_reg_result['predictor'])\n",
    "\n",
    "    # Add columns\n",
    "    lin_reg_result['category'] = lin_reg_result['predictor'].apply(name_from_index, names=category_cols)\n",
    "    lin_reg_result['task'] = lin_reg_result.predictor.apply(lambda x : x[:2])\n",
    "\n",
    "elif regr_data_name == 'pc':\n",
    "    # Add columns\n",
    "    lin_reg_result['predictor_cat'] = lin_reg_result['predictor'].apply(lambda x : int(x[2:]))\n",
    "    lin_reg_result['task'] = lin_reg_result.predictor.apply(lambda x : x[:2])\n",
    "    lin_reg_result['category'] = lin_reg_result.predictor.apply(lambda x : x[:2])"
   ]
  },
  {
   "cell_type": "code",
   "execution_count": null,
   "metadata": {},
   "outputs": [],
   "source": [
    "# Performance of this model\n",
    "pred_y = reg.predict(regr_X)\n",
    "\n",
    "linregr_true_pred = pd.DataFrame(np.array([np.array(regr_y), pred_y]).T, columns=('true_y', 'pred_y'))\n",
    "gg.options.figure_size = (6, 6)\n",
    "g = (gg.ggplot(linregr_true_pred, gg.aes('true_y', 'pred_y'))\n",
    " + gg.geom_point()\n",
    " + gg.labs(x='True age', y='Predicted age')\n",
    ")\n",
    "g.save(os.path.join(plot_save_path, '2Regr_lin_perf_{}.png'.format('')))\n",
    "print(g)\n",
    "\n",
    "print(\"R2: {:.2f}\".format(r2_score(regr_y, pred_y)))"
   ]
  },
  {
   "cell_type": "code",
   "execution_count": null,
   "metadata": {
    "scrolled": false
   },
   "outputs": [],
   "source": [
    "gg.options.figure_size = (12, 6)\n",
    "g = (gg.ggplot(lin_reg_result, gg.aes('predictor_cat', 'coef', fill='task'))\n",
    " + gg.geom_point()\n",
    " + gg.geom_bar(stat='identity')\n",
    " + gg.labs(x='', fill='')\n",
    " + gg.theme(axis_text_x=gg.element_text(rotation=45, hjust=1))\n",
    ")\n",
    "g.save(os.path.join(plot_save_path, '2Regr_lin_task_{}.png'.format('')))\n",
    "print(g)\n",
    "\n",
    "g2 = g + gg.facet_grid('~ category', scales='free_x')\n",
    "g2\n",
    "g2.save(os.path.join(plot_save_path, '2Regr_lin__cat_{}.png'.format('')))\n",
    "print(g2)"
   ]
  },
  {
   "cell_type": "code",
   "execution_count": null,
   "metadata": {},
   "outputs": [],
   "source": []
  },
  {
   "cell_type": "code",
   "execution_count": null,
   "metadata": {},
   "outputs": [],
   "source": []
  },
  {
   "cell_type": "code",
   "execution_count": null,
   "metadata": {},
   "outputs": [],
   "source": []
  },
  {
   "cell_type": "code",
   "execution_count": null,
   "metadata": {},
   "outputs": [],
   "source": []
  },
  {
   "cell_type": "code",
   "execution_count": null,
   "metadata": {},
   "outputs": [],
   "source": []
  },
  {
   "cell_type": "code",
   "execution_count": null,
   "metadata": {},
   "outputs": [],
   "source": [
    "poly = PolynomialFeatures(2)\n",
    "regr_poly = poly.fit_transform(regr_X)\n",
    "regr_poly = pd.DataFrame(regr_poly, columns=poly.get_feature_names(regr_dat.columns))\n",
    "regr_poly = regr_poly.set_index(regr_dat.index)\n",
    "regr_poly"
   ]
  },
  {
   "cell_type": "code",
   "execution_count": null,
   "metadata": {},
   "outputs": [],
   "source": [
    "tuned_parameters = [{'alpha': [1e-3, 1e-2, 1e-1, 0.2, 0.3, 0.4, 0.5, 0.6, 0.7, 0.8, 0.9, 1], 'max_iter': [1e5]}]\n",
    "\n",
    "ridge_grid = GridSearchCV(linear_model.Ridge(), tuned_parameters, scoring='r2', cv=3, iid=False, return_train_score=False)\n",
    "ridge_best = ridge_grid.fit(regr_X, regr_y)\n",
    "print(pd.DataFrame(ridge_best.cv_results_).sort_values(by='rank_test_score').head())\n",
    "\n",
    "ridge_best.best_params_"
   ]
  },
  {
   "cell_type": "code",
   "execution_count": null,
   "metadata": {},
   "outputs": [],
   "source": [
    "# ridge = linear_model.Ridge(alpha=ridge_best.best_params_['alpha'])\n",
    "ridge = linear_model.Ridge(alpha=0.5)\n",
    "ridge.fit(regr_X, regr_y)\n",
    "ridge.coef_, ridge.intercept_\n",
    "dat = pd.DataFrame(ridge.coef_, index=poly.get_feature_names()).reset_index()\n",
    "dat = dat.rename(columns={0: 'coef'})\n",
    "\n",
    "(gg.ggplot(dat.loc[dat.coef != 0], gg.aes('index', 'coef'))\n",
    " + gg.geom_point()\n",
    " + gg.theme(axis_text_x=gg.element_text(rotation=45, hjust=1))\n",
    ")"
   ]
  },
  {
   "cell_type": "code",
   "execution_count": null,
   "metadata": {},
   "outputs": [],
   "source": [
    "X_train, X_test, y_train, y_test = train_test_split(\n",
    "    X_poly, y, test_size=0.33, random_state=42)"
   ]
  },
  {
   "cell_type": "code",
   "execution_count": null,
   "metadata": {},
   "outputs": [],
   "source": [
    "ridge = ridge.fit(X_train, y_train)\n",
    "y_train_pred = ridge.predict(X_train)\n",
    "y_test_pred = ridge.predict(X_test)\n",
    "\n",
    "print(\"Train score: {}\".format(ridge.score(X_train, y_train)))\n",
    "print(\"Test score: {}\".format(ridge.score(X_test, y_test)))\n",
    "print(cross_val_score(ridge, X_test, y_test, cv=5))\n",
    "print(cross_val_score(ridge, X_test, y_test, cv=LeaveOneOut()))\n",
    "\n",
    "plt.plot(y_train, y_train_pred, '.')\n",
    "plt.plot(y_test, y_test_pred, '.')"
   ]
  },
  {
   "cell_type": "code",
   "execution_count": null,
   "metadata": {},
   "outputs": [],
   "source": []
  },
  {
   "cell_type": "code",
   "execution_count": null,
   "metadata": {},
   "outputs": [],
   "source": [
    "poly = PolynomialFeatures(2)\n",
    "X_poly = poly.fit_transform(X)\n",
    "X_poly = pd.DataFrame(X_poly, columns=poly.get_feature_names())\n",
    "X_poly"
   ]
  },
  {
   "cell_type": "code",
   "execution_count": null,
   "metadata": {},
   "outputs": [],
   "source": [
    "poly = PolynomialFeatures(2)\n",
    "poly.fit_transform(X)\n",
    "poly.get_feature_names()"
   ]
  },
  {
   "cell_type": "code",
   "execution_count": null,
   "metadata": {},
   "outputs": [],
   "source": [
    "from sklearn.pipeline import make_pipeline\n",
    "\n",
    "def PolynomialLasso(degree=2, **kwargs):\n",
    "    return make_pipeline(PolynomialFeatures(degree),\n",
    "                         linear_model.Lasso(**kwargs))"
   ]
  },
  {
   "cell_type": "code",
   "execution_count": null,
   "metadata": {
    "scrolled": true
   },
   "outputs": [],
   "source": [
    "tuned_parameters = {\n",
    "    'polynomialfeatures__degree': np.arange(4),\n",
    "    'lasso__alpha': [0.01, 0.1, 0.3, 0.5],\n",
    "    'lasso__max_iter': [1e5],\n",
    "}\n",
    "\n",
    "lasso_grid = GridSearchCV(PolynomialLasso(), tuned_parameters, scoring='r2', cv=3, iid=False, return_train_score=False)\n",
    "lasso_best = lasso_grid.fit(X_poly, y)\n",
    "print(pd.DataFrame(lasso_best.cv_results_).sort_values(by='rank_test_score').head())\n",
    "\n",
    "lasso_best.best_params_"
   ]
  },
  {
   "cell_type": "code",
   "execution_count": null,
   "metadata": {
    "scrolled": true
   },
   "outputs": [],
   "source": [
    "tuned_parameters = [{'alpha': [1e-3, 1e-2, 1e-1, 0.2, 0.3, 0.4, 0.5, 0.6, 0.7, 0.8, 0.9, 1], 'max_iter': [1e5]}]\n",
    "\n",
    "lasso_grid = GridSearchCV(linear_model.Lasso(), tuned_parameters, scoring='r2', cv=3, iid=False, return_train_score=False)\n",
    "lasso_best = lasso_grid.fit(X_poly, y)\n",
    "print(pd.DataFrame(lasso_best.cv_results_).sort_values(by='rank_test_score').head())\n",
    "\n",
    "lasso_best.best_params_"
   ]
  },
  {
   "cell_type": "code",
   "execution_count": null,
   "metadata": {},
   "outputs": [],
   "source": [
    "ridge_grid = GridSearchCV(linear_model.Ridge(), tuned_parameters, scoring='r2', cv=3, iid=False, return_train_score=False)\n",
    "ridge_best = ridge_grid.fit(X_poly, y)\n",
    "print(pd.DataFrame(ridge_best.cv_results_).sort_values(by='rank_test_score').head())\n",
    "\n",
    "ridge_best.best_params_"
   ]
  },
  {
   "cell_type": "code",
   "execution_count": null,
   "metadata": {},
   "outputs": [],
   "source": [
    "lasso = linear_model.Lasso(alpha=lasso_best.best_params_['alpha'])\n",
    "lasso.fit(X_poly, y)\n",
    "lasso.coef_, lasso.intercept_\n",
    "dat = pd.DataFrame(lasso.coef_, index=poly.get_feature_names()).reset_index()\n",
    "dat = dat.rename(columns={0: 'coef'})\n",
    "\n",
    "(gg.ggplot(dat.loc[dat.coef != 0], gg.aes('index', 'coef'))\n",
    " + gg.geom_point()\n",
    " + gg.theme(axis_text_x=gg.element_text(rotation=45, hjust=1))\n",
    ")"
   ]
  },
  {
   "cell_type": "code",
   "execution_count": null,
   "metadata": {},
   "outputs": [],
   "source": [
    "ridge = linear_model.Ridge(alpha=ridge_best.best_params_['alpha'])\n",
    "ridge.fit(X_poly, y)\n",
    "ridge.coef_, ridge.intercept_\n",
    "dat = pd.DataFrame(ridge.coef_, index=poly.get_feature_names()).reset_index()\n",
    "dat = dat.rename(columns={0: 'coef'})\n",
    "\n",
    "(gg.ggplot(dat.loc[dat.coef != 0], gg.aes('index', 'coef'))\n",
    " + gg.geom_point()\n",
    " + gg.theme(axis_text_x=gg.element_text(rotation=45, hjust=1))\n",
    ")"
   ]
  },
  {
   "cell_type": "code",
   "execution_count": null,
   "metadata": {},
   "outputs": [],
   "source": [
    "X_train, X_test, y_train, y_test = train_test_split(\n",
    "    X_poly, y, test_size=0.33, random_state=42)\n",
    "\n",
    "lasso = lasso.fit(X_train, y_train)\n",
    "y_train_pred = lasso.predict(X_train)\n",
    "y_test_pred = lasso.predict(X_test)\n",
    "\n",
    "print(\"Train score: {}\".format(lasso.score(X_train, y_train)))\n",
    "print(\"Test score: {}\".format(lasso.score(X_test, y_test)))\n",
    "print(cross_val_score(lasso, X_test, y_test, cv=5))\n",
    "print(cross_val_score(lasso, X_test, y_test, cv=LeaveOneOut()))\n",
    "\n",
    "plt.plot(y_train, y_train_pred, '.')\n",
    "plt.plot(y_test, y_test_pred, '.')"
   ]
  },
  {
   "cell_type": "code",
   "execution_count": null,
   "metadata": {},
   "outputs": [],
   "source": [
    "ridge = ridge.fit(X_train, y_train)\n",
    "y_train_pred = ridge.predict(X_train)\n",
    "y_test_pred = ridge.predict(X_test)\n",
    "\n",
    "print(\"Train score: {}\".format(ridge.score(X_train, y_train)))\n",
    "print(\"Test score: {}\".format(ridge.score(X_test, y_test)))\n",
    "print(cross_val_score(ridge, X_test, y_test, cv=5))\n",
    "print(cross_val_score(ridge, X_test, y_test, cv=LeaveOneOut()))\n",
    "\n",
    "plt.plot(y_train, y_train_pred, '.')\n",
    "plt.plot(y_test, y_test_pred, '.')"
   ]
  },
  {
   "cell_type": "markdown",
   "metadata": {},
   "source": [
    "# SVM"
   ]
  },
  {
   "cell_type": "code",
   "execution_count": null,
   "metadata": {},
   "outputs": [],
   "source": [
    "all_data_z[param_cols_by_task]"
   ]
  },
  {
   "cell_type": "code",
   "execution_count": null,
   "metadata": {
    "scrolled": true
   },
   "outputs": [],
   "source": [
    "X, y"
   ]
  },
  {
   "cell_type": "code",
   "execution_count": null,
   "metadata": {},
   "outputs": [],
   "source": [
    "from sklearn.model_selection import train_test_split\n",
    "from sklearn import svm\n",
    "from sklearn.metrics import accuracy_score\n",
    "from sklearn.model_selection import cross_val_score\n",
    "from sklearn.model_selection import LeaveOneOut\n",
    "from sklearn.model_selection import GridSearchCV\n",
    "\n",
    "x_params = [p for p in param_cols_by_task if 'bf' not in p]\n",
    "y_param = 'bf_nalpha'  # 'bf_alpha'\n",
    "print(y_param, '~', x_params)\n",
    "\n",
    "X = all_data_z[x_params]\n",
    "y = all_data_z['bf_alpha']\n",
    "\n",
    "X_train, X_test, y_train, y_test = train_test_split(\n",
    "    X, y, test_size=0.33, random_state=42)\n",
    "\n",
    "svr = svm.SVR(kernel='poly', C=1e4, gamma='scale', degree=3, epsilon=.1, verbose=True)\n",
    "svr_fit = svr.fit(X_train, y_train)\n",
    "y_train_pred = svr_fit.predict(X_train)\n",
    "y_test_pred = svr_fit.predict(X_test)\n",
    "\n",
    "print(\"Train score: {}\".format(svr.score(X_train, y_train)))\n",
    "print(\"Test score: {}\".format(svr.score(X_test, y_test)))\n",
    "print(cross_val_score(svr, X_test, y_test, cv=5))\n",
    "print(cross_val_score(svr, X_test, y_test, cv=LeaveOneOut()))\n",
    "\n",
    "plt.plot(y_train, y_train_pred, '.')\n",
    "plt.plot(y_test, y_test_pred, '.')"
   ]
  },
  {
   "cell_type": "code",
   "execution_count": null,
   "metadata": {
    "scrolled": true
   },
   "outputs": [],
   "source": [
    "tuned_parameters = [\n",
    "    {'kernel': ['rbf', 'poly'],\n",
    "     'C': [1e-1, 1e1, 1e2, 1e3, 1e4],\n",
    "     'gamma': [1e-5, 1e-4, 1e-4, 1e-3, 1e-2, 1e-1]}]\n",
    "\n",
    "clf = GridSearchCV(svm.SVR(), tuned_parameters, scoring='r2', cv=2, iid=False, return_train_score=False)\n",
    "clf_fit = clf.fit(X, y)\n",
    "# print(pd.DataFrame(clf_fit.cv_results_).sort_values(by='rank_test_score').head())\n",
    "\n",
    "# clf = GridSearchCV(svm.SVR(), tuned_parameters, scoring='explained_variance', cv=2, iid=False, return_train_score=False)\n",
    "# clf_fit = clf.fit(X_train, y_train)\n",
    "# print(pd.DataFrame(clf_fit.cv_results_).sort_values(by='rank_test_score').head())\n",
    "clf_fit.best_params_"
   ]
  },
  {
   "cell_type": "code",
   "execution_count": null,
   "metadata": {},
   "outputs": [],
   "source": [
    "\n",
    "svr = svm.SVR(C=clf_fit.best_params_['C'], gamma=clf_fit.best_params_['gamma'], kernel=clf_fit.best_params_['kernel'])\n",
    "svr_fit = svr.fit(X_train, y_train)\n",
    "y_train_pred = svr_fit.predict(X_train)\n",
    "y_test_pred = svr_fit.predict(X_test)\n",
    "\n",
    "print(\"Train score: {}\".format(svr.score(X_train, y_train)))\n",
    "print(\"Test score: {}\".format(svr.score(X_test, y_test)))\n",
    "print(cross_val_score(svr, X_test, y_test, cv=5))\n",
    "print(cross_val_score(svr, X_test, y_test, cv=LeaveOneOut()))\n",
    "\n",
    "plt.plot(y_train, y_train_pred, '.')\n",
    "plt.plot(y_test, y_test_pred, '.')"
   ]
  },
  {
   "cell_type": "code",
   "execution_count": null,
   "metadata": {},
   "outputs": [],
   "source": [
    "from sklearn.model_selection import GridSearchCV\n",
    "\n",
    "# param_grid = {'polynomialfeatures__degree': np.arange(21),\n",
    "#               'linearregression__fit_intercept': [True, False],\n",
    "#               'linearregression__normalize': [True, False]}\n",
    "\n",
    "# grid = GridSearchCV(PolynomialRegression(), param_grid, cv=7)\n",
    "\n",
    "\n",
    "\n",
    "tuned_parameters = [{'kernel': ['rbf'], 'gamma': [1e-3, 1e-4], 'C': [1, 10, 100, 1000]},\n",
    "                    {'kernel': ['linear'], 'C': [1, 10, 100, 1000]}]\n",
    "scores = ['precision', 'recall']\n",
    "\n",
    "clf = GridSearchCV(\n",
    "    svm.SVC(), tuned_parameters, scoring=scores[0]\n",
    ")\n",
    "clf.fit(X_train, y_train)"
   ]
  },
  {
   "cell_type": "code",
   "execution_count": null,
   "metadata": {},
   "outputs": [],
   "source": [
    "# import numpy as np\n",
    "# from sklearn.svm import SVR\n",
    "# import matplotlib.pyplot as plt\n",
    "from sklearn import svm\n",
    "\n",
    "# #############################################################################\n",
    "# Generate sample data\n",
    "X = np.sort(5 * np.random.rand(40, 1), axis=0)\n",
    "y = np.sin(X).ravel()\n",
    "\n",
    "# #############################################################################\n",
    "# Add noise to targets\n",
    "# y[::5] += 3 * (0.5 - np.random.rand(8))\n",
    "y += 0.5 - np.random.rand(len(X))\n",
    "\n",
    "# #############################################################################\n",
    "# Fit regression model\n",
    "svr_rbf = svm.SVR(kernel='rbf', C=100, gamma=0.1, epsilon=.1)\n",
    "svr_lin = svm.SVR(kernel='linear', C=100, gamma='auto')\n",
    "svr_poly = svm.SVR(kernel='poly', C=100, gamma='auto', degree=3, epsilon=.1,\n",
    "               coef0=1)\n",
    "\n",
    "# #############################################################################\n",
    "# Look at the results\n",
    "lw = 2\n",
    "\n",
    "svrs = [svr_rbf, svr_lin, svr_poly]\n",
    "kernel_label = ['RBF', 'Linear', 'Polynomial']\n",
    "model_color = ['m', 'c', 'g']\n",
    "\n",
    "fig, axes = plt.subplots(nrows=1, ncols=3, figsize=(15, 10), sharey=True)\n",
    "for ix, svr in enumerate(svrs):\n",
    "    axes[ix].plot(X, svr.fit(X, y).predict(X), color=model_color[ix], lw=lw,\n",
    "                  label='{} model'.format(kernel_label[ix]))\n",
    "    axes[ix].scatter(X[svr.support_], y[svr.support_], facecolor=\"none\",\n",
    "                     edgecolor=model_color[ix], s=50,\n",
    "                     label='{} support vectors'.format(kernel_label[ix]))\n",
    "    axes[ix].scatter(X[np.setdiff1d(np.arange(len(X)), svr.support_)],\n",
    "                     y[np.setdiff1d(np.arange(len(X)), svr.support_)],\n",
    "                     facecolor=\"none\", edgecolor=\"k\", s=50,\n",
    "                     label='other training data')\n",
    "    axes[ix].legend(loc='upper center', bbox_to_anchor=(0.5, 1.1),\n",
    "                    ncol=1, fancybox=True, shadow=True)\n",
    "\n",
    "fig.text(0.5, 0.04, 'data', ha='center', va='center')\n",
    "fig.text(0.06, 0.5, 'target', ha='center', va='center', rotation='vertical')\n",
    "fig.suptitle(\"Support Vector Regression\", fontsize=14)\n",
    "plt.show()"
   ]
  },
  {
   "cell_type": "code",
   "execution_count": null,
   "metadata": {},
   "outputs": [],
   "source": [
    "# get support vectors\n",
    "clf.support_vectors_\n",
    "\n",
    "# get indices of support vectors\n",
    "clf.support_\n",
    "\n",
    "# get number of support vectors for each class\n",
    "clf.n_support_"
   ]
  },
  {
   "cell_type": "markdown",
   "metadata": {},
   "source": [
    "## PLS"
   ]
  },
  {
   "cell_type": "code",
   "execution_count": null,
   "metadata": {},
   "outputs": [],
   "source": [
    "from sklearn.cross_decomposition import PLSRegression\n",
    "X = [[0., 0., 1.], [1.,0.,0.], [2.,2.,2.], [2.,5.,4.]]\n",
    "Y = [[0.1, -0.2], [0.9, 1.1], [6.2, 5.9], [11.9, 12.3]]\n",
    "pls2 = PLSRegression(n_components=2)\n",
    "pls2.fit(X, Y)\n",
    "\n",
    "Y_pred = pls2.predict(X)\n",
    "Y_pred, Y\n",
    "plt.plot(np.array(Y)[:,0], np.array(Y_pred)[:,0])"
   ]
  },
  {
   "cell_type": "code",
   "execution_count": null,
   "metadata": {},
   "outputs": [],
   "source": [
    "x_params = [p for p in param_cols_by_task if 'bf' not in p]\n",
    "y_params = [p for p in param_cols_by_task if 'bf' in p]\n",
    "len(x_params)"
   ]
  },
  {
   "cell_type": "code",
   "execution_count": null,
   "metadata": {},
   "outputs": [],
   "source": [
    "pls = PLSRegression(n_components=14)\n",
    "pls.fit(all_data_z[x_params], all_data_z[y_params])\n",
    "\n",
    "pred = pls.predict(all_data_z[x_params])\n",
    "pls.score(all_data_z[x_params], all_data_z[y_params])  # R^2 of self.predict(X) wrt. y."
   ]
  },
  {
   "cell_type": "code",
   "execution_count": null,
   "metadata": {},
   "outputs": [],
   "source": [
    "pred = pd.DataFrame(pred, columns=y_params)\n",
    "pred_l = pred.melt(var_name='param_name', value_name='param_value').reset_index()\n",
    "true_l = all_data_z[y_params].melt(var_name='param_name', value_name='param_value').reset_index()\n",
    "# dat = pd.merge(pred, all_data_z[y_params], left_index=True, right_index=True, suffixes=['_pred', '_true'])\n",
    "# dat\n",
    "dat_l = pd.merge(pred_l, true_l, on=['param_name', 'index'], suffixes=['_pred', '_true'])\n",
    "dat_l"
   ]
  },
  {
   "cell_type": "code",
   "execution_count": null,
   "metadata": {},
   "outputs": [],
   "source": [
    "(gg.ggplot(dat_l, gg.aes('param_value_pred', 'param_value_true', color='param_name'))\n",
    " + gg.geom_point(alpha=0.5)\n",
    " + gg.geom_smooth(color='black')\n",
    " + gg.facet_wrap('~ param_name')\n",
    ")"
   ]
  },
  {
   "cell_type": "markdown",
   "metadata": {},
   "source": [
    "# PCA on parameters"
   ]
  },
  {
   "cell_type": "code",
   "execution_count": null,
   "metadata": {
    "scrolled": false
   },
   "outputs": [],
   "source": [
    "# Run PCA\n",
    "pca = PCA(n_components=z_dat[param_cols_by_param].shape[1])\n",
    "# pca = KernelPCA(n_components=z_dat.shape[1])\n",
    "fit = pca.fit_transform(z_dat[param_cols_by_param].dropna())\n",
    "n_comp = 11"
   ]
  },
  {
   "cell_type": "code",
   "execution_count": null,
   "metadata": {
    "scrolled": true
   },
   "outputs": [],
   "source": [
    "# Explained variance\n",
    "dat = pd.DataFrame({'PC': range(z_dat[param_cols_by_param].shape[1]), 'expl_var': np.cumsum(pca.explained_variance_ratio_)})\n",
    "g = (gg.ggplot(dat, gg.aes('PC', 'expl_var'))\n",
    " + gg.geom_point()\n",
    " + gg.geom_line()\n",
    " + gg.geom_hline(yintercept=1, linetype='dotted')\n",
    " + gg.geom_vline(xintercept=n_comp, linetype='dotted')\n",
    ")\n",
    "g.save(os.path.join(plot_save_path, '5PCAExplVar_params.png'))\n",
    "\n",
    "expl_var_at_n_comp = list(dat[dat.PC <= n_comp].expl_var)[-1]\n",
    "print(\"Explained variance at {} components: {}%.\".format(n_comp, round(100 * expl_var_at_n_comp, 1)))\n",
    "g"
   ]
  },
  {
   "cell_type": "code",
   "execution_count": null,
   "metadata": {},
   "outputs": [],
   "source": [
    "pd.DataFrame(fit)"
   ]
  },
  {
   "cell_type": "code",
   "execution_count": null,
   "metadata": {
    "scrolled": true
   },
   "outputs": [],
   "source": [
    "# Age in PC space\n",
    "fit_pd = pd.DataFrame(fit,\n",
    "                      columns=['pc{}'.format(i) for i in range(z_dat[param_cols_by_param].shape[1])],\n",
    "                      index=all_data.drop(columns=ages_cols[1:]).dropna().reset_index().ID)\n",
    "fit_pd = fit_pd.reset_index()\n",
    "fit_pd = fit_pd.merge(ages[ages_cols])\n",
    "\n",
    "g1 = (gg.ggplot(fit_pd, gg.aes('pc0', 'pc1', color='PreciseYrs'))\n",
    " + gg.geom_point()\n",
    ")\n",
    "g1.save(os.path.join(plot_save_path, '5PCPC0PC1_param.png'))\n",
    "\n",
    "g2 = g1 + gg.aes('pc2', 'pc3')\n",
    "g2.save(os.path.join(plot_save_path, '5PCPC2PC3_param.png'))\n",
    "g1, g2"
   ]
  },
  {
   "cell_type": "code",
   "execution_count": null,
   "metadata": {
    "scrolled": true
   },
   "outputs": [],
   "source": [
    "# PC changes over age\n",
    "fit_long = fit_pd.melt(\n",
    "    value_vars=['pc{}'.format(i) for i in range(n_comp)],\n",
    "    id_vars=ages_cols)\n",
    "\n",
    "gg.options.figure_size = (10, 8)\n",
    "g = (gg.ggplot(fit_long, gg.aes('PreciseYrs', 'value'))\n",
    " + gg.geom_point(alpha=0.5, size=0.5)\n",
    " + gg.geom_smooth(color='red')\n",
    " + gg.facet_wrap('~ variable', scales='free')\n",
    ")\n",
    "g.save(os.path.join(plot_save_path, '5PCAAgePC.png'))\n",
    "g"
   ]
  },
  {
   "cell_type": "code",
   "execution_count": null,
   "metadata": {
    "scrolled": true
   },
   "outputs": [],
   "source": [
    "g_t = g + gg.aes(x='meanT')\n",
    "g.save(os.path.join(plot_save_path, '5PCATPC.png'))\n",
    "g_t"
   ]
  },
  {
   "cell_type": "code",
   "execution_count": null,
   "metadata": {},
   "outputs": [],
   "source": [
    "# Factor loadings\n",
    "loadings = pca.components_[:n_comp].T  # (n_components, n_features)  * np.sqrt(pca.explained_variance_)\n",
    "loadings_pd = pd.DataFrame(loadings, columns=['pc{}'.format(i) for i in range(n_comp)], index=sub_dat.columns)\n",
    "loadings_pd = loadings_pd.reset_index()\n",
    "loadings_long = loadings_pd.melt(\n",
    "    value_vars=['pc{}'.format(i) for i in range(n_comp)],\n",
    "    id_vars=['index'])"
   ]
  },
  {
   "cell_type": "code",
   "execution_count": null,
   "metadata": {},
   "outputs": [],
   "source": [
    "loadings_long['task'] = loadings_long['index'].apply(lambda x : x[:3])\n",
    "loadings_long['ACC_RT'] = loadings_long['index'].apply(name_from_index, names=['ACC', 'RT'])\n",
    "loadings_long['PC'] = loadings_long['variable'].apply(lambda x : int(x[2:]))"
   ]
  },
  {
   "cell_type": "code",
   "execution_count": null,
   "metadata": {
    "scrolled": true
   },
   "outputs": [],
   "source": [
    "loadings_pd['param_name'] = loadings_pd['index'].apply(lambda x : x[3:])\n",
    "loadings_pd['param_bool'] = loadings_pd['index'].apply(lambda x : x[:2])\n",
    "loadings_pd['category'] = loadings_pd['param_name'].apply(name_from_index, names=param_names + ['ACC', 'RT'])\n",
    "loadings_pd['ACC_RT'] = loadings_pd['param_name'].apply(name_from_index, names=['ACC', 'RT'])\n",
    "loadings_pd['task'] = loadings_pd['index'].apply(lambda x: x[:2])\n",
    "loadings_pd"
   ]
  },
  {
   "cell_type": "code",
   "execution_count": null,
   "metadata": {
    "scrolled": true
   },
   "outputs": [],
   "source": [
    "sub_dat = loadings_long[loadings_long['PC'] < 5]\n",
    "g = (gg.ggplot(sub_dat, gg.aes('index', 'value', fill='ACC_RT'))\n",
    " + gg.geom_bar(stat='identity')\n",
    " + gg.theme(axis_text_x=gg.element_text(rotation=90, hjust=1))\n",
    " + gg.facet_grid('variable ~ task', scales='free_x')\n",
    " + gg.labs(x='', y='Loading')\n",
    " + gg.theme(legend_position='none')\n",
    ")\n",
    "g.save(os.path.join(plot_save_path, '5PCALoadings.png'))\n",
    "g"
   ]
  },
  {
   "cell_type": "markdown",
   "metadata": {},
   "source": [
    "## PCA on behavior"
   ]
  },
  {
   "cell_type": "code",
   "execution_count": null,
   "metadata": {},
   "outputs": [],
   "source": [
    "# Run PCA\n",
    "beh_dat = all_data[acc_cols + rt_cols + rtsd_cols].dropna()\n",
    "IDs = all_data[acc_cols + rt_cols + rtsd_cols + ['ID']].dropna().ID\n",
    "pca = PCA(n_components=beh_dat.shape[1])\n",
    "fit = pca.fit_transform(beh_dat)\n",
    "n_comp = 6"
   ]
  },
  {
   "cell_type": "code",
   "execution_count": null,
   "metadata": {
    "scrolled": true
   },
   "outputs": [],
   "source": [
    "# Explained variance\n",
    "gg.options.figure_size = (5, 5)\n",
    "dat = pd.DataFrame({'PC': range(beh_dat.shape[1]), 'expl_var': np.cumsum(pca.explained_variance_ratio_)})\n",
    "g = (gg.ggplot(dat, gg.aes('PC', 'expl_var'))\n",
    " + gg.geom_point()\n",
    " + gg.geom_line()\n",
    " + gg.geom_hline(yintercept=1, linetype='dotted')\n",
    " + gg.geom_vline(xintercept=n_comp, linetype='dotted')\n",
    ")\n",
    "g.save(os.path.join(plot_save_path, '3PCAExplVar_params.png'))\n",
    "\n",
    "expl_var_at_n_comp = list(dat[dat.PC <= n_comp].expl_var)[-1]\n",
    "print(\"Explained variance at {} components: {}%.\".format(n_comp, round(100 * expl_var_at_n_comp, 1)))\n",
    "g"
   ]
  },
  {
   "cell_type": "code",
   "execution_count": null,
   "metadata": {
    "scrolled": true
   },
   "outputs": [],
   "source": [
    "# Age in PC space\n",
    "fit_pd = pd.DataFrame(fit,\n",
    "                      columns=['pc{}'.format(i) for i in range(beh_dat.shape[1])],\n",
    "                      index=IDs)\n",
    "fit_pd = fit_pd.reset_index()\n",
    "fit_pd = fit_pd.merge(ages[ages_cols])\n",
    "\n",
    "g1 = (gg.ggplot(fit_pd, gg.aes('pc0', 'pc1', color='PreciseYrs'))\n",
    " + gg.geom_point()\n",
    ")\n",
    "g1.save(os.path.join(plot_save_path, '3PCPC0PC1_beh.png'))\n",
    "\n",
    "g2 = g1 + gg.aes('pc2', 'pc3')\n",
    "g2.save(os.path.join(plot_save_path, '3PCPC2PC3_beh.png'))\n",
    "g1, g2"
   ]
  },
  {
   "cell_type": "code",
   "execution_count": null,
   "metadata": {
    "scrolled": true
   },
   "outputs": [],
   "source": [
    "# PC changes over age\n",
    "fit_long = fit_pd.melt(\n",
    "    value_vars=['pc{}'.format(i) for i in range(n_comp)],\n",
    "    id_vars=ages_cols)\n",
    "\n",
    "gg.options.figure_size = (10, 8)\n",
    "g = (gg.ggplot(fit_long, gg.aes('PreciseYrs', 'value'))\n",
    " + gg.geom_point(alpha=0.5, size=0.5)\n",
    " + gg.geom_smooth(color='red')\n",
    " + gg.facet_wrap('~ variable', scales='free')\n",
    ")\n",
    "g.save(os.path.join(plot_save_path, '3PCAAgePC.png'))\n",
    "g"
   ]
  },
  {
   "cell_type": "code",
   "execution_count": null,
   "metadata": {
    "scrolled": true
   },
   "outputs": [],
   "source": [
    "pd.DataFrame(loadings)"
   ]
  },
  {
   "cell_type": "code",
   "execution_count": null,
   "metadata": {},
   "outputs": [],
   "source": [
    "# Factor loadings\n",
    "loadings = pca.components_[:n_comp].T  # (n_components, n_features)  * np.sqrt(pca.explained_variance_)\n",
    "loadings_pd = pd.DataFrame(loadings, columns=['pc{}'.format(i) for i in range(n_comp)], index=beh_dat.columns)\n",
    "loadings_pd = loadings_pd.reset_index()\n",
    "loadings_long = loadings_pd.melt(\n",
    "    value_vars=['pc{}'.format(i) for i in range(n_comp)],\n",
    "    id_vars=['index'])"
   ]
  },
  {
   "cell_type": "code",
   "execution_count": null,
   "metadata": {},
   "outputs": [],
   "source": [
    "loadings_long['task'] = loadings_long['index'].apply(lambda x : x[:3])\n",
    "loadings_long['ACC_RT'] = loadings_long['index'].apply(name_from_index, names=['ACC', 'RT'])\n",
    "loadings_long['PC'] = loadings_long['variable'].apply(lambda x : int(x[2:]))"
   ]
  },
  {
   "cell_type": "code",
   "execution_count": null,
   "metadata": {
    "scrolled": true
   },
   "outputs": [],
   "source": [
    "loadings_pd['param_name'] = loadings_pd['index'].apply(lambda x : x[3:])\n",
    "loadings_pd['param_bool'] = loadings_pd['index'].apply(lambda x : x[:2])\n",
    "loadings_pd['category'] = loadings_pd['param_name'].apply(name_from_index, names=param_names + ['ACC', 'RT'])\n",
    "loadings_pd['ACC_RT'] = loadings_pd['param_name'].apply(name_from_index, names=['ACC', 'RT'])\n",
    "loadings_pd['task'] = loadings_pd['index'].apply(lambda x: x[:2])\n",
    "loadings_pd"
   ]
  },
  {
   "cell_type": "code",
   "execution_count": null,
   "metadata": {
    "scrolled": false
   },
   "outputs": [],
   "source": [
    "sub_dat = loadings_long[loadings_long['PC'] < 5]\n",
    "g = (gg.ggplot(sub_dat, gg.aes('index', 'value', fill='ACC_RT'))\n",
    " + gg.geom_bar(stat='identity')\n",
    " + gg.theme(axis_text_x=gg.element_text(rotation=90, hjust=1))\n",
    " + gg.facet_grid('variable ~ task', scales='free_x')\n",
    " + gg.labs(x='', y='Loading')\n",
    " + gg.theme(legend_position='none')\n",
    ")\n",
    "g.save(os.path.join(plot_save_path, '3PCALoadings_beh.png'))\n",
    "g"
   ]
  },
  {
   "cell_type": "markdown",
   "metadata": {},
   "source": [
    "## Z-score all features"
   ]
  },
  {
   "cell_type": "code",
   "execution_count": null,
   "metadata": {},
   "outputs": [],
   "source": [
    "# Prepare data\n",
    "sub_dat = all_data.drop(columns=ages_cols[1:])\n",
    "z_dat = preprocessing.scale(sub_dat)\n",
    "z_dat = pd.DataFrame(z_dat, columns=sub_dat.columns)\n",
    "z_dat = z_dat.set_index(sub_dat.index)\n",
    "z_dat"
   ]
  },
  {
   "cell_type": "code",
   "execution_count": null,
   "metadata": {},
   "outputs": [],
   "source": [
    "z_dat_ages = z_dat.reset_index().merge(ages[ages_cols], on=['ID'])\n",
    "z_dat_ages"
   ]
  },
  {
   "cell_type": "code",
   "execution_count": null,
   "metadata": {},
   "outputs": [],
   "source": [
    "z_dat_long = z_dat.melt(var_name='feature')\n",
    "z_dat_long['task'] = z_dat_long.feature.apply(lambda x : x[:2])\n",
    "z_dat_long['param'] = z_dat_long.feature.apply(lambda x : x[3:])\n",
    "\n",
    "g_z = g\n",
    "g_z.data = z_dat_long\n",
    "g_z"
   ]
  },
  {
   "cell_type": "markdown",
   "metadata": {},
   "source": [
    "## Regression models"
   ]
  },
  {
   "cell_type": "code",
   "execution_count": null,
   "metadata": {},
   "outputs": [],
   "source": [
    "# Run parameter regression models\n",
    "r2s_param = pd.DataFrame()\n",
    "coefs_param = pd.DataFrame()\n",
    "\n",
    "for dep_var in param_cols:\n",
    "    \n",
    "    # Indep vars: all parameters of the other models\n",
    "    indep_vars = '+'.join([p for p in param_cols if p[:2] != dep_var[:2]])\n",
    "    model = smf.ols('{} ~ {}'.format(dep_var, indep_vars), data=all_data_z).fit()\n",
    "    \n",
    "    model_r2 = pd.DataFrame({'R2': [model.rsquared], 'dep_var': [dep_var]})\n",
    "    model_coefs_param = pd.DataFrame(model.params, columns=['coef'])\n",
    "    model_coefs_param['dep_var'] = dep_var\n",
    "    \n",
    "    r2s_param = r2s_param.append(model_r2)\n",
    "    coefs_param = coefs_param.append(model_coefs_param)"
   ]
  },
  {
   "cell_type": "code",
   "execution_count": null,
   "metadata": {},
   "outputs": [],
   "source": [
    "# Run behavior regression models\n",
    "r2s_beh = pd.DataFrame()\n",
    "coefs_beh = pd.DataFrame()\n",
    "\n",
    "for dep_var in acc_cols + rt_cols:\n",
    "    \n",
    "    # Predict with all behaviors of other models\n",
    "    indep_vars = '+'.join([p for p in acc_cols + rt_cols if p[:2] != dep_var[:2]])\n",
    "    model = smf.ols('{} ~ {}'.format(dep_var, indep_vars), data=all_data_z).fit()\n",
    "    \n",
    "    model_r2 = pd.DataFrame({'R2': [model.rsquared], 'dep_var': [dep_var]})\n",
    "    model_coefs_beh = pd.DataFrame(model.params, columns=['coef'])\n",
    "    model_coefs_beh['dep_var'] = dep_var\n",
    "    \n",
    "    r2s_beh = r2s_beh.append(model_r2)\n",
    "    coefs_beh = coefs_beh.append(model_coefs_beh)"
   ]
  },
  {
   "cell_type": "code",
   "execution_count": null,
   "metadata": {
    "scrolled": true
   },
   "outputs": [],
   "source": [
    "# Predict age from parameters\n",
    "indep_vars = '+'.join(param_cols_by_param)\n",
    "model_param = smf.ols('PreciseYrs ~ {}'.format(indep_vars), data=all_data_z).fit()\n",
    "param_coefs = pd.DataFrame(model_param.params, columns=['coef'])\n",
    "param_coefs['indep_var'] = 'parameters'\n",
    "\n",
    "# Predict age from behavior\n",
    "indep_vars = '+'.join(rt_cols + acc_cols)\n",
    "model_beh = smf.ols('PreciseYrs ~ {}'.format(indep_vars), data=all_data_z).fit()\n",
    "beh_coefs = pd.DataFrame(model_beh.params, columns=['coef'])\n",
    "beh_coefs['indep_var'] = 'behavior'\n",
    "\n",
    "# Predict age from all\n",
    "indep_vars = '+'.join(param_cols_by_param + rt_cols + acc_cols)\n",
    "model_all = smf.ols('PreciseYrs ~ {}'.format(indep_vars), data=all_data_z).fit()\n",
    "all_coefs = pd.DataFrame(model_all.params, columns=['coef'])\n",
    "all_coefs['indep_var'] = 'all'\n",
    "\n",
    "r2s_age = pd.DataFrame({\n",
    "    'dep_var': ['PreciseYrs'] * 3,\n",
    "    'R2': [model_param.rsquared, model_beh.rsquared, model_all.rsquared],\n",
    "    'indep_vars': ['parameters', 'behavior', 'all']\n",
    "})\n",
    "\n",
    "# coefs_age = param_coefs.append(beh_coefs).append(all_coefs)\n",
    "all_coefs = all_coefs.reset_index()\n",
    "all_coefs['task'] = all_coefs['index'].apply(lambda x : x[:2])\n",
    "all_coefs = all_coefs[all_coefs['index'] != 'Intercept']\n",
    "all_coefs['category'] = all_coefs['index'].apply(name_from_index, names=param_names+['ACC', 'RT'])\n",
    "# all_coefs"
   ]
  },
  {
   "cell_type": "code",
   "execution_count": null,
   "metadata": {
    "scrolled": true
   },
   "outputs": [],
   "source": [
    "# Beautify data\n",
    "r2s_param = r2s_param.reset_index(drop=True)\n",
    "r2s_param['task'] = r2s_param.dep_var.apply(lambda x : x[:2])\n",
    "r2s_param['param'] = r2s_param.dep_var.apply(lambda x : x[3:])\n",
    "\n",
    "coefs_param['task'] = coefs_param.dep_var.apply(lambda x : x[:2])\n",
    "coefs_param['param'] = coefs_param.dep_var.apply(lambda x : x[3:])\n",
    "\n",
    "r2s_beh = r2s_beh.reset_index(drop=True)\n",
    "r2s_beh['task'] = r2s_beh.dep_var.apply(lambda x : x[:2])\n",
    "r2s_beh['param'] = r2s_beh.dep_var.apply(lambda x : x[3:])\n",
    "r2s_beh['category'] = r2s_beh['param'].apply(name_from_index, names=['ACC', 'RT'])\n",
    "\n",
    "coefs_beh['task'] = coefs_beh.dep_var.apply(lambda x : x[:2])\n",
    "coefs_beh['param'] = coefs_beh.dep_var.apply(lambda x : x[3:])\n",
    "coefs_beh['category'] = coefs_beh['param'].apply(name_from_index, names=['RT', 'ACC'])"
   ]
  },
  {
   "cell_type": "code",
   "execution_count": null,
   "metadata": {
    "scrolled": true
   },
   "outputs": [],
   "source": [
    "# Predicting age\n",
    "gg.options.figure_size = (5, 5)\n",
    "g = (gg.ggplot(all_coefs, gg.aes('index', 'abs(coef)', fill='category'))\n",
    "     + gg.stat_summary(geom='bar')\n",
    "     + gg.stat_summary(geom='pointrange')\n",
    "     + gg.theme(axis_text_x=gg.element_text(rotation=45, hjust=1))\n",
    "     + gg.facet_wrap('~ task', scales='free_x')\n",
    "     + gg.labs(x='', y='Weight when predicting age')\n",
    "    )\n",
    "g.save(os.path.join(plot_save_path, '3PredictingAgeCoefs.png'))\n",
    "g"
   ]
  },
  {
   "cell_type": "code",
   "execution_count": null,
   "metadata": {
    "scrolled": true
   },
   "outputs": [],
   "source": [
    "g = (gg.ggplot(r2s_age, gg.aes('indep_vars', 'R2'))\n",
    "     + gg.geom_bar(stat='identity')\n",
    "     + gg.coord_cartesian(ylim=(0, 1))\n",
    "     + gg.labs(x='', y='R2 when predicting age')\n",
    "     + gg.theme(axis_text_x=gg.element_text(rotation=45, hjust=1))\n",
    "    )\n",
    "g.save(os.path.join(plot_save_path, '3PredictingAgeR2.png'))\n",
    "g"
   ]
  },
  {
   "cell_type": "code",
   "execution_count": null,
   "metadata": {
    "scrolled": true
   },
   "outputs": [],
   "source": [
    "# Predicting parameters\n",
    "gg.options.figure_size = (7, 5)\n",
    "g = (gg.ggplot(r2s_param, gg.aes('param', 'R2', fill='param'))\n",
    "     + gg.geom_bar(stat='identity')\n",
    "     + gg.theme(axis_text_x=gg.element_text(rotation=45, hjust=1),\n",
    "                legend_position='none')\n",
    "     + gg.facet_wrap('~ task', scales='free_x')\n",
    "     + gg.labs(x='', y='R2 when predicting each parameter')\n",
    ")\n",
    "g.save(os.path.join(plot_save_path, '3PredictingParamsR2.png'))\n",
    "g"
   ]
  },
  {
   "cell_type": "code",
   "execution_count": null,
   "metadata": {
    "scrolled": true
   },
   "outputs": [],
   "source": [
    "g_beh = g + gg.aes(fill='category') + gg.labs(y='R2 when predicting behaviors')\n",
    "g_beh.data = r2s_beh\n",
    "g_beh.save(os.path.join(plot_save_path, '3PredictingBehaviorR2.png'))\n",
    "g_beh"
   ]
  },
  {
   "cell_type": "code",
   "execution_count": null,
   "metadata": {
    "scrolled": true
   },
   "outputs": [],
   "source": [
    "# Plot coefficients\n",
    "g = (gg.ggplot(coefs_param, gg.aes('param', 'abs(coef)', fill='param'))\n",
    "#      + gg.geom_point(position='jitter', size=0.1)\n",
    "     + gg.stat_summary(geom='bar')\n",
    "     + gg.stat_summary(geom='pointrange')\n",
    "     + gg.theme(axis_text_x=gg.element_text(rotation=45, hjust=1),\n",
    "                legend_position='none')\n",
    "     + gg.facet_wrap('~ task', scales='free_x')\n",
    "     + gg.labs(x='', y='Weight when predicting parameters')\n",
    "    )\n",
    "g.save(os.path.join(plot_save_path, '3PredictingParamsCoefs.png'))\n",
    "g"
   ]
  },
  {
   "cell_type": "code",
   "execution_count": null,
   "metadata": {
    "scrolled": true
   },
   "outputs": [],
   "source": [
    "g_beh = g + gg.aes(fill='category') + gg.labs(y = 'Weight when predicting behaviors')\n",
    "g_beh.data = coefs_beh\n",
    "g_beh.save(os.path.join(plot_save_path, '3PredictingBehaviorCoefs.png'))\n",
    "g_beh"
   ]
  },
  {
   "cell_type": "markdown",
   "metadata": {},
   "source": [
    "# Dendrograms"
   ]
  },
  {
   "cell_type": "code",
   "execution_count": null,
   "metadata": {
    "scrolled": true
   },
   "outputs": [],
   "source": [
    "sns.clustermap(all_data[acc_cols + rt_cols + ['PreciseYrs']].dropna(), z_score=1)\n",
    "sns.clustermap(all_data[param_cols_by_param + ['PreciseYrs']].dropna(), z_score=1)\n",
    "plt.savefig(os.path.join(plot_save_path, '4DendrogramBeh_param.png'))"
   ]
  },
  {
   "cell_type": "markdown",
   "metadata": {},
   "source": [
    "# tSNE"
   ]
  },
  {
   "cell_type": "code",
   "execution_count": null,
   "metadata": {},
   "outputs": [],
   "source": [
    "# Show participants in 2D space\n",
    "tsne_dat = TSNE(n_components=2).fit_transform(z_dat.dropna())\n",
    "index = all_data.reset_index().drop(columns=ages_cols[1:]).dropna().ID\n",
    "tsne_pd = pd.DataFrame(tsne_dat, columns=['tSNE1', 'tSNE2'], index=index).reset_index()\n",
    "tsne_pd = tsne_pd.merge(ages[['ID', 'PreciseYrs', 'Gender', 'meanT']])"
   ]
  },
  {
   "cell_type": "code",
   "execution_count": null,
   "metadata": {
    "scrolled": false
   },
   "outputs": [],
   "source": [
    "gg.options.figure_size = (5, 4)\n",
    "g = (gg.ggplot(tsne_pd, gg.aes('tSNE1', 'tSNE2', color='PreciseYrs'))\n",
    " + gg.geom_point()\n",
    ")\n",
    "g.save(os.path.join(plot_save_path, '4TsneParticipants.png'))\n",
    "g"
   ]
  },
  {
   "cell_type": "code",
   "execution_count": null,
   "metadata": {
    "scrolled": false
   },
   "outputs": [],
   "source": [
    "tsne_long = tsne_pd.melt(id_vars=['ID', 'PreciseYrs', 'Gender', 'meanT'])\n",
    "g = (gg.ggplot(tsne_long, gg.aes('PreciseYrs', 'value'))\n",
    " + gg.geom_point()\n",
    " + gg.geom_smooth()\n",
    " + gg.facet_grid('~ variable')\n",
    ")\n",
    "g.save(os.path.join(plot_save_path, '4TsneParticipants_.png'))\n",
    "g"
   ]
  },
  {
   "cell_type": "code",
   "execution_count": null,
   "metadata": {
    "scrolled": true
   },
   "outputs": [],
   "source": [
    "# Show measures in 2D space\n",
    "tsne_dat = TSNE(n_components=2).fit_transform(z_dat.dropna().T)\n",
    "tsne_pd = pd.DataFrame(tsne_dat, columns=['tSNE1', 'tSNE2'], index=z_dat.columns).reset_index()\n",
    "tsne_pd['task'] = tsne_pd['index'].apply(lambda x : x[:2])\n",
    "tsne_pd['param_name'] = tsne_pd['index'].apply(name_from_index)\n",
    "tsne_pd['ACC_RT'] = tsne_pd['index'].apply(name_from_index, names=['ACC', 'RT'])\n",
    "tsne_pd['param_bool'] = tsne_pd['index'].apply(bool_from_index)\n",
    "tsne_pd"
   ]
  },
  {
   "cell_type": "code",
   "execution_count": null,
   "metadata": {
    "scrolled": false
   },
   "outputs": [],
   "source": [
    "gg.options.figure_size = (5, 4)\n",
    "g = (gg.ggplot(tsne_pd, gg.aes('tSNE1', 'tSNE2', color='task'))\n",
    " + gg.geom_point()\n",
    ")\n",
    "g.save(os.path.join(plot_save_path, '4TsneFeaturesBeh_task.png'))\n",
    "g"
   ]
  },
  {
   "cell_type": "markdown",
   "metadata": {},
   "source": [
    "# Transforming RLWM regression weights"
   ]
  },
  {
   "cell_type": "code",
   "execution_count": null,
   "metadata": {},
   "outputs": [],
   "source": [
    "all_data['rl_lrn-fix'].describe()\n",
    "all_data['rl_lrn-fix_sig'].describe()\n",
    "zscore(all_data['rl_lrn-fix']).describe()"
   ]
  },
  {
   "cell_type": "code",
   "execution_count": null,
   "metadata": {},
   "outputs": [],
   "source": [
    "x = np.arange(-30, 30, 0.1)\n",
    "# x = np.arange(-10, 10, 0.01)\n",
    "# dat = pd.DataFrame({'x': x, 'y': 3 *sigmoid(x/3)})\n",
    "# dat = pd.DataFrame({'x': x, 'y': sigmoid(x)})\n",
    "dat = pd.DataFrame({'x': x, 'y': sigmoid(zscore(x))})\n",
    "dat\n",
    "(gg.ggplot(dat, gg.aes('x', 'y')) +\n",
    " gg.geom_point()\n",
    ")"
   ]
  },
  {
   "cell_type": "code",
   "execution_count": null,
   "metadata": {},
   "outputs": [],
   "source": [
    "# all_data['rl_lrn-fix_sig'] = sigmoid(zscore(all_data['rl_lrn-fix']))\n",
    "all_data['rl_lrn-fix_sig'] = sigmoid(all_data['rl_lrn-fix'])\n",
    "# all_data['rl_lrn-fix_sig'] = 50 * sigmoid(all_data['rl_lrn-fix'] / 50)\n",
    "# all_data['rl_lrn-fix_sig'] = all_data['rl_lrn-fix_sig'].median() * sigmoid(all_data['rl_lrn-fix'] / all_data['rl_lrn-fix_sig'].median())\n",
    "\n",
    "(gg.ggplot(all_data, gg.aes('rl_lrn-fix', 'rl_lrn-fix_sig')) +\n",
    " gg.geom_point()\n",
    ")"
   ]
  },
  {
   "cell_type": "code",
   "execution_count": null,
   "metadata": {},
   "outputs": [],
   "source": [
    "dat = all_data#[all_data['rl_lrn-fix'] < 50]\n",
    "(gg.ggplot(dat, gg.aes('PreciseYrs', 'rl_lrn-fix_sig'))\n",
    " + gg.geom_point()\n",
    " + gg.geom_smooth()\n",
    ")"
   ]
  },
  {
   "cell_type": "code",
   "execution_count": null,
   "metadata": {},
   "outputs": [],
   "source": [
    "dat = all_data[all_data['rl_lrn-fix'] < 50]\n",
    "(gg.ggplot(dat, gg.aes('PreciseYrs', 'rl_lrn-fix'))\n",
    " + gg.geom_point()\n",
    " + gg.geom_smooth()\n",
    ")"
   ]
  },
  {
   "cell_type": "code",
   "execution_count": null,
   "metadata": {},
   "outputs": [],
   "source": [
    "(gg.ggplot(all_data, gg.aes('PreciseYrs', 'rl_lrn-ns'))\n",
    " + gg.geom_point()\n",
    ")"
   ]
  },
  {
   "cell_type": "code",
   "execution_count": null,
   "metadata": {},
   "outputs": [],
   "source": [
    "(gg.ggplot(all_data, gg.aes('PreciseYrs', 'rl_lrn-pcor'))\n",
    " + gg.geom_point()\n",
    ")"
   ]
  },
  {
   "cell_type": "code",
   "execution_count": null,
   "metadata": {},
   "outputs": [],
   "source": [
    "(gg.ggplot(all_data, gg.aes('PreciseYrs', 'rl_lrn-pinc'))\n",
    " + gg.geom_point()\n",
    ")"
   ]
  }
 ],
 "metadata": {
  "kernelspec": {
   "display_name": "PYMC3",
   "language": "python",
   "name": "pymc3"
  }
 },
 "nbformat": 4,
 "nbformat_minor": 2
}
