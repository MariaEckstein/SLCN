{
 "cells": [
  {
   "cell_type": "markdown",
   "metadata": {},
   "source": [
    "# Imports"
   ]
  },
  {
   "cell_type": "code",
   "execution_count": 2,
   "metadata": {},
   "outputs": [],
   "source": [
    "import matplotlib.pyplot as plt\n",
    "import numpy as np\n",
    "import os\n",
    "import pandas as pd\n",
    "import plotnine as gg\n",
    "gg.theme_set(gg.theme_classic)"
   ]
  },
  {
   "cell_type": "code",
   "execution_count": 3,
   "metadata": {},
   "outputs": [],
   "source": [
    "# from Functions import get_ages_cols, get_param_names, get_category_cols, name_from_index, bool_from_index"
   ]
  },
  {
   "cell_type": "markdown",
   "metadata": {},
   "source": [
    "## Directories etc."
   ]
  },
  {
   "cell_type": "code",
   "execution_count": 4,
   "metadata": {},
   "outputs": [],
   "source": [
    "data_save_path = \"C:/Users/maria/MEGAsync/SLCNdata/Meta/all_data\"\n",
    "plot_save_path = \"C:/Users/maria/MEGAsync/SLCN/MetaSLCNPlots\"\n",
    "if not os.path.exists(plot_save_path):\n",
    "    os.makedirs(plot_save_path)"
   ]
  },
  {
   "cell_type": "markdown",
   "metadata": {},
   "source": [
    "# Get data"
   ]
  },
  {
   "cell_type": "code",
   "execution_count": 5,
   "metadata": {},
   "outputs": [],
   "source": [
    "all_data = pd.read_csv(os.path.join(data_save_path, 'all_data.csv'), index_col=0)\n",
    "all_data_z = pd.read_csv(os.path.join(data_save_path, 'all_data_z.csv'), index_col=0)\n",
    "all_data_long = pd.read_csv(os.path.join(data_save_path, 'all_data_long.csv'), index_col=0)\n",
    "all_data_long_z = pd.read_csv(os.path.join(data_save_path, 'all_data_long_z.csv'), index_col=0)"
   ]
  },
  {
   "cell_type": "code",
   "execution_count": 6,
   "metadata": {},
   "outputs": [],
   "source": [
    "# ages_dir = \"C:/Users/maria/MEGAsync/SLCNdata/SLCNinfo2.csv\"\n",
    "# ages = pd.read_csv(os.path.join(ages_dir))"
   ]
  },
  {
   "cell_type": "code",
   "execution_count": 7,
   "metadata": {},
   "outputs": [],
   "source": [
    "# ages_cols = get_ages_cols()\n",
    "# param_names = get_param_names()\n",
    "# category_cols = get_category_cols()"
   ]
  },
  {
   "cell_type": "code",
   "execution_count": 8,
   "metadata": {
    "scrolled": true
   },
   "outputs": [],
   "source": [
    "# param_cols = [c for c in all_data.columns for p in get_param_names() if p in c]"
   ]
  },
  {
   "cell_type": "markdown",
   "metadata": {},
   "source": [
    "## Predict parameters of one task from the others"
   ]
  },
  {
   "cell_type": "code",
   "execution_count": null,
   "metadata": {
    "scrolled": true
   },
   "outputs": [],
   "source": [
    "gg.options.figure_size = (3, 3)\n",
    "\n",
    "pred_task_coef = pd.DataFrame()\n",
    "pred_task_r2 = pd.DataFrame()\n",
    "\n",
    "# Get predictor and outcome data\n",
    "for predictor_task in ['bf_', 'rl_', 'ps_']:\n",
    "    pred_param_dat = all_data_z[[c for c in param_cols if predictor_task in c]]\n",
    "    out_param_dat = all_data_z[set([c for c in param_cols if predictor_task not in c])]\n",
    "\n",
    "    for outcome_col in out_param_dat.columns:\n",
    "\n",
    "        # Run regression\n",
    "        reg = LinearRegression().fit(pred_param_dat, out_param_dat[outcome_col])\n",
    "\n",
    "        # Get coefficients\n",
    "        lin_reg_result = pd.DataFrame(\n",
    "            reg.coef_, pred_param_dat.columns\n",
    "        ).reset_index().rename(\n",
    "            columns={'index': 'predictor', 0: 'coef'})\n",
    "        lin_reg_result['outcome'] = outcome_col\n",
    "        lin_reg_result['pred_task'] = predictor_task\n",
    "\n",
    "        # Get R^2\n",
    "        pred_outcome = reg.predict(pred_param_dat)\n",
    "        r2 = r2_score(out_param_dat[outcome_col], pred_outcome)\n",
    "        r2_row = pd.DataFrame({'r2': [r2], 'outcome': [outcome_col], 'pred_task': [predictor_task]})\n",
    "\n",
    "    #     # Vizualize\n",
    "    #     pred_true_dat = pd.DataFrame(np.array([pred_outcome, out_param_dat[outcome_col]]).T).rename(columns={0: 'pred', 1: 'true'})\n",
    "    #     print(gg.ggplot(pred_true_dat, gg.aes('true', 'pred'))\n",
    "    #      + gg.geom_point()\n",
    "    #     )\n",
    "\n",
    "        # Save data\n",
    "        pred_task_coef = pd.concat([pred_task_coef, lin_reg_result])\n",
    "        pred_task_r2 = pd.concat([pred_task_r2, r2_row])\n",
    "    \n",
    "pred_task_r2['out_task'] = pred_task_r2['outcome'].apply(lambda x : x[:2])\n",
    "pred_task_r2 = pred_task_r2.reset_index(drop=True)\n",
    "pred_task_r2\n",
    "\n",
    "pred_task_coef['out_task'] = pred_task_coef['outcome'].apply(lambda x : x[:2])\n",
    "pred_task_coef = pred_task_coef.reset_index(drop=True)\n",
    "pred_task_coef"
   ]
  },
  {
   "cell_type": "code",
   "execution_count": null,
   "metadata": {},
   "outputs": [],
   "source": [
    "# TODO:\n",
    "# predict each task from both, show in same panel\n",
    "# Flip color with panels\n",
    "gg.options.figure_size = (15, 10)\n",
    "g = (gg.ggplot(pred_task_r2, gg.aes('outcome', 'r2', fill='out_task'))\n",
    "     + gg.geom_bar(stat='identity')\n",
    "     + gg.theme(axis_text_x=gg.element_text(rotation=45, hjust=1))\n",
    "     + gg.labs(x='')\n",
    "     + gg.theme(legend_position='none')\n",
    "     + gg.facet_wrap('~ pred_task', scales='free_x')\n",
    "    )\n",
    "g = (gg.ggplot(pred_task_r2, gg.aes('outcome', 'r2', fill='pred_task'))\n",
    "     + gg.geom_bar(stat='identity')\n",
    "     + gg.theme(axis_text_x=gg.element_text(rotation=45, hjust=1))\n",
    "     + gg.labs(x='')\n",
    "     + gg.theme(legend_position='none')\n",
    "     + gg.facet_wrap('~ out_task', scales='free_x')\n",
    "    )\n",
    "print(g)\n",
    "g.save(os.path.join(plot_save_path, '3_predicting_params_by_params_r2.png'))"
   ]
  },
  {
   "cell_type": "code",
   "execution_count": null,
   "metadata": {},
   "outputs": [],
   "source": [
    "gg.options.figure_size = (12, 12)\n",
    "g = (gg.ggplot(pred_task_coef, gg.aes('predictor', 'coef', fill='out_task'))\n",
    "     + gg.geom_bar(stat='identity')\n",
    "     + gg.labs(x='')\n",
    "     + gg.theme(axis_text_x=gg.element_text(rotation=45, hjust=1))\n",
    "     + gg.theme(legend_position='none')\n",
    "     + gg.facet_wrap('~ pred_task + outcome', scales='free_x')\n",
    "    )\n",
    "print(g)\n",
    "g.save(os.path.join(plot_save_path, '3_predicting_params_by_params_coef.png'))"
   ]
  },
  {
   "cell_type": "markdown",
   "metadata": {},
   "source": [
    "## Predict age using regularized regression"
   ]
  },
  {
   "cell_type": "markdown",
   "metadata": {},
   "source": [
    "### Ridge regression\n",
    "* L2-norm (returns small but non-zero coefficients)\n",
    "* It is majorly used to prevent overfitting. Since it includes all the features, it is not very useful in case of exorbitantly high #features, say in millions, as it will pose computational challenges.\n",
    "* It generally works well even in presence of highly correlated features as it will include all of them in the model but the coefficients will be distributed among them depending on the correlation.\n",
    "\n",
    "### Lasso regression\n",
    "* L1-norm (sparse; tries to get many coefficients 0)\n",
    "* It arbitrarily selects any one feature among the highly correlated ones and reduced the coefficients of the rest to zero. Also, the chosen variable changes randomly with change in model parameters. This generally doesn’t work that well as compared to ridge regression.\n",
    "* Since it provides sparse solutions, it is generally the model of choice (or some variant of this concept) for modelling cases where the #features are in millions or more. In such a case, getting a sparse solution is of great computational advantage as the features with zero coefficients can simply be ignored.\n",
    "\n",
    "### Conclusion\n",
    "* Ridge might be better because of how it deals with correlated features"
   ]
  },
  {
   "cell_type": "code",
   "execution_count": null,
   "metadata": {},
   "outputs": [],
   "source": [
    "# Get regression data\n",
    "def get_regr_data(regr_data_name):\n",
    "\n",
    "    if regr_data_name == 'raw':\n",
    "        regr_dat = all_data_z[[c for c in wanted_cols if c not in ages_cols[2:] + ['age_group']]]  # behaviors\n",
    "    elif regr_data_name == 'pc':\n",
    "        regr_dat = pd.merge(fit_pd_all, ages).drop(columns=[c for c in ages.columns if (c != 'ID') and (c != 'PreciseYrs')])  # PCs\n",
    "    else:\n",
    "        raise(ValueError, \"regr_data_name must either be 'pc' or 'raw'.\")\n",
    "\n",
    "    regr_dat = regr_dat.dropna().set_index('ID')\n",
    "    regr_y = regr_dat['PreciseYrs']\n",
    "    regr_X = regr_dat.drop(columns='PreciseYrs')\n",
    "    \n",
    "    return regr_dat, regr_X, regr_y\n",
    "\n",
    "# Use\n",
    "regr_data_name = 'pc'  # can be 'raw' or 'pc'\n",
    "regr_dat, regr_X, regr_y = get_regr_data(regr_data_name)"
   ]
  },
  {
   "cell_type": "code",
   "execution_count": null,
   "metadata": {},
   "outputs": [],
   "source": [
    "regr_y"
   ]
  },
  {
   "cell_type": "code",
   "execution_count": null,
   "metadata": {},
   "outputs": [],
   "source": [
    "regr_X"
   ]
  },
  {
   "cell_type": "code",
   "execution_count": null,
   "metadata": {
    "scrolled": true
   },
   "outputs": [],
   "source": [
    "# Run simple linear regression on all basic features\n",
    "reg = LinearRegression().fit(regr_X, regr_y)\n",
    "reg = Ridge(alpha=0.8).fit(regr_X, regr_y)\n",
    "\n",
    "lin_reg_result = pd.DataFrame(\n",
    "    reg.coef_, [c for c in regr_dat.columns if c != 'PreciseYrs']).reset_index().rename(\n",
    "    columns={'index': 'predictor', 0: 'coef'})\n",
    "lin_reg_result"
   ]
  },
  {
   "cell_type": "code",
   "execution_count": null,
   "metadata": {},
   "outputs": [],
   "source": [
    "if regr_data_name == 'raw':\n",
    "    # Sort predictors by coefficient value (for plotting)\n",
    "    lin_reg_result = lin_reg_result.sort_values(by='coef')\n",
    "    lin_reg_result = lin_reg_result.reset_index(drop=True)\n",
    "    lin_reg_result['predictor_cat'] = pd.Categorical(lin_reg_result['predictor'], categories=lin_reg_result['predictor'])\n",
    "\n",
    "    # Add columns\n",
    "    lin_reg_result['category'] = lin_reg_result['predictor'].apply(name_from_index, names=category_cols)\n",
    "    lin_reg_result['task'] = lin_reg_result.predictor.apply(lambda x : x[:2])\n",
    "\n",
    "elif regr_data_name == 'pc':\n",
    "    # Add columns\n",
    "    lin_reg_result['predictor_cat'] = lin_reg_result['predictor'].apply(lambda x : int(x[2:]))\n",
    "    lin_reg_result['task'] = lin_reg_result.predictor.apply(lambda x : x[:2])\n",
    "    lin_reg_result['category'] = lin_reg_result.predictor.apply(lambda x : x[:2])"
   ]
  },
  {
   "cell_type": "code",
   "execution_count": null,
   "metadata": {},
   "outputs": [],
   "source": [
    "# Performance of this model\n",
    "pred_y = reg.predict(regr_X)\n",
    "\n",
    "linregr_true_pred = pd.DataFrame(np.array([np.array(regr_y), pred_y]).T, columns=('true_y', 'pred_y'))\n",
    "gg.options.figure_size = (6, 6)\n",
    "g = (gg.ggplot(linregr_true_pred, gg.aes('true_y', 'pred_y'))\n",
    " + gg.geom_point()\n",
    " + gg.labs(x='True age', y='Predicted age')\n",
    ")\n",
    "g.save(os.path.join(plot_save_path, '2Regr_lin_perf_{}.png'.format('')))\n",
    "print(g)\n",
    "\n",
    "print(\"R2: {:.2f}\".format(r2_score(regr_y, pred_y)))"
   ]
  },
  {
   "cell_type": "code",
   "execution_count": null,
   "metadata": {
    "scrolled": false
   },
   "outputs": [],
   "source": [
    "gg.options.figure_size = (12, 6)\n",
    "g = (gg.ggplot(lin_reg_result, gg.aes('predictor_cat', 'coef', fill='task'))\n",
    " + gg.geom_point()\n",
    " + gg.geom_bar(stat='identity')\n",
    " + gg.labs(x='', fill='')\n",
    " + gg.theme(axis_text_x=gg.element_text(rotation=45, hjust=1))\n",
    ")\n",
    "g.save(os.path.join(plot_save_path, '2Regr_lin_task_{}.png'.format('')))\n",
    "print(g)\n",
    "\n",
    "g2 = g + gg.facet_grid('~ category', scales='free_x')\n",
    "g2\n",
    "g2.save(os.path.join(plot_save_path, '2Regr_lin__cat_{}.png'.format('')))\n",
    "print(g2)"
   ]
  },
  {
   "cell_type": "code",
   "execution_count": null,
   "metadata": {},
   "outputs": [],
   "source": []
  },
  {
   "cell_type": "code",
   "execution_count": null,
   "metadata": {},
   "outputs": [],
   "source": []
  },
  {
   "cell_type": "code",
   "execution_count": null,
   "metadata": {},
   "outputs": [],
   "source": []
  },
  {
   "cell_type": "code",
   "execution_count": null,
   "metadata": {},
   "outputs": [],
   "source": []
  },
  {
   "cell_type": "code",
   "execution_count": null,
   "metadata": {},
   "outputs": [],
   "source": []
  },
  {
   "cell_type": "code",
   "execution_count": null,
   "metadata": {},
   "outputs": [],
   "source": [
    "poly = PolynomialFeatures(2)\n",
    "regr_poly = poly.fit_transform(regr_X)\n",
    "regr_poly = pd.DataFrame(regr_poly, columns=poly.get_feature_names(regr_dat.columns))\n",
    "regr_poly = regr_poly.set_index(regr_dat.index)\n",
    "regr_poly"
   ]
  },
  {
   "cell_type": "code",
   "execution_count": null,
   "metadata": {},
   "outputs": [],
   "source": [
    "tuned_parameters = [{'alpha': [1e-3, 1e-2, 1e-1, 0.2, 0.3, 0.4, 0.5, 0.6, 0.7, 0.8, 0.9, 1], 'max_iter': [1e5]}]\n",
    "\n",
    "ridge_grid = GridSearchCV(linear_model.Ridge(), tuned_parameters, scoring='r2', cv=3, iid=False, return_train_score=False)\n",
    "ridge_best = ridge_grid.fit(regr_X, regr_y)\n",
    "print(pd.DataFrame(ridge_best.cv_results_).sort_values(by='rank_test_score').head())\n",
    "\n",
    "ridge_best.best_params_"
   ]
  },
  {
   "cell_type": "code",
   "execution_count": null,
   "metadata": {},
   "outputs": [],
   "source": [
    "# ridge = linear_model.Ridge(alpha=ridge_best.best_params_['alpha'])\n",
    "ridge = linear_model.Ridge(alpha=0.5)\n",
    "ridge.fit(regr_X, regr_y)\n",
    "ridge.coef_, ridge.intercept_\n",
    "dat = pd.DataFrame(ridge.coef_, index=poly.get_feature_names()).reset_index()\n",
    "dat = dat.rename(columns={0: 'coef'})\n",
    "\n",
    "(gg.ggplot(dat.loc[dat.coef != 0], gg.aes('index', 'coef'))\n",
    " + gg.geom_point()\n",
    " + gg.theme(axis_text_x=gg.element_text(rotation=45, hjust=1))\n",
    ")"
   ]
  },
  {
   "cell_type": "code",
   "execution_count": null,
   "metadata": {},
   "outputs": [],
   "source": [
    "X_train, X_test, y_train, y_test = train_test_split(\n",
    "    X_poly, y, test_size=0.33, random_state=42)"
   ]
  },
  {
   "cell_type": "code",
   "execution_count": null,
   "metadata": {},
   "outputs": [],
   "source": [
    "ridge = ridge.fit(X_train, y_train)\n",
    "y_train_pred = ridge.predict(X_train)\n",
    "y_test_pred = ridge.predict(X_test)\n",
    "\n",
    "print(\"Train score: {}\".format(ridge.score(X_train, y_train)))\n",
    "print(\"Test score: {}\".format(ridge.score(X_test, y_test)))\n",
    "print(cross_val_score(ridge, X_test, y_test, cv=5))\n",
    "print(cross_val_score(ridge, X_test, y_test, cv=LeaveOneOut()))\n",
    "\n",
    "plt.plot(y_train, y_train_pred, '.')\n",
    "plt.plot(y_test, y_test_pred, '.')"
   ]
  },
  {
   "cell_type": "code",
   "execution_count": null,
   "metadata": {},
   "outputs": [],
   "source": []
  },
  {
   "cell_type": "code",
   "execution_count": null,
   "metadata": {},
   "outputs": [],
   "source": [
    "poly = PolynomialFeatures(2)\n",
    "X_poly = poly.fit_transform(X)\n",
    "X_poly = pd.DataFrame(X_poly, columns=poly.get_feature_names())\n",
    "X_poly"
   ]
  },
  {
   "cell_type": "code",
   "execution_count": null,
   "metadata": {},
   "outputs": [],
   "source": [
    "poly = PolynomialFeatures(2)\n",
    "poly.fit_transform(X)\n",
    "poly.get_feature_names()"
   ]
  },
  {
   "cell_type": "code",
   "execution_count": null,
   "metadata": {},
   "outputs": [],
   "source": [
    "from sklearn.pipeline import make_pipeline\n",
    "\n",
    "def PolynomialLasso(degree=2, **kwargs):\n",
    "    return make_pipeline(PolynomialFeatures(degree),\n",
    "                         linear_model.Lasso(**kwargs))"
   ]
  },
  {
   "cell_type": "code",
   "execution_count": null,
   "metadata": {
    "scrolled": true
   },
   "outputs": [],
   "source": [
    "tuned_parameters = {\n",
    "    'polynomialfeatures__degree': np.arange(4),\n",
    "    'lasso__alpha': [0.01, 0.1, 0.3, 0.5],\n",
    "    'lasso__max_iter': [1e5],\n",
    "}\n",
    "\n",
    "lasso_grid = GridSearchCV(PolynomialLasso(), tuned_parameters, scoring='r2', cv=3, iid=False, return_train_score=False)\n",
    "lasso_best = lasso_grid.fit(X_poly, y)\n",
    "print(pd.DataFrame(lasso_best.cv_results_).sort_values(by='rank_test_score').head())\n",
    "\n",
    "lasso_best.best_params_"
   ]
  },
  {
   "cell_type": "code",
   "execution_count": null,
   "metadata": {
    "scrolled": true
   },
   "outputs": [],
   "source": [
    "tuned_parameters = [{'alpha': [1e-3, 1e-2, 1e-1, 0.2, 0.3, 0.4, 0.5, 0.6, 0.7, 0.8, 0.9, 1], 'max_iter': [1e5]}]\n",
    "\n",
    "lasso_grid = GridSearchCV(linear_model.Lasso(), tuned_parameters, scoring='r2', cv=3, iid=False, return_train_score=False)\n",
    "lasso_best = lasso_grid.fit(X_poly, y)\n",
    "print(pd.DataFrame(lasso_best.cv_results_).sort_values(by='rank_test_score').head())\n",
    "\n",
    "lasso_best.best_params_"
   ]
  },
  {
   "cell_type": "code",
   "execution_count": null,
   "metadata": {},
   "outputs": [],
   "source": [
    "ridge_grid = GridSearchCV(linear_model.Ridge(), tuned_parameters, scoring='r2', cv=3, iid=False, return_train_score=False)\n",
    "ridge_best = ridge_grid.fit(X_poly, y)\n",
    "print(pd.DataFrame(ridge_best.cv_results_).sort_values(by='rank_test_score').head())\n",
    "\n",
    "ridge_best.best_params_"
   ]
  },
  {
   "cell_type": "code",
   "execution_count": null,
   "metadata": {},
   "outputs": [],
   "source": [
    "lasso = linear_model.Lasso(alpha=lasso_best.best_params_['alpha'])\n",
    "lasso.fit(X_poly, y)\n",
    "lasso.coef_, lasso.intercept_\n",
    "dat = pd.DataFrame(lasso.coef_, index=poly.get_feature_names()).reset_index()\n",
    "dat = dat.rename(columns={0: 'coef'})\n",
    "\n",
    "(gg.ggplot(dat.loc[dat.coef != 0], gg.aes('index', 'coef'))\n",
    " + gg.geom_point()\n",
    " + gg.theme(axis_text_x=gg.element_text(rotation=45, hjust=1))\n",
    ")"
   ]
  },
  {
   "cell_type": "code",
   "execution_count": null,
   "metadata": {},
   "outputs": [],
   "source": [
    "ridge = linear_model.Ridge(alpha=ridge_best.best_params_['alpha'])\n",
    "ridge.fit(X_poly, y)\n",
    "ridge.coef_, ridge.intercept_\n",
    "dat = pd.DataFrame(ridge.coef_, index=poly.get_feature_names()).reset_index()\n",
    "dat = dat.rename(columns={0: 'coef'})\n",
    "\n",
    "(gg.ggplot(dat.loc[dat.coef != 0], gg.aes('index', 'coef'))\n",
    " + gg.geom_point()\n",
    " + gg.theme(axis_text_x=gg.element_text(rotation=45, hjust=1))\n",
    ")"
   ]
  },
  {
   "cell_type": "code",
   "execution_count": null,
   "metadata": {},
   "outputs": [],
   "source": [
    "X_train, X_test, y_train, y_test = train_test_split(\n",
    "    X_poly, y, test_size=0.33, random_state=42)\n",
    "\n",
    "lasso = lasso.fit(X_train, y_train)\n",
    "y_train_pred = lasso.predict(X_train)\n",
    "y_test_pred = lasso.predict(X_test)\n",
    "\n",
    "print(\"Train score: {}\".format(lasso.score(X_train, y_train)))\n",
    "print(\"Test score: {}\".format(lasso.score(X_test, y_test)))\n",
    "print(cross_val_score(lasso, X_test, y_test, cv=5))\n",
    "print(cross_val_score(lasso, X_test, y_test, cv=LeaveOneOut()))\n",
    "\n",
    "plt.plot(y_train, y_train_pred, '.')\n",
    "plt.plot(y_test, y_test_pred, '.')"
   ]
  },
  {
   "cell_type": "code",
   "execution_count": null,
   "metadata": {},
   "outputs": [],
   "source": [
    "ridge = ridge.fit(X_train, y_train)\n",
    "y_train_pred = ridge.predict(X_train)\n",
    "y_test_pred = ridge.predict(X_test)\n",
    "\n",
    "print(\"Train score: {}\".format(ridge.score(X_train, y_train)))\n",
    "print(\"Test score: {}\".format(ridge.score(X_test, y_test)))\n",
    "print(cross_val_score(ridge, X_test, y_test, cv=5))\n",
    "print(cross_val_score(ridge, X_test, y_test, cv=LeaveOneOut()))\n",
    "\n",
    "plt.plot(y_train, y_train_pred, '.')\n",
    "plt.plot(y_test, y_test_pred, '.')"
   ]
  },
  {
   "cell_type": "markdown",
   "metadata": {},
   "source": [
    "# SVM"
   ]
  },
  {
   "cell_type": "code",
   "execution_count": null,
   "metadata": {},
   "outputs": [],
   "source": [
    "all_data_z[param_cols_by_task]"
   ]
  },
  {
   "cell_type": "code",
   "execution_count": null,
   "metadata": {
    "scrolled": true
   },
   "outputs": [],
   "source": [
    "X, y"
   ]
  },
  {
   "cell_type": "code",
   "execution_count": null,
   "metadata": {},
   "outputs": [],
   "source": [
    "from sklearn.model_selection import train_test_split\n",
    "from sklearn import svm\n",
    "from sklearn.metrics import accuracy_score\n",
    "from sklearn.model_selection import cross_val_score\n",
    "from sklearn.model_selection import LeaveOneOut\n",
    "from sklearn.model_selection import GridSearchCV\n",
    "\n",
    "x_params = [p for p in param_cols_by_task if 'bf' not in p]\n",
    "y_param = 'bf_nalpha'  # 'bf_alpha'\n",
    "print(y_param, '~', x_params)\n",
    "\n",
    "X = all_data_z[x_params]\n",
    "y = all_data_z['bf_alpha']\n",
    "\n",
    "X_train, X_test, y_train, y_test = train_test_split(\n",
    "    X, y, test_size=0.33, random_state=42)\n",
    "\n",
    "svr = svm.SVR(kernel='poly', C=1e4, gamma='scale', degree=3, epsilon=.1, verbose=True)\n",
    "svr_fit = svr.fit(X_train, y_train)\n",
    "y_train_pred = svr_fit.predict(X_train)\n",
    "y_test_pred = svr_fit.predict(X_test)\n",
    "\n",
    "print(\"Train score: {}\".format(svr.score(X_train, y_train)))\n",
    "print(\"Test score: {}\".format(svr.score(X_test, y_test)))\n",
    "print(cross_val_score(svr, X_test, y_test, cv=5))\n",
    "print(cross_val_score(svr, X_test, y_test, cv=LeaveOneOut()))\n",
    "\n",
    "plt.plot(y_train, y_train_pred, '.')\n",
    "plt.plot(y_test, y_test_pred, '.')"
   ]
  },
  {
   "cell_type": "code",
   "execution_count": null,
   "metadata": {
    "scrolled": true
   },
   "outputs": [],
   "source": [
    "tuned_parameters = [\n",
    "    {'kernel': ['rbf', 'poly'],\n",
    "     'C': [1e-1, 1e1, 1e2, 1e3, 1e4],\n",
    "     'gamma': [1e-5, 1e-4, 1e-4, 1e-3, 1e-2, 1e-1]}]\n",
    "\n",
    "clf = GridSearchCV(svm.SVR(), tuned_parameters, scoring='r2', cv=2, iid=False, return_train_score=False)\n",
    "clf_fit = clf.fit(X, y)\n",
    "# print(pd.DataFrame(clf_fit.cv_results_).sort_values(by='rank_test_score').head())\n",
    "\n",
    "# clf = GridSearchCV(svm.SVR(), tuned_parameters, scoring='explained_variance', cv=2, iid=False, return_train_score=False)\n",
    "# clf_fit = clf.fit(X_train, y_train)\n",
    "# print(pd.DataFrame(clf_fit.cv_results_).sort_values(by='rank_test_score').head())\n",
    "clf_fit.best_params_"
   ]
  },
  {
   "cell_type": "code",
   "execution_count": null,
   "metadata": {},
   "outputs": [],
   "source": [
    "\n",
    "svr = svm.SVR(C=clf_fit.best_params_['C'], gamma=clf_fit.best_params_['gamma'], kernel=clf_fit.best_params_['kernel'])\n",
    "svr_fit = svr.fit(X_train, y_train)\n",
    "y_train_pred = svr_fit.predict(X_train)\n",
    "y_test_pred = svr_fit.predict(X_test)\n",
    "\n",
    "print(\"Train score: {}\".format(svr.score(X_train, y_train)))\n",
    "print(\"Test score: {}\".format(svr.score(X_test, y_test)))\n",
    "print(cross_val_score(svr, X_test, y_test, cv=5))\n",
    "print(cross_val_score(svr, X_test, y_test, cv=LeaveOneOut()))\n",
    "\n",
    "plt.plot(y_train, y_train_pred, '.')\n",
    "plt.plot(y_test, y_test_pred, '.')"
   ]
  },
  {
   "cell_type": "code",
   "execution_count": null,
   "metadata": {},
   "outputs": [],
   "source": [
    "from sklearn.model_selection import GridSearchCV\n",
    "\n",
    "# param_grid = {'polynomialfeatures__degree': np.arange(21),\n",
    "#               'linearregression__fit_intercept': [True, False],\n",
    "#               'linearregression__normalize': [True, False]}\n",
    "\n",
    "# grid = GridSearchCV(PolynomialRegression(), param_grid, cv=7)\n",
    "\n",
    "\n",
    "\n",
    "tuned_parameters = [{'kernel': ['rbf'], 'gamma': [1e-3, 1e-4], 'C': [1, 10, 100, 1000]},\n",
    "                    {'kernel': ['linear'], 'C': [1, 10, 100, 1000]}]\n",
    "scores = ['precision', 'recall']\n",
    "\n",
    "clf = GridSearchCV(\n",
    "    svm.SVC(), tuned_parameters, scoring=scores[0]\n",
    ")\n",
    "clf.fit(X_train, y_train)"
   ]
  },
  {
   "cell_type": "code",
   "execution_count": null,
   "metadata": {},
   "outputs": [],
   "source": [
    "# import numpy as np\n",
    "# from sklearn.svm import SVR\n",
    "# import matplotlib.pyplot as plt\n",
    "from sklearn import svm\n",
    "\n",
    "# #############################################################################\n",
    "# Generate sample data\n",
    "X = np.sort(5 * np.random.rand(40, 1), axis=0)\n",
    "y = np.sin(X).ravel()\n",
    "\n",
    "# #############################################################################\n",
    "# Add noise to targets\n",
    "# y[::5] += 3 * (0.5 - np.random.rand(8))\n",
    "y += 0.5 - np.random.rand(len(X))\n",
    "\n",
    "# #############################################################################\n",
    "# Fit regression model\n",
    "svr_rbf = svm.SVR(kernel='rbf', C=100, gamma=0.1, epsilon=.1)\n",
    "svr_lin = svm.SVR(kernel='linear', C=100, gamma='auto')\n",
    "svr_poly = svm.SVR(kernel='poly', C=100, gamma='auto', degree=3, epsilon=.1,\n",
    "               coef0=1)\n",
    "\n",
    "# #############################################################################\n",
    "# Look at the results\n",
    "lw = 2\n",
    "\n",
    "svrs = [svr_rbf, svr_lin, svr_poly]\n",
    "kernel_label = ['RBF', 'Linear', 'Polynomial']\n",
    "model_color = ['m', 'c', 'g']\n",
    "\n",
    "fig, axes = plt.subplots(nrows=1, ncols=3, figsize=(15, 10), sharey=True)\n",
    "for ix, svr in enumerate(svrs):\n",
    "    axes[ix].plot(X, svr.fit(X, y).predict(X), color=model_color[ix], lw=lw,\n",
    "                  label='{} model'.format(kernel_label[ix]))\n",
    "    axes[ix].scatter(X[svr.support_], y[svr.support_], facecolor=\"none\",\n",
    "                     edgecolor=model_color[ix], s=50,\n",
    "                     label='{} support vectors'.format(kernel_label[ix]))\n",
    "    axes[ix].scatter(X[np.setdiff1d(np.arange(len(X)), svr.support_)],\n",
    "                     y[np.setdiff1d(np.arange(len(X)), svr.support_)],\n",
    "                     facecolor=\"none\", edgecolor=\"k\", s=50,\n",
    "                     label='other training data')\n",
    "    axes[ix].legend(loc='upper center', bbox_to_anchor=(0.5, 1.1),\n",
    "                    ncol=1, fancybox=True, shadow=True)\n",
    "\n",
    "fig.text(0.5, 0.04, 'data', ha='center', va='center')\n",
    "fig.text(0.06, 0.5, 'target', ha='center', va='center', rotation='vertical')\n",
    "fig.suptitle(\"Support Vector Regression\", fontsize=14)\n",
    "plt.show()"
   ]
  },
  {
   "cell_type": "code",
   "execution_count": null,
   "metadata": {},
   "outputs": [],
   "source": [
    "# get support vectors\n",
    "clf.support_vectors_\n",
    "\n",
    "# get indices of support vectors\n",
    "clf.support_\n",
    "\n",
    "# get number of support vectors for each class\n",
    "clf.n_support_"
   ]
  },
  {
   "cell_type": "markdown",
   "metadata": {},
   "source": [
    "## PLS"
   ]
  },
  {
   "cell_type": "code",
   "execution_count": null,
   "metadata": {},
   "outputs": [],
   "source": [
    "from sklearn.cross_decomposition import PLSRegression\n",
    "X = [[0., 0., 1.], [1.,0.,0.], [2.,2.,2.], [2.,5.,4.]]\n",
    "Y = [[0.1, -0.2], [0.9, 1.1], [6.2, 5.9], [11.9, 12.3]]\n",
    "pls2 = PLSRegression(n_components=2)\n",
    "pls2.fit(X, Y)\n",
    "\n",
    "Y_pred = pls2.predict(X)\n",
    "Y_pred, Y\n",
    "plt.plot(np.array(Y)[:,0], np.array(Y_pred)[:,0])"
   ]
  },
  {
   "cell_type": "code",
   "execution_count": null,
   "metadata": {},
   "outputs": [],
   "source": [
    "x_params = [p for p in param_cols_by_task if 'bf' not in p]\n",
    "y_params = [p for p in param_cols_by_task if 'bf' in p]\n",
    "len(x_params)"
   ]
  },
  {
   "cell_type": "code",
   "execution_count": null,
   "metadata": {},
   "outputs": [],
   "source": [
    "pls = PLSRegression(n_components=14)\n",
    "pls.fit(all_data_z[x_params], all_data_z[y_params])\n",
    "\n",
    "pred = pls.predict(all_data_z[x_params])\n",
    "pls.score(all_data_z[x_params], all_data_z[y_params])  # R^2 of self.predict(X) wrt. y."
   ]
  },
  {
   "cell_type": "code",
   "execution_count": null,
   "metadata": {},
   "outputs": [],
   "source": [
    "pred = pd.DataFrame(pred, columns=y_params)\n",
    "pred_l = pred.melt(var_name='param_name', value_name='param_value').reset_index()\n",
    "true_l = all_data_z[y_params].melt(var_name='param_name', value_name='param_value').reset_index()\n",
    "# dat = pd.merge(pred, all_data_z[y_params], left_index=True, right_index=True, suffixes=['_pred', '_true'])\n",
    "# dat\n",
    "dat_l = pd.merge(pred_l, true_l, on=['param_name', 'index'], suffixes=['_pred', '_true'])\n",
    "dat_l"
   ]
  },
  {
   "cell_type": "code",
   "execution_count": null,
   "metadata": {},
   "outputs": [],
   "source": [
    "(gg.ggplot(dat_l, gg.aes('param_value_pred', 'param_value_true', color='param_name'))\n",
    " + gg.geom_point(alpha=0.5)\n",
    " + gg.geom_smooth(color='black')\n",
    " + gg.facet_wrap('~ param_name')\n",
    ")"
   ]
  },
  {
   "cell_type": "markdown",
   "metadata": {},
   "source": [
    "# PCA on parameters"
   ]
  },
  {
   "cell_type": "code",
   "execution_count": null,
   "metadata": {
    "scrolled": false
   },
   "outputs": [],
   "source": [
    "# Run PCA\n",
    "pca = PCA(n_components=z_dat[param_cols_by_param].shape[1])\n",
    "# pca = KernelPCA(n_components=z_dat.shape[1])\n",
    "fit = pca.fit_transform(z_dat[param_cols_by_param].dropna())\n",
    "n_comp = 11"
   ]
  },
  {
   "cell_type": "code",
   "execution_count": null,
   "metadata": {
    "scrolled": true
   },
   "outputs": [],
   "source": [
    "# Explained variance\n",
    "dat = pd.DataFrame({'PC': range(z_dat[param_cols_by_param].shape[1]), 'expl_var': np.cumsum(pca.explained_variance_ratio_)})\n",
    "g = (gg.ggplot(dat, gg.aes('PC', 'expl_var'))\n",
    " + gg.geom_point()\n",
    " + gg.geom_line()\n",
    " + gg.geom_hline(yintercept=1, linetype='dotted')\n",
    " + gg.geom_vline(xintercept=n_comp, linetype='dotted')\n",
    ")\n",
    "g.save(os.path.join(plot_save_path, '5PCAExplVar_params.png'))\n",
    "\n",
    "expl_var_at_n_comp = list(dat[dat.PC <= n_comp].expl_var)[-1]\n",
    "print(\"Explained variance at {} components: {}%.\".format(n_comp, round(100 * expl_var_at_n_comp, 1)))\n",
    "g"
   ]
  },
  {
   "cell_type": "code",
   "execution_count": null,
   "metadata": {},
   "outputs": [],
   "source": [
    "pd.DataFrame(fit)"
   ]
  },
  {
   "cell_type": "code",
   "execution_count": null,
   "metadata": {
    "scrolled": true
   },
   "outputs": [],
   "source": [
    "# Age in PC space\n",
    "fit_pd = pd.DataFrame(fit,\n",
    "                      columns=['pc{}'.format(i) for i in range(z_dat[param_cols_by_param].shape[1])],\n",
    "                      index=all_data.drop(columns=ages_cols[1:]).dropna().reset_index().ID)\n",
    "fit_pd = fit_pd.reset_index()\n",
    "fit_pd = fit_pd.merge(ages[ages_cols])\n",
    "\n",
    "g1 = (gg.ggplot(fit_pd, gg.aes('pc0', 'pc1', color='PreciseYrs'))\n",
    " + gg.geom_point()\n",
    ")\n",
    "g1.save(os.path.join(plot_save_path, '5PCPC0PC1_param.png'))\n",
    "\n",
    "g2 = g1 + gg.aes('pc2', 'pc3')\n",
    "g2.save(os.path.join(plot_save_path, '5PCPC2PC3_param.png'))\n",
    "g1, g2"
   ]
  },
  {
   "cell_type": "code",
   "execution_count": null,
   "metadata": {
    "scrolled": true
   },
   "outputs": [],
   "source": [
    "# PC changes over age\n",
    "fit_long = fit_pd.melt(\n",
    "    value_vars=['pc{}'.format(i) for i in range(n_comp)],\n",
    "    id_vars=ages_cols)\n",
    "\n",
    "gg.options.figure_size = (10, 8)\n",
    "g = (gg.ggplot(fit_long, gg.aes('PreciseYrs', 'value'))\n",
    " + gg.geom_point(alpha=0.5, size=0.5)\n",
    " + gg.geom_smooth(color='red')\n",
    " + gg.facet_wrap('~ variable', scales='free')\n",
    ")\n",
    "g.save(os.path.join(plot_save_path, '5PCAAgePC.png'))\n",
    "g"
   ]
  },
  {
   "cell_type": "code",
   "execution_count": null,
   "metadata": {
    "scrolled": true
   },
   "outputs": [],
   "source": [
    "g_t = g + gg.aes(x='meanT')\n",
    "g.save(os.path.join(plot_save_path, '5PCATPC.png'))\n",
    "g_t"
   ]
  },
  {
   "cell_type": "code",
   "execution_count": null,
   "metadata": {},
   "outputs": [],
   "source": [
    "# Factor loadings\n",
    "loadings = pca.components_[:n_comp].T  # (n_components, n_features)  * np.sqrt(pca.explained_variance_)\n",
    "loadings_pd = pd.DataFrame(loadings, columns=['pc{}'.format(i) for i in range(n_comp)], index=sub_dat.columns)\n",
    "loadings_pd = loadings_pd.reset_index()\n",
    "loadings_long = loadings_pd.melt(\n",
    "    value_vars=['pc{}'.format(i) for i in range(n_comp)],\n",
    "    id_vars=['index'])"
   ]
  },
  {
   "cell_type": "code",
   "execution_count": null,
   "metadata": {},
   "outputs": [],
   "source": [
    "loadings_long['task'] = loadings_long['index'].apply(lambda x : x[:3])\n",
    "loadings_long['ACC_RT'] = loadings_long['index'].apply(name_from_index, names=['ACC', 'RT'])\n",
    "loadings_long['PC'] = loadings_long['variable'].apply(lambda x : int(x[2:]))"
   ]
  },
  {
   "cell_type": "code",
   "execution_count": null,
   "metadata": {
    "scrolled": true
   },
   "outputs": [],
   "source": [
    "loadings_pd['param_name'] = loadings_pd['index'].apply(lambda x : x[3:])\n",
    "loadings_pd['param_bool'] = loadings_pd['index'].apply(lambda x : x[:2])\n",
    "loadings_pd['category'] = loadings_pd['param_name'].apply(name_from_index, names=param_names + ['ACC', 'RT'])\n",
    "loadings_pd['ACC_RT'] = loadings_pd['param_name'].apply(name_from_index, names=['ACC', 'RT'])\n",
    "loadings_pd['task'] = loadings_pd['index'].apply(lambda x: x[:2])\n",
    "loadings_pd"
   ]
  },
  {
   "cell_type": "code",
   "execution_count": null,
   "metadata": {
    "scrolled": true
   },
   "outputs": [],
   "source": [
    "sub_dat = loadings_long[loadings_long['PC'] < 5]\n",
    "g = (gg.ggplot(sub_dat, gg.aes('index', 'value', fill='ACC_RT'))\n",
    " + gg.geom_bar(stat='identity')\n",
    " + gg.theme(axis_text_x=gg.element_text(rotation=90, hjust=1))\n",
    " + gg.facet_grid('variable ~ task', scales='free_x')\n",
    " + gg.labs(x='', y='Loading')\n",
    " + gg.theme(legend_position='none')\n",
    ")\n",
    "g.save(os.path.join(plot_save_path, '5PCALoadings.png'))\n",
    "g"
   ]
  },
  {
   "cell_type": "markdown",
   "metadata": {},
   "source": [
    "## PCA on behavior"
   ]
  },
  {
   "cell_type": "code",
   "execution_count": null,
   "metadata": {},
   "outputs": [],
   "source": [
    "# Run PCA\n",
    "beh_dat = all_data[acc_cols + rt_cols + rtsd_cols].dropna()\n",
    "IDs = all_data[acc_cols + rt_cols + rtsd_cols + ['ID']].dropna().ID\n",
    "pca = PCA(n_components=beh_dat.shape[1])\n",
    "fit = pca.fit_transform(beh_dat)\n",
    "n_comp = 6"
   ]
  },
  {
   "cell_type": "code",
   "execution_count": null,
   "metadata": {
    "scrolled": true
   },
   "outputs": [],
   "source": [
    "# Explained variance\n",
    "gg.options.figure_size = (5, 5)\n",
    "dat = pd.DataFrame({'PC': range(beh_dat.shape[1]), 'expl_var': np.cumsum(pca.explained_variance_ratio_)})\n",
    "g = (gg.ggplot(dat, gg.aes('PC', 'expl_var'))\n",
    " + gg.geom_point()\n",
    " + gg.geom_line()\n",
    " + gg.geom_hline(yintercept=1, linetype='dotted')\n",
    " + gg.geom_vline(xintercept=n_comp, linetype='dotted')\n",
    ")\n",
    "g.save(os.path.join(plot_save_path, '3PCAExplVar_params.png'))\n",
    "\n",
    "expl_var_at_n_comp = list(dat[dat.PC <= n_comp].expl_var)[-1]\n",
    "print(\"Explained variance at {} components: {}%.\".format(n_comp, round(100 * expl_var_at_n_comp, 1)))\n",
    "g"
   ]
  },
  {
   "cell_type": "code",
   "execution_count": null,
   "metadata": {
    "scrolled": true
   },
   "outputs": [],
   "source": [
    "# Age in PC space\n",
    "fit_pd = pd.DataFrame(fit,\n",
    "                      columns=['pc{}'.format(i) for i in range(beh_dat.shape[1])],\n",
    "                      index=IDs)\n",
    "fit_pd = fit_pd.reset_index()\n",
    "fit_pd = fit_pd.merge(ages[ages_cols])\n",
    "\n",
    "g1 = (gg.ggplot(fit_pd, gg.aes('pc0', 'pc1', color='PreciseYrs'))\n",
    " + gg.geom_point()\n",
    ")\n",
    "g1.save(os.path.join(plot_save_path, '3PCPC0PC1_beh.png'))\n",
    "\n",
    "g2 = g1 + gg.aes('pc2', 'pc3')\n",
    "g2.save(os.path.join(plot_save_path, '3PCPC2PC3_beh.png'))\n",
    "g1, g2"
   ]
  },
  {
   "cell_type": "code",
   "execution_count": null,
   "metadata": {
    "scrolled": true
   },
   "outputs": [],
   "source": [
    "# PC changes over age\n",
    "fit_long = fit_pd.melt(\n",
    "    value_vars=['pc{}'.format(i) for i in range(n_comp)],\n",
    "    id_vars=ages_cols)\n",
    "\n",
    "gg.options.figure_size = (10, 8)\n",
    "g = (gg.ggplot(fit_long, gg.aes('PreciseYrs', 'value'))\n",
    " + gg.geom_point(alpha=0.5, size=0.5)\n",
    " + gg.geom_smooth(color='red')\n",
    " + gg.facet_wrap('~ variable', scales='free')\n",
    ")\n",
    "g.save(os.path.join(plot_save_path, '3PCAAgePC.png'))\n",
    "g"
   ]
  },
  {
   "cell_type": "code",
   "execution_count": null,
   "metadata": {
    "scrolled": true
   },
   "outputs": [],
   "source": [
    "pd.DataFrame(loadings)"
   ]
  },
  {
   "cell_type": "code",
   "execution_count": null,
   "metadata": {},
   "outputs": [],
   "source": [
    "# Factor loadings\n",
    "loadings = pca.components_[:n_comp].T  # (n_components, n_features)  * np.sqrt(pca.explained_variance_)\n",
    "loadings_pd = pd.DataFrame(loadings, columns=['pc{}'.format(i) for i in range(n_comp)], index=beh_dat.columns)\n",
    "loadings_pd = loadings_pd.reset_index()\n",
    "loadings_long = loadings_pd.melt(\n",
    "    value_vars=['pc{}'.format(i) for i in range(n_comp)],\n",
    "    id_vars=['index'])"
   ]
  },
  {
   "cell_type": "code",
   "execution_count": null,
   "metadata": {},
   "outputs": [],
   "source": [
    "loadings_long['task'] = loadings_long['index'].apply(lambda x : x[:3])\n",
    "loadings_long['ACC_RT'] = loadings_long['index'].apply(name_from_index, names=['ACC', 'RT'])\n",
    "loadings_long['PC'] = loadings_long['variable'].apply(lambda x : int(x[2:]))"
   ]
  },
  {
   "cell_type": "code",
   "execution_count": null,
   "metadata": {
    "scrolled": true
   },
   "outputs": [],
   "source": [
    "loadings_pd['param_name'] = loadings_pd['index'].apply(lambda x : x[3:])\n",
    "loadings_pd['param_bool'] = loadings_pd['index'].apply(lambda x : x[:2])\n",
    "loadings_pd['category'] = loadings_pd['param_name'].apply(name_from_index, names=param_names + ['ACC', 'RT'])\n",
    "loadings_pd['ACC_RT'] = loadings_pd['param_name'].apply(name_from_index, names=['ACC', 'RT'])\n",
    "loadings_pd['task'] = loadings_pd['index'].apply(lambda x: x[:2])\n",
    "loadings_pd"
   ]
  },
  {
   "cell_type": "code",
   "execution_count": null,
   "metadata": {
    "scrolled": false
   },
   "outputs": [],
   "source": [
    "sub_dat = loadings_long[loadings_long['PC'] < 5]\n",
    "g = (gg.ggplot(sub_dat, gg.aes('index', 'value', fill='ACC_RT'))\n",
    " + gg.geom_bar(stat='identity')\n",
    " + gg.theme(axis_text_x=gg.element_text(rotation=90, hjust=1))\n",
    " + gg.facet_grid('variable ~ task', scales='free_x')\n",
    " + gg.labs(x='', y='Loading')\n",
    " + gg.theme(legend_position='none')\n",
    ")\n",
    "g.save(os.path.join(plot_save_path, '3PCALoadings_beh.png'))\n",
    "g"
   ]
  },
  {
   "cell_type": "markdown",
   "metadata": {},
   "source": [
    "## Z-score all features"
   ]
  },
  {
   "cell_type": "code",
   "execution_count": null,
   "metadata": {},
   "outputs": [],
   "source": [
    "# Prepare data\n",
    "sub_dat = all_data.drop(columns=ages_cols[1:])\n",
    "z_dat = preprocessing.scale(sub_dat)\n",
    "z_dat = pd.DataFrame(z_dat, columns=sub_dat.columns)\n",
    "z_dat = z_dat.set_index(sub_dat.index)\n",
    "z_dat"
   ]
  },
  {
   "cell_type": "code",
   "execution_count": null,
   "metadata": {},
   "outputs": [],
   "source": [
    "z_dat_ages = z_dat.reset_index().merge(ages[ages_cols], on=['ID'])\n",
    "z_dat_ages"
   ]
  },
  {
   "cell_type": "code",
   "execution_count": null,
   "metadata": {},
   "outputs": [],
   "source": [
    "z_dat_long = z_dat.melt(var_name='feature')\n",
    "z_dat_long['task'] = z_dat_long.feature.apply(lambda x : x[:2])\n",
    "z_dat_long['param'] = z_dat_long.feature.apply(lambda x : x[3:])\n",
    "\n",
    "g_z = g\n",
    "g_z.data = z_dat_long\n",
    "g_z"
   ]
  },
  {
   "cell_type": "markdown",
   "metadata": {},
   "source": [
    "## Regression models"
   ]
  },
  {
   "cell_type": "code",
   "execution_count": null,
   "metadata": {},
   "outputs": [],
   "source": [
    "# Run parameter regression models\n",
    "r2s_param = pd.DataFrame()\n",
    "coefs_param = pd.DataFrame()\n",
    "\n",
    "for dep_var in param_cols:\n",
    "    \n",
    "    # Indep vars: all parameters of the other models\n",
    "    indep_vars = '+'.join([p for p in param_cols if p[:2] != dep_var[:2]])\n",
    "    model = smf.ols('{} ~ {}'.format(dep_var, indep_vars), data=all_data_z).fit()\n",
    "    \n",
    "    model_r2 = pd.DataFrame({'R2': [model.rsquared], 'dep_var': [dep_var]})\n",
    "    model_coefs_param = pd.DataFrame(model.params, columns=['coef'])\n",
    "    model_coefs_param['dep_var'] = dep_var\n",
    "    \n",
    "    r2s_param = r2s_param.append(model_r2)\n",
    "    coefs_param = coefs_param.append(model_coefs_param)"
   ]
  },
  {
   "cell_type": "code",
   "execution_count": null,
   "metadata": {},
   "outputs": [],
   "source": [
    "# Run behavior regression models\n",
    "r2s_beh = pd.DataFrame()\n",
    "coefs_beh = pd.DataFrame()\n",
    "\n",
    "for dep_var in acc_cols + rt_cols:\n",
    "    \n",
    "    # Predict with all behaviors of other models\n",
    "    indep_vars = '+'.join([p for p in acc_cols + rt_cols if p[:2] != dep_var[:2]])\n",
    "    model = smf.ols('{} ~ {}'.format(dep_var, indep_vars), data=all_data_z).fit()\n",
    "    \n",
    "    model_r2 = pd.DataFrame({'R2': [model.rsquared], 'dep_var': [dep_var]})\n",
    "    model_coefs_beh = pd.DataFrame(model.params, columns=['coef'])\n",
    "    model_coefs_beh['dep_var'] = dep_var\n",
    "    \n",
    "    r2s_beh = r2s_beh.append(model_r2)\n",
    "    coefs_beh = coefs_beh.append(model_coefs_beh)"
   ]
  },
  {
   "cell_type": "code",
   "execution_count": null,
   "metadata": {
    "scrolled": true
   },
   "outputs": [],
   "source": [
    "# Predict age from parameters\n",
    "indep_vars = '+'.join(param_cols_by_param)\n",
    "model_param = smf.ols('PreciseYrs ~ {}'.format(indep_vars), data=all_data_z).fit()\n",
    "param_coefs = pd.DataFrame(model_param.params, columns=['coef'])\n",
    "param_coefs['indep_var'] = 'parameters'\n",
    "\n",
    "# Predict age from behavior\n",
    "indep_vars = '+'.join(rt_cols + acc_cols)\n",
    "model_beh = smf.ols('PreciseYrs ~ {}'.format(indep_vars), data=all_data_z).fit()\n",
    "beh_coefs = pd.DataFrame(model_beh.params, columns=['coef'])\n",
    "beh_coefs['indep_var'] = 'behavior'\n",
    "\n",
    "# Predict age from all\n",
    "indep_vars = '+'.join(param_cols_by_param + rt_cols + acc_cols)\n",
    "model_all = smf.ols('PreciseYrs ~ {}'.format(indep_vars), data=all_data_z).fit()\n",
    "all_coefs = pd.DataFrame(model_all.params, columns=['coef'])\n",
    "all_coefs['indep_var'] = 'all'\n",
    "\n",
    "r2s_age = pd.DataFrame({\n",
    "    'dep_var': ['PreciseYrs'] * 3,\n",
    "    'R2': [model_param.rsquared, model_beh.rsquared, model_all.rsquared],\n",
    "    'indep_vars': ['parameters', 'behavior', 'all']\n",
    "})\n",
    "\n",
    "# coefs_age = param_coefs.append(beh_coefs).append(all_coefs)\n",
    "all_coefs = all_coefs.reset_index()\n",
    "all_coefs['task'] = all_coefs['index'].apply(lambda x : x[:2])\n",
    "all_coefs = all_coefs[all_coefs['index'] != 'Intercept']\n",
    "all_coefs['category'] = all_coefs['index'].apply(name_from_index, names=param_names+['ACC', 'RT'])\n",
    "# all_coefs"
   ]
  },
  {
   "cell_type": "code",
   "execution_count": null,
   "metadata": {
    "scrolled": true
   },
   "outputs": [],
   "source": [
    "# Beautify data\n",
    "r2s_param = r2s_param.reset_index(drop=True)\n",
    "r2s_param['task'] = r2s_param.dep_var.apply(lambda x : x[:2])\n",
    "r2s_param['param'] = r2s_param.dep_var.apply(lambda x : x[3:])\n",
    "\n",
    "coefs_param['task'] = coefs_param.dep_var.apply(lambda x : x[:2])\n",
    "coefs_param['param'] = coefs_param.dep_var.apply(lambda x : x[3:])\n",
    "\n",
    "r2s_beh = r2s_beh.reset_index(drop=True)\n",
    "r2s_beh['task'] = r2s_beh.dep_var.apply(lambda x : x[:2])\n",
    "r2s_beh['param'] = r2s_beh.dep_var.apply(lambda x : x[3:])\n",
    "r2s_beh['category'] = r2s_beh['param'].apply(name_from_index, names=['ACC', 'RT'])\n",
    "\n",
    "coefs_beh['task'] = coefs_beh.dep_var.apply(lambda x : x[:2])\n",
    "coefs_beh['param'] = coefs_beh.dep_var.apply(lambda x : x[3:])\n",
    "coefs_beh['category'] = coefs_beh['param'].apply(name_from_index, names=['RT', 'ACC'])"
   ]
  },
  {
   "cell_type": "code",
   "execution_count": null,
   "metadata": {
    "scrolled": true
   },
   "outputs": [],
   "source": [
    "# Predicting age\n",
    "gg.options.figure_size = (5, 5)\n",
    "g = (gg.ggplot(all_coefs, gg.aes('index', 'abs(coef)', fill='category'))\n",
    "     + gg.stat_summary(geom='bar')\n",
    "     + gg.stat_summary(geom='pointrange')\n",
    "     + gg.theme(axis_text_x=gg.element_text(rotation=45, hjust=1))\n",
    "     + gg.facet_wrap('~ task', scales='free_x')\n",
    "     + gg.labs(x='', y='Weight when predicting age')\n",
    "    )\n",
    "g.save(os.path.join(plot_save_path, '3PredictingAgeCoefs.png'))\n",
    "g"
   ]
  },
  {
   "cell_type": "code",
   "execution_count": null,
   "metadata": {
    "scrolled": true
   },
   "outputs": [],
   "source": [
    "g = (gg.ggplot(r2s_age, gg.aes('indep_vars', 'R2'))\n",
    "     + gg.geom_bar(stat='identity')\n",
    "     + gg.coord_cartesian(ylim=(0, 1))\n",
    "     + gg.labs(x='', y='R2 when predicting age')\n",
    "     + gg.theme(axis_text_x=gg.element_text(rotation=45, hjust=1))\n",
    "    )\n",
    "g.save(os.path.join(plot_save_path, '3PredictingAgeR2.png'))\n",
    "g"
   ]
  },
  {
   "cell_type": "code",
   "execution_count": null,
   "metadata": {
    "scrolled": true
   },
   "outputs": [],
   "source": [
    "# Predicting parameters\n",
    "gg.options.figure_size = (7, 5)\n",
    "g = (gg.ggplot(r2s_param, gg.aes('param', 'R2', fill='param'))\n",
    "     + gg.geom_bar(stat='identity')\n",
    "     + gg.theme(axis_text_x=gg.element_text(rotation=45, hjust=1),\n",
    "                legend_position='none')\n",
    "     + gg.facet_wrap('~ task', scales='free_x')\n",
    "     + gg.labs(x='', y='R2 when predicting each parameter')\n",
    ")\n",
    "g.save(os.path.join(plot_save_path, '3PredictingParamsR2.png'))\n",
    "g"
   ]
  },
  {
   "cell_type": "code",
   "execution_count": null,
   "metadata": {
    "scrolled": true
   },
   "outputs": [],
   "source": [
    "g_beh = g + gg.aes(fill='category') + gg.labs(y='R2 when predicting behaviors')\n",
    "g_beh.data = r2s_beh\n",
    "g_beh.save(os.path.join(plot_save_path, '3PredictingBehaviorR2.png'))\n",
    "g_beh"
   ]
  },
  {
   "cell_type": "code",
   "execution_count": null,
   "metadata": {
    "scrolled": true
   },
   "outputs": [],
   "source": [
    "# Plot coefficients\n",
    "g = (gg.ggplot(coefs_param, gg.aes('param', 'abs(coef)', fill='param'))\n",
    "#      + gg.geom_point(position='jitter', size=0.1)\n",
    "     + gg.stat_summary(geom='bar')\n",
    "     + gg.stat_summary(geom='pointrange')\n",
    "     + gg.theme(axis_text_x=gg.element_text(rotation=45, hjust=1),\n",
    "                legend_position='none')\n",
    "     + gg.facet_wrap('~ task', scales='free_x')\n",
    "     + gg.labs(x='', y='Weight when predicting parameters')\n",
    "    )\n",
    "g.save(os.path.join(plot_save_path, '3PredictingParamsCoefs.png'))\n",
    "g"
   ]
  },
  {
   "cell_type": "code",
   "execution_count": null,
   "metadata": {
    "scrolled": true
   },
   "outputs": [],
   "source": [
    "g_beh = g + gg.aes(fill='category') + gg.labs(y = 'Weight when predicting behaviors')\n",
    "g_beh.data = coefs_beh\n",
    "g_beh.save(os.path.join(plot_save_path, '3PredictingBehaviorCoefs.png'))\n",
    "g_beh"
   ]
  },
  {
   "cell_type": "markdown",
   "metadata": {},
   "source": [
    "# Dendrograms"
   ]
  },
  {
   "cell_type": "code",
   "execution_count": null,
   "metadata": {
    "scrolled": true
   },
   "outputs": [],
   "source": [
    "sns.clustermap(all_data[acc_cols + rt_cols + ['PreciseYrs']].dropna(), z_score=1)\n",
    "sns.clustermap(all_data[param_cols_by_param + ['PreciseYrs']].dropna(), z_score=1)\n",
    "plt.savefig(os.path.join(plot_save_path, '4DendrogramBeh_param.png'))"
   ]
  },
  {
   "cell_type": "markdown",
   "metadata": {},
   "source": [
    "# tSNE"
   ]
  },
  {
   "cell_type": "code",
   "execution_count": null,
   "metadata": {},
   "outputs": [],
   "source": [
    "# Show participants in 2D space\n",
    "tsne_dat = TSNE(n_components=2).fit_transform(z_dat.dropna())\n",
    "index = all_data.reset_index().drop(columns=ages_cols[1:]).dropna().ID\n",
    "tsne_pd = pd.DataFrame(tsne_dat, columns=['tSNE1', 'tSNE2'], index=index).reset_index()\n",
    "tsne_pd = tsne_pd.merge(ages[['ID', 'PreciseYrs', 'Gender', 'meanT']])"
   ]
  },
  {
   "cell_type": "code",
   "execution_count": null,
   "metadata": {
    "scrolled": false
   },
   "outputs": [],
   "source": [
    "gg.options.figure_size = (5, 4)\n",
    "g = (gg.ggplot(tsne_pd, gg.aes('tSNE1', 'tSNE2', color='PreciseYrs'))\n",
    " + gg.geom_point()\n",
    ")\n",
    "g.save(os.path.join(plot_save_path, '4TsneParticipants.png'))\n",
    "g"
   ]
  },
  {
   "cell_type": "code",
   "execution_count": null,
   "metadata": {
    "scrolled": false
   },
   "outputs": [],
   "source": [
    "tsne_long = tsne_pd.melt(id_vars=['ID', 'PreciseYrs', 'Gender', 'meanT'])\n",
    "g = (gg.ggplot(tsne_long, gg.aes('PreciseYrs', 'value'))\n",
    " + gg.geom_point()\n",
    " + gg.geom_smooth()\n",
    " + gg.facet_grid('~ variable')\n",
    ")\n",
    "g.save(os.path.join(plot_save_path, '4TsneParticipants_.png'))\n",
    "g"
   ]
  },
  {
   "cell_type": "code",
   "execution_count": null,
   "metadata": {
    "scrolled": true
   },
   "outputs": [],
   "source": [
    "# Show measures in 2D space\n",
    "tsne_dat = TSNE(n_components=2).fit_transform(z_dat.dropna().T)\n",
    "tsne_pd = pd.DataFrame(tsne_dat, columns=['tSNE1', 'tSNE2'], index=z_dat.columns).reset_index()\n",
    "tsne_pd['task'] = tsne_pd['index'].apply(lambda x : x[:2])\n",
    "tsne_pd['param_name'] = tsne_pd['index'].apply(name_from_index)\n",
    "tsne_pd['ACC_RT'] = tsne_pd['index'].apply(name_from_index, names=['ACC', 'RT'])\n",
    "tsne_pd['param_bool'] = tsne_pd['index'].apply(bool_from_index)\n",
    "tsne_pd"
   ]
  },
  {
   "cell_type": "code",
   "execution_count": null,
   "metadata": {
    "scrolled": false
   },
   "outputs": [],
   "source": [
    "gg.options.figure_size = (5, 4)\n",
    "g = (gg.ggplot(tsne_pd, gg.aes('tSNE1', 'tSNE2', color='task'))\n",
    " + gg.geom_point()\n",
    ")\n",
    "g.save(os.path.join(plot_save_path, '4TsneFeaturesBeh_task.png'))\n",
    "g"
   ]
  },
  {
   "cell_type": "markdown",
   "metadata": {},
   "source": [
    "# Transforming RLWM regression weights"
   ]
  },
  {
   "cell_type": "code",
   "execution_count": null,
   "metadata": {},
   "outputs": [],
   "source": [
    "all_data['rl_lrn-fix'].describe()\n",
    "all_data['rl_lrn-fix_sig'].describe()\n",
    "zscore(all_data['rl_lrn-fix']).describe()"
   ]
  },
  {
   "cell_type": "code",
   "execution_count": null,
   "metadata": {},
   "outputs": [],
   "source": [
    "x = np.arange(-30, 30, 0.1)\n",
    "# x = np.arange(-10, 10, 0.01)\n",
    "# dat = pd.DataFrame({'x': x, 'y': 3 *sigmoid(x/3)})\n",
    "# dat = pd.DataFrame({'x': x, 'y': sigmoid(x)})\n",
    "dat = pd.DataFrame({'x': x, 'y': sigmoid(zscore(x))})\n",
    "dat\n",
    "(gg.ggplot(dat, gg.aes('x', 'y')) +\n",
    " gg.geom_point()\n",
    ")"
   ]
  },
  {
   "cell_type": "code",
   "execution_count": null,
   "metadata": {},
   "outputs": [],
   "source": [
    "# all_data['rl_lrn-fix_sig'] = sigmoid(zscore(all_data['rl_lrn-fix']))\n",
    "all_data['rl_lrn-fix_sig'] = sigmoid(all_data['rl_lrn-fix'])\n",
    "# all_data['rl_lrn-fix_sig'] = 50 * sigmoid(all_data['rl_lrn-fix'] / 50)\n",
    "# all_data['rl_lrn-fix_sig'] = all_data['rl_lrn-fix_sig'].median() * sigmoid(all_data['rl_lrn-fix'] / all_data['rl_lrn-fix_sig'].median())\n",
    "\n",
    "(gg.ggplot(all_data, gg.aes('rl_lrn-fix', 'rl_lrn-fix_sig')) +\n",
    " gg.geom_point()\n",
    ")"
   ]
  },
  {
   "cell_type": "code",
   "execution_count": null,
   "metadata": {},
   "outputs": [],
   "source": [
    "dat = all_data#[all_data['rl_lrn-fix'] < 50]\n",
    "(gg.ggplot(dat, gg.aes('PreciseYrs', 'rl_lrn-fix_sig'))\n",
    " + gg.geom_point()\n",
    " + gg.geom_smooth()\n",
    ")"
   ]
  },
  {
   "cell_type": "code",
   "execution_count": null,
   "metadata": {},
   "outputs": [],
   "source": [
    "dat = all_data[all_data['rl_lrn-fix'] < 50]\n",
    "(gg.ggplot(dat, gg.aes('PreciseYrs', 'rl_lrn-fix'))\n",
    " + gg.geom_point()\n",
    " + gg.geom_smooth()\n",
    ")"
   ]
  },
  {
   "cell_type": "code",
   "execution_count": null,
   "metadata": {},
   "outputs": [],
   "source": [
    "(gg.ggplot(all_data, gg.aes('PreciseYrs', 'rl_lrn-ns'))\n",
    " + gg.geom_point()\n",
    ")"
   ]
  },
  {
   "cell_type": "code",
   "execution_count": null,
   "metadata": {},
   "outputs": [],
   "source": [
    "(gg.ggplot(all_data, gg.aes('PreciseYrs', 'rl_lrn-pcor'))\n",
    " + gg.geom_point()\n",
    ")"
   ]
  },
  {
   "cell_type": "code",
   "execution_count": null,
   "metadata": {},
   "outputs": [],
   "source": [
    "(gg.ggplot(all_data, gg.aes('PreciseYrs', 'rl_lrn-pinc'))\n",
    " + gg.geom_point()\n",
    ")"
   ]
  }
 ],
 "metadata": {
  "kernelspec": {
   "display_name": "PYMC3",
   "language": "python",
   "name": "pymc3"
  },
  "language_info": {
   "codemirror_mode": {
    "name": "ipython",
    "version": 3
   },
   "file_extension": ".py",
   "mimetype": "text/x-python",
   "name": "python",
   "nbconvert_exporter": "python",
   "pygments_lexer": "ipython3",
   "version": "3.6.6"
  }
 },
 "nbformat": 4,
 "nbformat_minor": 2
}
