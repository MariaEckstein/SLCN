{
 "cells": [
  {
   "cell_type": "code",
   "execution_count": 1,
   "metadata": {},
   "outputs": [],
   "source": [
    "debug = False  # Faster version for code testing\n",
    "predicted_feature = 'PreciseYrs'  # Can be 'PreciseYrs', 'PDS', 'meanT'\n",
    "subset_age_group = 'adults_only'  # can be 'children_only', 'adults_only', 'all'"
   ]
  },
  {
   "cell_type": "markdown",
   "metadata": {},
   "source": [
    "# Imports"
   ]
  },
  {
   "cell_type": "code",
   "execution_count": 2,
   "metadata": {},
   "outputs": [],
   "source": [
    "import matplotlib.pyplot as plt\n",
    "import numpy as np\n",
    "import os\n",
    "import pandas as pd\n",
    "import plotnine as gg\n",
    "gg.theme_set(gg.theme_classic)\n",
    "from sklearn.linear_model import Ridge, RidgeCV\n",
    "from sklearn.preprocessing import PolynomialFeatures\n",
    "# from sklearn.model_selection import GridSearchCV, RepeatedKFold\n",
    "from sklearn.compose import TransformedTargetRegressor"
   ]
  },
  {
   "cell_type": "code",
   "execution_count": 3,
   "metadata": {},
   "outputs": [],
   "source": [
    "from Functions import get_ages_cols, name_from_index, get_param_names, get_category_dict, get_category_from_feature, \\\n",
    "RepeatableGridSearchCV, make_gridder_pd"
   ]
  },
  {
   "cell_type": "markdown",
   "metadata": {},
   "source": [
    "## Directories etc."
   ]
  },
  {
   "cell_type": "code",
   "execution_count": 4,
   "metadata": {},
   "outputs": [],
   "source": [
    "data_save_path = \"C:/Users/maria/MEGAsync/SLCNdata/Meta/all_data\"\n",
    "plot_save_path = \"C:/Users/maria/MEGAsync/SLCN/MetaSLCNPlots\"\n",
    "if not os.path.exists(plot_save_path):\n",
    "    os.makedirs(plot_save_path)"
   ]
  },
  {
   "cell_type": "code",
   "execution_count": 5,
   "metadata": {},
   "outputs": [],
   "source": [
    "gridder_source = 'make'\n",
    "gridder_path = os.path.join(data_save_path, 'all_gridders_{}.csv'.format(predicted_feature))"
   ]
  },
  {
   "cell_type": "markdown",
   "metadata": {},
   "source": [
    "# Get data"
   ]
  },
  {
   "cell_type": "code",
   "execution_count": 6,
   "metadata": {},
   "outputs": [],
   "source": [
    "all_data = pd.read_csv(os.path.join(data_save_path, 'all_data.csv'), index_col=0)\n",
    "all_data_z = pd.read_csv(os.path.join(data_save_path, 'all_data_z.csv'), index_col=0)\n",
    "all_data_long = pd.read_csv(os.path.join(data_save_path, 'all_data_long.csv'), index_col=0)\n",
    "all_data_long_z = pd.read_csv(os.path.join(data_save_path, 'all_data_long_z.csv'), index_col=0)\n",
    "# fit_pd_all = pd.read_csv(os.path.join(data_save_path, 'fit_pd_all.csv'), index_col=0)\n",
    "# loadings_long_all = pd.read_csv(os.path.join(data_save_path, 'loadings_long_all.csv'), index_col=0)\n",
    "ages_dir = \"C:/Users/maria/MEGAsync/SLCNdata/SLCNinfo2.csv\"\n",
    "ages = pd.read_csv(os.path.join(ages_dir))"
   ]
  },
  {
   "cell_type": "code",
   "execution_count": 7,
   "metadata": {},
   "outputs": [],
   "source": [
    "if subset_age_group == 'children_only':\n",
    "    all_data = all_data.loc[all_data['PreciseYrs'] < 18]\n",
    "    all_data_z = all_data_z.loc[all_data_z['PreciseYrs'] < 18]\n",
    "    all_data_long = all_data_long.loc[all_data_long['PreciseYrs'] < 18]\n",
    "    all_data_long_z = all_data_long_z.loc[all_data_long_z['PreciseYrs'] < 18]\n",
    "    ages = ages.loc[ages['PreciseYrs'] < 18]\n",
    "elif subset_age_group == 'adults_only':\n",
    "    all_data = all_data.loc[all_data['PreciseYrs'] >= 18]\n",
    "    all_data_z = all_data_z.loc[all_data_z['PreciseYrs'] >= 18]\n",
    "    all_data_long = all_data_long.loc[all_data_long['PreciseYrs'] >= 18]\n",
    "    all_data_long_z = all_data_long_z.loc[all_data_long_z['PreciseYrs'] >= 18]\n",
    "    ages = ages.loc[ages['PreciseYrs'] >= 18]\n",
    "elif subset_age_group == 'all':\n",
    "    pass\n",
    "else:\n",
    "    raise ValueError('Variable \"subset_age_group\" must be one of \"children_only\", \"adults_only\", or \"all\"')"
   ]
  },
  {
   "cell_type": "code",
   "execution_count": 8,
   "metadata": {
    "scrolled": true
   },
   "outputs": [],
   "source": [
    "# param_cols = list(set([c for c in all_data.columns for p in get_param_names() if p in c]))\n",
    "ages_cols = get_ages_cols()\n",
    "param_names = get_param_names()\n",
    "category_dict = get_category_dict()"
   ]
  },
  {
   "cell_type": "markdown",
   "metadata": {},
   "source": [
    "# Sources\n",
    "https://scikit-learn.org/stable/auto_examples/inspection/plot_linear_model_coefficient_interpretation.html -> Using `TransformedTargetRegressor` to get coefficients while doing repeated CV"
   ]
  },
  {
   "cell_type": "markdown",
   "metadata": {},
   "source": [
    "## Predict age using regularized regression"
   ]
  },
  {
   "cell_type": "markdown",
   "metadata": {},
   "source": [
    "### Ridge regression\n",
    "* L2-norm (returns small but non-zero coefficients)\n",
    "* It is majorly used to prevent overfitting. Since it includes all the features, it is not very useful in case of exorbitantly high #features, say in millions, as it will pose computational challenges.\n",
    "* It generally works well even in presence of highly correlated features as it will include all of them in the model but the coefficients will be distributed among them depending on the correlation.\n",
    "\n",
    "### Lasso regression\n",
    "* L1-norm (sparse; tries to get many coefficients 0)\n",
    "* It arbitrarily selects any one feature among the highly correlated ones and reduced the coefficients of the rest to zero. Also, the chosen variable changes randomly with change in model parameters. This generally doesn’t work that well as compared to ridge regression.\n",
    "* Since it provides sparse solutions, it is generally the model of choice (or some variant of this concept) for modelling cases where the #features are in millions or more. In such a case, getting a sparse solution is of great computational advantage as the features with zero coefficients can simply be ignored.\n",
    "\n",
    "### Conclusion\n",
    "* Ridge might be better because of how it deals with correlated features"
   ]
  },
  {
   "cell_type": "markdown",
   "metadata": {},
   "source": [
    "## Define functions to prepare regression data (raw features, polynomial features, data subsets)"
   ]
  },
  {
   "cell_type": "code",
   "execution_count": 9,
   "metadata": {
    "scrolled": true
   },
   "outputs": [],
   "source": [
    "def get_poly_regr_task(regr_X, task_name, poly_degree=2):\n",
    "    \n",
    "    \"\"\"\n",
    "    Take data of one task and add all interactions and squared features.\n",
    "    \"\"\"\n",
    "    \n",
    "    task_cols = [c for c in regr_X.columns if task_name in c]\n",
    "    poly = PolynomialFeatures(poly_degree, include_bias=False)\n",
    "    regr_poly_task = poly.fit_transform(regr_X[task_cols])\n",
    "    regr_poly_task = pd.DataFrame(regr_poly_task, columns=poly.get_feature_names(task_cols))\n",
    "    regr_poly_task['sid'] = regr_X.index\n",
    "    \n",
    "    return regr_poly_task\n",
    "\n",
    "# # Example use\n",
    "# get_poly_regr_task(regr_X_raw, '_')  # to get ALL polynomial features\n",
    "# get_poly_regr_task(regr_X_raw, 'ps_')  # to polynomial features of probswitch only\n",
    "\n",
    "# # param_cols = [c for c in all_data_z.columns for p in param_names if p in c]"
   ]
  },
  {
   "cell_type": "code",
   "execution_count": 10,
   "metadata": {
    "scrolled": true
   },
   "outputs": [],
   "source": [
    "def get_poly_regr_data(regr_X, method):\n",
    "    \n",
    "    \"\"\"\n",
    "    Take data of all tasks and add squared features and feature interactions (but only within each task).\n",
    "    \"\"\"\n",
    "    \n",
    "    if method == 'within_tasks':\n",
    "        \n",
    "        task_names = ['bf_', 'ps_', 'rl_']\n",
    "        poly_regr_dat = get_poly_regr_task(regr_X, task_names[0])\n",
    "\n",
    "        for task_name in task_names[1:]:\n",
    "\n",
    "            poly_regr_task = get_poly_regr_task(regr_X, task_name)\n",
    "            poly_regr_dat = pd.merge(poly_regr_dat, poly_regr_task, on=['sid'])\n",
    "        \n",
    "    elif method == 'all':\n",
    "        \n",
    "        poly_regr_dat = get_poly_regr_task(regr_X, '_')\n",
    "        \n",
    "    else:\n",
    "        \n",
    "        raise ValueError('Method argument must be either \"within_tasks\" or \"all\".')\n",
    "\n",
    "    poly_regr_dat = poly_regr_dat.set_index('sid')\n",
    "    \n",
    "    return poly_regr_dat\n",
    "\n",
    "# # Example Use\n",
    "# poly_X_all = get_poly_regr_data(regr_X_raw, 'all')\n",
    "# poly_X_within = get_poly_regr_data(regr_X_raw, 'within_tasks')\n",
    "# print('Number of polynomial features: {}'.format(poly_X_all.shape[1]))\n",
    "# for i in range(30, 700, 30):\n",
    "#     print(poly_X_all.columns[i-30:i])"
   ]
  },
  {
   "cell_type": "code",
   "execution_count": 11,
   "metadata": {},
   "outputs": [],
   "source": [
    "def get_regr_data(data, data_sub, model_name, bool_pc=False, ages=None):\n",
    "    \n",
    "    \"\"\"\n",
    "    'raw': Subset data to get the data that is used in the regression model (behavioral and parameter features).\n",
    "    'pc': Subset data to get data (PCs based on behavioral and parameter features).\n",
    "    \"\"\"\n",
    "    \n",
    "    # Subset columns (all, params only, behavior only)\n",
    "    param_cols = list(set([c for c in data.columns for p in param_names if p in c]))\n",
    "    beh_cols = list(set([c for c in data.columns if c not in param_cols]))\n",
    "\n",
    "    if data_sub == 'all':\n",
    "        sub_dat = data.copy()\n",
    "    elif data_sub == 'param':\n",
    "        sub_dat = data[ages_cols + param_cols]\n",
    "    elif data_sub == 'beh':\n",
    "        sub_dat = data[beh_cols]\n",
    "    else:\n",
    "        raise ValueError('data_sub must be \"all\", \"param\", or \"beh\".')\n",
    "        \n",
    "    # Take care of PC features\n",
    "    if bool_pc:\n",
    "        regr_dat = pd.merge(sub_dat, ages).drop(columns=[c for c in ages.columns if (c != 'ID') and (c != predicted_feature)])  # PCs\n",
    "    else:\n",
    "        a_cols = [a for a in ages_cols if not a in [predicted_feature, 'ID']]\n",
    "        regr_dat = sub_dat[[c for c in sub_dat.columns if c not in a_cols]]  # behaviors\n",
    "\n",
    "    # HEART: Get regr_dat, X, and y\n",
    "    regr_dat = regr_dat.dropna().set_index('ID')\n",
    "    regr_X = regr_dat.drop(columns=predicted_feature)\n",
    "    regr_y = regr_dat[predicted_feature]\n",
    "    \n",
    "    # Get raw / polynomial data\n",
    "    y = regr_y.copy()\n",
    "    if model_name == 'raw':\n",
    "        X = regr_X.copy()\n",
    "    elif model_name == 'poly_all':\n",
    "        X = get_poly_regr_data(regr_X, 'all')\n",
    "    elif model_name == 'poly_within':\n",
    "        X = get_poly_regr_data(regr_X, 'within_tasks')\n",
    "    else:\n",
    "        raise ValueError('model_name must be \"poly_all\", \"poly_within\", or \"raw\".')\n",
    "    print('Number of features: {}'.format(X.shape[1]))\n",
    "\n",
    "    return regr_dat, X, y\n",
    "\n",
    "# # Example Use\n",
    "# regr_dat, X, y = get_regr_data(all_data_z, data_sub='all', model_name='poly_all')\n",
    "# regr_dat_pc, regr_X_pc, regr_y_pc = get_regr_data(fit_pd_all, data_sub='all', model_name='raw', bool_pc=True, ages=ages)"
   ]
  },
  {
   "cell_type": "markdown",
   "metadata": {},
   "source": [
    "## Define functions for repeated k-fold regression"
   ]
  },
  {
   "cell_type": "code",
   "execution_count": 12,
   "metadata": {},
   "outputs": [],
   "source": [
    "# class RepeatableGridSearchCV:\n",
    "    \n",
    "#     \"\"\" Wrapper class for GridSearchCV with RepeatedKFold.\n",
    "#     \"\"\"\n",
    "    \n",
    "#     def __init__(\n",
    "#         self,\n",
    "#         model,\n",
    "#         parameters,\n",
    "#         n_splits=20,\n",
    "#         n_repeats=10,\n",
    "#         random_state=None,\n",
    "#         n_jobs=-1,\n",
    "#         scoring=None,\n",
    "#         refit=True,\n",
    "#     ):\n",
    "        \n",
    "#         # cv or repeated cv?\n",
    "#         if n_repeats == 1:\n",
    "#             cv = n_splits\n",
    "#         else:\n",
    "#             cv = RepeatedKFold(\n",
    "#                 n_splits=n_splits, n_repeats=n_repeats, random_state=random_state\n",
    "#             )\n",
    "        \n",
    "#         # setup the grid search; done\n",
    "#         gridder = GridSearchCV(\n",
    "#             model, parameters, cv=cv, n_jobs=n_jobs, scoring=scoring, refit=refit\n",
    "#         )\n",
    "#         self._gridder = gridder\n",
    "    \n",
    "#     def __getattr__(self, attr):\n",
    "        \n",
    "#         \"\"\" Expose all attributes from GridSearchCV \"\"\"\n",
    "        \n",
    "#         return getattr(self._gridder, attr)"
   ]
  },
  {
   "cell_type": "code",
   "execution_count": 13,
   "metadata": {
    "scrolled": true
   },
   "outputs": [],
   "source": [
    "# def make_gridder_pd(gridder):\n",
    "    \n",
    "#     return pd.DataFrame({\n",
    "#         name: gridder.cv_results_[name]\n",
    "#         for name in ['mean_test_score', 'std_test_score', 'param_alpha']  #, 'mean_train_score', 'std_train_score']\n",
    "#     })\n",
    "\n",
    "# # # Example use\n",
    "# # make_gridder_pd(gridder)"
   ]
  },
  {
   "cell_type": "code",
   "execution_count": 14,
   "metadata": {
    "scrolled": true
   },
   "outputs": [],
   "source": [
    "def make_gridder_long(gridder_results):\n",
    "    \n",
    "    gridder_long = pd.melt(gridder_results, id_vars=['param_alpha', 'model_name', 'data_sub', 'n_splits'], var_name='score_name', value_name='score')\n",
    "    gridder_long['stat'] = gridder_long['score_name'].apply(lambda x: x.split('_')[0])\n",
    "#     gridder_long['train_test'] = gridder_long['score_name'].apply(lambda x: x.split('_')[1])\n",
    "    \n",
    "    return gridder_long\n",
    "\n",
    "# # Example use\n",
    "# make_gridder_long(all_gridders)"
   ]
  },
  {
   "cell_type": "markdown",
   "metadata": {},
   "source": [
    "## Define functions for predicted ages and fitted coefficients"
   ]
  },
  {
   "cell_type": "code",
   "execution_count": 15,
   "metadata": {},
   "outputs": [],
   "source": [
    "def get_poly_task(pred):\n",
    "    \n",
    "    if ' ' in pred:  # Interaction between two tasks\n",
    "        p0, p1 = pred.split(' ')\n",
    "        task = p0[:2] + '_' + p1[:2]\n",
    "\n",
    "    elif '^2' in pred:\n",
    "        task = pred[:2] + '^2'\n",
    "\n",
    "    else:  # Just one task\n",
    "        task = pred[:2]\n",
    "    \n",
    "    return task\n",
    "\n",
    "# # Example use\n",
    "# get_poly_task(lin_reg_result_raw_poly['predictor'][5])"
   ]
  },
  {
   "cell_type": "code",
   "execution_count": 16,
   "metadata": {},
   "outputs": [],
   "source": [
    "def get_poly_pure_int_2(pred):\n",
    "    \n",
    "    if ' ' in pred:  # Interaction between two tasks\n",
    "        pure_int_2 = 'interaction'\n",
    "\n",
    "    elif '^2' in pred:\n",
    "        pure_int_2 = '^2'\n",
    "\n",
    "    else:  # Just one task\n",
    "        pure_int_2 = 'pure'\n",
    "        \n",
    "    return pure_int_2\n",
    "\n",
    "# # Example use\n",
    "# get_poly_pure_int_2(lin_reg_result_raw_poly['predictor'][5])"
   ]
  },
  {
   "cell_type": "code",
   "execution_count": 17,
   "metadata": {
    "scrolled": true
   },
   "outputs": [],
   "source": [
    "def beautify_coefs(coefs, name):\n",
    "    \n",
    "    if name == 'pc':\n",
    "        coefs['predictor_cat'] = coefs['predictor'].apply(lambda x : int(x[2:]))\n",
    "\n",
    "    else:\n",
    "        # Sort predictors by coefficient value\n",
    "        coefs = coefs.sort_values(by='coef')\n",
    "        coefs = coefs.reset_index(drop=True)\n",
    "        coefs['predictor_cat'] = pd.Categorical(coefs['predictor'], categories=coefs['predictor'])\n",
    "\n",
    "    # Add info in extra columns\n",
    "    coefs['category'] = get_category_from_feature(coefs['predictor'], category_dict)\n",
    "    coefs['task'] = coefs.predictor.apply(lambda x : x[:2])\n",
    "#     pc0 = loadings_long_all.loc[loadings_long_all.PC == 0, ['index', 'pc<0>']]\n",
    "#     coefs = pd.merge(pc0.rename(columns={'index': 'predictor'}), coefs)#, how='outer')  # add pc<0> column\n",
    "\n",
    "    coefs['poly_task'] = coefs['predictor'].apply(get_poly_task)\n",
    "    coefs['pure_int_2'] = coefs['predictor'].apply(get_poly_pure_int_2)\n",
    "    \n",
    "    return coefs\n",
    "\n",
    "# # Example use\n",
    "# beautify_coefs(coefs_row, 'raw')"
   ]
  },
  {
   "cell_type": "markdown",
   "metadata": {},
   "source": [
    "## Run the code"
   ]
  },
  {
   "cell_type": "code",
   "execution_count": 18,
   "metadata": {},
   "outputs": [],
   "source": [
    "# Define model for gridder\n",
    "model = Ridge()\n",
    "n_repeats = 100\n",
    "n_splitss = np.append(np.arange(2, 8), np.arange(9, 20, 2))\n",
    "scoring = 'r2'  # 'r2', 'neg_mean_squared_error'\n",
    "param_grid = {'alpha': [0, 10, 50, 100, 500, 1000, 5000, 10000, 50000, 100000, 500000]}\n",
    "regr_model_names = ['poly_all', 'poly_within', 'raw']\n",
    "\n",
    "if debug:\n",
    "    n_repeats = 2\n",
    "    n_splitss = [3,]\n",
    "    param_grid = {'alpha': [0, 50]}\n",
    "    regr_model_names = ['raw', 'poly_within']"
   ]
  },
  {
   "cell_type": "code",
   "execution_count": 19,
   "metadata": {
    "scrolled": true
   },
   "outputs": [
    {
     "name": "stdout",
     "output_type": "stream",
     "text": [
      "Data: all         \n",
      "Model: poly_all        \n",
      "Number of features: 1952\n",
      "Model: poly_within        \n",
      "Number of features: 722\n",
      "Model: raw        \n",
      "Number of features: 61\n",
      "Data: param         \n",
      "Model: poly_all        \n",
      "Number of features: 135\n",
      "Model: poly_within        \n",
      "Number of features: 63\n",
      "Model: raw        \n",
      "Number of features: 15\n",
      "Data: beh         \n",
      "Model: poly_all        \n",
      "Number of features: 1127\n",
      "Model: poly_within        \n",
      "Number of features: 431\n",
      "Model: raw        \n",
      "Number of features: 46\n",
      "11/12 splits\r"
     ]
    },
    {
     "data": {
      "text/html": [
       "<div>\n",
       "<style scoped>\n",
       "    .dataframe tbody tr th:only-of-type {\n",
       "        vertical-align: middle;\n",
       "    }\n",
       "\n",
       "    .dataframe tbody tr th {\n",
       "        vertical-align: top;\n",
       "    }\n",
       "\n",
       "    .dataframe thead th {\n",
       "        text-align: right;\n",
       "    }\n",
       "</style>\n",
       "<table border=\"1\" class=\"dataframe\">\n",
       "  <thead>\n",
       "    <tr style=\"text-align: right;\">\n",
       "      <th></th>\n",
       "      <th>mean_test_score</th>\n",
       "      <th>std_test_score</th>\n",
       "      <th>param_alpha</th>\n",
       "      <th>data_sub</th>\n",
       "      <th>model_name</th>\n",
       "      <th>n_splits</th>\n",
       "    </tr>\n",
       "  </thead>\n",
       "  <tbody>\n",
       "    <tr>\n",
       "      <th>0</th>\n",
       "      <td>-0.400931</td>\n",
       "      <td>0.265797</td>\n",
       "      <td>0</td>\n",
       "      <td>all</td>\n",
       "      <td>poly_all</td>\n",
       "      <td>2</td>\n",
       "    </tr>\n",
       "    <tr>\n",
       "      <th>1</th>\n",
       "      <td>-0.382727</td>\n",
       "      <td>0.256680</td>\n",
       "      <td>10</td>\n",
       "      <td>all</td>\n",
       "      <td>poly_all</td>\n",
       "      <td>2</td>\n",
       "    </tr>\n",
       "    <tr>\n",
       "      <th>2</th>\n",
       "      <td>-0.323636</td>\n",
       "      <td>0.227366</td>\n",
       "      <td>50</td>\n",
       "      <td>all</td>\n",
       "      <td>poly_all</td>\n",
       "      <td>2</td>\n",
       "    </tr>\n",
       "    <tr>\n",
       "      <th>3</th>\n",
       "      <td>-0.270721</td>\n",
       "      <td>0.201530</td>\n",
       "      <td>100</td>\n",
       "      <td>all</td>\n",
       "      <td>poly_all</td>\n",
       "      <td>2</td>\n",
       "    </tr>\n",
       "    <tr>\n",
       "      <th>4</th>\n",
       "      <td>-0.112234</td>\n",
       "      <td>0.126178</td>\n",
       "      <td>500</td>\n",
       "      <td>all</td>\n",
       "      <td>poly_all</td>\n",
       "      <td>2</td>\n",
       "    </tr>\n",
       "    <tr>\n",
       "      <th>...</th>\n",
       "      <td>...</td>\n",
       "      <td>...</td>\n",
       "      <td>...</td>\n",
       "      <td>...</td>\n",
       "      <td>...</td>\n",
       "      <td>...</td>\n",
       "    </tr>\n",
       "    <tr>\n",
       "      <th>1183</th>\n",
       "      <td>-0.750367</td>\n",
       "      <td>2.819774</td>\n",
       "      <td>5000</td>\n",
       "      <td>beh</td>\n",
       "      <td>raw</td>\n",
       "      <td>19</td>\n",
       "    </tr>\n",
       "    <tr>\n",
       "      <th>1184</th>\n",
       "      <td>-0.746795</td>\n",
       "      <td>2.812928</td>\n",
       "      <td>10000</td>\n",
       "      <td>beh</td>\n",
       "      <td>raw</td>\n",
       "      <td>19</td>\n",
       "    </tr>\n",
       "    <tr>\n",
       "      <th>1185</th>\n",
       "      <td>-0.743842</td>\n",
       "      <td>2.807710</td>\n",
       "      <td>50000</td>\n",
       "      <td>beh</td>\n",
       "      <td>raw</td>\n",
       "      <td>19</td>\n",
       "    </tr>\n",
       "    <tr>\n",
       "      <th>1186</th>\n",
       "      <td>-0.743467</td>\n",
       "      <td>2.807080</td>\n",
       "      <td>100000</td>\n",
       "      <td>beh</td>\n",
       "      <td>raw</td>\n",
       "      <td>19</td>\n",
       "    </tr>\n",
       "    <tr>\n",
       "      <th>1187</th>\n",
       "      <td>-0.743166</td>\n",
       "      <td>2.806580</td>\n",
       "      <td>500000</td>\n",
       "      <td>beh</td>\n",
       "      <td>raw</td>\n",
       "      <td>19</td>\n",
       "    </tr>\n",
       "  </tbody>\n",
       "</table>\n",
       "<p>1188 rows × 6 columns</p>\n",
       "</div>"
      ],
      "text/plain": [
       "      mean_test_score  std_test_score param_alpha data_sub model_name  \\\n",
       "0           -0.400931        0.265797           0      all   poly_all   \n",
       "1           -0.382727        0.256680          10      all   poly_all   \n",
       "2           -0.323636        0.227366          50      all   poly_all   \n",
       "3           -0.270721        0.201530         100      all   poly_all   \n",
       "4           -0.112234        0.126178         500      all   poly_all   \n",
       "...               ...             ...         ...      ...        ...   \n",
       "1183        -0.750367        2.819774        5000      beh        raw   \n",
       "1184        -0.746795        2.812928       10000      beh        raw   \n",
       "1185        -0.743842        2.807710       50000      beh        raw   \n",
       "1186        -0.743467        2.807080      100000      beh        raw   \n",
       "1187        -0.743166        2.806580      500000      beh        raw   \n",
       "\n",
       "      n_splits  \n",
       "0            2  \n",
       "1            2  \n",
       "2            2  \n",
       "3            2  \n",
       "4            2  \n",
       "...        ...  \n",
       "1183        19  \n",
       "1184        19  \n",
       "1185        19  \n",
       "1186        19  \n",
       "1187        19  \n",
       "\n",
       "[1188 rows x 6 columns]"
      ]
     },
     "execution_count": 19,
     "metadata": {},
     "output_type": "execute_result"
    }
   ],
   "source": [
    "if gridder_source == 'make':\n",
    "    all_gridders = pd.DataFrame()\n",
    "    \n",
    "    for data_sub in ['all', 'param', 'beh']:\n",
    "        print(\"Data: {}         \".format(data_sub))\n",
    "\n",
    "        for model_name in regr_model_names:\n",
    "            print(\"Model: {}        \".format(model_name))\n",
    "\n",
    "            regr_dat, X, y = get_regr_data(all_data_z, data_sub=data_sub, model_name=model_name)\n",
    "\n",
    "            # Fit gridder thing to get best hyper-parameters\n",
    "            for i, n_splits in enumerate(n_splitss):\n",
    "                print(\"{}/{} splits\".format(i, len(n_splitss)), end='\\r')\n",
    "\n",
    "                gridder = RepeatableGridSearchCV(model, param_grid, n_repeats=n_repeats, n_splits=n_splits, scoring=scoring)\n",
    "                gridder.fit(X, y)\n",
    "\n",
    "                gridder_results = make_gridder_pd(gridder)\n",
    "                gridder_results['data_sub'] = data_sub\n",
    "                gridder_results['model_name'] = model_name\n",
    "                gridder_results['n_splits'] = n_splits\n",
    "                all_gridders = all_gridders.append(gridder_results)\n",
    "\n",
    "    # Save as csv\n",
    "    all_gridders = all_gridders.reset_index(drop=True)\n",
    "    all_gridders.to_csv(gridder_path)\n",
    "\n",
    "elif gridder_source == 'load':\n",
    "    \n",
    "    # Load csv\n",
    "    all_gridders = pd.read_csv(gridder_path, index_col=0)    \n",
    "    \n",
    "all_gridders"
   ]
  },
  {
   "cell_type": "code",
   "execution_count": 20,
   "metadata": {
    "scrolled": true
   },
   "outputs": [
    {
     "data": {
      "image/png": "[encoded data removed]",
      "text/plain": [
       "<Figure size 1200x400 with 18 Axes>"
      ]
     },
     "metadata": {},
     "output_type": "display_data"
    },
    {
     "name": "stdout",
     "output_type": "stream",
     "text": [
      "<ggplot: (132333238754)>\n"
     ]
    },
    {
     "name": "stderr",
     "output_type": "stream",
     "text": [
      "C:\\Users\\maria\\Anaconda3\\envs\\notebooks\\lib\\site-packages\\plotnine\\ggplot.py:727: PlotnineWarning: Saving 12 x 4 in image.\n",
      "C:\\Users\\maria\\Anaconda3\\envs\\notebooks\\lib\\site-packages\\plotnine\\ggplot.py:730: PlotnineWarning: Filename: C:/Users/maria/MEGAsync/SLCN/MetaSLCNPlots\\5_RepeatGridSearchCV_PreciseYrs_adults_only.png\n"
     ]
    }
   ],
   "source": [
    "# Get data\n",
    "gridder_long = make_gridder_long(all_gridders)\n",
    "\n",
    "# Plot\n",
    "gg.options.figure_size = (12, 4)\n",
    "g = (gg.ggplot(\n",
    "    gridder_long,\n",
    "    gg.aes('factor(param_alpha)', 'score', color='n_splits', group='n_splits'))\n",
    "     + gg.geom_point()\n",
    "     + gg.geom_line()\n",
    "     + gg.coord_cartesian(ylim=(0, 0.3))\n",
    "     + gg.theme(axis_text_x=gg.element_text(rotation=90, hjust=0.5))\n",
    "     + gg.labs(x='Alpha', y='R^2')\n",
    "     + gg.facet_grid('stat ~ data_sub + model_name')\n",
    "    )\n",
    "gg.options.figure_size = (5, 5)\n",
    "print(g)\n",
    "g.save(os.path.join(plot_save_path, '5_RepeatGridSearchCV_{}_{}.png'.format(predicted_feature, subset_age_group)))"
   ]
  },
  {
   "cell_type": "code",
   "execution_count": 21,
   "metadata": {},
   "outputs": [
    {
     "data": {
      "text/html": [
       "<div>\n",
       "<style scoped>\n",
       "    .dataframe tbody tr th:only-of-type {\n",
       "        vertical-align: middle;\n",
       "    }\n",
       "\n",
       "    .dataframe tbody tr th {\n",
       "        vertical-align: top;\n",
       "    }\n",
       "\n",
       "    .dataframe thead th {\n",
       "        text-align: right;\n",
       "    }\n",
       "</style>\n",
       "<table border=\"1\" class=\"dataframe\">\n",
       "  <thead>\n",
       "    <tr style=\"text-align: right;\">\n",
       "      <th></th>\n",
       "      <th>model_name</th>\n",
       "      <th>data_sub</th>\n",
       "      <th>param_alpha</th>\n",
       "      <th>n_splits</th>\n",
       "      <th>mean_test_score</th>\n",
       "      <th>std_test_score</th>\n",
       "    </tr>\n",
       "  </thead>\n",
       "  <tbody>\n",
       "    <tr>\n",
       "      <th>0</th>\n",
       "      <td>poly_all</td>\n",
       "      <td>all</td>\n",
       "      <td>10000</td>\n",
       "      <td>4</td>\n",
       "      <td>-0.013863</td>\n",
       "      <td>0.083628</td>\n",
       "    </tr>\n",
       "    <tr>\n",
       "      <th>1</th>\n",
       "      <td>poly_within</td>\n",
       "      <td>all</td>\n",
       "      <td>500000</td>\n",
       "      <td>2</td>\n",
       "      <td>-0.043306</td>\n",
       "      <td>0.057311</td>\n",
       "    </tr>\n",
       "    <tr>\n",
       "      <th>2</th>\n",
       "      <td>raw</td>\n",
       "      <td>all</td>\n",
       "      <td>500000</td>\n",
       "      <td>2</td>\n",
       "      <td>-0.034320</td>\n",
       "      <td>0.045598</td>\n",
       "    </tr>\n",
       "    <tr>\n",
       "      <th>3</th>\n",
       "      <td>poly_all</td>\n",
       "      <td>param</td>\n",
       "      <td>50000</td>\n",
       "      <td>2</td>\n",
       "      <td>-0.030965</td>\n",
       "      <td>0.044579</td>\n",
       "    </tr>\n",
       "    <tr>\n",
       "      <th>4</th>\n",
       "      <td>poly_within</td>\n",
       "      <td>param</td>\n",
       "      <td>500000</td>\n",
       "      <td>2</td>\n",
       "      <td>-0.043037</td>\n",
       "      <td>0.077251</td>\n",
       "    </tr>\n",
       "    <tr>\n",
       "      <th>5</th>\n",
       "      <td>raw</td>\n",
       "      <td>param</td>\n",
       "      <td>500000</td>\n",
       "      <td>2</td>\n",
       "      <td>-0.035320</td>\n",
       "      <td>0.047231</td>\n",
       "    </tr>\n",
       "    <tr>\n",
       "      <th>6</th>\n",
       "      <td>poly_all</td>\n",
       "      <td>beh</td>\n",
       "      <td>10000</td>\n",
       "      <td>3</td>\n",
       "      <td>-0.019642</td>\n",
       "      <td>0.068005</td>\n",
       "    </tr>\n",
       "    <tr>\n",
       "      <th>7</th>\n",
       "      <td>poly_within</td>\n",
       "      <td>beh</td>\n",
       "      <td>50000</td>\n",
       "      <td>2</td>\n",
       "      <td>-0.038915</td>\n",
       "      <td>0.051607</td>\n",
       "    </tr>\n",
       "    <tr>\n",
       "      <th>8</th>\n",
       "      <td>raw</td>\n",
       "      <td>beh</td>\n",
       "      <td>500000</td>\n",
       "      <td>2</td>\n",
       "      <td>-0.030973</td>\n",
       "      <td>0.045746</td>\n",
       "    </tr>\n",
       "  </tbody>\n",
       "</table>\n",
       "</div>"
      ],
      "text/plain": [
       "    model_name data_sub param_alpha  n_splits  mean_test_score  std_test_score\n",
       "0     poly_all      all       10000         4        -0.013863        0.083628\n",
       "1  poly_within      all      500000         2        -0.043306        0.057311\n",
       "2          raw      all      500000         2        -0.034320        0.045598\n",
       "3     poly_all    param       50000         2        -0.030965        0.044579\n",
       "4  poly_within    param      500000         2        -0.043037        0.077251\n",
       "5          raw    param      500000         2        -0.035320        0.047231\n",
       "6     poly_all      beh       10000         3        -0.019642        0.068005\n",
       "7  poly_within      beh       50000         2        -0.038915        0.051607\n",
       "8          raw      beh      500000         2        -0.030973        0.045746"
      ]
     },
     "execution_count": 21,
     "metadata": {},
     "output_type": "execute_result"
    }
   ],
   "source": [
    "best_scores = all_gridders.groupby(['model_name', 'data_sub']).aggregate('max').reset_index()[['model_name', 'data_sub', 'mean_test_score']]\n",
    "best_models = all_gridders.loc[all_gridders.mean_test_score.isin(best_scores.mean_test_score.values)]\n",
    "best_models = best_models[\n",
    "    ['model_name', 'data_sub', 'param_alpha', 'n_splits', 'mean_test_score', 'std_test_score']  # , 'mean_train_score', 'std_train_score'\n",
    "].reset_index(drop=True)\n",
    "best_models"
   ]
  },
  {
   "cell_type": "code",
   "execution_count": 22,
   "metadata": {},
   "outputs": [
    {
     "data": {
      "image/png": "[encoded data removed]",
      "text/plain": [
       "<Figure size 500x500 with 3 Axes>"
      ]
     },
     "metadata": {},
     "output_type": "display_data"
    },
    {
     "name": "stdout",
     "output_type": "stream",
     "text": [
      "<ggplot: (132333207293)>\n"
     ]
    },
    {
     "name": "stderr",
     "output_type": "stream",
     "text": [
      "C:\\Users\\maria\\Anaconda3\\envs\\notebooks\\lib\\site-packages\\plotnine\\ggplot.py:727: PlotnineWarning: Saving 5 x 5 in image.\n",
      "C:\\Users\\maria\\Anaconda3\\envs\\notebooks\\lib\\site-packages\\plotnine\\ggplot.py:730: PlotnineWarning: Filename: C:/Users/maria/MEGAsync/SLCN/MetaSLCNPlots\\5_R2AllModels_PreciseYrs_adults_only.png\n"
     ]
    }
   ],
   "source": [
    "best_models['ymax'] = best_models.mean_test_score + best_models.std_test_score / np.sqrt(best_models.n_splits)\n",
    "best_models['ymin'] = best_models.mean_test_score - best_models.std_test_score / np.sqrt(best_models.n_splits)\n",
    "\n",
    "g = (gg.ggplot(best_models, gg.aes('data_sub', 'mean_test_score', fill='param_alpha'))\n",
    "     + gg.geom_bar(stat='identity')\n",
    "     + gg.geom_pointrange(gg.aes(ymax='ymax', ymin='ymin'))\n",
    "     + gg.labs(x='', y='R^2')\n",
    "     + gg.facet_grid('~ model_name')\n",
    "    )\n",
    "print(g)\n",
    "g.save(os.path.join(plot_save_path, '5_R2AllModels_{}_{}.png'.format(predicted_feature, subset_age_group)))"
   ]
  },
  {
   "cell_type": "code",
   "execution_count": 23,
   "metadata": {
    "scrolled": true
   },
   "outputs": [
    {
     "name": "stdout",
     "output_type": "stream",
     "text": [
      "all poly_all\n",
      "Number of features: 1952\n"
     ]
    },
    {
     "ename": "NameError",
     "evalue": "name 'RepeatedKFold' is not defined",
     "output_type": "error",
     "traceback": [
      "\u001b[1;31m---------------------------------------------------------------------------\u001b[0m",
      "\u001b[1;31mNameError\u001b[0m                                 Traceback (most recent call last)",
      "\u001b[1;32m<ipython-input-23-e08ee63f344e>\u001b[0m in \u001b[0;36m<module>\u001b[1;34m\u001b[0m\n\u001b[0;32m     13\u001b[0m                     regressor=RidgeCV(\n\u001b[0;32m     14\u001b[0m                         \u001b[0malphas\u001b[0m\u001b[1;33m=\u001b[0m\u001b[1;33m[\u001b[0m\u001b[0mmodel_specs\u001b[0m\u001b[1;33m.\u001b[0m\u001b[0mparam_alpha\u001b[0m\u001b[1;33m.\u001b[0m\u001b[0mvalues\u001b[0m\u001b[1;33m[\u001b[0m\u001b[1;36m0\u001b[0m\u001b[1;33m]\u001b[0m\u001b[1;33m]\u001b[0m\u001b[1;33m,\u001b[0m\u001b[1;33m\u001b[0m\u001b[1;33m\u001b[0m\u001b[0m\n\u001b[1;32m---> 15\u001b[1;33m                         cv=RepeatedKFold(n_splits=model_specs.n_splits.values[0], n_repeats=n_repeats)),\n\u001b[0m\u001b[0;32m     16\u001b[0m         )\n\u001b[0;32m     17\u001b[0m         \u001b[0m_\u001b[0m \u001b[1;33m=\u001b[0m \u001b[0mmodel\u001b[0m\u001b[1;33m.\u001b[0m\u001b[0mfit\u001b[0m\u001b[1;33m(\u001b[0m\u001b[0mX\u001b[0m\u001b[1;33m,\u001b[0m \u001b[0my\u001b[0m\u001b[1;33m)\u001b[0m\u001b[1;33m\u001b[0m\u001b[1;33m\u001b[0m\u001b[0m\n",
      "\u001b[1;31mNameError\u001b[0m: name 'RepeatedKFold' is not defined"
     ]
    }
   ],
   "source": [
    "true_pred = pd.DataFrame()\n",
    "coefs = pd.DataFrame()\n",
    "\n",
    "for data_sub in np.unique(best_models.data_sub):\n",
    "    for model_name in np.unique(best_models.model_name):\n",
    "        print(data_sub, model_name)\n",
    "\n",
    "        regr_dat, X, y = get_regr_data(all_data_z, data_sub=data_sub, model_name=model_name)\n",
    "\n",
    "        # Fit model\n",
    "        model_specs = best_models.loc[(best_models.model_name == model_name) & (best_models.data_sub == data_sub)]\n",
    "        model = TransformedTargetRegressor(  # https://scikit-learn.org/stable/auto_examples/inspection/plot_linear_model_coefficient_interpretation.html\n",
    "                    regressor=RidgeCV(\n",
    "                        alphas=[model_specs.param_alpha.values[0]],\n",
    "                        cv=RepeatedKFold(n_splits=model_specs.n_splits.values[0], n_repeats=n_repeats)),\n",
    "        )\n",
    "        _ = model.fit(X, y)\n",
    "\n",
    "        # Get predictions\n",
    "        y_pred = model.predict(X)\n",
    "        tp_row = pd.DataFrame({'true': y, 'pred': y_pred})\n",
    "        tp_row['model_name'] = model_name\n",
    "        tp_row['data_sub'] = data_sub\n",
    "        true_pred = true_pred.append(tp_row)\n",
    "        \n",
    "        # Get coefficients\n",
    "        coefs_row = pd.DataFrame(\n",
    "            model.regressor_.coef_, columns=['coef'], index=X.columns\n",
    "        ).reset_index().rename(columns={'index': 'predictor'})\n",
    "        coefs_row = beautify_coefs(coefs_row, model_name)\n",
    "        coefs_row['model_name'] = model_name\n",
    "        coefs_row['data_sub'] = data_sub\n",
    "        coefs = coefs.append(coefs_row)\n",
    "        \n",
    "coefs = coefs.reset_index()\n",
    "true_pred = true_pred.reset_index()"
   ]
  },
  {
   "cell_type": "code",
   "execution_count": null,
   "metadata": {
    "scrolled": false
   },
   "outputs": [],
   "source": [
    "g = (gg.ggplot(true_pred, gg.aes('true', 'pred'))\n",
    "     + gg.geom_point(size=0.5)\n",
    "     + gg.geom_smooth(color='red')\n",
    "     + gg.labs(x='True {}'.format(predicted_feature), y='Predicted {}'.format(predicted_feature))\n",
    "     + gg.facet_grid('model_name ~ data_sub')\n",
    "    )\n",
    "print(g)\n",
    "g.save(os.path.join(plot_save_path, '5_TruePredicted{}_{}.png'.format(predicted_feature, subset_age_group)))"
   ]
  },
  {
   "cell_type": "code",
   "execution_count": null,
   "metadata": {
    "scrolled": false
   },
   "outputs": [],
   "source": [
    "gg.options.figure_size = (25, 10)\n",
    "\n",
    "# Plot 1\n",
    "g = (gg.ggplot(coefs.loc[coefs['pure_int_2'] == 'pure'], gg.aes('predictor_cat', 'coef', fill='category'))\n",
    " + gg.geom_bar(stat='identity')\n",
    " + gg.labs(x='', fill='')\n",
    "#  + gg.theme(legend_position='none')\n",
    "#  + gg.scale_x_discrete(limits=x_ticks)\n",
    " + gg.theme(axis_text_x=gg.element_text(rotation=90, hjust=0.5))\n",
    "#  + gg.facet_wrap('~ model_name + data_sub', scales='free')\n",
    " + gg.facet_grid('model_name ~ data_sub', scales='free_x')\n",
    ")\n",
    "print(g)\n",
    "g.save(os.path.join(plot_save_path, '5_Predict{}_Ridge_MainEffects_{}.png'.format(predicted_feature, subset_age_group)))"
   ]
  },
  {
   "cell_type": "code",
   "execution_count": null,
   "metadata": {},
   "outputs": [],
   "source": [
    "coefs['coef_abs'] = np.abs(coefs['coef'])\n",
    "id_cols = ['model_name', 'data_sub']\n",
    "n_coefs_per_group = 15\n",
    "\n",
    "biggest_coefs = coefs.sort_values(\n",
    "    id_cols, ascending=True) \\\n",
    "    .groupby(id_cols, sort=False) \\\n",
    "    .apply(lambda x: x.sort_values(['coef_abs'], ascending=False)) \\\n",
    "    .reset_index(drop=True) \\\n",
    "    .groupby(id_cols, sort=False) \\\n",
    "    .head(n_coefs_per_group) \\\n",
    "    .reset_index(drop=True) \\\n",
    "    .drop(columns='index')\n",
    "biggest_coefs"
   ]
  },
  {
   "cell_type": "code",
   "execution_count": null,
   "metadata": {},
   "outputs": [],
   "source": [
    "g_biggest = g\n",
    "g.data = biggest_coefs\n",
    "print(g)\n",
    "g.save(os.path.join(plot_save_path, '5_Predict{}_Ridge_BiggestCoefs_{}.png'.format(predicted_feature, subset_age_group)))"
   ]
  },
  {
   "cell_type": "markdown",
   "metadata": {},
   "source": [
    "## Old stuff"
   ]
  },
  {
   "cell_type": "code",
   "execution_count": null,
   "metadata": {},
   "outputs": [],
   "source": [
    "# model = TransformedTargetRegressor(\n",
    "#         regressor=RidgeCV(alphas=[50], cv=RepeatedKFold(n_splits=6, n_repeats=n_repeats)),\n",
    "# )\n",
    "# _ = model.fit(regr_X_raw, regr_y_raw)"
   ]
  },
  {
   "cell_type": "code",
   "execution_count": null,
   "metadata": {},
   "outputs": [],
   "source": [
    "# y_pred = model.predict(regr_X_raw)\n",
    "# true_pred = pd.DataFrame({'true': regr_y_raw, 'pred': y_pred})"
   ]
  },
  {
   "cell_type": "code",
   "execution_count": null,
   "metadata": {
    "scrolled": true
   },
   "outputs": [],
   "source": [
    "# coefs = pd.DataFrame(\n",
    "#     model.regressor_.coef_, columns=['coef'], index=regr_X_raw.columns\n",
    "# ).reset_index().rename(columns={'index': 'predictor'})\n",
    "# coefs"
   ]
  },
  {
   "cell_type": "code",
   "execution_count": null,
   "metadata": {},
   "outputs": [],
   "source": [
    "# gg.options.figure_size = (10, 5)\n",
    "# g = (gg.ggplot(coefs, gg.aes('predictor', 'coef'))\n",
    "#      + gg.geom_bar(stat='identity')\n",
    "#      + gg.theme(axis_text_x=gg.element_text(rotation=90, hjust=0.5))\n",
    "#     )\n",
    "# gg.options.figure_size = (5, 5)\n",
    "# g"
   ]
  },
  {
   "cell_type": "code",
   "execution_count": null,
   "metadata": {
    "scrolled": true
   },
   "outputs": [],
   "source": [
    "# def plot_true_predicted(reg, regr_X, regr_y, name):\n",
    "    \n",
    "#     # Make DataFrame with true and predicted values\n",
    "#     pred_y = reg.predict(regr_X)\n",
    "#     linregr_true_pred = pd.DataFrame(np.array([np.array(regr_y), pred_y]).T, columns=('true_y', 'pred_y'))\n",
    "    \n",
    "#     # Calculate R^2\n",
    "#     r2 = skmet.r2_score(regr_y, pred_y)\n",
    "\n",
    "#     # Plot true against predicted\n",
    "#     gg.options.figure_size = (6, 6)\n",
    "#     g = (gg.ggplot(linregr_true_pred, gg.aes('true_y', 'pred_y'))\n",
    "#          + gg.geom_point()\n",
    "#          + gg.geom_smooth()\n",
    "#          + gg.labs(x='True age', y='Predicted age')\n",
    "#          + gg.geom_text(gg.aes(x=5, y=5, label=round(r2, 2)))\n",
    "#     )\n",
    "#     g.save(os.path.join(plot_save_path, '5_PredictAgeRidgeRegrPerf_{}.png'.format(name)))\n",
    "#     print(g)\n",
    "    \n",
    "# # Plot ridge regression results on testing data\n",
    "# plot_true_predicted(reg_raw, regr_X_raw_test, regr_y_raw_test, 'raw')\n",
    "# plot_true_predicted(reg_raw_poly, poly_X_raw_test, regr_y_raw_test, 'raw_poly')\n",
    "# plot_true_predicted(reg_pc, regr_X_pc_test, regr_y_pc_test, 'pc')"
   ]
  },
  {
   "cell_type": "code",
   "execution_count": null,
   "metadata": {
    "scrolled": false
   },
   "outputs": [],
   "source": [
    "# best_alpha = gridder_results.loc[gridder_results.mean_test_score == np.max(gridder_results.mean_test_score), 'alpha']\n",
    "\n",
    "# g = (gg.ggplot(gridder_results, gg.aes('alpha', 'mean_test_score'))\n",
    "#      + gg.geom_point()\n",
    "#      + gg.geom_line()\n",
    "#      + gg.geom_vline(xintercept=best_alpha, linetype='dotted')\n",
    "#      + gg.geom_text(label=best_alpha)\n",
    "#     )\n",
    "# print(g)\n",
    "# print(\"Best alpha: {}\".format(best_alpha.values[0]))"
   ]
  },
  {
   "cell_type": "code",
   "execution_count": null,
   "metadata": {
    "scrolled": true
   },
   "outputs": [],
   "source": [
    "# def make_gridder_long(gridder_results):\n",
    "    \n",
    "#     gridder_long = pd.melt(gridder_results, id_vars='param_alpha', var_name='score_name', value_name='score')\n",
    "#     gridder_long['stat'] = gridder_long['score_name'].apply(lambda x: x.split('_')[0])\n",
    "#     gridder_long['train_test'] = gridder_long['score_name'].apply(lambda x: x.split('_')[1])\n",
    "    \n",
    "#     return gridder_long\n",
    "\n",
    "# # Example use\n",
    "# make_gridder_long(gridder_results)"
   ]
  },
  {
   "cell_type": "code",
   "execution_count": null,
   "metadata": {},
   "outputs": [],
   "source": [
    "# def plot_gridder(gridder_results, n_splits, suf=''):\n",
    "    \n",
    "#     # Get best alpha and std at best alpha\n",
    "#     gridder_long = make_gridder_long(gridder_results)\n",
    "#     best_alpha = gridder_results.loc[gridder_results.mean_test_score == np.max(gridder_results.mean_test_score), 'param_alpha']\n",
    "#     best_score = gridder_results.loc[gridder_results.mean_test_score == np.max(gridder_results.mean_test_score), 'mean_test_score']\n",
    "#     std_best_alpha = gridder_results.loc[gridder_results.param_alpha == best_alpha.values[0], 'std_test_score']\n",
    "\n",
    "#     # Plot\n",
    "#     g = (gg.ggplot(gridder_long, gg.aes('param_alpha', 'score', color='train_test', group='train_test'))\n",
    "#          + gg.geom_point()\n",
    "#          + gg.geom_line()\n",
    "#          + gg.geom_vline(xintercept=best_alpha.values[0], linetype='dotted')\n",
    "#          + gg.geom_text(gg.aes(y=0.2), label=std_best_alpha.round(2))\n",
    "#          + gg.geom_text(gg.aes(y=0.3), label=best_alpha)\n",
    "#          + gg.geom_text(gg.aes(y=0.4), label=best_score.round(4))\n",
    "#          + gg.theme(axis_text_x=gg.element_text(rotation=90, hjust=0.5))\n",
    "#          + gg.facet_wrap('~ stat')\n",
    "#         )\n",
    "#     g.save(os.path.join(plot_save_path, '5_RepeatGridSearchCV_nsplits{}{}.png'.format(n_splits, suf)))\n",
    "    \n",
    "#     return g\n",
    "\n",
    "# # Example use\n",
    "# plot_gridder(gridder_results, n_splits)"
   ]
  },
  {
   "cell_type": "code",
   "execution_count": null,
   "metadata": {},
   "outputs": [],
   "source": [
    "def get_poly_task(pred):\n",
    "    \n",
    "    if ' ' in pred:  # Interaction between two tasks\n",
    "        p0, p1 = pred.split(' ')\n",
    "        task = p0[:2] + '_' + p1[:2]\n",
    "\n",
    "    elif '^2' in pred:\n",
    "        task = pred[:2] + '^2'\n",
    "\n",
    "    else:  # Just one task\n",
    "        task = pred[:2]\n",
    "    \n",
    "    return task\n",
    "\n",
    "# # Example use\n",
    "# get_poly_task(lin_reg_result_raw_poly['predictor'][5])"
   ]
  },
  {
   "cell_type": "code",
   "execution_count": null,
   "metadata": {},
   "outputs": [],
   "source": [
    "def get_poly_pure_int_2(pred):\n",
    "    \n",
    "    if ' ' in pred:  # Interaction between two tasks\n",
    "        pure_int_2 = 'interaction'\n",
    "\n",
    "    elif '^2' in pred:\n",
    "        pure_int_2 = '^2'\n",
    "\n",
    "    else:  # Just one task\n",
    "        pure_int_2 = 'pure'\n",
    "        \n",
    "    return pure_int_2\n",
    "\n",
    "# # Example use\n",
    "# get_poly_pure_int_2(lin_reg_result_raw_poly['predictor'][5])"
   ]
  },
  {
   "cell_type": "code",
   "execution_count": null,
   "metadata": {
    "scrolled": true
   },
   "outputs": [],
   "source": [
    "def beautify_lin_reg_result(lin_reg_result, name):\n",
    "    \n",
    "    if 'raw' in name:\n",
    "\n",
    "        # Sort predictors by coefficient value (for plotting)\n",
    "        lin_reg_result = lin_reg_result.sort_values(by='coef')\n",
    "        lin_reg_result = lin_reg_result.reset_index(drop=True)\n",
    "        lin_reg_result['predictor_cat'] = pd.Categorical(lin_reg_result['predictor'], categories=lin_reg_result['predictor'])\n",
    "\n",
    "    elif name == 'pc':\n",
    "\n",
    "        # Add columns\n",
    "        lin_reg_result['predictor_cat'] = lin_reg_result['predictor'].apply(lambda x : int(x[2:]))\n",
    "\n",
    "    if 'poly' not in name:\n",
    "        lin_reg_result['task'] = lin_reg_result.predictor.apply(lambda x : x[:2])\n",
    "        lin_reg_result['category'] = lin_reg_result['predictor'].apply(name_from_index, names=category_cols)\n",
    "    else:\n",
    "        lin_reg_result['category'] = lin_reg_result['predictor'].apply(get_poly_task)\n",
    "        lin_reg_result['task'] = lin_reg_result['predictor'].apply(get_poly_pure_int_2)\n",
    "\n",
    "    \n",
    "    return lin_reg_result\n",
    "\n",
    "# # Example use\n",
    "# beautify_lin_reg_result(lin_reg_result_raw, 'raw')"
   ]
  },
  {
   "cell_type": "code",
   "execution_count": null,
   "metadata": {
    "scrolled": true
   },
   "outputs": [],
   "source": [
    "def gridsearch_best_alpha(regr_X, regr_y):\n",
    "    \n",
    "    tuned_parameters = [{\n",
    "        'alpha': [0, 0.2, 0.5, 1, 2, 5, 10, 50, 100, 150, 180, 200, 230, 280, 300, 400, 500, 1000, 2000, 5000, 10000, 20000],\n",
    "        'max_iter': [1e5]\n",
    "    }]\n",
    "\n",
    "    # Perform grid search\n",
    "    ridge_grid = GridSearchCV(\n",
    "        Ridge(), tuned_parameters,\n",
    "        scoring=['r2', 'neg_mean_squared_error'], cv=5,\n",
    "        iid=False, return_train_score=False, refit=False\n",
    "    )\n",
    "    ridge_best = ridge_grid.fit(regr_X, regr_y)\n",
    "    \n",
    "    # Get best alpha\n",
    "    gridserach_results = pd.DataFrame(ridge_best.cv_results_).sort_values(by='rank_test_r2')\n",
    "    best_gridsearch_alpha = gridserach_results.loc[gridserach_results['rank_test_r2'] == 1, 'param_alpha'].values[0]\n",
    "    \n",
    "    return gridserach_results, best_gridsearch_alpha\n",
    "\n",
    "# Use\n",
    "gridserach_results_raw, best_gridsearch_alpha_raw = gridsearch_best_alpha(regr_X_raw, regr_y_raw)\n",
    "gridserach_results_pc, best_gridsearch_alpha_pc = gridsearch_best_alpha(regr_X_pc, regr_y_pc)\n",
    "gridserach_results_raw_poly, best_gridsearch_alpha_raw_poly = gridsearch_best_alpha(poly_X_raw, regr_y_raw)\n",
    "print(\"Best alpha (raw): {}; best alpha (PCs): {}; best alpha (raw poly): {}\".format(\n",
    "    best_gridsearch_alpha_raw, best_gridsearch_alpha_pc, best_gridsearch_alpha_raw_poly))"
   ]
  },
  {
   "cell_type": "code",
   "execution_count": null,
   "metadata": {},
   "outputs": [],
   "source": [
    "# Split in train and test\n",
    "regr_X_raw_train, regr_X_raw_test, regr_y_raw_train, regr_y_raw_test = skmod.train_test_split(\n",
    "    regr_X_raw, regr_y_raw, test_size=0.33)\n",
    "\n",
    "regr_X_pc_train, regr_X_pc_test, regr_y_pc_train, regr_y_pc_test = skmod.train_test_split(\n",
    "    regr_X_pc, regr_y_pc, test_size=0.33)\n",
    "\n",
    "poly_X_raw_train, poly_X_raw_test, poly_y_raw_train, poly_y_raw_test = skmod.train_test_split(\n",
    "    poly_X_raw, regr_y_raw, test_size=0.33)"
   ]
  },
  {
   "cell_type": "code",
   "execution_count": null,
   "metadata": {},
   "outputs": [],
   "source": [
    "# # from sklearn import metrics\n",
    "# scores = cross_val_score(\n",
    "#     clf, X, y, cv=5, scoring='f1_macro')\n",
    "# scores\n",
    "#\n",
    "# -> should do https://scikit-learn.org/stable/modules/cross_validation.html, but we don't have enough data"
   ]
  },
  {
   "cell_type": "code",
   "execution_count": null,
   "metadata": {
    "scrolled": true
   },
   "outputs": [],
   "source": [
    "def run_ridge_regression(best_gridsearch_alpha, regr_X, regr_y, name):\n",
    "    \n",
    "    reg = sklin.Ridge(alpha=best_gridsearch_alpha).fit(regr_X, regr_y)\n",
    "\n",
    "    lin_reg_result = pd.DataFrame(\n",
    "        reg.coef_, [c for c in regr_X.columns if c != predicted_feature]).reset_index().rename(\n",
    "        columns={'index': 'predictor', 0: 'coef'})\n",
    "    lin_reg_result = beautify_lin_reg_result(lin_reg_result, name)\n",
    "    \n",
    "    return reg, lin_reg_result\n",
    "\n",
    "# Run ridge regression on training data\n",
    "reg_raw, lin_reg_result_raw = run_ridge_regression(best_gridsearch_alpha_raw, regr_X_raw_train, regr_y_raw_train, 'raw')\n",
    "reg_raw_poly, lin_reg_result_raw_poly = run_ridge_regression(best_gridsearch_alpha_raw_poly, poly_X_raw_train, poly_y_raw_train, 'raw_poly')\n",
    "reg_pc, lin_reg_result_pc = run_ridge_regression(best_gridsearch_alpha_pc, regr_X_pc_train, regr_y_pc_train, 'pc')"
   ]
  },
  {
   "cell_type": "code",
   "execution_count": null,
   "metadata": {
    "scrolled": true
   },
   "outputs": [],
   "source": [
    "def plot_true_predicted(reg, regr_X, regr_y, name):\n",
    "    \n",
    "    # Make DataFrame with true and predicted values\n",
    "    pred_y = reg.predict(regr_X)\n",
    "    linregr_true_pred = pd.DataFrame(np.array([np.array(regr_y), pred_y]).T, columns=('true_y', 'pred_y'))\n",
    "    \n",
    "    # Calculate R^2\n",
    "    r2 = skmet.r2_score(regr_y, pred_y)\n",
    "\n",
    "    # Plot true against predicted\n",
    "    gg.options.figure_size = (6, 6)\n",
    "    g = (gg.ggplot(linregr_true_pred, gg.aes('true_y', 'pred_y'))\n",
    "         + gg.geom_point()\n",
    "         + gg.geom_smooth()\n",
    "         + gg.labs(x='True age', y='Predicted age')\n",
    "         + gg.geom_text(gg.aes(x=5, y=5, label=round(r2, 2)))\n",
    "    )\n",
    "    g.save(os.path.join(plot_save_path, '5_PredictAgeRidgeRegrPerf_{}_{}.png'.format(name, subset_age_group)))\n",
    "    print(g)\n",
    "    \n",
    "# Plot ridge regression results on testing data\n",
    "plot_true_predicted(reg_raw, regr_X_raw_test, regr_y_raw_test, 'raw')\n",
    "plot_true_predicted(reg_raw_poly, poly_X_raw_test, regr_y_raw_test, 'raw_poly')\n",
    "plot_true_predicted(reg_pc, regr_X_pc_test, regr_y_pc_test, 'pc')"
   ]
  },
  {
   "cell_type": "code",
   "execution_count": null,
   "metadata": {
    "scrolled": false
   },
   "outputs": [],
   "source": [
    "def plot_coefs(lin_reg_result, gridsearch_alpha, name):\n",
    "    \n",
    "    gg.options.figure_size = (18, 6)\n",
    "    \n",
    "    # Plot 1\n",
    "    g = (gg.ggplot(lin_reg_result, gg.aes('predictor_cat', 'coef', fill='task'))\n",
    "     + gg.geom_point()\n",
    "     + gg.geom_bar(stat='identity')\n",
    "     + gg.labs(x='', fill='')\n",
    "     + gg.theme(axis_text_x=gg.element_text(rotation=45, hjust=1))\n",
    "     + gg.geom_text(gg.aes(x=2, y=0.1, label=gridsearch_alpha))\n",
    "    )\n",
    "    g.save(os.path.join(plot_save_path, '5_PredictAgeRidgeRegr_{}_{}.png'.format(name, subset_age_group)))\n",
    "#     print(g)\n",
    "\n",
    "    # Plot 2\n",
    "    g2 = g + gg.aes(fill='category') + gg.facet_grid('~ task', scales='free_x')\n",
    "    g2\n",
    "    g2.save(os.path.join(plot_save_path, '5_PredictAgeRidgeRegr_ByTask_{}_{}.png'.format(name, subset_age_group)))\n",
    "    \n",
    "    return g2\n",
    "    \n",
    "# Plot coefficients of ridge regression\n",
    "plot_coefs(lin_reg_result_raw, best_gridsearch_alpha_raw, 'raw')\n",
    "plot_coefs(lin_reg_result_raw_poly, best_gridsearch_alpha_raw_poly, 'raw_poly')\n",
    "sub_dat = lin_reg_result_raw_poly.loc[\n",
    "    ((lin_reg_result_raw_poly.coef > 0.05).astype(int) + (lin_reg_result_raw_poly.coef < -0.05).astype(int)) > 0]\n",
    "print(plot_coefs(sub_dat, best_gridsearch_alpha_raw_poly, 'raw_poly_sub'))\n",
    "plot_coefs(lin_reg_result_pc, best_gridsearch_alpha_pc, 'pc')"
   ]
  },
  {
   "cell_type": "markdown",
   "metadata": {},
   "source": [
    "# SVM"
   ]
  },
  {
   "cell_type": "code",
   "execution_count": null,
   "metadata": {},
   "outputs": [],
   "source": [
    "all_data_z[param_cols_by_task]"
   ]
  },
  {
   "cell_type": "code",
   "execution_count": null,
   "metadata": {
    "scrolled": true
   },
   "outputs": [],
   "source": [
    "X, y"
   ]
  },
  {
   "cell_type": "code",
   "execution_count": null,
   "metadata": {},
   "outputs": [],
   "source": [
    "from sklearn.model_selection import train_test_split\n",
    "from sklearn import svm\n",
    "from sklearn.metrics import accuracy_score\n",
    "from sklearn.model_selection import cross_val_score\n",
    "from sklearn.model_selection import LeaveOneOut\n",
    "from sklearn.model_selection import GridSearchCV\n",
    "\n",
    "x_params = [p for p in param_cols_by_task if 'bf' not in p]\n",
    "y_param = 'bf_nalpha'  # 'bf_alpha'\n",
    "print(y_param, '~', x_params)\n",
    "\n",
    "X = all_data_z[x_params]\n",
    "y = all_data_z['bf_alpha']\n",
    "\n",
    "X_train, X_test, y_train, y_test = train_test_split(\n",
    "    X, y, test_size=0.33, random_state=42)\n",
    "\n",
    "svr = svm.SVR(kernel='poly', C=1e4, gamma='scale', degree=3, epsilon=.1, verbose=True)\n",
    "svr_fit = svr.fit(X_train, y_train)\n",
    "y_train_pred = svr_fit.predict(X_train)\n",
    "y_test_pred = svr_fit.predict(X_test)\n",
    "\n",
    "print(\"Train score: {}\".format(svr.score(X_train, y_train)))\n",
    "print(\"Test score: {}\".format(svr.score(X_test, y_test)))\n",
    "print(cross_val_score(svr, X_test, y_test, cv=5))\n",
    "print(cross_val_score(svr, X_test, y_test, cv=LeaveOneOut()))\n",
    "\n",
    "plt.plot(y_train, y_train_pred, '.')\n",
    "plt.plot(y_test, y_test_pred, '.')"
   ]
  },
  {
   "cell_type": "code",
   "execution_count": null,
   "metadata": {
    "scrolled": true
   },
   "outputs": [],
   "source": [
    "tuned_parameters = [\n",
    "    {'kernel': ['rbf', 'poly'],\n",
    "     'C': [1e-1, 1e1, 1e2, 1e3, 1e4],\n",
    "     'gamma': [1e-5, 1e-4, 1e-4, 1e-3, 1e-2, 1e-1]}]\n",
    "\n",
    "clf = GridSearchCV(svm.SVR(), tuned_parameters, scoring='r2', cv=2, iid=False, return_train_score=False)\n",
    "clf_fit = clf.fit(X, y)\n",
    "# print(pd.DataFrame(clf_fit.cv_results_).sort_values(by='rank_test_score').head())\n",
    "\n",
    "# clf = GridSearchCV(svm.SVR(), tuned_parameters, scoring='explained_variance', cv=2, iid=False, return_train_score=False)\n",
    "# clf_fit = clf.fit(X_train, y_train)\n",
    "# print(pd.DataFrame(clf_fit.cv_results_).sort_values(by='rank_test_score').head())\n",
    "clf_fit.best_params_"
   ]
  },
  {
   "cell_type": "code",
   "execution_count": null,
   "metadata": {},
   "outputs": [],
   "source": [
    "\n",
    "svr = svm.SVR(C=clf_fit.best_params_['C'], gamma=clf_fit.best_params_['gamma'], kernel=clf_fit.best_params_['kernel'])\n",
    "svr_fit = svr.fit(X_train, y_train)\n",
    "y_train_pred = svr_fit.predict(X_train)\n",
    "y_test_pred = svr_fit.predict(X_test)\n",
    "\n",
    "print(\"Train score: {}\".format(svr.score(X_train, y_train)))\n",
    "print(\"Test score: {}\".format(svr.score(X_test, y_test)))\n",
    "print(cross_val_score(svr, X_test, y_test, cv=5))\n",
    "print(cross_val_score(svr, X_test, y_test, cv=LeaveOneOut()))\n",
    "\n",
    "plt.plot(y_train, y_train_pred, '.')\n",
    "plt.plot(y_test, y_test_pred, '.')"
   ]
  },
  {
   "cell_type": "code",
   "execution_count": null,
   "metadata": {},
   "outputs": [],
   "source": [
    "from sklearn.model_selection import GridSearchCV\n",
    "\n",
    "# param_grid = {'polynomialfeatures__degree': np.arange(21),\n",
    "#               'linearregression__fit_intercept': [True, False],\n",
    "#               'linearregression__normalize': [True, False]}\n",
    "\n",
    "# grid = GridSearchCV(PolynomialRegression(), param_grid, cv=7)\n",
    "\n",
    "\n",
    "\n",
    "tuned_parameters = [{'kernel': ['rbf'], 'gamma': [1e-3, 1e-4], 'C': [1, 10, 100, 1000]},\n",
    "                    {'kernel': ['linear'], 'C': [1, 10, 100, 1000]}]\n",
    "scores = ['precision', 'recall']\n",
    "\n",
    "clf = GridSearchCV(\n",
    "    svm.SVC(), tuned_parameters, scoring=scores[0]\n",
    ")\n",
    "clf.fit(X_train, y_train)"
   ]
  },
  {
   "cell_type": "code",
   "execution_count": null,
   "metadata": {},
   "outputs": [],
   "source": [
    "# import numpy as np\n",
    "# from sklearn.svm import SVR\n",
    "# import matplotlib.pyplot as plt\n",
    "from sklearn import svm\n",
    "\n",
    "# #############################################################################\n",
    "# Generate sample data\n",
    "X = np.sort(5 * np.random.rand(40, 1), axis=0)\n",
    "y = np.sin(X).ravel()\n",
    "\n",
    "# #############################################################################\n",
    "# Add noise to targets\n",
    "# y[::5] += 3 * (0.5 - np.random.rand(8))\n",
    "y += 0.5 - np.random.rand(len(X))\n",
    "\n",
    "# #############################################################################\n",
    "# Fit regression model\n",
    "svr_rbf = svm.SVR(kernel='rbf', C=100, gamma=0.1, epsilon=.1)\n",
    "svr_lin = svm.SVR(kernel='linear', C=100, gamma='auto')\n",
    "svr_poly = svm.SVR(kernel='poly', C=100, gamma='auto', degree=3, epsilon=.1,\n",
    "               coef0=1)\n",
    "\n",
    "# #############################################################################\n",
    "# Look at the results\n",
    "lw = 2\n",
    "\n",
    "svrs = [svr_rbf, svr_lin, svr_poly]\n",
    "kernel_label = ['RBF', 'Linear', 'Polynomial']\n",
    "model_color = ['m', 'c', 'g']\n",
    "\n",
    "fig, axes = plt.subplots(nrows=1, ncols=3, figsize=(15, 10), sharey=True)\n",
    "for ix, svr in enumerate(svrs):\n",
    "    axes[ix].plot(X, svr.fit(X, y).predict(X), color=model_color[ix], lw=lw,\n",
    "                  label='{} model'.format(kernel_label[ix]))\n",
    "    axes[ix].scatter(X[svr.support_], y[svr.support_], facecolor=\"none\",\n",
    "                     edgecolor=model_color[ix], s=50,\n",
    "                     label='{} support vectors'.format(kernel_label[ix]))\n",
    "    axes[ix].scatter(X[np.setdiff1d(np.arange(len(X)), svr.support_)],\n",
    "                     y[np.setdiff1d(np.arange(len(X)), svr.support_)],\n",
    "                     facecolor=\"none\", edgecolor=\"k\", s=50,\n",
    "                     label='other training data')\n",
    "    axes[ix].legend(loc='upper center', bbox_to_anchor=(0.5, 1.1),\n",
    "                    ncol=1, fancybox=True, shadow=True)\n",
    "\n",
    "fig.text(0.5, 0.04, 'data', ha='center', va='center')\n",
    "fig.text(0.06, 0.5, 'target', ha='center', va='center', rotation='vertical')\n",
    "fig.suptitle(\"Support Vector Regression\", fontsize=14)\n",
    "plt.show()"
   ]
  },
  {
   "cell_type": "code",
   "execution_count": null,
   "metadata": {},
   "outputs": [],
   "source": [
    "# get support vectors\n",
    "clf.support_vectors_\n",
    "\n",
    "# get indices of support vectors\n",
    "clf.support_\n",
    "\n",
    "# get number of support vectors for each class\n",
    "clf.n_support_"
   ]
  },
  {
   "cell_type": "markdown",
   "metadata": {},
   "source": [
    "## PLS"
   ]
  },
  {
   "cell_type": "code",
   "execution_count": null,
   "metadata": {},
   "outputs": [],
   "source": [
    "from sklearn.cross_decomposition import PLSRegression\n",
    "X = [[0., 0., 1.], [1.,0.,0.], [2.,2.,2.], [2.,5.,4.]]\n",
    "Y = [[0.1, -0.2], [0.9, 1.1], [6.2, 5.9], [11.9, 12.3]]\n",
    "pls2 = PLSRegression(n_components=2)\n",
    "pls2.fit(X, Y)\n",
    "\n",
    "Y_pred = pls2.predict(X)\n",
    "Y_pred, Y\n",
    "plt.plot(np.array(Y)[:,0], np.array(Y_pred)[:,0])"
   ]
  },
  {
   "cell_type": "code",
   "execution_count": null,
   "metadata": {},
   "outputs": [],
   "source": [
    "x_params = [p for p in param_cols_by_task if 'bf' not in p]\n",
    "y_params = [p for p in param_cols_by_task if 'bf' in p]\n",
    "len(x_params)"
   ]
  },
  {
   "cell_type": "code",
   "execution_count": null,
   "metadata": {},
   "outputs": [],
   "source": [
    "pls = PLSRegression(n_components=14)\n",
    "pls.fit(all_data_z[x_params], all_data_z[y_params])\n",
    "\n",
    "pred = pls.predict(all_data_z[x_params])\n",
    "pls.score(all_data_z[x_params], all_data_z[y_params])  # R^2 of self.predict(X) wrt. y."
   ]
  },
  {
   "cell_type": "code",
   "execution_count": null,
   "metadata": {},
   "outputs": [],
   "source": [
    "pred = pd.DataFrame(pred, columns=y_params)\n",
    "pred_l = pred.melt(var_name='param_name', value_name='param_value').reset_index()\n",
    "true_l = all_data_z[y_params].melt(var_name='param_name', value_name='param_value').reset_index()\n",
    "# dat = pd.merge(pred, all_data_z[y_params], left_index=True, right_index=True, suffixes=['_pred', '_true'])\n",
    "# dat\n",
    "dat_l = pd.merge(pred_l, true_l, on=['param_name', 'index'], suffixes=['_pred', '_true'])\n",
    "dat_l"
   ]
  },
  {
   "cell_type": "code",
   "execution_count": null,
   "metadata": {},
   "outputs": [],
   "source": [
    "(gg.ggplot(dat_l, gg.aes('param_value_pred', 'param_value_true', color='param_name'))\n",
    " + gg.geom_point(alpha=0.5)\n",
    " + gg.geom_smooth(color='black')\n",
    " + gg.facet_wrap('~ param_name')\n",
    ")"
   ]
  },
  {
   "cell_type": "code",
   "execution_count": null,
   "metadata": {
    "scrolled": false
   },
   "outputs": [],
   "source": [
    "# true_pred = pd.DataFrame()\n",
    "# coefs = pd.DataFrame()\n",
    "\n",
    "# for model_name in np.unique(best_models.model_name):\n",
    "#     for data_sub in np.unique(best_models.data_sub):\n",
    "        \n",
    "#         # PROBLEM: NEEDS TO BE INTEGRATED INTO UPPER LOOP BECAUSE I'M NOT SUBSETTING DATA HERE\n",
    "    \n",
    "#         # Get data\n",
    "#         if model_name == 'raw':\n",
    "#             X, y = regr_X_raw.copy(), regr_y_raw.copy()\n",
    "#         elif model_name == 'poly_all':\n",
    "#             X, y = poly_X_all.copy(), regr_y_raw.copy()\n",
    "#         elif model_name == 'poly_within':\n",
    "#             X, y = poly_X_within.copy(), regr_y_raw.copy()\n",
    "\n",
    "#         # Fit model\n",
    "#         model_specs = best_models.loc[\n",
    "#             (best_models.model_name == model_name) & (best_models.data_sub == data_sub)]\n",
    "#         model = TransformedTargetRegressor(  # https://scikit-learn.org/stable/auto_examples/inspection/plot_linear_model_coefficient_interpretation.html\n",
    "#                 regressor=RidgeCV(\n",
    "#                     alphas=[model_specs.param_alpha.values[0]],\n",
    "#                     cv=RepeatedKFold(n_splits=model_specs.n_splits.values[0], n_repeats=n_repeats)),\n",
    "#         )\n",
    "#         _ = model.fit(X, y)\n",
    "\n",
    "#         # Get predictions\n",
    "#         y_pred = model.predict(X)\n",
    "#         tp_row = pd.DataFrame({'true': y, 'pred': y_pred})\n",
    "#         print(y[:5], y_pred[:5])\n",
    "#         tp_row['model_name'] = model_name\n",
    "#         tp_row['data_sub'] = data_sub\n",
    "#         true_pred = true_pred.append(tp_row)\n",
    "        \n",
    "# #         print(plot_true_predicted(true_pred, '_'.join([model_name, data_sub])))\n",
    "\n",
    "#         # Get coefficients\n",
    "#         coefs_row = pd.DataFrame(\n",
    "#             model.regressor_.coef_, columns=['coef'], index=X.columns\n",
    "#         ).reset_index().rename(columns={'index': 'predictor'})\n",
    "#         coefs_row = beautify_coefs(coefs_row, model_name)\n",
    "#         coefs_row['model_name'] = model_name\n",
    "#         coefs_row['data_sub'] = data_sub\n",
    "#         coefs = coefs.append(coefs_row)\n",
    "\n",
    "# #         print(plot_coefs(coefs, model_name))\n",
    "# #         sub_dat = pd.concat([coefs.head(20), coefs.tail(20)])\n",
    "# #         print(plot_coefs(sub_dat, model_name + '_sub'))\n",
    "\n",
    "# true_pred\n",
    "# coefs"
   ]
  },
  {
   "cell_type": "code",
   "execution_count": null,
   "metadata": {
    "scrolled": true
   },
   "outputs": [],
   "source": [
    "# if gridder_source == 'make':\n",
    "    \n",
    "#     all_gridders = pd.DataFrame()\n",
    "#     for data_sub in ['param', 'beh', 'all']:\n",
    "#         print(\"Data: {}         \".format(data_sub))\n",
    "\n",
    "#         # Get raw regression data\n",
    "#         param_cols = list(set([c for c in all_data_z.columns for p in param_names if p in c]))\n",
    "#         beh_cols = list(set([c for c in all_data_z.columns if c not in param_cols]))\n",
    "\n",
    "#         if data_sub == 'all':\n",
    "#             regr_dat_raw, regr_X_raw, regr_y_raw = get_regr_data('raw', all_data_z=all_data_z)\n",
    "#         elif data_sub == 'param':\n",
    "#             regr_dat_raw, regr_X_raw, regr_y_raw = get_regr_data('raw', all_data_z=all_data_z[extended_ages_cols + param_cols])\n",
    "#         elif data_sub == 'beh':\n",
    "#             regr_dat_raw, regr_X_raw, regr_y_raw = get_regr_data('raw', all_data_z=all_data_z[beh_cols])\n",
    "#         else:\n",
    "#             raise ValueError('data_sub must be \"all\", \"param\", or \"beh\".')\n",
    "\n",
    "#         # Get polynomial features\n",
    "#         poly_X_all = get_poly_regr_data(regr_X_raw, 'all')\n",
    "#         poly_X_within = get_poly_regr_data(regr_X_raw, 'within_tasks')\n",
    "#         print('Number of polynomial features: {}'.format(poly_X_all.shape[1]))\n",
    "\n",
    "#         for model_name in regr_model_names:\n",
    "#             print(\"Model: {}        \".format(model_name))\n",
    "\n",
    "#             # Get raw / polynomial data\n",
    "#             if model_name == 'raw':\n",
    "#                 X, y = regr_X_raw.copy(), regr_y_raw.copy()\n",
    "#             elif model_name == 'poly_all':\n",
    "#                 X, y = poly_X_all.copy(), regr_y_raw.copy()\n",
    "#             elif model_name == 'poly_within':\n",
    "#                 X, y = poly_X_within.copy(), regr_y_raw.copy()\n",
    "#             else:\n",
    "#                 raise ValueError('model_name must be \"poly_all\", \"poly_within\", or \"raw\".')\n",
    "\n",
    "#             # Fit gridder thing to get best hyper-parameters\n",
    "#             for i, n_splits in enumerate(n_splitss):\n",
    "#                 print(\"{}/{} splits\".format(i, len(n_splitss)), end='\\r')\n",
    "\n",
    "#                 gridder = RepeatableGridSearchCV(model, param_grid, n_repeats=n_repeats, n_splits=n_splits, scoring=scoring)\n",
    "#                 gridder.fit(X, y)\n",
    "\n",
    "#                 gridder_results = make_gridder_pd(gridder)\n",
    "#                 gridder_results['data_sub'] = data_sub\n",
    "#                 gridder_results['model_name'] = model_name\n",
    "#                 gridder_results['n_splits'] = n_splits\n",
    "#                 all_gridders = all_gridders.append(gridder_results)\n",
    "\n",
    "#     # Save as csv\n",
    "#     all_gridders.to_csv(gridder_path)\n",
    "\n",
    "# elif gridder_source == 'load':\n",
    "    \n",
    "#     # Load csv\n",
    "#     all_gridders = pd.read_csv(gridder_path, index_col=0)    \n",
    "    \n",
    "# all_gridders"
   ]
  }
 ],
 "metadata": {
  "kernelspec": {
   "display_name": "notebooks",
   "language": "python",
   "name": "notebooks"
  },
  "language_info": {
   "codemirror_mode": {
    "name": "ipython",
    "version": 3
   },
   "file_extension": ".py",
   "mimetype": "text/x-python",
   "name": "python",
   "nbconvert_exporter": "python",
   "pygments_lexer": "ipython3",
   "version": "3.8.5"
  }
 },
 "nbformat": 4,
 "nbformat_minor": 2
}
