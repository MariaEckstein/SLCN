{
 "cells": [
  {
   "cell_type": "markdown",
   "metadata": {},
   "source": [
    "# Imports etc."
   ]
  },
  {
   "cell_type": "code",
   "execution_count": 1,
   "metadata": {},
   "outputs": [],
   "source": [
    "import ipdb\n",
    "import numpy as np\n",
    "import os\n",
    "import pandas as pd\n",
    "import plotnine as gg\n",
    "gg.theme_set(gg.theme_classic)\n",
    "import scipy\n",
    "import statsmodels.formula.api as smf\n",
    "\n",
    "from Functions import get_info_from_fullID, add_meta_column"
   ]
  },
  {
   "cell_type": "code",
   "execution_count": 2,
   "metadata": {},
   "outputs": [],
   "source": [
    "fitted_param_dir = 'C:/Users/maria/MEGAsync/SLCN/PShumanData/fitting/mice/'\n",
    "mouse_data_dir = 'C:/Users/maria/MEGAsync/SLCN/PSMouseData'\n",
    "plot_dir = 'C:/Users/maria/MEGAsync/SLCN/models/plots'\n",
    "if not os.path.exists(plot_dir):\n",
    "    os.mkdir(plot_dir)"
   ]
  },
  {
   "cell_type": "code",
   "execution_count": 3,
   "metadata": {},
   "outputs": [],
   "source": [
    "save_or_load_true_mouse_dat = 'save'  # 'save', 'load'\n",
    "save_or_load_sim_mouse_dat = 'save'  # 'save', 'load'\n",
    "n_trial_cutoff = 500  # 500 as of 2020/07/21"
   ]
  },
  {
   "cell_type": "markdown",
   "metadata": {},
   "source": [
    "# Function to format mouse data"
   ]
  },
  {
   "cell_type": "code",
   "execution_count": 4,
   "metadata": {},
   "outputs": [],
   "source": [
    "def load_mouse_data(data_dir='C:/Users/maria/MEGAsync/SLCN/PSMouseData/'):\n",
    "\n",
    "    # Load mouse data\n",
    "    rewards_j = pd.read_csv(os.path.join(data_dir, 'Juvi_Reward.csv')).T.values  # after reading in: [trials x animals]\n",
    "    rewards_a = pd.read_csv(os.path.join(data_dir, 'Adult_Reward.csv')).T.values\n",
    "    rewards = np.hstack([rewards_j, rewards_a])\n",
    "\n",
    "    actions_j = pd.read_csv(os.path.join(data_dir, 'Juvi_Choice.csv')).T.values\n",
    "    actions_a = pd.read_csv(os.path.join(data_dir, 'Adult_Choice.csv')).T.values\n",
    "    actions = np.hstack([actions_j, actions_a])\n",
    "\n",
    "    correct_actions_j = pd.read_csv(os.path.join(data_dir, 'Juvi_TaskData.csv')).T.values\n",
    "    correct_actions_a = pd.read_csv(os.path.join(data_dir, 'Adult_TaskData.csv')).T.values\n",
    "    correct_actions = np.hstack([correct_actions_j, correct_actions_a])  # Which action was the correct one on each trial?\n",
    "\n",
    "    corrects = (actions == correct_actions).astype('int')  # When did mice choose the right action?\n",
    "\n",
    "    fullID_j = pd.read_csv(os.path.join(data_dir, 'Juvi_AnimalID.csv')).T.values.flatten()\n",
    "    fullID_a = pd.read_csv(os.path.join(data_dir, 'Adult_AnimalID.csv')).T.values.flatten()\n",
    "    fullIDs = np.concatenate([fullID_j, fullID_a])\n",
    "\n",
    "    # Remove interleaved na trials by shifting up later trials\n",
    "    missed_trials = np.isnan(actions)\n",
    "    actions = pd.DataFrame(actions)\n",
    "    actions = actions.apply(lambda x: pd.Series(x.dropna().values))\n",
    "\n",
    "    rewards = pd.DataFrame(rewards)\n",
    "    rewards[missed_trials] = np.nan\n",
    "    rewards = rewards.apply(lambda x: pd.Series(x.dropna().values))\n",
    "\n",
    "    corrects = pd.DataFrame(corrects)\n",
    "    corrects[missed_trials] = np.nan\n",
    "    corrects = corrects.apply(lambda x: pd.Series(x.dropna().values))\n",
    "\n",
    "    correct_actions = pd.DataFrame(correct_actions)\n",
    "    correct_actions[missed_trials] = np.nan\n",
    "    correct_actions = correct_actions.apply(lambda x: pd.Series(x.dropna().values))\n",
    "\n",
    "    # Make sure all dataframes have the same shape\n",
    "    assert np.shape(rewards) == np.shape(actions)\n",
    "    assert np.shape(corrects) == np.shape(correct_actions)\n",
    "    assert np.shape(rewards) == np.shape(correct_actions)\n",
    "\n",
    "    return {\n",
    "        'actions': actions,\n",
    "        'rewards': rewards,\n",
    "        'corrects': corrects,\n",
    "        'correct_actions': correct_actions,\n",
    "        'fullIDs': fullIDs,\n",
    "    }\n",
    "\n",
    "# # Example use\n",
    "# raw_dat = load_mouse_data()"
   ]
  },
  {
   "cell_type": "code",
   "execution_count": 5,
   "metadata": {},
   "outputs": [],
   "source": [
    "def get_session(ani_dat):\n",
    "    \n",
    "    return np.append([0], np.cumsum((np.diff(ani_dat.age)).astype(bool).astype(int)))\n",
    "\n",
    "# # Example use\n",
    "# ani_dat = true_dat.loc[true_dat.animal == 14]\n",
    "# sessions = get_session(ani_dat)\n",
    "# print(np.unique(sessions), len(sessions), ani_dat.shape[0])"
   ]
  },
  {
   "cell_type": "code",
   "execution_count": 6,
   "metadata": {},
   "outputs": [],
   "source": [
    "def format_mouse_data(raw_dat, save_as_csv=True, trials2switch_lower=3):\n",
    "\n",
    "    true_dat = pd.DataFrame()\n",
    "    for i, fullID in enumerate(raw_dat['fullIDs'][:50]):\n",
    "\n",
    "        print(\"Formatting mouse-session {} of {}.\".format(i, len(raw_dat['fullIDs'])), end='\\r')\n",
    "\n",
    "        # Animal info\n",
    "        subj_dat = {\n",
    "            'action': raw_dat['actions'].loc[:, i],\n",
    "            'reward': raw_dat['rewards'].loc[:, i],\n",
    "            'correct': raw_dat['corrects'].loc[:, i],\n",
    "            'trial': range(len(raw_dat['actions'].loc[:, i])),\n",
    "            'block': np.append([0], np.cumsum(np.abs(np.diff(raw_dat['correct_actions'].loc[:, i])))),\n",
    "            'fullID': [fullID] * len(raw_dat['actions'].loc[:, i]),\n",
    "            }\n",
    "        subj_dat = pd.DataFrame(subj_dat)\n",
    "        for col in ['agegroup', 'sex', 'age', 'animal']:\n",
    "            subj_dat[col] = get_info_from_fullID(fullID, col)\n",
    "\n",
    "        # Session info (within animal)\n",
    "        for age in np.unique(subj_dat.age):\n",
    "            subj_dat.loc[subj_dat.age == age, 'rew_1ago'] = np.append(np.nan, subj_dat['reward'][:-1])\n",
    "            subj_dat.loc[subj_dat.age == age, 'rew_2ago'] = np.append(np.nan, subj_dat['rew_1ago'][:-1])\n",
    "            subj_dat.loc[subj_dat.age == age, 'switch'] = np.append(np.nan, np.abs(np.diff(subj_dat.action)))\n",
    "\n",
    "            # Block info (within session, within animal)\n",
    "            for block in np.unique(subj_dat.block):\n",
    "                sub_idx = (subj_dat.block == block) & (subj_dat.age == age)  ###\n",
    "                block_length = sum(sub_idx)  ###\n",
    "\n",
    "                if block_length > trials2switch_lower + 2:\n",
    "                    block_trial = range(block_length)\n",
    "                    trials2switch = np.append(np.arange(block_length-trials2switch_lower),\n",
    "                                              np.arange(-trials2switch_lower, 0))\n",
    "                else:\n",
    "                    block_trial = [np.nan] * block_length\n",
    "                    trials2switch = [np.nan] * block_length\n",
    "\n",
    "                subj_dat.loc[sub_idx, 'block_length'] = block_length\n",
    "                subj_dat.loc[sub_idx, 'block_trial'] = block_trial\n",
    "                subj_dat.loc[sub_idx, 'trials2switch'] = trials2switch\n",
    "\n",
    "        true_dat = true_dat.append(subj_dat)\n",
    "        \n",
    "    # Add columns\n",
    "    for animal in np.unique(true_dat.animal):\n",
    "        true_dat.loc[true_dat.animal == animal, 'session'] = get_session(true_dat.loc[true_dat.animal == animal])\n",
    "    true_dat['rew_12ago'] = [str(r1)[0] + str(r2)[0] for r1, r2 in zip(true_dat['rew_1ago'], true_dat['rew_2ago'])]  ###\n",
    "    true_dat['agegroup'] = pd.Categorical(true_dat.agegroup, categories=('Juvenile', 'Adult'), ordered=True)\n",
    "    true_dat['meta'] = add_meta_column(true_dat)\n",
    "\n",
    "    assert len(raw_dat['fullIDs']) * 782 == true_dat.shape[0]\n",
    "    \n",
    "    return true_dat\n",
    "\n",
    "# # Example use\n",
    "# true_dat = format_mouse_data(raw_dat, save_as_csv=True, trials2switch_lower=10)\n",
    "# true_dat"
   ]
  },
  {
   "cell_type": "code",
   "execution_count": 7,
   "metadata": {},
   "outputs": [],
   "source": [
    "# good_true_dat = true_dat.copy()\n",
    "# true_dat = good_true_dat.copy()"
   ]
  },
  {
   "cell_type": "code",
   "execution_count": 8,
   "metadata": {
    "scrolled": false
   },
   "outputs": [],
   "source": [
    "# def format_mouse_data(raw_dat, save_as_csv=True, trials2switch_lower=3):\n",
    "    \n",
    "#     true_dat = pd.DataFrame()\n",
    "#     for i, fullID in enumerate(raw_dat['fullIDs']):\n",
    "        \n",
    "#         print(\"Formatting mouse {} of {}.\".format(i, len(raw_dat['fullIDs'])))\n",
    "        \n",
    "#         # Animal info\n",
    "#         subj_dat = {\n",
    "#             'action': raw_dat['actions'].loc[:, i],\n",
    "#             'reward': raw_dat['rewards'].loc[:, i],\n",
    "#             'correct': raw_dat['corrects'].loc[:, i],\n",
    "#             'trial': range(len(raw_dat['actions'].loc[:, i])),\n",
    "#             'block': np.append([0], np.cumsum(np.abs(np.diff(raw_dat['correct_actions'].loc[:, i])))),\n",
    "#             'fullID': [fullID] * len(raw_dat['actions'].loc[:, i]),\n",
    "#             }\n",
    "#         subj_dat = pd.DataFrame(subj_dat)\n",
    "#         for col in ['agegroup', 'sex', 'age', 'animal']:\n",
    "#             subj_dat[col] = get_info_from_fullID(fullID, col)\n",
    "\n",
    "#         # Session info (within animal)\n",
    "#         for age in np.unique(subj_dat.age):\n",
    "#             subj_dat.loc[subj_dat.age == age, 'rew_1ago'] = np.append(np.nan, subj_dat['reward'][:-1])\n",
    "#             subj_dat.loc[subj_dat.age == age, 'rew_2ago'] = np.append(np.nan, subj_dat['rew_1ago'][:-1])\n",
    "#             subj_dat.loc[subj_dat.age == age, 'switch'] = np.append(np.nan, np.abs(np.diff(subj_dat.action)))\n",
    "\n",
    "#             # Block info (within session, within animal)\n",
    "#             for block in np.unique(subj_dat.block):\n",
    "#                 sub_idx = (subj_dat.block == block) & (subj_dat.age == age)  ###\n",
    "#                 block_length = sum(sub_idx)  ###\n",
    "\n",
    "#                 if block_length > trials2switch_lower + 2:\n",
    "#                     block_trial = range(block_length)\n",
    "#                     trials2switch = np.append(np.arange(block_length-trials2switch_lower),\n",
    "#                                               np.arange(-trials2switch_lower, 0))\n",
    "#                 else:\n",
    "#                     block_trial = [np.nan] * block_length\n",
    "#                     trials2switch = [np.nan] * block_length\n",
    "\n",
    "#                 subj_dat.loc[sub_idx, 'block_length'] = block_length\n",
    "#                 subj_dat.loc[sub_idx, 'block_trial'] = block_trial\n",
    "#                 subj_dat.loc[sub_idx, 'trials2switch'] = trials2switch\n",
    "\n",
    "#         true_dat = true_dat.append(subj_dat)\n",
    "\n",
    "#     # Session and gender\n",
    "#     for animal in np.unique(true_dat.animal):\n",
    "#         ani_age = true_dat.loc[true_dat.animal == animal, 'age']\n",
    "#         true_dat.loc[true_dat.animal == animal, 'session'] = ani_age - np.min(ani_age)\n",
    "#     true_dat['rew_12ago'] = [str(r1)[0] + str(r2)[0] for r1, r2 in zip(true_dat['rew_1ago'], true_dat['rew_2ago'])]  ###\n",
    "#     true_dat['agegroup'] = pd.Categorical(true_dat.agegroup, categories=('Juvenile', 'Adult'), ordered=True)\n",
    "#     true_dat['meta'] = add_meta_column(true_dat)\n",
    "    \n",
    "#     # Save as csv\n",
    "#     if save_as_csv:\n",
    "#         true_dat.to_csv(os.path.join(mouse_data_dir, 'formatted_mouse_data.csv'))\n",
    "        \n",
    "#     return true_dat\n",
    "\n",
    "# # Example use\n",
    "# true_dat = format_mouse_data(raw_dat, save_as_csv=True, trials2switch_lower=10)\n",
    "# true_dat"
   ]
  },
  {
   "cell_type": "markdown",
   "metadata": {},
   "source": [
    "# Functions to load and format simulated data"
   ]
  },
  {
   "cell_type": "code",
   "execution_count": 9,
   "metadata": {
    "scrolled": true
   },
   "outputs": [],
   "source": [
    "# Get remaining info for this simulation\n",
    "def format_sim_data(sim_dat, model_name, selected_mouse=0, save_as_csv=True):\n",
    "    \"\"\"\n",
    "    Takes raw `sim_data` (e.g., read in from os.path.join(fitted_param_dir, 'simulations/simulated_mice_{}_nagents{}.csv'.format(model_name, n_agents)))\n",
    "    Adds all the columns necessary for behavioral analyses.\n",
    "    \"\"\"\n",
    "    \n",
    "    # Pull out behavior of one specific simulation into separate columns\n",
    "    for col in ['actionall', 'rewardall', 'correctall']:\n",
    "        sim_dat[col[:-3]] = sim_dat[col].apply(lambda x: x[1 + 2 * selected_mouse]).astype('int')\n",
    "        \n",
    "    # Add gender and session for each simulated animal\n",
    "    for animal in np.unique(sim_dat.animal):\n",
    "        print('animal {} / {}'.format(animal, len(np.unique(sim_dat.animal))))\n",
    "        sub_idx_a = sim_dat.animal == animal\n",
    "        sim_dat.loc[sub_idx_a, 'gender'] = get_info_from_fullID(sim_dat.loc[sub_idx_a, 'fullID'].reset_index(drop=True)[0], sum(sub_idx_a))['gender']\n",
    "        sim_age = sim_dat.loc[sub_idx_a, 'age']\n",
    "        sim_dat.loc[sub_idx_a, 'session'] = sim_age - min(sim_age)\n",
    "\n",
    "        # Add rew_1ago, rew_2ago, switch for each session\n",
    "        for age in np.unique(sim_dat.loc[sub_idx_a, 'age']):\n",
    "            sub_idx_aa = (sim_dat.animal == animal) * (sim_dat.age == age)\n",
    "            sim_dat.loc[sub_idx_aa, 'rew_1ago'] = np.append(np.nan, sim_dat.loc[sub_idx_aa, 'reward'][:-1])\n",
    "            sim_dat.loc[sub_idx_aa, 'rew_2ago'] = np.append(np.nan, sim_dat.loc[sub_idx_aa, 'rew_1ago'][:-1])\n",
    "            sim_dat.loc[sub_idx_aa, 'switch'] = np.append(np.nan, np.abs(np.diff(sim_dat.loc[sub_idx_aa, 'action'].astype('int'))))\n",
    "\n",
    "            # Add block_length, block_trial, trials2swtich for each block\n",
    "            for block in np.unique(sim_dat.loc[sub_idx_aa, 'block']):\n",
    "                sub_idx_baa = (sim_dat.block == block) * (sim_dat.animal == animal) * (sim_dat.age == age)\n",
    "                block_length = sum(sub_idx_baa)\n",
    "\n",
    "                if block_length > 5:\n",
    "                    block_trial = range(block_length)\n",
    "                    trials2switch = np.append(np.arange(block_length-3), np.arange(-3, 0))\n",
    "                else:\n",
    "                    block_trial = [np.nan] * block_length\n",
    "                    trials2switch = [np.nan] * block_length\n",
    "\n",
    "                sim_dat.loc[sub_idx_baa, 'block_length'] = block_length\n",
    "                sim_dat.loc[sub_idx_baa, 'block_trial'] = block_trial\n",
    "                sim_dat.loc[sub_idx_baa, 'trials2switch'] = trials2switch\n",
    "\n",
    "    # Format gender; add rew_12ago and agegroup\n",
    "#     true_dat['gender'] = true_dat['gender'].replace({1: 'Male', 2: 'Female'})\n",
    "    sim_dat['rew_12ago'] = [str(r1)[0] + str(r2)[0] for r1, r2 in zip(sim_dat['rew_1ago'], sim_dat['rew_2ago'])]\n",
    "    sim_dat.loc[sim_dat.age > 65, 'agegroup'] = 'Adult'  # adults: 69-90\n",
    "    sim_dat.loc[sim_dat.age < 65, 'agegroup'] = 'Juvenile'  # juveniles: 38-60\n",
    "\n",
    "    # Save as csv\n",
    "    if save_as_csv:\n",
    "        sim_dat.to_csv(os.path.join(mouse_data_dir, 'formatted_sim_mouse_data_{}.csv'.format(model_name)), index=False)\n",
    "        \n",
    "    return sim_dat\n",
    "\n",
    "# # Example use\n",
    "# n_agents = 10\n",
    "# modelnames = [f for f in os.listdir(fitted_param_dir) if ('.csv' in f) and ('params' in f) and ('B' not in f)]\n",
    "# model_names = [modelname.split('_')[1] for modelname in modelnames]\n",
    "# simulation_dir = os.path.join(fitted_param_dir, 'simulations/simulated_mice_{}_nagents{}.csv'.format(model_name, n_agents))\n",
    "# sim_dat = pd.read_csv(simulation_dir)\n",
    "# format_sim_data(sim_dat, model_name, selected_mouse=0, save_as_csv=True)"
   ]
  },
  {
   "cell_type": "markdown",
   "metadata": {},
   "source": [
    "# Functions to make plots"
   ]
  },
  {
   "cell_type": "code",
   "execution_count": 10,
   "metadata": {},
   "outputs": [],
   "source": [
    "# id_cols = ['fullID', 'sex', 'agegroup', 'session']\n",
    "# n_session_dat = true_dat.groupby(id_cols).aggregate('mean').reset_index().dropna()[id_cols]\n",
    "# # n_session_dat"
   ]
  },
  {
   "cell_type": "code",
   "execution_count": 11,
   "metadata": {},
   "outputs": [],
   "source": [
    "# (gg.ggplot(n_session_dat, gg.aes('session', fill='agegroup'))\n",
    "#  + gg.geom_histogram(position=gg.position_dodge(width=0.9))\n",
    "#  + gg.facet_wrap('~ sex')\n",
    "# )"
   ]
  },
  {
   "cell_type": "code",
   "execution_count": 12,
   "metadata": {
    "scrolled": false
   },
   "outputs": [],
   "source": [
    "def plot_session_n(data, suf):\n",
    "    \n",
    "    g = (gg.ggplot(data, gg.aes('session', fill='agegroup'))\n",
    "         + gg.geom_bar(position=gg.position_dodge(width=0.9))\n",
    "         + gg.facet_grid('~ sex')\n",
    "         + gg.labs(y='n animals', color='')\n",
    "        )\n",
    "    \n",
    "    g.draw()\n",
    "    g.save(os.path.join(plot_dir, '0_session_n{}.png'.format(suf)))\n",
    "\n",
    "# # Example use\n",
    "# plot_session_n(true_dat[true_dat.trial==0], 'mouse')"
   ]
  },
  {
   "cell_type": "code",
   "execution_count": 13,
   "metadata": {
    "scrolled": false
   },
   "outputs": [],
   "source": [
    "def plot_n_trials(data, suf):\n",
    "    \n",
    "    g = (gg.ggplot(n_trial_dat, gg.aes('session', 'n_trials')) #, fill='agegroup', group='agegroup'))\n",
    "    #      + gg.stat_summary(geom='line')\n",
    "         + gg.geom_hline(yintercept=n_trial_cutoff, linetype='dotted')\n",
    "         + gg.stat_summary(geom='bar', position=gg.position_dodge(width=0.9))\n",
    "         + gg.geom_point(gg.aes(color='agegroup'), position='jitter', size=0.5)\n",
    "         + gg.labs(color='')\n",
    "         + gg.facet_grid('~ sex')\n",
    "        )\n",
    "    \n",
    "    g.save(os.path.join(plot_dir, '0_sesssion_ntrials_{}.png'.format(suf)))\n",
    "    return g\n",
    "\n",
    "# # Example use\n",
    "# plot_n_trials(true_dat, 'mouse')"
   ]
  },
  {
   "cell_type": "code",
   "execution_count": 14,
   "metadata": {
    "scrolled": true
   },
   "outputs": [],
   "source": [
    "def plot_meta_correct(data, suf):\n",
    "    \n",
    "    g = (gg.ggplot(data, gg.aes('meta', 'correct', color='agegroup', group='agegroup'))\n",
    "     + gg.stat_summary()\n",
    "     + gg.stat_summary(geom='line')\n",
    "     + gg.facet_grid('~ sex')\n",
    "     + gg.labs(x='Sessions', color='')\n",
    "    )\n",
    "    \n",
    "    g.draw()\n",
    "    g.save(os.path.join(plot_dir, '1_meta_correct_{}.png'.format(suf)))\n",
    "    \n",
    "# # Example use\n",
    "# plot_meta_correct(true_dat, 'mouse')"
   ]
  },
  {
   "cell_type": "code",
   "execution_count": 15,
   "metadata": {
    "scrolled": true
   },
   "outputs": [],
   "source": [
    "def make_blocktrial_correct_plot(data, suf):\n",
    "    \n",
    "    g = (gg.ggplot(data, gg.aes('block_trial', 'correct', color='agegroup'))\n",
    "     + gg.stat_summary()\n",
    "     + gg.stat_summary(geom='line')\n",
    "     + gg.coord_cartesian(xlim=(0, 40))\n",
    "     + gg.facet_grid('meta ~ sex')\n",
    "    )\n",
    "    g.draw()\n",
    "    g.save(os.path.join(plot_dir, '1_trial_correct_{}.png'.format(suf)))\n",
    "    \n",
    "    g2 = g + gg.aes(y='reward')    \n",
    "    g2.draw()\n",
    "    g2.save(os.path.join(plot_dir, '1_trial_reward_{}.png'.format(suf)))\n",
    "    \n",
    "# # Example use\n",
    "# make_blocktrial_correct_plot(true_dat, 'mouse')"
   ]
  },
  {
   "cell_type": "code",
   "execution_count": 16,
   "metadata": {
    "scrolled": true
   },
   "outputs": [],
   "source": [
    "def make_session_correct_plot(data, suf):\n",
    "\n",
    "    g = (gg.ggplot(data, gg.aes('session', 'correct', color='agegroup'))\n",
    "     + gg.stat_summary()\n",
    "     + gg.stat_summary(geom='line')\n",
    "     + gg.facet_grid(' ~ sex')\n",
    "    )\n",
    "    g.draw()\n",
    "    g.save(os.path.join(plot_dir, '1_session_correct_{}.png'.format(suf)))\n",
    "    \n",
    "    g2 = g + gg.aes(y='reward')    \n",
    "    g2.draw()\n",
    "    g2.save(os.path.join(plot_dir, '1_session_reward_{}.png'.format(suf)))\n",
    "    \n",
    "# # Example use\n",
    "# make_session_correct_plot(true_dat, 'mouse')"
   ]
  },
  {
   "cell_type": "code",
   "execution_count": 17,
   "metadata": {
    "scrolled": true
   },
   "outputs": [],
   "source": [
    "def make_12ago_plot(data, suf=''):\n",
    "    \n",
    "    sub_dat = data.loc[(data.rew_12ago != '0n') * (data.rew_12ago != '1n') * (data.rew_12ago != 'nn')]\n",
    "\n",
    "    g = (gg.ggplot(sub_dat, gg.aes('rew_12ago', 'switch', fill='agegroup', group='agegroup'))\n",
    "         + gg.stat_summary(geom='bar', position=gg.position_dodge(width=0.9))\n",
    "         + gg.stat_summary(position=gg.position_dodge(width=0.9))\n",
    "         + gg.facet_grid('meta ~ sex')\n",
    "    )\n",
    "    g.draw()\n",
    "    g.save(os.path.join(plot_dir, '2_rew12back_switch_{}.png'.format(suf)))\n",
    "    \n",
    "    g2 = g + gg.aes(y='correct')    \n",
    "    g2.draw()\n",
    "    g2.save(os.path.join(plot_dir, '2_rew12back_correct_{}.png'.format(suf)))\n",
    "    \n",
    "    g3 = g + gg.aes(fill='meta', group='meta') + gg.facet_grid('agegroup ~ sex')\n",
    "    g3.draw()\n",
    "    g3.save(os.path.join(plot_dir, '2_rew12back_meta_{}.png'.format(suf)))\n",
    "    \n",
    "# # Example use\n",
    "# make_12ago_plot(true_dat, 'mouse')"
   ]
  },
  {
   "cell_type": "code",
   "execution_count": 18,
   "metadata": {
    "scrolled": true
   },
   "outputs": [],
   "source": [
    "def make_trials2switch_plot(data, suf=''):\n",
    "    \n",
    "    g = (gg.ggplot(data, gg.aes('trials2switch', 'correct', color='agegroup', group='agegroup'))\n",
    "     + gg.stat_summary()\n",
    "     + gg.stat_summary(geom='line')\n",
    "     + gg.coord_cartesian(xlim=(-3, 10))\n",
    "     + gg.facet_grid('meta ~ sex')\n",
    "    )\n",
    "    g.draw()\n",
    "    g.save(os.path.join(plot_dir, '3_trials2switch_{}.png'.format(suf)))\n",
    "    \n",
    "    g2 = g + gg.aes(color='meta', group='meta') + gg.facet_grid('agegroup ~ sex')\n",
    "    g2.draw()\n",
    "    g2.save(os.path.join(plot_dir, '3_trials2switch_meta_{}.png'.format(suf)))\n",
    "\n",
    "# # Example use\n",
    "# make_trials2switch_plot(true_dat, suf='mouse')"
   ]
  },
  {
   "cell_type": "code",
   "execution_count": 19,
   "metadata": {},
   "outputs": [],
   "source": [
    "def plot_asymptotic_correct(data, xlab, suf=''):\n",
    "        \n",
    "    g = (gg.ggplot(data, gg.aes(x=0, y='correct', color='agegroup'))\n",
    "         + gg.stat_summary()\n",
    "         + gg.stat_summary(geom='line')\n",
    "#          + gg.coord_cartesian(ylim=(0.75, 1))\n",
    "         + gg.theme(axis_text_x=gg.element_blank())\n",
    "         + gg.labs(x=xlab, color='')\n",
    "         + gg.facet_grid('meta ~ sex')\n",
    "        )\n",
    "    \n",
    "    g.draw()\n",
    "    g.save(os.path.join(plot_dir, '4_asympt_{}.png'.format(suf)))\n",
    "    \n",
    "# # Example use\n",
    "# sub_dat = true_dat[(true_dat.trials2switch <= -1)]\n",
    "# plot_asymptotic_correct(sub_dat)"
   ]
  },
  {
   "cell_type": "code",
   "execution_count": 20,
   "metadata": {
    "scrolled": false
   },
   "outputs": [],
   "source": [
    "def make_age_reward_plot(data, suf):\n",
    "    \n",
    "    g = (gg.ggplot(data, gg.aes('age', 'correct', color='factor(meta)', group='factor(meta)'))\n",
    "     + gg.stat_summary()\n",
    "     + gg.stat_summary(geom='line')\n",
    "     + gg.facet_grid('agegroup ~ sex')\n",
    "    )\n",
    "    g.draw()\n",
    "    g.save(os.path.join(plot_dir, '1_age_correct_{}.png'.format(suf)))\n",
    "\n",
    "    g2 = g + gg.aes(y='reward')    \n",
    "    g2.draw()\n",
    "    g2.save(os.path.join(plot_dir, '1_age_reward_{}.png'.format(suf)))\n",
    "\n",
    "    g3 = g + gg.aes(color='factor(session)', group='factor(session)')\n",
    "    g3.draw()\n",
    "    g3.save(os.path.join(plot_dir, '1_age_correct_session_{}.png'.format(suf)))\n",
    "    \n",
    "# # Example use\n",
    "# make_age_reward_plot(true_dat, 'mouse')"
   ]
  },
  {
   "cell_type": "code",
   "execution_count": 21,
   "metadata": {},
   "outputs": [],
   "source": [
    "def make_block_correct_plot(data, suf):\n",
    "    \n",
    "    g = (gg.ggplot(data, gg.aes('block', 'correct', color='agegroup', group='agegroup'))\n",
    "     + gg.stat_summary()\n",
    "     + gg.stat_summary(geom='line')\n",
    "     + gg.coord_cartesian(xlim=(0, 20))\n",
    "     + gg.facet_grid('meta ~ sex')\n",
    "    )\n",
    "    g.draw()\n",
    "    g.save(os.path.join(plot_dir, '1_block_correct_{}.png'.format(suf)))\n",
    "    \n",
    "    g2 = g + gg.aes(y='reward')    \n",
    "    g2.draw()\n",
    "    g2.save(os.path.join(plot_dir, '1_block_reward_{}.png'.format(suf)))\n",
    "    \n",
    "    g3 = g + gg.aes(color='meta', group='meta') + gg.facet_grid('agegroup ~ sex')\n",
    "    g3.draw()\n",
    "    g3.save(os.path.join(plot_dir, '1_block_correct_meta_{}.png'.format(suf)))\n",
    "    \n",
    "# # Example use\n",
    "# make_block_correct_plot(true_dat, 'mouse')"
   ]
  },
  {
   "cell_type": "markdown",
   "metadata": {},
   "source": [
    "# Putting it all together"
   ]
  },
  {
   "cell_type": "markdown",
   "metadata": {},
   "source": [
    "## Analyze mouse data"
   ]
  },
  {
   "cell_type": "code",
   "execution_count": 22,
   "metadata": {
    "scrolled": false
   },
   "outputs": [
    {
     "name": "stdout",
     "output_type": "stream",
     "text": [
      "Reading in raw mouse data...\n"
     ]
    },
    {
     "ename": "NameError",
     "evalue": "name 'load_real_mouse_data' is not defined",
     "output_type": "error",
     "traceback": [
      "\u001b[1;31m---------------------------------------------------------------------------\u001b[0m",
      "\u001b[1;31mNameError\u001b[0m                                 Traceback (most recent call last)",
      "\u001b[1;32m<ipython-input-22-defe7d44ae55>\u001b[0m in \u001b[0;36m<module>\u001b[1;34m()\u001b[0m\n\u001b[0;32m      2\u001b[0m \u001b[1;32mif\u001b[0m \u001b[0msave_or_load_true_mouse_dat\u001b[0m \u001b[1;33m==\u001b[0m \u001b[1;34m'save'\u001b[0m\u001b[1;33m:\u001b[0m\u001b[1;33m\u001b[0m\u001b[0m\n\u001b[0;32m      3\u001b[0m     \u001b[0mprint\u001b[0m\u001b[1;33m(\u001b[0m\u001b[1;34m\"Reading in raw mouse data...\"\u001b[0m\u001b[1;33m)\u001b[0m\u001b[1;33m\u001b[0m\u001b[0m\n\u001b[1;32m----> 4\u001b[1;33m     \u001b[0mraw_dat\u001b[0m \u001b[1;33m=\u001b[0m \u001b[0mload_real_mouse_data\u001b[0m\u001b[1;33m(\u001b[0m\u001b[1;33m)\u001b[0m\u001b[1;33m\u001b[0m\u001b[0m\n\u001b[0m\u001b[0;32m      5\u001b[0m     \u001b[0mprint\u001b[0m\u001b[1;33m(\u001b[0m\u001b[1;34m\"Cleaning and saving cleaned csv...\"\u001b[0m\u001b[1;33m)\u001b[0m\u001b[1;33m\u001b[0m\u001b[0m\n\u001b[0;32m      6\u001b[0m     \u001b[0mtrue_dat_all\u001b[0m \u001b[1;33m=\u001b[0m \u001b[0mformat_mouse_data\u001b[0m\u001b[1;33m(\u001b[0m\u001b[0mraw_dat\u001b[0m\u001b[1;33m,\u001b[0m \u001b[0msave_as_csv\u001b[0m\u001b[1;33m=\u001b[0m\u001b[1;32mTrue\u001b[0m\u001b[1;33m)\u001b[0m\u001b[1;33m\u001b[0m\u001b[0m\n",
      "\u001b[1;31mNameError\u001b[0m: name 'load_real_mouse_data' is not defined"
     ]
    }
   ],
   "source": [
    "# Read in and format mouse data\n",
    "if save_or_load_true_mouse_dat == 'save':\n",
    "    print(\"Reading in raw mouse data...\")\n",
    "    raw_dat = load_mouse_data()\n",
    "    print(\"Cleaning and saving cleaned csv...\")\n",
    "    true_dat_all = format_mouse_data(raw_dat, save_as_csv=True)\n",
    "else:\n",
    "    print(\"Reading in cleaned mouse data from csv...\")\n",
    "    true_dat_all = pd.read_csv(os.path.join(mouse_data_dir, 'formatted_mouse_data.csv'), index_col=0)\n",
    "    \n",
    "true_dat_all"
   ]
  },
  {
   "cell_type": "code",
   "execution_count": null,
   "metadata": {},
   "outputs": [],
   "source": [
    "# Summarize over session to count number of trials\n",
    "n_trial_dat = true_dat_all[['animal', 'session', 'action', 'sex', 'agegroup']\n",
    "                      ].groupby(['animal', 'session', 'sex', 'agegroup']\n",
    "                      ).agg(['count']).reset_index().rename(columns={'action': 'n_trials'})\n",
    "n_trial_dat"
   ]
  },
  {
   "cell_type": "code",
   "execution_count": null,
   "metadata": {},
   "outputs": [],
   "source": [
    "# Subset 500 trials\n",
    "true_dat = true_dat_all.loc[true_dat_all.trial < n_trial_cutoff]\n",
    "excl_dat = true_dat.loc[np.isnan(true_dat.action)].groupby(['fullID']).aggregate('mean').reset_index()[['fullID']]  # , 'age', 'animal', 'session'\n",
    "\n",
    "true_dat['excluded'] = False\n",
    "for fullID in excl_dat.fullID:\n",
    "    true_dat.loc[true_dat.fullID == fullID, 'excluded'] = True\n",
    "    \n",
    "true_dat"
   ]
  },
  {
   "cell_type": "code",
   "execution_count": null,
   "metadata": {
    "scrolled": false
   },
   "outputs": [],
   "source": [
    "# Plot mouse data\n",
    "print(\"Plotting...\")\n",
    "sub_dat = true_dat[(true_dat.trials2switch <= -1)]\n",
    "plot_asymptotic_correct(sub_dat, xlab='1-3 trials before switch', suf='bef_mouse')\n",
    "sub_dat = true_dat[(true_dat.trials2switch >= 7) & (true_dat.trials2switch <= 12)]\n",
    "plot_asymptotic_correct(sub_dat, xlab='7-12 trials after switch', suf='after_mouse')\n",
    "plot_meta_correct(true_dat, suf='mouse')\n",
    "make_trials2switch_plot(true_dat, suf='mouse')\n",
    "make_12ago_plot(true_dat, 'mouse')\n",
    "make_blocktrial_correct_plot(true_dat, 'mouse')\n",
    "make_block_correct_plot(true_dat, 'mouse')\n",
    "make_session_correct_plot(true_dat, 'mouse')\n",
    "make_age_reward_plot(true_dat, 'mouse')"
   ]
  },
  {
   "cell_type": "code",
   "execution_count": null,
   "metadata": {
    "scrolled": true
   },
   "outputs": [],
   "source": [
    "sub_dat = true_dat.loc[(true_dat.trials2switch >= 1) & (true_dat.trials2switch <= 6)]\n",
    "g = (gg.ggplot(sub_dat, gg.aes('trials2switch', 'correct', color='agegroup'))\n",
    " + gg.stat_summary()\n",
    " + gg.stat_summary(geom='line')\n",
    " + gg.facet_grid('meta ~ gender', scales='free')\n",
    ")\n",
    "g.draw()\n",
    "\n",
    "g2 = g\n",
    "g2.data = true_dat.loc[(true_dat.trials2switch >= 7) & (true_dat.trials2switch <= 12)]\n",
    "g2.draw()"
   ]
  },
  {
   "cell_type": "markdown",
   "metadata": {},
   "source": [
    "## Number of trials per session (SLOW)"
   ]
  },
  {
   "cell_type": "code",
   "execution_count": null,
   "metadata": {
    "scrolled": true
   },
   "outputs": [],
   "source": [
    "# # # Get ALL data (don't exclude any trials)\n",
    "# raw_dat_all = load_real_mouse_data()\n",
    "# true_dat_all = format_mouse_data(raw_dat_all, save_as_csv=True, trials2switch_lower=10)\n",
    "# true_dat_all\n"
   ]
  },
  {
   "cell_type": "markdown",
   "metadata": {},
   "source": [
    "## Analyze simulated data"
   ]
  },
  {
   "cell_type": "code",
   "execution_count": null,
   "metadata": {
    "scrolled": false
   },
   "outputs": [],
   "source": [
    "# Define simulations to be analzed\n",
    "n_agents = 100\n",
    "modelnames = [f for f in os.listdir(fitted_param_dir) if ('.csv' in f) and ('params' in f)]\n",
    "model_names = [modelname.split('_')[1] for modelname in modelnames]\n",
    "print(model_names)\n",
    "# model_names.reverse()\n",
    "# model_names = [ 'Bbspr', 'Bbp', 'Bbpr', 'Bb', 'B', 'RLabcd', 'RLabcpd', 'RLabcpnd', 'RLabcpnxd', 'RLabd', 'RLabnp2d', 'RLab']\n",
    "\n",
    "# Read in and format simulated data\n",
    "for model_name in model_names:\n",
    "    print(\"Model {}\".format(model_name))\n",
    "    simulation_dir = os.path.join(fitted_param_dir, 'simulations/simulated_mice_{}_nagents{}.csv'.format(model_name, n_agents))\n",
    "    if save_or_load_sim_mouse_dat == 'save':\n",
    "        sim_dat = pd.read_csv(simulation_dir)\n",
    "        sim_dat = format_sim_data(sim_dat, model_name, selected_mouse=0, save_as_csv=True)\n",
    "    else:\n",
    "        sim_dat = pd.read_csv(os.path.join(mouse_data_dir, 'formatted_sim_mouse_data_{}.csv'.format(model_name)))\n",
    "    sim_dat = add_meta_column(sim_dat)\n",
    "    sim_dat['agegroup'] = pd.Categorical(sim_dat['agegroup'], ordered=True, categories=('Juvenile', 'Adult'))\n",
    "    \n",
    "    # Plot simulated data\n",
    "    print(\"Plotting...\")\n",
    "    make_trials2switch_plot(sim_dat, suf='sim' + model_name)\n",
    "    make_12ago_plot(sim_dat, 'sim' + model_name)\n",
    "    make_blocktrial_correct_plot(sim_dat, 'sim' + model_name)\n",
    "    make_block_correct_plot(sim_dat, 'sim' + model_name)\n",
    "    make_session_correct_plot(sim_dat, 'sim' + model_name)\n",
    "    make_age_reward_plot(sim_dat, 'sim' + model_name)"
   ]
  },
  {
   "cell_type": "markdown",
   "metadata": {},
   "source": [
    "# Run regression models"
   ]
  },
  {
   "cell_type": "code",
   "execution_count": null,
   "metadata": {},
   "outputs": [],
   "source": [
    "# Summarize data for logistic regression\n",
    "mean_dat = true_dat.groupby(['fullID', ]).mean().reset_index()\n",
    "mean_dat['gender'] = mean_dat.fullID.apply(lambda x : get_info_from_fullID(x)['gender'][0])\n",
    "mean_dat['agegroup'] = mean_dat.fullID.apply(lambda x : get_info_from_fullID(x)['agegroup'][0])\n",
    "\n",
    "mean_dat['meta'] = np.nan\n",
    "mean_dat.loc[mean_dat.session <= 2, 'meta'] = '1-3'\n",
    "mean_dat.loc[(mean_dat.session >= 3) * (mean_dat.session <= 7), 'meta'] = '4-8'\n",
    "mean_dat.loc[(mean_dat.session >= 8) * (mean_dat.session <= 10), 'meta'] = '9-11'\n",
    "mean_dat = mean_dat.dropna(subset=['meta'])\n",
    "mean_dat['meta'] = pd.Categorical(mean_dat['meta'], ordered=True, categories=('1-3', '4-8', '9-11'))\n",
    "# mean_dat['meta'] = add_meta_column(mean_dat)\n",
    "mean_dat"
   ]
  },
  {
   "cell_type": "code",
   "execution_count": null,
   "metadata": {
    "scrolled": true
   },
   "outputs": [],
   "source": [
    "# Agegroup differences in performace?\n",
    "print(smf.ols(\n",
    "    \"correct ~ (session + gender + agegroup) * (session + gender + agegroup)\",\n",
    "    mean_dat,\n",
    ").fit().summary())\n",
    "\n",
    "# # from statsmodels.formula.api import logit\n",
    "# smf.logit(\"affair ~ occupation + educ + occupation_husb\"\n",
    "#                    \"+ rate_marriage + age + yrs_married + children\"\n",
    "#                    \" + religious\", dta).fit()\n",
    "\n",
    "# Post-hoc t-tests\n",
    "for meta in np.unique(mean_dat.meta):\n",
    "    for gender in np.unique(mean_dat.gender):\n",
    "        \n",
    "        sub_dat = mean_dat[(mean_dat.meta == meta) * (mean_dat.gender == gender)]\n",
    "        t, p = scipy.stats.ttest_ind(\n",
    "            sub_dat.correct[sub_dat.agegroup == 'Juvenile'],\n",
    "            sub_dat.correct[sub_dat.agegroup == 'Adult']\n",
    "        )\n",
    "        print(\"{}s, sessions {}: t={}, p={}\".format(gender, meta, round(t, 1), round(p, 4)))"
   ]
  },
  {
   "cell_type": "code",
   "execution_count": null,
   "metadata": {
    "scrolled": true
   },
   "outputs": [],
   "source": [
    "# # Grand regression model\n",
    "# print(smf.mixedlm(\n",
    "#     \"correct ~ (session + gender + agegroup) * (session + gender + agegroup)\",\n",
    "#     true_dat,\n",
    "#     groups=true_dat[\"animal\"]  # Default random effects structure: random intercept for each group\n",
    "# ).fit().summary())\n",
    "\n",
    "# # Post-hoc t-tests\n",
    "# for meta in np.unique(true_dat.meta):\n",
    "#     for gender in np.unique(true_dat.gender):\n",
    "        \n",
    "#         sub_dat = true_dat[(true_dat.meta == meta) * (true_dat.gender == gender)]\n",
    "#         t, p = scipy.stats.ttest_ind(\n",
    "#             sub_dat.correct[sub_dat.agegroup == 'Juvenile'],\n",
    "#             sub_dat.correct[sub_dat.agegroup == 'Adult']\n",
    "#         )\n",
    "#         print(\"{}s, sessions {}: t={}, p={}\".format(gender, meta, round(t, 1), round(p, 4)))"
   ]
  },
  {
   "cell_type": "code",
   "execution_count": null,
   "metadata": {},
   "outputs": [],
   "source": [
    "true_dat['session2'] = 2 * np.round(true_dat.session / 2)\n",
    "true_dat['session3'] = 3 * np.round(true_dat.session / 3)\n",
    "sub = true_dat[(true_dat.agegroup == \"Juvenile\")]\n",
    "g = (gg.ggplot(sub, gg.aes('age', 'correct', color='factor(session)', group='factor(session)'))\n",
    "     + gg.stat_summary()\n",
    "     + gg.stat_summary(geom=\"line\")\n",
    "     + gg.facet_grid('~ gender')\n",
    "    )\n",
    "g"
   ]
  },
  {
   "cell_type": "code",
   "execution_count": null,
   "metadata": {},
   "outputs": [],
   "source": [
    "# Summarize data for regression\n",
    "low, high = 1, 5\n",
    "mean_dat = true_dat[\n",
    "        (true_dat.trials2switch >= low) * (true_dat.trials2switch <= high) * (true_dat.meta == '1-3')\n",
    "    ].groupby(['fullID']).mean().reset_index()\n",
    "mean_dat['gender'] = mean_dat.fullID.apply(lambda x : get_info_from_fullID(x)['gender'][0])\n",
    "mean_dat['agegroup'] = mean_dat.fullID.apply(lambda x : get_info_from_fullID(x)['agegroup'][0])\n",
    "\n",
    "mean_dat['meta'] = np.nan\n",
    "mean_dat.loc[mean_dat.session <= 2, 'meta'] = '1-3'\n",
    "mean_dat.loc[(mean_dat.session >= 3) * (mean_dat.session <= 7), 'meta'] = '4-8'\n",
    "mean_dat.loc[(mean_dat.session >= 8) * (mean_dat.session <= 10), 'meta'] = '9-11'\n",
    "mean_dat = mean_dat.dropna(subset=['meta'])\n",
    "mean_dat['meta'] = pd.Categorical(mean_dat['meta'], ordered=True, categories=('1-3', '4-8', '9-11'))\n",
    "# mean_dat['meta'] = add_meta_column(mean_dat)\n",
    "mean_dat"
   ]
  },
  {
   "cell_type": "code",
   "execution_count": null,
   "metadata": {
    "scrolled": false
   },
   "outputs": [],
   "source": [
    "# Agegroup differences in performace?\n",
    "print(smf.ols(\n",
    "    \"correct ~ (trials2switch + session + gender + agegroup) * (trials2switch + session + gender + agegroup)\",\n",
    "    mean_dat,\n",
    ").fit().summary())"
   ]
  },
  {
   "cell_type": "code",
   "execution_count": null,
   "metadata": {},
   "outputs": [],
   "source": [
    "# Summarize data for regression\n",
    "low, high = 1, 5\n",
    "mean_dat = true_dat[\n",
    "        (true_dat.trials2switch >= low) * (true_dat.trials2switch <= high)\n",
    "    ].groupby(['fullID']).mean().reset_index()\n",
    "mean_dat['gender'] = mean_dat.fullID.apply(lambda x : get_info_from_fullID(x)['gender'][0])\n",
    "mean_dat['agegroup'] = mean_dat.fullID.apply(lambda x : get_info_from_fullID(x)['agegroup'][0])\n",
    "\n",
    "mean_dat['meta'] = np.nan\n",
    "mean_dat.loc[mean_dat.session <= 2, 'meta'] = '1-3'\n",
    "mean_dat.loc[(mean_dat.session >= 3) * (mean_dat.session <= 7), 'meta'] = '4-8'\n",
    "mean_dat.loc[(mean_dat.session >= 8) * (mean_dat.session <= 10), 'meta'] = '9-11'\n",
    "mean_dat = mean_dat.dropna(subset=['meta'])\n",
    "mean_dat['meta'] = pd.Categorical(mean_dat['meta'], ordered=True, categories=('1-3', '4-8', '9-11'))\n",
    "# mean_dat['meta'] = add_meta_column(mean_dat)\n",
    "mean_dat"
   ]
  },
  {
   "cell_type": "code",
   "execution_count": null,
   "metadata": {
    "scrolled": true
   },
   "outputs": [],
   "source": [
    "# Agegroup differences in performace?\n",
    "print(smf.ols(\n",
    "    \"correct ~ (trials2switch + session + gender + agegroup) * (trials2switch + session + gender + agegroup)\",\n",
    "#     \"correct ~ gender + trials2switch + session + agegroup + session:agegroup + trials2switch:session:agegroup + trials2switch:session\",\n",
    "    mean_dat,\n",
    ").fit().summary())"
   ]
  },
  {
   "cell_type": "code",
   "execution_count": null,
   "metadata": {
    "scrolled": true
   },
   "outputs": [],
   "source": [
    "# Age group difference in early sessions?\n",
    "low, hig = 1, 6\n",
    "sub_dat_t = true_dat[(true_dat.meta == '0-2') * (true_dat.trials2switch >= low) * (true_dat.trials2switch < hig)]\n",
    "print(smf.mixedlm(\n",
    "    \"correct ~ (trials2switch + gender + session + agegroup) * (trials2switch + gender + session + agegroup)\",\n",
    "    sub_dat_t,\n",
    "    groups=sub_dat_t[\"animal\"]  # Default random effects structure: random intercept for each group\n",
    ").fit().summary())\n",
    "\n",
    "# Do adults do more meta-learning than juveniles?\n",
    "sub_dat_t = true_dat[(true_dat.trials2switch >= low) * (true_dat.trials2switch < hig)]\n",
    "print(smf.mixedlm(\n",
    "    \"correct ~ (trials2switch + gender + session) * (trials2switch + gender + session) * agegroup\",\n",
    "    sub_dat_t,\n",
    "    groups=sub_dat_t[\"animal\"]  # Default random effects structure: random intercept for each group\n",
    ").fit().summary())"
   ]
  },
  {
   "cell_type": "code",
   "execution_count": null,
   "metadata": {},
   "outputs": [],
   "source": [
    "import numpy as np                                                                                         \n",
    "import statsmodels.api as sm                                                                               \n",
    "import pandas as pd                                                                                        \n",
    "                                                                                                           \n",
    "# create fake data                                                                                         \n",
    "# y: binary response                                                                                       \n",
    "# x: continuous predictor                                                                                  \n",
    "# re: three class random intercepts                                                                        \n",
    "fakedata = pd.DataFrame({'y' : np.random.sample(50).round(),                                               \n",
    "                         'x' : np.random.sample(50),                                                       \n",
    "                         're' : (np.random.sample(50)*2).round().astype(int).astype(str)})\n",
    "                                                          \n",
    "# this is implemented as I understand the doc:                                                             \n",
    "binom_model = sm.BinomialBayesMixedGLM(                                                                    \n",
    "                                       fakedata['y'], # endog                                              \n",
    "                                       fakedata['x'][:, None], # exog                                      \n",
    "                                       pd.get_dummies(fakedata['re']), # Array of covariates for the random\n",
    "                                       np.r_[0, 0, 0]) # ident, columns of exog_vc                         \n",
    "binom_result = binom_model.fit_vb()\n",
    "print(binom_result.summary())"
   ]
  },
  {
   "cell_type": "code",
   "execution_count": null,
   "metadata": {
    "scrolled": true
   },
   "outputs": [],
   "source": [
    "fakedata"
   ]
  },
  {
   "cell_type": "code",
   "execution_count": null,
   "metadata": {},
   "outputs": [],
   "source": [
    "import numpy as np                                                                                                              \n",
    "import pandas as pd                                                                                                             \n",
    "from statsmodels.genmod.bayes_mixed_glm import PoissonBayesMixedGLM, BinomialBayesMixedGLM                                      \n",
    "                                                                                                                                \n",
    "n = 1000                                                                                                                        \n",
    "m = 50 # Number of groups                                                                                                       \n",
    "grp = np.random.randint(0, m, n)                                                                                                \n",
    "grp_efx = np.random.normal(size=m)                                                                                              \n",
    "n_relapse_xmt = np.random.normal(size=n)                                                                                        \n",
    "lpr = grp_efx[grp] + n_relapse_xmt                                                                                              \n",
    "mn = np.exp(lpr)                                                                                                                \n",
    "total_days_AU_MS = np.random.poisson(mn)                                                                                        \n",
    "X = pd.DataFrame({\"total_days_AU_MS\": total_days_AU_MS,                                                                         \n",
    "                  \"f_id_site\": grp,                                                                                             \n",
    "                  \"n_relapse_xmt\": n_relapse_xmt})                                                                              \n",
    "                                                                                                                                \n",
    "formula = 'total_days_AU_MS ~ 1 + n_relapse_xmt'                                                                                \n",
    "                                                                                                                                \n",
    "glm_model = PoissonBayesMixedGLM.from_formula(formula=formula,                                                                  \n",
    "                vc_formulas={'f_id_site': '0 + C(f_id_site)'}, data=X)                                                          \n",
    "glm_results = glm_model.fit_map()                                                                                               \n",
    "print(glm_results.summary())  "
   ]
  },
  {
   "cell_type": "code",
   "execution_count": null,
   "metadata": {},
   "outputs": [],
   "source": [
    "print(smf.mixedlm(\n",
    "    \"correct ~ (agegroup + session + gender) * (agegroup + session + gender)\",\n",
    "    sub_dat,\n",
    "    groups=sub_dat.animal\n",
    ").fit().summary())"
   ]
  },
  {
   "cell_type": "code",
   "execution_count": null,
   "metadata": {},
   "outputs": [],
   "source": [
    "# PC_sim_dir = \"C:/Users/maria/MEGAsync/SLCNdata/ProbSwitch/PC_sim_dat\""
   ]
  },
  {
   "cell_type": "code",
   "execution_count": null,
   "metadata": {},
   "outputs": [],
   "source": [
    "# # Define simulations to be analzed\n",
    "# n_agents = 100\n",
    "# PC_sim_name = [f for f in os.listdir(PC_sim_dir) if ('.csv' in f) and ('params' in f)]\n",
    "# model_names = [modelname.split('_')[1] for modelname in modelnames]\n",
    "# print(model_names)"
   ]
  },
  {
   "cell_type": "code",
   "execution_count": null,
   "metadata": {},
   "outputs": [],
   "source": [
    "\n",
    "# simulation_dir = os.path.join(PC_sim_dir, 'PC_{}_*.csv'.format(model_name, n_agents))\n",
    "# if save_or_load_sim_mouse_dat == 'save':\n",
    "#     sim_dat = pd.read_csv(simulation_dir)\n",
    "#     sim_dat = format_sim_data(sim_dat, model_name, selected_mouse=0, save_as_csv=True)\n",
    "# else:\n",
    "#     sim_dat = pd.read_csv(os.path.join(mouse_data_dir, 'formatted_sim_mouse_data_{}.csv'.format(model_name)))\n",
    "# sim_dat = add_meta_column(sim_dat)\n",
    "# sim_dat['agegroup'] = pd.Categorical(sim_dat['agegroup'], ordered=True, categories=('Juvenile', 'Adult'))\n",
    "\n",
    "# # Plot simulated data\n",
    "# print(\"Plotting...\")\n",
    "# make_trials2switch_plot(sim_dat, suf='sim' + model_name)\n",
    "# make_12ago_plot(sim_dat, 'sim' + model_name)\n",
    "# make_blocktrial_correct_plot(sim_dat, 'sim' + model_name)\n",
    "# make_block_correct_plot(sim_dat, 'sim' + model_name)\n",
    "# make_session_correct_plot(sim_dat, 'sim' + model_name)\n",
    "# make_age_reward_plot(sim_dat, 'sim' + model_name)"
   ]
  },
  {
   "cell_type": "code",
   "execution_count": null,
   "metadata": {
    "scrolled": false
   },
   "outputs": [],
   "source": [
    "\n",
    "# # model_names = [ 'Bbspr', 'Bbp', 'Bbpr', 'Bb', 'B', 'RLabcd', 'RLabcpd', 'RLabcpnd', 'RLabcpnxd', 'RLabd', 'RLabnp2d', 'RLab']\n",
    "\n",
    "# # Read in and format simulated data\n",
    "# # for PC_sim_name in PC_sim_names:\n",
    "#     print(\"Model {}\".format(model_name))\n",
    "#     simulation_dir = os.path.join(PC_sim_dir, 'simulated_mice_{}_nagents{}.csv'.format(model_name, n_agents))\n",
    "#     if save_or_load_sim_mouse_dat == 'save':\n",
    "#         sim_dat = pd.read_csv(simulation_dir)\n",
    "#         sim_dat = format_sim_data(sim_dat, model_name, selected_mouse=0, save_as_csv=True)\n",
    "#     else:\n",
    "#         sim_dat = pd.read_csv(os.path.join(mouse_data_dir, 'formatted_sim_mouse_data_{}.csv'.format(model_name)))\n",
    "#     sim_dat = add_meta_column(sim_dat)\n",
    "#     sim_dat['agegroup'] = pd.Categorical(sim_dat['agegroup'], ordered=True, categories=('Juvenile', 'Adult'))\n",
    "    \n",
    "#     # Plot simulated data\n",
    "#     print(\"Plotting...\")\n",
    "#     make_trials2switch_plot(sim_dat, suf='sim' + model_name)\n",
    "#     make_12ago_plot(sim_dat, 'sim' + model_name)\n",
    "#     make_blocktrial_correct_plot(sim_dat, 'sim' + model_name)\n",
    "#     make_block_correct_plot(sim_dat, 'sim' + model_name)\n",
    "#     make_session_correct_plot(sim_dat, 'sim' + model_name)\n",
    "#     make_age_reward_plot(sim_dat, 'sim' + model_name)"
   ]
  }
 ],
 "metadata": {
  "kernelspec": {
   "display_name": "PYMC3",
   "language": "python",
   "name": "pymc3"
  },
  "language_info": {
   "codemirror_mode": {
    "name": "ipython",
    "version": 3
   },
   "file_extension": ".py",
   "mimetype": "text/x-python",
   "name": "python",
   "nbconvert_exporter": "python",
   "pygments_lexer": "ipython3",
   "version": "3.6.6"
  }
 },
 "nbformat": 4,
 "nbformat_minor": 2
}
