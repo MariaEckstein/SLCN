{
 "cells": [
  {
   "cell_type": "markdown",
   "metadata": {},
   "source": [
    "# Imports etc."
   ]
  },
  {
   "cell_type": "code",
   "execution_count": 49,
   "metadata": {},
   "outputs": [],
   "source": [
    "import ipdb\n",
    "import numpy as np\n",
    "import os\n",
    "import pandas as pd\n",
    "import plotnine as gg\n",
    "import scipy\n",
    "gg.theme_set(gg.theme_classic)\n",
    "\n",
    "from Functions import replace_nans, get_info_from_fullID"
   ]
  },
  {
   "cell_type": "code",
   "execution_count": 2,
   "metadata": {},
   "outputs": [],
   "source": [
    "fitted_param_dir = 'C:/Users/maria/MEGAsync/SLCN/PShumanData/fitting/mice/'\n",
    "plot_dir = 'C:/Users/maria/MEGAsync/SLCN/models/plots'\n",
    "mouse_data_dir = 'C:/Users/maria/MEGAsync/SLCN/PSMouseData'"
   ]
  },
  {
   "cell_type": "code",
   "execution_count": 3,
   "metadata": {},
   "outputs": [],
   "source": [
    "save_or_load_true_mouse_dat = 'save'  # 'save', 'load'\n",
    "save_or_load_sim_mouse_dat = 'save'  # 'save', 'load'"
   ]
  },
  {
   "cell_type": "markdown",
   "metadata": {},
   "source": [
    "# Functions to load and format mouse data"
   ]
  },
  {
   "cell_type": "code",
   "execution_count": 4,
   "metadata": {},
   "outputs": [],
   "source": [
    "def read_in_raw_mouse_data(mouse_data_dir, n_trials):\n",
    "    \n",
    "    # Load data\n",
    "    rewards_j = pd.read_csv(os.path.join(mouse_data_dir, 'Juvi_Reward.csv')).T.values[:n_trials]\n",
    "    rewards_a = pd.read_csv(os.path.join(mouse_data_dir, 'Adult_Reward.csv')).T.values[:n_trials]\n",
    "    actions_j = pd.read_csv(os.path.join(mouse_data_dir, 'Juvi_Choice.csv')).T.values[:n_trials]\n",
    "    actions_a = pd.read_csv(os.path.join(mouse_data_dir, 'Adult_Choice.csv')).T.values[:n_trials]\n",
    "    correct_actions_j = pd.read_csv(os.path.join(mouse_data_dir, 'Juvi_TaskData.csv')).T.values[:n_trials]\n",
    "    correct_actions_a = pd.read_csv(os.path.join(mouse_data_dir, 'Adult_TaskData.csv')).T.values[:n_trials]\n",
    "    fullID_j = pd.read_csv(os.path.join(mouse_data_dir, 'Juvi_AnimalID.csv')).T.values.flatten()\n",
    "    fullID_a = pd.read_csv(os.path.join(mouse_data_dir, 'Adult_AnimalID.csv')).T.values.flatten()\n",
    "\n",
    "    # Clean data\n",
    "    n_trials_per_animal = np.sum(np.invert(np.isnan(rewards_j)), axis=0)\n",
    "    n_trials = np.round(np.percentile(n_trials_per_animal, 0.8)).astype('int')\n",
    "    rewards_j = replace_nans(rewards_j).astype('int')\n",
    "    actions_j = replace_nans(actions_j).astype('int')\n",
    "    rewards_a = replace_nans(rewards_a).astype('int')\n",
    "    actions_a = replace_nans(actions_a).astype('int')\n",
    "    correct_actions_j = replace_nans(correct_actions_j).astype('int')\n",
    "    correct_actions_a = replace_nans(correct_actions_a).astype('int')\n",
    "\n",
    "    # Combine juvenile and adult data\n",
    "    fullIDs = np.concatenate([fullID_j, fullID_a])\n",
    "    correct_actions = np.hstack([correct_actions_j, correct_actions_a])\n",
    "    actions = np.hstack([actions_j, actions_a])\n",
    "    corrects = (actions == correct_actions).astype('int')\n",
    "    rewards = np.hstack([rewards_j, rewards_a])  # (n_trials, n_cols)\n",
    "    rewards[corrects == 0] = 0  # to fix errors of replace_nans\n",
    "    \n",
    "    return {\n",
    "        'fullIDs': fullIDs,\n",
    "        'animals': [int(str(fullID)[:-5]) for fullID in fullIDs],\n",
    "        'ages': [int(str(fullID)[-5:-2]) for fullID in fullIDs],\n",
    "        'rewards': rewards,\n",
    "        'actions': actions,\n",
    "        'correct_actions': correct_actions,\n",
    "        'corrects': corrects,\n",
    "    }\n",
    "\n",
    "# # Example use\n",
    "# raw_dat = read_in_raw_mouse_data(mouse_data_dir, n_trials=725)\n",
    "# raw_dat"
   ]
  },
  {
   "cell_type": "code",
   "execution_count": 5,
   "metadata": {
    "scrolled": true
   },
   "outputs": [],
   "source": [
    "def format_mouse_data(raw_dat, save_as_csv=True):\n",
    "    \n",
    "    true_dat = pd.DataFrame()\n",
    "    for i, fullID in enumerate(raw_dat['fullIDs']):\n",
    "        \n",
    "        # Animal info\n",
    "        subj_dat = {\n",
    "            'action': raw_dat['actions'][:, i],\n",
    "            'reward': raw_dat['rewards'][:, i],\n",
    "            'correct': raw_dat['corrects'][:, i],\n",
    "            'correct_action': raw_dat['correct_actions'][:, i],\n",
    "            'trial': range(len(raw_dat['actions'])),\n",
    "            'block': np.append([0], np.cumsum(np.abs(np.diff(raw_dat['correct_actions'][:, i])))),\n",
    "            'fullID': [fullID] * len(raw_dat['actions']),\n",
    "            }\n",
    "        subj_dat.update(get_info_from_fullID(fullID, length=len(subj_dat['action'])))\n",
    "        subj_dat = pd.DataFrame(subj_dat)\n",
    "\n",
    "        # Session info (within animal)\n",
    "        for age in np.unique(subj_dat.age):\n",
    "            subj_dat.loc[subj_dat.age == age, 'rew_1ago'] = np.append(np.nan, subj_dat['reward'][:-1])\n",
    "            subj_dat.loc[subj_dat.age == age, 'rew_2ago'] = np.append(np.nan, subj_dat['rew_1ago'][:-1])\n",
    "            subj_dat.loc[subj_dat.age == age, 'switch'] = np.append(np.nan, np.abs(np.diff(subj_dat.action)))\n",
    "\n",
    "            # Block info (within session, within animal)\n",
    "            for block in np.unique(subj_dat.block):\n",
    "                sub_idx = (subj_dat.block == block) * (subj_dat.age == age)\n",
    "                block_length = sum(sub_idx)\n",
    "\n",
    "                if block_length > 5:\n",
    "                    block_trial = range(block_length)\n",
    "                    trials2switch = np.append(np.arange(block_length-3), np.arange(-3, 0))\n",
    "                else:\n",
    "                    block_trial = [np.nan] * block_length\n",
    "                    trials2switch = [np.nan] * block_length\n",
    "\n",
    "                subj_dat.loc[sub_idx, 'block_length'] = block_length\n",
    "                subj_dat.loc[sub_idx, 'block_trial'] = block_trial\n",
    "                subj_dat.loc[sub_idx, 'trials2switch'] = trials2switch\n",
    "\n",
    "        true_dat = true_dat.append(subj_dat)\n",
    "\n",
    "    # Session and gender\n",
    "    for animal in np.unique(true_dat.animal):\n",
    "        ani_age = true_dat.loc[true_dat.animal == animal, 'age']\n",
    "        true_dat.loc[true_dat.animal == animal, 'session'] = ani_age - np.min(ani_age)\n",
    "    true_dat['rew_12ago'] = [str(r1)[0] + str(r2)[0] for r1, r2 in zip(true_dat['rew_1ago'], true_dat['rew_2ago'])]\n",
    "    \n",
    "    # Save as csv\n",
    "    if save_as_csv:\n",
    "        true_dat.to_csv(os.path.join(mouse_data_dir, 'formatted_mouse_data.csv'))\n",
    "        \n",
    "    return true_dat\n",
    "\n",
    "# # Example use\n",
    "# true_dat = format_mouse_data(raw_dat, save_as_csv=True)\n",
    "# true_dat"
   ]
  },
  {
   "cell_type": "markdown",
   "metadata": {},
   "source": [
    "# Functions to load and format simulated data"
   ]
  },
  {
   "cell_type": "code",
   "execution_count": 6,
   "metadata": {
    "scrolled": true
   },
   "outputs": [],
   "source": [
    "# Get remaining info for this simulation\n",
    "def format_sim_data(sim_dat, model_name, selected_mouse=0, save_as_csv=True):\n",
    "    \"\"\"\n",
    "    Takes raw `sim_data` (e.g., read in from os.path.join(fitted_param_dir, 'simulations/simulated_mice_{}_nagents{}.csv'.format(model_name, n_agents)))\n",
    "    Adds all the columns necessary for behavioral analyses.\n",
    "    \"\"\"\n",
    "    \n",
    "    # Pull out behavior of one specific simulation into separate columns\n",
    "    for col in ['actionall', 'rewardall', 'correctall']:\n",
    "        sim_dat[col[:-3]] = sim_dat[col].apply(lambda x: x[2 * selected_mouse + 1]).astype('int')\n",
    "        \n",
    "    # Add gender and session for each simulated animal\n",
    "    for animal in np.unique(sim_dat.animal):\n",
    "        print('animal {} / {}'.format(animal, len(np.unique(sim_dat.animal))))\n",
    "        sub_idx_a = sim_dat.animal == animal\n",
    "        sim_dat.loc[sub_idx_a, 'gender'] = get_info_from_fullID(sim_dat.loc[sub_idx_a, 'fullID'].reset_index(drop=True)[0], sum(sub_idx_a))['gender']\n",
    "        sim_age = sim_dat.loc[sub_idx_a, 'age']\n",
    "        sim_dat.loc[sub_idx_a, 'session'] = sim_age - min(sim_age)\n",
    "\n",
    "        # Add rew_1ago, rew_2ago, switch for each session\n",
    "        for age in np.unique(sim_dat.loc[sub_idx_a, 'age']):\n",
    "            sub_idx_aa = (sim_dat.animal == animal) * (sim_dat.age == age)\n",
    "            sim_dat.loc[sub_idx_aa, 'rew_1ago'] = np.append(np.nan, sim_dat.loc[sub_idx_aa, 'reward'][:-1])\n",
    "            sim_dat.loc[sub_idx_aa, 'rew_2ago'] = np.append(np.nan, sim_dat.loc[sub_idx_aa, 'rew_1ago'][:-1])\n",
    "            sim_dat.loc[sub_idx_aa, 'switch'] = np.append(np.nan, np.abs(np.diff(sim_dat.loc[sub_idx_aa, 'action'].astype('int'))))\n",
    "\n",
    "            # Add block_length, block_trial, trials2swtich for each block\n",
    "            for block in np.unique(sim_dat.loc[sub_idx_aa, 'block']):\n",
    "                sub_idx_baa = (sim_dat.block == block) * (sim_dat.animal == animal) * (sim_dat.age == age)\n",
    "                block_length = sum(sub_idx_baa)\n",
    "\n",
    "                if block_length > 5:\n",
    "                    block_trial = range(block_length)\n",
    "                    trials2switch = np.append(np.arange(block_length-3), np.arange(-3, 0))\n",
    "                else:\n",
    "                    block_trial = [np.nan] * block_length\n",
    "                    trials2switch = [np.nan] * block_length\n",
    "\n",
    "                sim_dat.loc[sub_idx_baa, 'block_length'] = block_length\n",
    "                sim_dat.loc[sub_idx_baa, 'block_trial'] = block_trial\n",
    "                sim_dat.loc[sub_idx_baa, 'trials2switch'] = trials2switch\n",
    "\n",
    "    # Format gender; add rew_12ago and agegroup\n",
    "#     true_dat['gender'] = true_dat['gender'].replace({1: 'Male', 2: 'Female'})\n",
    "    sim_dat['rew_12ago'] = [str(r1)[0] + str(r2)[0] for r1, r2 in zip(sim_dat['rew_1ago'], sim_dat['rew_2ago'])]\n",
    "    sim_dat.loc[sim_dat.age > 65, 'agegroup'] = 'Adult'  # adults: 69-90\n",
    "    sim_dat.loc[sim_dat.age < 65, 'agegroup'] = 'Juvenile'  # juveniles: 38-60\n",
    "\n",
    "    # Save as csv\n",
    "    if save_as_csv:\n",
    "        sim_dat.to_csv(os.path.join(mouse_data_dir, 'formatted_sim_mouse_data_{}.csv'.format(model_name)), index=False)\n",
    "        \n",
    "    return sim_dat\n",
    "\n",
    "# # Example use\n",
    "# n_agents = 10\n",
    "# modelnames = [f for f in os.listdir(fitted_param_dir) if ('.csv' in f) and ('params' in f) and ('B' not in f)]\n",
    "# model_names = [modelname.split('_')[1] for modelname in modelnames]\n",
    "# simulation_dir = os.path.join(fitted_param_dir, 'simulations/simulated_mice_{}_nagents{}.csv'.format(model_name, n_agents))\n",
    "# sim_dat = pd.read_csv(simulation_dir)\n",
    "# format_sim_data(sim_dat, model_name, selected_mouse=0, save_as_csv=True)"
   ]
  },
  {
   "cell_type": "markdown",
   "metadata": {},
   "source": [
    "# Functions to make plots"
   ]
  },
  {
   "cell_type": "code",
   "execution_count": 7,
   "metadata": {
    "scrolled": true
   },
   "outputs": [],
   "source": [
    "def make_trials2switch_plot(data, suf=''):\n",
    "    \n",
    "    g = (gg.ggplot(data, gg.aes('trials2switch', 'correct', color='agegroup', group='agegroup'))\n",
    "     + gg.stat_summary()\n",
    "     + gg.stat_summary(geom='line')\n",
    "     + gg.coord_cartesian(xlim=(-3, 10))\n",
    "     + gg.facet_grid('meta ~ gender')\n",
    "    )\n",
    "    g.draw()\n",
    "    g.save(os.path.join(plot_dir, 'trials2switch_{}.png'.format(suf)))\n",
    "    \n",
    "# # Example use\n",
    "# make_trials2switch_plot(true_dat, suf='mouse')"
   ]
  },
  {
   "cell_type": "code",
   "execution_count": 8,
   "metadata": {
    "scrolled": true
   },
   "outputs": [],
   "source": [
    "def make_12ago_plot(data, suf=''):\n",
    "    \n",
    "    sub_dat = data.loc[(data.rew_12ago != '0n') * (data.rew_12ago != '1n') * (data.rew_12ago != 'nn')]\n",
    "\n",
    "    g = (gg.ggplot(sub_dat, gg.aes('rew_12ago', 'switch', fill='agegroup', group='agegroup'))\n",
    "         + gg.stat_summary(geom='bar', position=gg.position_dodge(width=0.9))\n",
    "         + gg.stat_summary(position=gg.position_dodge(width=0.9))\n",
    "         + gg.facet_grid('meta ~ gender')\n",
    "    )\n",
    "    g.draw()\n",
    "    g.save(os.path.join(plot_dir, 'rew12back_switch_{}.png'.format(suf)))\n",
    "    \n",
    "    g2 = g + gg.aes(y='correct')    \n",
    "    g2.draw()\n",
    "    g2.save(os.path.join(plot_dir, 'rew12back_correct_{}.png'.format(suf)))\n",
    "    \n",
    "# # Example use\n",
    "# make_12ago_plot(true_dat, 'mouse')"
   ]
  },
  {
   "cell_type": "code",
   "execution_count": 42,
   "metadata": {
    "scrolled": true
   },
   "outputs": [],
   "source": [
    "def make_blocktrial_correct_plot(data, suf):\n",
    "    \n",
    "    g = (gg.ggplot(data, gg.aes('block_trial', 'correct', color='agegroup'))\n",
    "     + gg.stat_summary()\n",
    "     + gg.stat_summary(geom='line')\n",
    "     + gg.coord_cartesian(xlim=(0, 40))\n",
    "     + gg.facet_grid('meta ~ gender')\n",
    "    )\n",
    "    g.draw()\n",
    "    g.save(os.path.join(plot_dir, 'trial_correct_{}.png'.format(suf)))\n",
    "    \n",
    "    g2 = g + gg.aes(y='reward')    \n",
    "    g2.draw()\n",
    "    g2.save(os.path.join(plot_dir, 'trial_reward_{}.png'.format(suf)))\n",
    "    \n",
    "# # Example use\n",
    "# make_blocktrial_correct_plot(true_dat, 'mouse')"
   ]
  },
  {
   "cell_type": "code",
   "execution_count": 38,
   "metadata": {},
   "outputs": [],
   "source": [
    "def make_block_correct_plot(data, suf):\n",
    "    \n",
    "    g = (gg.ggplot(data, gg.aes('block', 'correct', color='agegroup', group='agegroup'))\n",
    "     + gg.stat_summary()\n",
    "     + gg.stat_summary(geom='line')\n",
    "     + gg.coord_cartesian(xlim=(0, 20))\n",
    "     + gg.facet_grid('meta ~ gender')\n",
    "    )\n",
    "    g.draw()\n",
    "    g.save(os.path.join(plot_dir, 'block_correct_{}.png'.format(suf)))\n",
    "    \n",
    "    g2 = g + gg.aes(y='reward')    \n",
    "    g2.draw()\n",
    "    g2.save(os.path.join(plot_dir, 'block_reward_{}.png'.format(suf)))\n",
    "    \n",
    "# # Example use\n",
    "# make_block_correct_plot(true_dat, 'mouse')"
   ]
  },
  {
   "cell_type": "code",
   "execution_count": 61,
   "metadata": {
    "scrolled": true
   },
   "outputs": [],
   "source": [
    "def make_session_correct_plot(data, suf):\n",
    "\n",
    "    g = (gg.ggplot(data, gg.aes('session', 'correct', color='agegroup'))\n",
    "     + gg.stat_summary()\n",
    "     + gg.stat_summary(geom='line')\n",
    "     + gg.facet_grid(' ~ gender')\n",
    "    )\n",
    "    g.draw()\n",
    "    g.save(os.path.join(plot_dir, 'session_correct_{}.png'.format(suf)))\n",
    "    \n",
    "    g2 = g + gg.aes(y='reward')    \n",
    "    g2.draw()\n",
    "    g2.save(os.path.join(plot_dir, 'session_reward_{}.png'.format(suf)))\n",
    "    \n",
    "# # Example use\n",
    "# make_session_correct_plot(true_dat, 'mouse')"
   ]
  },
  {
   "cell_type": "code",
   "execution_count": 46,
   "metadata": {
    "scrolled": true
   },
   "outputs": [],
   "source": [
    "def make_age_reward_plot(data, suf):\n",
    "    \n",
    "    g = (gg.ggplot(data, gg.aes('age', 'correct', color='agegroup'))\n",
    "     + gg.stat_summary()\n",
    "     + gg.stat_summary(geom='line')\n",
    "     + gg.facet_grid('meta ~ gender')\n",
    "    )\n",
    "    g.draw()\n",
    "    g.save(os.path.join(plot_dir, 'age_correct_{}.png'.format(suf)))\n",
    "    \n",
    "    g2 = g + gg.aes(y='reward')    \n",
    "    g2.draw()\n",
    "    g2.save(os.path.join(plot_dir, 'age_reward_{}.png'.format(suf)))\n",
    "    \n",
    "# # Example use\n",
    "# make_session_correct_plot(true_dat, 'mouse')"
   ]
  },
  {
   "cell_type": "markdown",
   "metadata": {},
   "source": [
    "# Putting it all together"
   ]
  },
  {
   "cell_type": "markdown",
   "metadata": {},
   "source": [
    "## Analyze mouse data"
   ]
  },
  {
   "cell_type": "code",
   "execution_count": 53,
   "metadata": {
    "scrolled": true
   },
   "outputs": [
    {
     "name": "stdout",
     "output_type": "stream",
     "text": [
      "Reading in mouse data...\n"
     ]
    },
    {
     "name": "stderr",
     "output_type": "stream",
     "text": [
      "C:\\Users\\maria\\Anaconda3\\envs\\PYMC3\\lib\\site-packages\\pandas\\core\\computation\\expressions.py:194: UserWarning: evaluating in Python space because the '*' operator is not supported by numexpr for the bool dtype, use '&' instead\n",
      "  op=op_str, alt_op=unsupported[op_str]\n"
     ]
    }
   ],
   "source": [
    "n_trials = 725\n",
    "\n",
    "# Read in and format mouse data\n",
    "print(\"Reading in mouse data...\")\n",
    "if save_or_load_true_mouse_dat == 'save':\n",
    "    raw_dat = read_in_raw_mouse_data(mouse_data_dir, n_trials)\n",
    "    true_dat = format_mouse_data(raw_dat, save_as_csv=True)\n",
    "else:\n",
    "    true_dat = pd.read_csv(os.path.join(mouse_data_dir, 'formatted_mouse_data.csv'))"
   ]
  },
  {
   "cell_type": "code",
   "execution_count": 63,
   "metadata": {},
   "outputs": [
    {
     "name": "stderr",
     "output_type": "stream",
     "text": [
      "C:\\Users\\maria\\Anaconda3\\envs\\PYMC3\\lib\\site-packages\\pandas\\core\\computation\\expressions.py:194: UserWarning: evaluating in Python space because the '*' operator is not supported by numexpr for the bool dtype, use '&' instead\n",
      "  op=op_str, alt_op=unsupported[op_str]\n"
     ]
    }
   ],
   "source": [
    "true_dat['meta'] = np.nan\n",
    "true_dat.loc[true_dat.session < 3, 'meta'] = 'early'\n",
    "true_dat.loc[(true_dat.session > 9) * (true_dat.session < 13), 'meta'] = 'late'\n",
    "sub_dat = true_dat.copy()\n",
    "sub_dat = sub_dat[(sub_dat.meta == 'early') + (sub_dat.meta == 'late')]  # subset to speed up plotting\n",
    "sub_dat"
   ]
  },
  {
   "cell_type": "code",
   "execution_count": null,
   "metadata": {
    "scrolled": true
   },
   "outputs": [],
   "source": [
    "# Plot mouse data\n",
    "print(\"Plotting...\")\n",
    "make_trials2switch_plot(sub_dat, suf='mouse')\n",
    "print(\"..\")\n",
    "make_12ago_plot(sub_dat, 'mouse')\n",
    "print(\"..\")\n",
    "make_blocktrial_correct_plot(sub_dat, 'mouse')\n",
    "print(\"..\")\n",
    "make_block_correct_plot(sub_dat, 'mouse')\n",
    "print(\"..\")\n",
    "make_session_correct_plot(true_dat, 'mouse')\n",
    "print(\"..\")\n",
    "make_age_reward_plot(true_dat, 'mouse')"
   ]
  },
  {
   "cell_type": "markdown",
   "metadata": {},
   "source": [
    "## Analyze simulated data"
   ]
  },
  {
   "cell_type": "code",
   "execution_count": null,
   "metadata": {
    "scrolled": true
   },
   "outputs": [
    {
     "name": "stdout",
     "output_type": "stream",
     "text": [
      "['Bbpr', 'Bbp', 'Bbspr', 'Bb', 'B', 'RLabcd', 'RLabcpd', 'RLabcpnd', 'RLabcpnxd', 'RLabd', 'RLabnp2d', 'RLabnp2', 'RLab']\n",
      "Model Bbpr\n",
      "animal 1 / 36\n"
     ]
    },
    {
     "name": "stderr",
     "output_type": "stream",
     "text": [
      "C:\\Users\\maria\\Anaconda3\\envs\\PYMC3\\lib\\site-packages\\pandas\\core\\computation\\expressions.py:194: UserWarning: evaluating in Python space because the '*' operator is not supported by numexpr for the bool dtype, use '&' instead\n",
      "  op=op_str, alt_op=unsupported[op_str]\n"
     ]
    },
    {
     "name": "stdout",
     "output_type": "stream",
     "text": [
      "animal 2 / 36\n",
      "animal 3 / 36\n",
      "animal 4 / 36\n",
      "animal 5 / 36\n",
      "animal 6 / 36\n",
      "animal 7 / 36\n",
      "animal 8 / 36\n",
      "animal 9 / 36\n",
      "animal 10 / 36\n",
      "animal 11 / 36\n",
      "animal 12 / 36\n",
      "animal 13 / 36\n",
      "animal 14 / 36\n",
      "animal 15 / 36\n",
      "animal 16 / 36\n",
      "animal 17 / 36\n"
     ]
    }
   ],
   "source": [
    "# Define simulations to be analzed\n",
    "n_agents = 100\n",
    "modelnames = [f for f in os.listdir(fitted_param_dir) if ('.csv' in f) and ('params' in f)]\n",
    "model_names = [modelname.split('_')[1] for modelname in modelnames]\n",
    "print(model_names)\n",
    "# model_names.reverse()\n",
    "# model_names = [ 'Bbspr', 'Bbp', 'Bbpr', 'Bb', 'B', 'RLabcd', 'RLabcpd', 'RLabcpnd', 'RLabcpnxd', 'RLabd', 'RLabnp2d', 'RLab']\n",
    "\n",
    "# Read in and format simulated data\n",
    "for model_name in model_names:\n",
    "    print(\"Model {}\".format(model_name))\n",
    "    simulation_dir = os.path.join(fitted_param_dir, 'simulations/simulated_mice_{}_nagents{}.csv'.format(model_name, n_agents))\n",
    "    if save_or_load_sim_mouse_dat == 'save':\n",
    "        sim_dat = pd.read_csv(simulation_dir)\n",
    "        sim_dat = format_sim_data(sim_dat, model_name, selected_mouse=0, save_as_csv=True)\n",
    "    else:\n",
    "        sim_dat = pd.read_csv(os.path.join(mouse_data_dir, 'formatted_sim_mouse_data_{}.csv'.format(model_name)))\n",
    "        \n",
    "    # Subset like mice\n",
    "    sim_dat['meta'] = np.nan\n",
    "    sim_dat.loc[sim_dat.session < 3, 'meta'] = 'early'\n",
    "    sim_dat.loc[(sim_dat.session > 9) * (sim_dat.session < 13), 'meta'] = 'late'\n",
    "    sub_dat = sim_dat.copy()\n",
    "    sub_dat = sub_dat[(sub_dat.meta == 'early') + (sub_dat.meta == 'late')]  # subset to speed up plotting\n",
    "    sub_dat\n",
    "    \n",
    "    # Plot simulated data\n",
    "    print(\"Plotting...\")\n",
    "    make_trials2switch_plot(sub_dat, suf='sim' + model_name)\n",
    "    make_12ago_plot(sub_dat, 'sim' + model_name)\n",
    "    make_blocktrial_correct_plot(sub_dat, 'sim' + model_name)\n",
    "    make_block_correct_plot(sub_dat, 'sim' + model_name)\n",
    "    make_session_correct_plot(sim_dat, 'sim' + model_name)\n",
    "    make_age_reward_plot(sim_dat, 'sim' + model_name)"
   ]
  }
 ],
 "metadata": {
  "kernelspec": {
   "display_name": "PYMC3",
   "language": "python",
   "name": "pymc3"
  },
  "language_info": {
   "codemirror_mode": {
    "name": "ipython",
    "version": 3
   },
   "file_extension": ".py",
   "mimetype": "text/x-python",
   "name": "python",
   "nbconvert_exporter": "python",
   "pygments_lexer": "ipython3",
   "version": "3.6.6"
  }
 },
 "nbformat": 4,
 "nbformat_minor": 2
}
