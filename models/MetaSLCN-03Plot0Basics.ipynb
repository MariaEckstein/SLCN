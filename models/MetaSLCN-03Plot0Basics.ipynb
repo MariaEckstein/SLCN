{
 "cells": [
  {
   "cell_type": "markdown",
   "metadata": {},
   "source": [
    "# Imports"
   ]
  },
  {
   "cell_type": "code",
   "execution_count": 1,
   "metadata": {},
   "outputs": [],
   "source": [
    "import numpy as np\n",
    "import os\n",
    "import pandas as pd\n",
    "import plotnine as gg\n",
    "gg.theme_set(gg.theme_classic)"
   ]
  },
  {
   "cell_type": "markdown",
   "metadata": {},
   "source": [
    "## Directories etc."
   ]
  },
  {
   "cell_type": "code",
   "execution_count": 2,
   "metadata": {},
   "outputs": [],
   "source": [
    "data_save_path = \"C:/Users/maria/MEGAsync/SLCNdata/Meta/all_data\"\n",
    "plot_save_path = \"C:/Users/maria/MEGAsync/SLCN/MetaSLCNPlots\"\n",
    "if not os.path.exists(plot_save_path):\n",
    "    os.makedirs(plot_save_path)"
   ]
  },
  {
   "cell_type": "markdown",
   "metadata": {},
   "source": [
    "# Get data"
   ]
  },
  {
   "cell_type": "code",
   "execution_count": 3,
   "metadata": {},
   "outputs": [],
   "source": [
    "all_data = pd.read_csv(os.path.join(data_save_path, 'all_data.csv'), index_col=0)\n",
    "all_data_z = pd.read_csv(os.path.join(data_save_path, 'all_data_z.csv'), index_col=0)\n",
    "all_data_long = pd.read_csv(os.path.join(data_save_path, 'all_data_long.csv'), index_col=0)\n",
    "all_data_long_z = pd.read_csv(os.path.join(data_save_path, 'all_data_long_z.csv'), index_col=0)"
   ]
  },
  {
   "cell_type": "markdown",
   "metadata": {},
   "source": [
    "# Descriptives"
   ]
  },
  {
   "cell_type": "markdown",
   "metadata": {},
   "source": [
    "## Sample age distribution"
   ]
  },
  {
   "cell_type": "code",
   "execution_count": 11,
   "metadata": {
    "scrolled": true
   },
   "outputs": [
    {
     "data": {
      "image/png": "[encoded data removed]",
      "text/plain": [
       "<Figure size 400x200 with 1 Axes>"
      ]
     },
     "metadata": {},
     "output_type": "display_data"
    },
    {
     "data": {
      "text/plain": [
       "<ggplot: (94745545753)>"
      ]
     },
     "execution_count": 11,
     "metadata": {},
     "output_type": "execute_result"
    }
   ],
   "source": [
    "gg.options.figure_size = (4, 2)\n",
    "g = (gg.ggplot(all_data, gg.aes('age_group_', fill='factor(age_group_)'))\n",
    "     + gg.geom_bar()\n",
    "#      + gg.geom_text(\n",
    "#          gg.aes(label=gg.mapping.after_stat('count')),\n",
    "#          stat='count',\n",
    "#          nudge_y=0.125,\n",
    "#          va='bottom'\n",
    "#      )\n",
    "     + gg.theme(axis_text_x=gg.element_text(rotation=90, hjust=0.5), legend_position='none')\n",
    "     + gg.labs(x='', y='# Participants', fill='')\n",
    "     + gg.scale_fill_brewer()\n",
    ")\n",
    "g"
   ]
  },
  {
   "cell_type": "code",
   "execution_count": 12,
   "metadata": {},
   "outputs": [
    {
     "name": "stderr",
     "output_type": "stream",
     "text": [
      "C:\\Users\\maria\\Anaconda3\\envs\\notebooks\\lib\\site-packages\\plotnine\\ggplot.py:727: PlotnineWarning: Saving 4 x 2 in image.\n",
      "C:\\Users\\maria\\Anaconda3\\envs\\notebooks\\lib\\site-packages\\plotnine\\ggplot.py:730: PlotnineWarning: Filename: C:/Users/maria/MEGAsync/SLCN/MetaSLCNPlots\\0_AgegroupHistogram.png\n"
     ]
    },
    {
     "data": {
      "image/png": "[encoded data removed]",
      "text/plain": [
       "<Figure size 400x200 with 2 Axes>"
      ]
     },
     "metadata": {},
     "output_type": "display_data"
    },
    {
     "data": {
      "text/plain": [
       "<ggplot: (94745545753)>"
      ]
     },
     "execution_count": 12,
     "metadata": {},
     "output_type": "execute_result"
    }
   ],
   "source": [
    "g += gg.facet_grid('~ sex')\n",
    "g.save(os.path.join(plot_save_path, '0_AgegroupHistogram.png'))\n",
    "g"
   ]
  },
  {
   "cell_type": "code",
   "execution_count": 24,
   "metadata": {},
   "outputs": [
    {
     "name": "stdout",
     "output_type": "stream",
     "text": [
      "Number of participants: 247\n",
      "Females: 128; Males: 119\n"
     ]
    }
   ],
   "source": [
    "print(\"Number of participants: {}\".format(all_data.shape[0]))\n",
    "print(\"Females: {}; Males: {}\".format(\n",
    "    all_data.loc[all_data['sex'] == 'Female'].shape[0], all_data.loc[all_data['sex'] == 'Male'].shape[0]))"
   ]
  },
  {
   "cell_type": "code",
   "execution_count": 23,
   "metadata": {},
   "outputs": [
    {
     "data": {
      "text/plain": [
       "77"
      ]
     },
     "execution_count": 23,
     "metadata": {},
     "output_type": "execute_result"
    }
   ],
   "source": [
    "all_data.loc[(all_data['PreciseYrs'] < 18) & (all_data['sex'] == 'Male')].shape[0]"
   ]
  },
  {
   "cell_type": "code",
   "execution_count": 18,
   "metadata": {},
   "outputs": [
    {
     "data": {
      "text/plain": [
       "age_group_\n",
       "08-10     36\n",
       "10-13     35\n",
       "13-15     35\n",
       "15-17     37\n",
       "2Stud.    51\n",
       "3Adult    53\n",
       "dtype: int64"
      ]
     },
     "execution_count": 18,
     "metadata": {},
     "output_type": "execute_result"
    }
   ],
   "source": [
    "all_data.groupby(['age_group_']).size()"
   ]
  },
  {
   "cell_type": "code",
   "execution_count": 15,
   "metadata": {},
   "outputs": [
    {
     "data": {
      "text/plain": [
       "sex     age_group_\n",
       "Female  08-10         17\n",
       "        10-13         16\n",
       "        13-15         16\n",
       "        15-17         17\n",
       "        2Stud.        34\n",
       "        3Adult        28\n",
       "Male    08-10         19\n",
       "        10-13         19\n",
       "        13-15         19\n",
       "        15-17         20\n",
       "        2Stud.        17\n",
       "        3Adult        25\n",
       "dtype: int64"
      ]
     },
     "execution_count": 15,
     "metadata": {},
     "output_type": "execute_result"
    }
   ],
   "source": [
    "all_data.groupby(['sex', 'age_group_']).size()"
   ]
  },
  {
   "cell_type": "markdown",
   "metadata": {},
   "source": [
    "## Distributions of all features"
   ]
  },
  {
   "cell_type": "code",
   "execution_count": null,
   "metadata": {
    "scrolled": true
   },
   "outputs": [],
   "source": [
    "gg.options.figure_size = (20, 20)\n",
    "\n",
    "g = (gg.ggplot(all_data_long, gg.aes('value'))\n",
    "     + gg.geom_histogram(bins=15)\n",
    "     + gg.facet_wrap('~ feature', scales='free')\n",
    "    )\n",
    "g.save(os.path.join(plot_save_path, '0_FeatureDistributions.png'))\n",
    "print(g)"
   ]
  },
  {
   "cell_type": "code",
   "execution_count": null,
   "metadata": {
    "scrolled": false
   },
   "outputs": [],
   "source": [
    "# Mean of each feature\n",
    "gg.options.figure_size = (10, 10)\n",
    "g = (gg.ggplot(all_data_long, gg.aes('param', 'value'))\n",
    "     + gg.stat_summary()\n",
    "     + gg.labs(x='', y='')\n",
    "     + gg.theme(axis_text_x=gg.element_text(rotation=45, hjust=1))\n",
    "     + gg.facet_wrap('~ task', scales='free', ncol=1)\n",
    "    )\n",
    "g.save(os.path.join(plot_save_path, '0_FeatureMeans.png'))\n",
    "g"
   ]
  },
  {
   "cell_type": "code",
   "execution_count": null,
   "metadata": {},
   "outputs": [],
   "source": []
  }
 ],
 "metadata": {
  "kernelspec": {
   "display_name": "notebooks",
   "language": "python",
   "name": "notebooks"
  },
  "language_info": {
   "codemirror_mode": {
    "name": "ipython",
    "version": 3
   },
   "file_extension": ".py",
   "mimetype": "text/x-python",
   "name": "python",
   "nbconvert_exporter": "python",
   "pygments_lexer": "ipython3",
   "version": "3.8.5"
  }
 },
 "nbformat": 4,
 "nbformat_minor": 2
}
