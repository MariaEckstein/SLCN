{
 "cells": [
  {
   "cell_type": "code",
   "execution_count": 1,
   "metadata": {},
   "outputs": [],
   "source": [
    "debug = False"
   ]
  },
  {
   "cell_type": "markdown",
   "metadata": {},
   "source": [
    "# Imports"
   ]
  },
  {
   "cell_type": "code",
   "execution_count": 2,
   "metadata": {},
   "outputs": [],
   "source": [
    "import matplotlib.pyplot as plt\n",
    "import numpy as np\n",
    "import os\n",
    "import pandas as pd\n",
    "import plotnine as gg\n",
    "gg.theme_set(gg.theme_classic)\n",
    "from sklearn.linear_model import Ridge, RidgeCV\n",
    "import sklearn.linear_model as sklin\n",
    "import sklearn.metrics as skmet"
   ]
  },
  {
   "cell_type": "code",
   "execution_count": 3,
   "metadata": {},
   "outputs": [],
   "source": [
    "from Functions import get_param_names, get_ages_cols, get_category_dict, get_category_from_feature, \\\n",
    "RepeatableGridSearchCV, make_gridder_pd"
   ]
  },
  {
   "cell_type": "markdown",
   "metadata": {},
   "source": [
    "## Directories etc."
   ]
  },
  {
   "cell_type": "code",
   "execution_count": 4,
   "metadata": {},
   "outputs": [],
   "source": [
    "data_save_path = \"C:/Users/maria/MEGAsync/SLCNdata/Meta/all_data\"\n",
    "plot_save_path = \"C:/Users/maria/MEGAsync/SLCN/MetaSLCNPlots\"\n",
    "if not os.path.exists(plot_save_path):\n",
    "    os.makedirs(plot_save_path)"
   ]
  },
  {
   "cell_type": "markdown",
   "metadata": {},
   "source": [
    "# Get data"
   ]
  },
  {
   "cell_type": "code",
   "execution_count": 5,
   "metadata": {},
   "outputs": [],
   "source": [
    "all_data = pd.read_csv(os.path.join(data_save_path, 'all_data.csv'), index_col=0)\n",
    "all_data_z = pd.read_csv(os.path.join(data_save_path, 'all_data_z.csv'), index_col=0)\n",
    "all_data_long = pd.read_csv(os.path.join(data_save_path, 'all_data_long.csv'), index_col=0)\n",
    "all_data_long_z = pd.read_csv(os.path.join(data_save_path, 'all_data_long_z.csv'), index_col=0)"
   ]
  },
  {
   "cell_type": "code",
   "execution_count": 6,
   "metadata": {
    "scrolled": true
   },
   "outputs": [],
   "source": [
    "ages_cols = get_ages_cols()\n",
    "param_cols = list(set([c for c in all_data.columns for p in get_param_names() if p in c]))\n",
    "behav_cols = [c for c in all_data.columns if (c not in ages_cols) and (c not in param_cols)]\n",
    "category_dict = get_category_dict()"
   ]
  },
  {
   "cell_type": "markdown",
   "metadata": {},
   "source": [
    "## Repeated CV"
   ]
  },
  {
   "cell_type": "code",
   "execution_count": 7,
   "metadata": {},
   "outputs": [],
   "source": [
    "# Define model for gridder\n",
    "model = Ridge()\n",
    "n_repeats = 10  # 100\n",
    "n_splitss = np.arange(2, 8)\n",
    "scoring = 'r2'  # 'r2', 'neg_mean_squared_error'\n",
    "param_grid = {'alpha': [0, 10, 30, 50, 1e2, 3e2, 5e2, 1e3, 3e3, 5e3, 1e4, 1e5, 1e6]}\n",
    "\n",
    "if debug:\n",
    "    n_repeats = 2\n",
    "    n_splitss = [3, 5, ]\n",
    "    param_grid = {'alpha': [0, 50]}"
   ]
  },
  {
   "cell_type": "code",
   "execution_count": 8,
   "metadata": {},
   "outputs": [],
   "source": [
    "# [category_dict[p] for p in ['Beta', 'Alpha', 'Nalpha', 'Forget']]"
   ]
  },
  {
   "cell_type": "code",
   "execution_count": 9,
   "metadata": {},
   "outputs": [],
   "source": [
    "# cols = param_cols\n",
    "\n",
    "# # Set up empty DataFrames\n",
    "# coef_dat = pd.DataFrame()\n",
    "# r2_dat = pd.DataFrame()\n",
    "\n",
    "# # Predict 1 task from 1 task\n",
    "# dat = all_data_z[[c for c in all_data_z.columns if c not in ages_cols]].dropna()\n",
    "# for predictor_task in ['bf_', 'rl_', 'ps_']:\n",
    "\n",
    "#     # Get predictor and outcome data\n",
    "#     X_dat = dat[[c for c in cols if predictor_task in c]]\n",
    "#     y_dat = dat[[c for c in cols if predictor_task not in c]]\n",
    "\n",
    "#     for y_col in y_dat.columns:\n",
    "\n",
    "#         # Run regression\n",
    "#         r2_row, coef_row = run_regression_get_r2_coef(X_dat, y_dat, y_col, predictor_task)\n",
    "\n",
    "#         # Concat data\n",
    "#         coef_dat = pd.concat([coef_dat, coef_row])\n",
    "#         r2_dat = pd.concat([r2_dat, r2_row])\n",
    "\n",
    "# # Predict 1 task from the other 2 tasks\n",
    "# for outcome_task in ['bf_', 'rl_', 'ps_']:\n",
    "\n",
    "#     # Get predictor and outcome data\n",
    "#     X_dat = dat[[c for c in cols if outcome_task not in c]]\n",
    "#     y_dat = dat[[c for c in cols if outcome_task in c]]\n",
    "\n",
    "#     for y_col in y_dat.columns:\n",
    "\n",
    "#         # Run regression\n",
    "#         r2_row, coef_row = run_regression_get_r2_coef(X_dat, y_dat, y_col, 'both')\n",
    "\n",
    "#         # Concat data\n",
    "#         coef_dat = pd.concat([coef_dat, coef_row])\n",
    "#         r2_dat = pd.concat([r2_dat, r2_row])\n"
   ]
  },
  {
   "cell_type": "code",
   "execution_count": 10,
   "metadata": {},
   "outputs": [],
   "source": [
    "# X_dat"
   ]
  },
  {
   "cell_type": "code",
   "execution_count": 11,
   "metadata": {},
   "outputs": [],
   "source": [
    "# y_dat[y_col]"
   ]
  },
  {
   "cell_type": "code",
   "execution_count": 12,
   "metadata": {},
   "outputs": [],
   "source": [
    "def run_repeatedcv_get_r2(X_dat, y_dat, y_col, predictor_task):\n",
    "    \n",
    "    all_gridders = pd.DataFrame()\n",
    "    \n",
    "    for i, n_splits in enumerate(n_splitss):\n",
    "\n",
    "        # Fit gridder to get best hyper-parameters\n",
    "        gridder = RepeatableGridSearchCV(model, param_grid, n_repeats=n_repeats, n_splits=n_splits, scoring=scoring)\n",
    "        gridder.fit(X_dat, y_dat[y_col])\n",
    "\n",
    "        # Make pretty\n",
    "        gridder_results = make_gridder_pd(gridder)\n",
    "        gridder_results['outcome'] = y_col\n",
    "        gridder_results['X_cols'] = '.'.join(X_dat.columns)\n",
    "        gridder_results['pred_task'] = predictor_task\n",
    "        gridder_results['n_splits'] = n_splits\n",
    "#         gridder_results['scoring'] = scoring\n",
    "#         gridder_results['n_repeats'] = n_repeats\n",
    "        \n",
    "        # Append\n",
    "        all_gridders = all_gridders.append(gridder_results)\n",
    "        \n",
    "    return all_gridders, pd.DataFrame()\n",
    "    \n",
    "# # Example use\n",
    "# run_repeatedcv_get_r2(X_dat, y_dat, y_col, predictor_task)[0]"
   ]
  },
  {
   "cell_type": "markdown",
   "metadata": {},
   "source": [
    "## Predict parameters of one task from the others"
   ]
  },
  {
   "cell_type": "code",
   "execution_count": 13,
   "metadata": {},
   "outputs": [],
   "source": [
    "def run_regression_get_r2_coef(X_dat, y_dat, y_col, predictor_task, do_vizualize=False):\n",
    "    \n",
    "    # Run regression\n",
    "#     reg = sklin.LinearRegression().fit(X_dat, y_dat[y_col])\n",
    "    reg = sklin.Ridge(alpha=100).fit(X_dat, y_dat[y_col])\n",
    "\n",
    "    # Get coefficients\n",
    "    coef_row = pd.DataFrame(\n",
    "        reg.coef_, X_dat.columns\n",
    "    ).reset_index().rename(\n",
    "        columns={'index': 'predictor', 0: 'coef'})\n",
    "    coef_row['outcome'] = y_col\n",
    "    coef_row['pred_task'] = predictor_task\n",
    "\n",
    "    # Get R^2\n",
    "    pred_outcome = reg.predict(X_dat)\n",
    "    r2 = skmet.r2_score(y_dat[y_col], pred_outcome)\n",
    "    r2_row = pd.DataFrame({'r2': [r2], 'outcome': [y_col], 'pred_task': [predictor_task]})\n",
    "\n",
    "    # Vizualize\n",
    "    if do_vizualize:\n",
    "        gg.options.figure_size = (3, 3)\n",
    "        pred_true_dat = pd.DataFrame(np.array([pred_outcome, y_dat[y_col]]).T).rename(columns={0: 'pred', 1: 'true'})\n",
    "        print(gg.ggplot(pred_true_dat, gg.aes('true', 'pred'))\n",
    "         + gg.geom_point()\n",
    "        )\n",
    "\n",
    "    return r2_row, coef_row\n",
    "\n",
    "# # Example use\n",
    "# run_regression_get_r2_coef(X_dat, y_dat, y_col, predictor_task)"
   ]
  },
  {
   "cell_type": "code",
   "execution_count": 14,
   "metadata": {
    "scrolled": true
   },
   "outputs": [],
   "source": [
    "def run_all_regression_models(cols, all_data_z):\n",
    "\n",
    "    # Set up empty DataFrames\n",
    "    coef_dat = pd.DataFrame()\n",
    "    r2_dat = pd.DataFrame()\n",
    "\n",
    "    # Predict 1 task from 1 task\n",
    "    dat = all_data_z[[c for c in all_data_z.columns if c not in ages_cols]].dropna()\n",
    "    for predictor_task in ['bf_', 'rl_', 'ps_']:\n",
    "        print(predictor_task)\n",
    "\n",
    "        # Get predictor and outcome data\n",
    "        X_dat = dat[[c for c in cols if predictor_task in c]]\n",
    "        y_dat = dat[[c for c in cols if predictor_task not in c]]\n",
    "\n",
    "        for y_col in y_dat.columns:\n",
    "            \n",
    "            # Run regression\n",
    "#             r2_row, coef_row = run_regression_get_r2_coef(X_dat, y_dat, y_col, predictor_task)\n",
    "            r2_row, coef_row = run_repeatedcv_get_r2(X_dat, y_dat, y_col, predictor_task)\n",
    "\n",
    "            # Concat data\n",
    "            coef_dat = pd.concat([coef_dat, coef_row])\n",
    "            r2_dat = pd.concat([r2_dat, r2_row])\n",
    "\n",
    "    # Predict 1 task from the other 2 tasks\n",
    "    for outcome_task in ['bf_', 'rl_', 'ps_']:\n",
    "        print(outcome_task)\n",
    "\n",
    "        # Get predictor and outcome data\n",
    "        X_dat = dat[[c for c in cols if outcome_task not in c]]\n",
    "        y_dat = dat[[c for c in cols if outcome_task in c]]\n",
    "\n",
    "        for y_col in y_dat.columns:\n",
    "\n",
    "            # Run regression\n",
    "#             r2_row, coef_row = run_regression_get_r2_coef(X_dat, y_dat, y_col, 'both')\n",
    "            r2_row, coef_row = run_repeatedcv_get_r2(X_dat, y_dat, y_col, 'both')\n",
    "\n",
    "            # Concat data\n",
    "            coef_dat = pd.concat([coef_dat, coef_row])\n",
    "            r2_dat = pd.concat([r2_dat, r2_row])\n",
    "            \n",
    "    # Predict 1 task from the other 2 tasks\n",
    "    dat = all_data_z[[c for c in all_data_z.columns if c not in ages_cols] + ['PreciseYrs']].dropna()\n",
    "    dat['PreciseYrs2'] = np.square(dat['PreciseYrs'])\n",
    "    \n",
    "    for outcome_task in ['bf_', 'rl_', 'ps_']:\n",
    "        print(outcome_task)\n",
    "\n",
    "        # Get predictor and outcome data\n",
    "        X_dat = dat[[c for c in cols + ['PreciseYrs', 'PreciseYrs2'] if outcome_task not in c]]\n",
    "        y_dat = dat[[c for c in cols if outcome_task in c]]\n",
    "\n",
    "        for y_col in y_dat.columns:\n",
    "\n",
    "            # Run regression\n",
    "#             r2_row, coef_row = run_regression_get_r2_coef(X_dat, y_dat, y_col, 'both')\n",
    "            r2_row, coef_row = run_repeatedcv_get_r2(X_dat, y_dat, y_col, 'both_and_age')\n",
    "\n",
    "            # Concat data\n",
    "            coef_dat = pd.concat([coef_dat, coef_row])\n",
    "            r2_dat = pd.concat([r2_dat, r2_row])\n",
    "            \n",
    "    return r2_dat, coef_dat\n",
    "\n",
    "# # Example use\n",
    "# run_all_regression_models(param_cols, all_data_z)"
   ]
  },
  {
   "cell_type": "code",
   "execution_count": 15,
   "metadata": {
    "scrolled": true
   },
   "outputs": [],
   "source": [
    "def beautify_coef_r2_df(dat):\n",
    "    \n",
    "    dat['out_task'] = dat['outcome'].apply(lambda x : x[:2])\n",
    "    dat['pred_task'] = pd.Categorical(dat['pred_task'], categories=('both_and_age', 'both', 'bf_', 'ps_', 'rl_'), ordered=True)\n",
    "    dat = dat.reset_index(drop=True)\n",
    "    return dat\n",
    "\n",
    "# # Example use\n",
    "# beautify_coef_r2_df(r2_dat_params)"
   ]
  },
  {
   "cell_type": "code",
   "execution_count": null,
   "metadata": {
    "scrolled": false
   },
   "outputs": [
    {
     "name": "stdout",
     "output_type": "stream",
     "text": [
      "bf_\n",
      "rl_\n",
      "ps_\n",
      "bf_\n",
      "rl_\n"
     ]
    }
   ],
   "source": [
    "r2_dat_params, coef_dat_params = run_all_regression_models(param_cols, all_data_z)\n",
    "# r2_dat_behav, coef_dat_behav = run_all_regression_models(behav_cols, all_data_z)"
   ]
  },
  {
   "cell_type": "code",
   "execution_count": null,
   "metadata": {},
   "outputs": [],
   "source": [
    "r2_dat_params = beautify_coef_r2_df(r2_dat_params)\n",
    "r2_dat_params = r2_dat_params.rename(columns={'mean_test_score': 'r2', 'std_test_score': 'r2sd'})\n",
    "r2_dat_params['r2se'] = r2_dat_params.apply(lambda x : x['r2sd'] / np.sqrt(x['n_splits']), axis=1)\n",
    "r2_dat_params\n",
    "# pd.melt(r2_dat_params, id_vars=[]"
   ]
  },
  {
   "cell_type": "code",
   "execution_count": null,
   "metadata": {
    "scrolled": true
   },
   "outputs": [],
   "source": [
    "best_scores = r2_dat_params.groupby(['outcome', 'X_cols']).aggregate('max').reset_index()[['outcome', 'X_cols', 'r2', 'r2se']]\n",
    "best_models = r2_dat_params.loc[r2_dat_params['r2'].isin(best_scores['r2'].values)].reset_index(drop=True)\n",
    "best_models"
   ]
  },
  {
   "cell_type": "code",
   "execution_count": null,
   "metadata": {
    "scrolled": false
   },
   "outputs": [],
   "source": [
    "def plot_r2(r2_dat):\n",
    "\n",
    "    gg.options.figure_size = (8, 4)\n",
    "    return (gg.ggplot(r2_dat, gg.aes('outcome', 'r2', fill='pred_task'))\n",
    "         + gg.geom_bar(stat='identity', position=gg.position_dodge(width=0.9))\n",
    "         + gg.theme(axis_text_x=gg.element_text(rotation=90, hjust=0.5))\n",
    "         + gg.scale_fill_manual(values=('black', 'grey', 'red', 'orange', 'yellow'))\n",
    "         + gg.labs(x='')\n",
    "         + gg.facet_wrap('~ out_task', scales='free_x')\n",
    "        )\n",
    "\n",
    "# # Use\n",
    "# g_p = plot_r2(r2_dat_params)\n",
    "# print(g_p)\n",
    "# g_p.save(os.path.join(plot_save_path, '4_PredictParamByParam_r2.png'.format(suf)))\n",
    "\n",
    "# g_b = plot_r2(r2_dat_behav)\n",
    "# print(g_b)\n",
    "# g_b.save(os.path.join(plot_save_path, '4_PredictBehavByBehav_r2.png'.format(suf)))"
   ]
  },
  {
   "cell_type": "code",
   "execution_count": null,
   "metadata": {
    "scrolled": false
   },
   "outputs": [],
   "source": [
    "g_r2 = (plot_r2(best_models)\n",
    "     + gg.geom_pointrange(gg.aes(ymin='r2-r2se', ymax='r2+r2se'), position=gg.position_dodge(width=0.9))\n",
    "    )\n",
    "print(g_r2)\n",
    "g_r2.save(os.path.join(plot_save_path, '4_PredictParamByParam_RepeatedCV_r2.png'))"
   ]
  },
  {
   "cell_type": "code",
   "execution_count": null,
   "metadata": {
    "scrolled": false
   },
   "outputs": [],
   "source": [
    "g_ns = (plot_r2(best_models)\n",
    "     + gg.aes(y='n_splits')\n",
    "    )\n",
    "print(g_ns)\n",
    "g_ns.save(os.path.join(plot_save_path, '4_PredictParamByParam_RepeatedCV_nsplilts.png'))"
   ]
  },
  {
   "cell_type": "code",
   "execution_count": null,
   "metadata": {
    "scrolled": false
   },
   "outputs": [],
   "source": [
    "g_a = (plot_r2(best_models)\n",
    "     + gg.aes(y='param_alpha')\n",
    "    )\n",
    "print(g_a)\n",
    "g_a.save(os.path.join(plot_save_path, '4_PredictParamByParam_RepeatedCV_RidgeAlpha.png'))"
   ]
  },
  {
   "cell_type": "code",
   "execution_count": null,
   "metadata": {
    "scrolled": true
   },
   "outputs": [],
   "source": [
    "# def run_all_regression_models(cols):\n",
    "\n",
    "#     # Set up empty DataFrames\n",
    "#     pred_task_coef = pd.DataFrame()\n",
    "#     pred_task_r2 = pd.DataFrame()\n",
    "\n",
    "#     # Predict 1 task from 1 task\n",
    "#     for predictor_task in ['bf_', 'rl_', 'ps_']:\n",
    "\n",
    "#         # Get predictor and outcome data\n",
    "#         pred_param_dat = all_data_z[[c for c in param_cols if predictor_task in c]]\n",
    "#         out_param_dat = all_data_z[[c for c in param_cols if predictor_task not in c]]\n",
    "\n",
    "#         for outcome_col in out_param_dat.columns:\n",
    "\n",
    "#             # Run regression\n",
    "#             r2_row, coef_row = run_regression_get_r2_coef(pred_param_dat, out_param_dat, outcome_col, predictor_task)\n",
    "\n",
    "#             # Concat data\n",
    "#             pred_task_coef = pd.concat([pred_task_coef, coef_row])\n",
    "#             pred_task_r2 = pd.concat([pred_task_r2, r2_row])\n",
    "\n",
    "#     # Predict 1 task from the other 2 tasks\n",
    "#     for outcome_task in ['bf_', 'rl_', 'ps_']:\n",
    "\n",
    "#         # Get predictor and outcome data\n",
    "#         pred_param_dat = all_data_z[[c for c in param_cols if outcome_task not in c]]\n",
    "#         out_param_dat = all_data_z[[c for c in param_cols if outcome_task in c]]\n",
    "\n",
    "#         for outcome_col in out_param_dat.columns:\n",
    "\n",
    "#             # Run regression\n",
    "#             r2_row, coef_row = run_regression_get_r2_coef(pred_param_dat, out_param_dat, outcome_col, 'both')\n",
    "\n",
    "#             # Concat data\n",
    "#             pred_task_coef = pd.concat([pred_task_coef, coef_row])\n",
    "#             pred_task_r2 = pd.concat([pred_task_r2, r2_row])\n",
    "            \n",
    "#     return pred_task_r2, pred_task_coef\n",
    "\n",
    "# # Use\n",
    "# run_all_regression_models(param_cols)"
   ]
  },
  {
   "cell_type": "code",
   "execution_count": null,
   "metadata": {},
   "outputs": [],
   "source": [
    "# Beautify DataFrames\n",
    "coef_dat_params = beautify_coef_r2_df(coef_dat_params)\n",
    "r2_dat_params = beautify_coef_r2_df(r2_dat_params)\n",
    "\n",
    "coef_dat_behav = beautify_coef_r2_df(coef_dat_behav)\n",
    "r2_dat_behav = beautify_coef_r2_df(r2_dat_behav)"
   ]
  },
  {
   "cell_type": "code",
   "execution_count": null,
   "metadata": {},
   "outputs": [],
   "source": [
    "coef_dat_params['out_category'] = get_category_from_feature(coef_dat_params['outcome'], category_dict)\n",
    "coef_dat_params['pred_category'] = get_category_from_feature(coef_dat_params['predictor'], category_dict)\n",
    "coef_dat_params"
   ]
  },
  {
   "cell_type": "code",
   "execution_count": null,
   "metadata": {},
   "outputs": [],
   "source": [
    "def plot_coef(coef_dat):\n",
    "\n",
    "    # Subset model with both tasks only (individual tasks are very similar)\n",
    "    sub = coef_dat.loc[coef_dat['pred_task'] == 'both']\n",
    "\n",
    "    gg.options.figure_size = (70, 5)\n",
    "    return (gg.ggplot(sub, gg.aes('predictor', 'coef', fill='out_task'))\n",
    "         + gg.geom_bar(stat='identity')\n",
    "         + gg.labs(x='')\n",
    "         + gg.theme(axis_text_x=gg.element_text(rotation=90, hjust=0.5))\n",
    "         + gg.theme(legend_position='none')\n",
    "    #      + gg.facet_wrap('~ pred_task + outcome', scales='free_x', labeller='label_context')\n",
    "         + gg.facet_grid('pred_task ~ outcome', scales='free_x')\n",
    "        )\n",
    "\n",
    "# Use\n",
    "g_p = plot_coef(coef_dat_params)\n",
    "print(g_p)\n",
    "g_p.save(os.path.join(plot_save_path, '4_PredictParamsByParams_coef_onlyboth.png'), limitsize=False)\n",
    "\n",
    "g_b = plot_coef(coef_dat_behav)\n",
    "print(g_b)\n",
    "g_b.save(os.path.join(plot_save_path, '4_PredictBehavByBehav_coef_onlyboth.png'), limitsize=False)"
   ]
  },
  {
   "cell_type": "code",
   "execution_count": null,
   "metadata": {},
   "outputs": [],
   "source": []
  },
  {
   "cell_type": "code",
   "execution_count": null,
   "metadata": {},
   "outputs": [],
   "source": []
  }
 ],
 "metadata": {
  "kernelspec": {
   "display_name": "notebooks",
   "language": "python",
   "name": "notebooks"
  },
  "language_info": {
   "codemirror_mode": {
    "name": "ipython",
    "version": 3
   },
   "file_extension": ".py",
   "mimetype": "text/x-python",
   "name": "python",
   "nbconvert_exporter": "python",
   "pygments_lexer": "ipython3",
   "version": "3.8.5"
  }
 },
 "nbformat": 4,
 "nbformat_minor": 2
}
